{
 "cells": [
  {
   "cell_type": "code",
   "execution_count": 1,
   "id": "e749bc5b",
   "metadata": {},
   "outputs": [],
   "source": [
    "import requests\n",
    "import pandas as pd \n",
    "import os\n",
    "from diskcache import Cache\n"
   ]
  },
  {
   "cell_type": "code",
   "execution_count": 2,
   "id": "1db3e26f",
   "metadata": {},
   "outputs": [],
   "source": [
    "from defiquant import dune_api_results"
   ]
  },
  {
   "cell_type": "code",
   "execution_count": 3,
   "id": "f24c7da2",
   "metadata": {},
   "outputs": [],
   "source": [
    "os.chdir('..')"
   ]
  },
  {
   "cell_type": "code",
   "execution_count": 4,
   "id": "68bcc156",
   "metadata": {},
   "outputs": [
    {
     "data": {
      "text/plain": [
       "'e:\\\\Projects\\\\rlusd_dash'"
      ]
     },
     "execution_count": 4,
     "metadata": {},
     "output_type": "execute_result"
    }
   ],
   "source": [
    "os.getcwd()"
   ]
  },
  {
   "cell_type": "code",
   "execution_count": 5,
   "id": "c5f84cd7",
   "metadata": {},
   "outputs": [],
   "source": [
    "cache = Cache('data_collection')"
   ]
  },
  {
   "cell_type": "code",
   "execution_count": null,
   "id": "04ea4fbb",
   "metadata": {},
   "outputs": [
    {
     "name": "stdout",
     "output_type": "stream",
     "text": [
      "sys.path: ['C:\\\\Users\\\\brandyns pc\\\\AppData\\\\Local\\\\Programs\\\\Python\\\\Python311\\\\python311.zip', 'C:\\\\Users\\\\brandyns pc\\\\AppData\\\\Local\\\\Programs\\\\Python\\\\Python311\\\\DLLs', 'C:\\\\Users\\\\brandyns pc\\\\AppData\\\\Local\\\\Programs\\\\Python\\\\Python311\\\\Lib', 'C:\\\\Users\\\\brandyns pc\\\\AppData\\\\Local\\\\Programs\\\\Python\\\\Python311', 'e:\\\\Projects\\\\rlusd_dash\\\\rlusd_env', '', 'e:\\\\Projects\\\\rlusd_dash\\\\rlusd_env\\\\Lib\\\\site-packages', 'e:\\\\projects\\\\chart_builder_pkg', 'e:\\\\Projects\\\\rlusd_dash\\\\rlusd_env\\\\Lib\\\\site-packages\\\\win32', 'e:\\\\Projects\\\\rlusd_dash\\\\rlusd_env\\\\Lib\\\\site-packages\\\\win32\\\\lib', 'e:\\\\Projects\\\\rlusd_dash\\\\rlusd_env\\\\Lib\\\\site-packages\\\\Pythonwin', 'e:\\\\projects\\\\chart_builder_pkg\\\\chart_builder\\\\scripts']\n",
      "Current working directory: e:\\Projects\\rlusd_dash\n",
      "Current directory: e:\\projects\\chart_builder_pkg\\chart_builder\\scripts\n",
      "Current working directory: e:\\Projects\\rlusd_dash\n",
      "Current directory: e:\\projects\\chart_builder_pkg\\chart_builder\\scripts\n"
     ]
    },
    {
     "name": "stderr",
     "output_type": "stream",
     "text": [
      "2025-04-06 13:36:37,985 INFO apscheduler.scheduler Adding job tentatively -- it will be properly scheduled when the scheduler starts\n",
      "2025-04-06 13:36:37,987 INFO apscheduler.scheduler Adding job tentatively -- it will be properly scheduled when the scheduler starts\n",
      "2025-04-06 13:36:37,988 INFO apscheduler.scheduler Added job \"hourly_data\" to job store \"default\"\n",
      "2025-04-06 13:36:37,989 INFO apscheduler.scheduler Added job \"daily_data\" to job store \"default\"\n",
      "2025-04-06 13:36:37,990 INFO apscheduler.scheduler Scheduler started\n"
     ]
    },
    {
     "name": "stdout",
     "output_type": "stream",
     "text": [
      "Base Directory: E:\\Projects\\rlusd_dash\\python_scripts\n"
     ]
    },
    {
     "name": "stderr",
     "output_type": "stream",
     "text": [
      "2025-04-06 14:00:00,003 INFO apscheduler.executors.default Running job \"hourly_data (trigger: cron[minute='0'], next run at: 2025-04-06 14:00:00 -05)\" (scheduled at 2025-04-06 14:00:00-05:00)\n"
     ]
    },
    {
     "name": "stdout",
     "output_type": "stream",
     "text": [
      "Running Main\n",
      "data: [{'currency': '524C555344000000000000000000000000000000', 'value': '94055086.28999998'}]\n"
     ]
    },
    {
     "name": "stderr",
     "output_type": "stream",
     "text": [
      "2025-04-06 14:00:02,314 ERROR apscheduler.executors.default Job \"hourly_data (trigger: cron[minute='0'], next run at: 2025-04-06 15:00:00 -05)\" raised an exception\n",
      "Traceback (most recent call last):\n",
      "  File \"e:\\Projects\\rlusd_dash\\rlusd_env\\Lib\\site-packages\\apscheduler\\executors\\base.py\", line 131, in run_job\n",
      "    retval = job.func(*job.args, **job.kwargs)\n",
      "             ^^^^^^^^^^^^^^^^^^^^^^^^^^^^^^^^^\n",
      "  File \"e:\\Projects\\rlusd_dash\\data_collection.py\", line 114, in hourly_data\n",
      "    update_cache_data(data=timeseries_entry,key='timeseries',\n",
      "  File \"e:\\Projects\\rlusd_dash\\data_collection.py\", line 64, in update_cache_data\n",
      "    historical_data = cache.get(f'{key}', pd.DataFrame())\n",
      "                      ^^^^^^^^^^^^^^^^^^^^^^^^^^^^^^^^^^^\n",
      "  File \"e:\\Projects\\rlusd_dash\\rlusd_env\\Lib\\site-packages\\diskcache\\core.py\", line 1165, in get\n",
      "    rows = self._sql(select, (db_key, raw, time.time())).fetchall()\n",
      "           ^^^^^^^^^\n",
      "  File \"e:\\Projects\\rlusd_dash\\rlusd_env\\Lib\\site-packages\\diskcache\\core.py\", line 648, in _sql\n",
      "    return self._con.execute\n",
      "           ^^^^^^^^^\n",
      "  File \"e:\\Projects\\rlusd_dash\\rlusd_env\\Lib\\site-packages\\diskcache\\core.py\", line 623, in _con\n",
      "    con = self._local.con = sqlite3.connect(\n",
      "                            ^^^^^^^^^^^^^^^^\n",
      "sqlite3.OperationalError: unable to open database file\n"
     ]
    },
    {
     "name": "stdout",
     "output_type": "stream",
     "text": [
      "data: {'account': 'rhWTXC2m2gGGA9WozUaoMm6kLAVPb1tcS3', 'amount': '958550785285', 'amount2': {'currency': '524C555344000000000000000000000000000000', 'issuer': 'rMxCKbEDwqr76QuheSUMdEGf4B9xJ8m5De', 'value': '1909961.930524847'}, 'asset2_frozen': False, 'auction_slot': {'account': 'rPSvcmNAvc6DAZYX2w5WM4bcnLKSxyt8VY', 'discounted_fee': 23, 'expiration': '2025-01-31T19:53:30+0000', 'price': {'currency': '03B245BE580EC4F4386A751C084489EC4B514A2F', 'issuer': 'rhWTXC2m2gGGA9WozUaoMm6kLAVPb1tcS3', 'value': '0'}, 'time_interval': 20}, 'lp_token': {'currency': '03B245BE580EC4F4386A751C084489EC4B514A2F', 'issuer': 'rhWTXC2m2gGGA9WozUaoMm6kLAVPb1tcS3', 'value': '1278494174.09998'}, 'trading_fee': 233, 'vote_slots': [{'account': 'rwizard1gGgtcnNBb8mJQXDQfPpsVX69bY', 'trading_fee': 10, 'vote_weight': 2926}, {'account': 'rJDRwJ9oSiB5yUDEEdxEy9xBEHR9ekBmh', 'trading_fee': 195, 'vote_weight': 9161}, {'account': 'rKuYdrNLbHM1RYkAnccnRJhKRxNnAMixPA', 'trading_fee': 190, 'vote_weight': 7127}, {'account': 'rEiLZ9oofSc8KS7SyxKD7Qb2enL6xzKUhQ', 'trading_fee': 195, 'vote_weight': 8406}, {'account': 'rJ4XeEzorvsQp6un4h9CjtANEsB3Qcc8iA', 'trading_fee': 1000, 'vote_weight': 3736}, {'account': 'rGYuaEA3FxfBX3dzmgVi9KGkZX1Vj6KWgJ', 'trading_fee': 185, 'vote_weight': 9117}, {'account': 'rGUHgu32TDX5X44wA7u82XsGhNe4UtnLrE', 'trading_fee': 190, 'vote_weight': 8369}, {'account': 'rQU8xy3oETjcsTfGhyTvDMg2zzUp9Tg1G3', 'trading_fee': 185, 'vote_weight': 9057}]}\n",
      "keep_cols: ['dt']\n"
     ]
    }
   ],
   "source": [
    "from data_collection import hourly_data, daily_data"
   ]
  },
  {
   "cell_type": "code",
   "execution_count": 7,
   "id": "d8a9da9c",
   "metadata": {},
   "outputs": [],
   "source": [
    "os.chdir('notebooks')"
   ]
  },
  {
   "cell_type": "code",
   "execution_count": 8,
   "id": "bf7f7e54",
   "metadata": {},
   "outputs": [
    {
     "data": {
      "text/plain": [
       "'e:\\\\Projects\\\\rlusd_dash\\\\notebooks'"
      ]
     },
     "execution_count": 8,
     "metadata": {},
     "output_type": "execute_result"
    }
   ],
   "source": [
    "os.getcwd()"
   ]
  },
  {
   "cell_type": "code",
   "execution_count": 9,
   "id": "92f94df4",
   "metadata": {},
   "outputs": [
    {
     "name": "stdout",
     "output_type": "stream",
     "text": [
      "Running Main\n",
      "data: [{'currency': '524C555344000000000000000000000000000000', 'value': '94055086.29'}]\n",
      "data: {'account': 'rhWTXC2m2gGGA9WozUaoMm6kLAVPb1tcS3', 'amount': '955512391176', 'amount2': {'currency': '524C555344000000000000000000000000000000', 'issuer': 'rMxCKbEDwqr76QuheSUMdEGf4B9xJ8m5De', 'value': '1917585.540541976'}, 'asset2_frozen': False, 'auction_slot': {'account': 'rPSvcmNAvc6DAZYX2w5WM4bcnLKSxyt8VY', 'discounted_fee': 23, 'expiration': '2025-01-31T19:53:30+0000', 'price': {'currency': '03B245BE580EC4F4386A751C084489EC4B514A2F', 'issuer': 'rhWTXC2m2gGGA9WozUaoMm6kLAVPb1tcS3', 'value': '0'}, 'time_interval': 20}, 'lp_token': {'currency': '03B245BE580EC4F4386A751C084489EC4B514A2F', 'issuer': 'rhWTXC2m2gGGA9WozUaoMm6kLAVPb1tcS3', 'value': '1279044769.637532'}, 'trading_fee': 233, 'vote_slots': [{'account': 'rwizard1gGgtcnNBb8mJQXDQfPpsVX69bY', 'trading_fee': 10, 'vote_weight': 2926}, {'account': 'rJDRwJ9oSiB5yUDEEdxEy9xBEHR9ekBmh', 'trading_fee': 195, 'vote_weight': 9161}, {'account': 'rKuYdrNLbHM1RYkAnccnRJhKRxNnAMixPA', 'trading_fee': 190, 'vote_weight': 7127}, {'account': 'rEiLZ9oofSc8KS7SyxKD7Qb2enL6xzKUhQ', 'trading_fee': 195, 'vote_weight': 8406}, {'account': 'rJ4XeEzorvsQp6un4h9CjtANEsB3Qcc8iA', 'trading_fee': 1000, 'vote_weight': 3736}, {'account': 'rGYuaEA3FxfBX3dzmgVi9KGkZX1Vj6KWgJ', 'trading_fee': 185, 'vote_weight': 9117}, {'account': 'rGUHgu32TDX5X44wA7u82XsGhNe4UtnLrE', 'trading_fee': 190, 'vote_weight': 8369}, {'account': 'rQU8xy3oETjcsTfGhyTvDMg2zzUp9Tg1G3', 'trading_fee': 185, 'vote_weight': 9057}]}\n",
      "keep_cols: ['dt']\n",
      "historical_data before resampling:\n",
      "                                dt                 hour        xrp_bal  \\\n",
      "0 2025-04-06 18:36:45.553790+00:00  2025-04-06 18:00:00  955512.391176   \n",
      "\n",
      "      rlusd_bal  RLUSD_XRPL_Supply  RLUSD_ETH_Supply  \n",
      "0  1.917586e+06        94055086.29      1.996376e+08  \n"
     ]
    },
    {
     "name": "stderr",
     "output_type": "stream",
     "text": [
      "e:\\Projects\\rlusd_dash\\data_collection.py:81: FutureWarning:\n",
      "\n",
      "'H' is deprecated and will be removed in a future version, please use 'h' instead.\n",
      "\n"
     ]
    },
    {
     "name": "stdout",
     "output_type": "stream",
     "text": [
      "historical_data after resampling:\n",
      "                         dt hour  xrp_bal  rlusd_bal  RLUSD_XRPL_Supply  \\\n",
      "0 2025-04-06 18:00:00+00:00  NaN      NaN        NaN                NaN   \n",
      "\n",
      "   RLUSD_ETH_Supply  \n",
      "0               NaN  \n"
     ]
    },
    {
     "ename": "OSError",
     "evalue": "Cannot save file into a non-existent directory: 'data\\timeseries_cache.csv'",
     "output_type": "error",
     "traceback": [
      "\u001b[1;31m---------------------------------------------------------------------------\u001b[0m",
      "\u001b[1;31mOSError\u001b[0m                                   Traceback (most recent call last)",
      "Cell \u001b[1;32mIn[9], line 1\u001b[0m\n\u001b[1;32m----> 1\u001b[0m \u001b[43mhourly_data\u001b[49m\u001b[43m(\u001b[49m\u001b[43m)\u001b[49m\n",
      "File \u001b[1;32me:\\Projects\\rlusd_dash\\data_collection.py:114\u001b[0m, in \u001b[0;36mhourly_data\u001b[1;34m()\u001b[0m\n\u001b[0;32m    103\u001b[0m formatted_today_utc \u001b[38;5;241m=\u001b[39m today_utc\u001b[38;5;241m.\u001b[39mstrftime(\u001b[38;5;124m'\u001b[39m\u001b[38;5;124m%\u001b[39m\u001b[38;5;124mY-\u001b[39m\u001b[38;5;124m%\u001b[39m\u001b[38;5;124mm-\u001b[39m\u001b[38;5;132;01m%d\u001b[39;00m\u001b[38;5;124m \u001b[39m\u001b[38;5;124m%\u001b[39m\u001b[38;5;124mH:00:00\u001b[39m\u001b[38;5;124m'\u001b[39m)\n\u001b[0;32m    105\u001b[0m timeseries_entry \u001b[38;5;241m=\u001b[39m {\n\u001b[0;32m    106\u001b[0m     \u001b[38;5;124m\"\u001b[39m\u001b[38;5;124mdt\u001b[39m\u001b[38;5;124m\"\u001b[39m:today_utc,\n\u001b[0;32m    107\u001b[0m     \u001b[38;5;124m\"\u001b[39m\u001b[38;5;124mhour\u001b[39m\u001b[38;5;124m\"\u001b[39m:formatted_today_utc,\n\u001b[1;32m   (...)\u001b[0m\n\u001b[0;32m    111\u001b[0m     \u001b[38;5;124m\"\u001b[39m\u001b[38;5;124mRLUSD_ETH_Supply\u001b[39m\u001b[38;5;124m\"\u001b[39m:rlusd_ETH_supply\n\u001b[0;32m    112\u001b[0m }\n\u001b[1;32m--> 114\u001b[0m \u001b[43mupdate_cache_data\u001b[49m\u001b[43m(\u001b[49m\u001b[43mdata\u001b[49m\u001b[38;5;241;43m=\u001b[39;49m\u001b[43mtimeseries_entry\u001b[49m\u001b[43m,\u001b[49m\u001b[43mkey\u001b[49m\u001b[38;5;241;43m=\u001b[39;49m\u001b[38;5;124;43m'\u001b[39;49m\u001b[38;5;124;43mtimeseries\u001b[39;49m\u001b[38;5;124;43m'\u001b[39;49m\u001b[43m,\u001b[49m\n\u001b[0;32m    115\u001b[0m \u001b[43m                  \u001b[49m\u001b[43mtime_col\u001b[49m\u001b[38;5;241;43m=\u001b[39;49m\u001b[38;5;124;43m'\u001b[39;49m\u001b[38;5;124;43mdt\u001b[39;49m\u001b[38;5;124;43m'\u001b[39;49m\u001b[43m,\u001b[49m\u001b[43mgranularity\u001b[49m\u001b[38;5;241;43m=\u001b[39;49m\u001b[38;5;124;43m'\u001b[39;49m\u001b[38;5;124;43mH\u001b[39;49m\u001b[38;5;124;43m'\u001b[39;49m\u001b[43m)\u001b[49m\n\u001b[0;32m    117\u001b[0m \u001b[38;5;28mprint\u001b[39m(\u001b[38;5;124mf\u001b[39m\u001b[38;5;124m'\u001b[39m\u001b[38;5;124mHourly data collected at \u001b[39m\u001b[38;5;132;01m{\u001b[39;00mtoday_utc\u001b[38;5;132;01m}\u001b[39;00m\u001b[38;5;124m'\u001b[39m)\n\u001b[0;32m    118\u001b[0m \u001b[38;5;28;01mreturn\u001b[39;00m {\u001b[38;5;124m\"\u001b[39m\u001b[38;5;124mstatus\u001b[39m\u001b[38;5;124m\"\u001b[39m: \u001b[38;5;124m\"\u001b[39m\u001b[38;5;124msuccess\u001b[39m\u001b[38;5;124m\"\u001b[39m, \u001b[38;5;124m\"\u001b[39m\u001b[38;5;124mtimestamp\u001b[39m\u001b[38;5;124m\"\u001b[39m: today_utc\u001b[38;5;241m.\u001b[39misoformat()}\n",
      "File \u001b[1;32me:\\Projects\\rlusd_dash\\data_collection.py:88\u001b[0m, in \u001b[0;36mupdate_cache_data\u001b[1;34m(data, key, time_col, keep_subset, granularity)\u001b[0m\n\u001b[0;32m     86\u001b[0m \u001b[38;5;28mprint\u001b[39m(\u001b[38;5;124mf\u001b[39m\u001b[38;5;124m'\u001b[39m\u001b[38;5;124mhistorical_data after resampling:\u001b[39m\u001b[38;5;130;01m\\n\u001b[39;00m\u001b[38;5;132;01m{\u001b[39;00mhistorical_data\u001b[38;5;132;01m}\u001b[39;00m\u001b[38;5;124m'\u001b[39m)\n\u001b[0;32m     87\u001b[0m cache\u001b[38;5;241m.\u001b[39mset(\u001b[38;5;124mf\u001b[39m\u001b[38;5;124m'\u001b[39m\u001b[38;5;132;01m{\u001b[39;00mkey\u001b[38;5;132;01m}\u001b[39;00m\u001b[38;5;124m'\u001b[39m, historical_data)\n\u001b[1;32m---> 88\u001b[0m \u001b[43mhistorical_data\u001b[49m\u001b[38;5;241;43m.\u001b[39;49m\u001b[43mto_csv\u001b[49m\u001b[43m(\u001b[49m\u001b[43mos\u001b[49m\u001b[38;5;241;43m.\u001b[39;49m\u001b[43mpath\u001b[49m\u001b[38;5;241;43m.\u001b[39;49m\u001b[43mjoin\u001b[49m\u001b[43m(\u001b[49m\u001b[43mBACKUP_DIR\u001b[49m\u001b[43m,\u001b[49m\u001b[38;5;124;43mf\u001b[39;49m\u001b[38;5;124;43m'\u001b[39;49m\u001b[38;5;132;43;01m{\u001b[39;49;00m\u001b[43mkey\u001b[49m\u001b[38;5;132;43;01m}\u001b[39;49;00m\u001b[38;5;124;43m.csv\u001b[39;49m\u001b[38;5;124;43m'\u001b[39;49m\u001b[43m)\u001b[49m\u001b[43m)\u001b[49m\n\u001b[0;32m     89\u001b[0m \u001b[38;5;28mprint\u001b[39m(\u001b[38;5;124mf\u001b[39m\u001b[38;5;124m'\u001b[39m\u001b[38;5;124mSaved \u001b[39m\u001b[38;5;132;01m{\u001b[39;00mkey\u001b[38;5;132;01m}\u001b[39;00m\u001b[38;5;124m with \u001b[39m\u001b[38;5;132;01m{\u001b[39;00mgranularity\u001b[38;5;132;01m}\u001b[39;00m\u001b[38;5;124m'\u001b[39m)\n",
      "File \u001b[1;32me:\\Projects\\rlusd_dash\\rlusd_env\\Lib\\site-packages\\pandas\\util\\_decorators.py:333\u001b[0m, in \u001b[0;36mdeprecate_nonkeyword_arguments.<locals>.decorate.<locals>.wrapper\u001b[1;34m(*args, **kwargs)\u001b[0m\n\u001b[0;32m    327\u001b[0m \u001b[38;5;28;01mif\u001b[39;00m \u001b[38;5;28mlen\u001b[39m(args) \u001b[38;5;241m>\u001b[39m num_allow_args:\n\u001b[0;32m    328\u001b[0m     warnings\u001b[38;5;241m.\u001b[39mwarn(\n\u001b[0;32m    329\u001b[0m         msg\u001b[38;5;241m.\u001b[39mformat(arguments\u001b[38;5;241m=\u001b[39m_format_argument_list(allow_args)),\n\u001b[0;32m    330\u001b[0m         \u001b[38;5;167;01mFutureWarning\u001b[39;00m,\n\u001b[0;32m    331\u001b[0m         stacklevel\u001b[38;5;241m=\u001b[39mfind_stack_level(),\n\u001b[0;32m    332\u001b[0m     )\n\u001b[1;32m--> 333\u001b[0m \u001b[38;5;28;01mreturn\u001b[39;00m \u001b[43mfunc\u001b[49m\u001b[43m(\u001b[49m\u001b[38;5;241;43m*\u001b[39;49m\u001b[43margs\u001b[49m\u001b[43m,\u001b[49m\u001b[43m \u001b[49m\u001b[38;5;241;43m*\u001b[39;49m\u001b[38;5;241;43m*\u001b[39;49m\u001b[43mkwargs\u001b[49m\u001b[43m)\u001b[49m\n",
      "File \u001b[1;32me:\\Projects\\rlusd_dash\\rlusd_env\\Lib\\site-packages\\pandas\\core\\generic.py:3967\u001b[0m, in \u001b[0;36mNDFrame.to_csv\u001b[1;34m(self, path_or_buf, sep, na_rep, float_format, columns, header, index, index_label, mode, encoding, compression, quoting, quotechar, lineterminator, chunksize, date_format, doublequote, escapechar, decimal, errors, storage_options)\u001b[0m\n\u001b[0;32m   3956\u001b[0m df \u001b[38;5;241m=\u001b[39m \u001b[38;5;28mself\u001b[39m \u001b[38;5;28;01mif\u001b[39;00m \u001b[38;5;28misinstance\u001b[39m(\u001b[38;5;28mself\u001b[39m, ABCDataFrame) \u001b[38;5;28;01melse\u001b[39;00m \u001b[38;5;28mself\u001b[39m\u001b[38;5;241m.\u001b[39mto_frame()\n\u001b[0;32m   3958\u001b[0m formatter \u001b[38;5;241m=\u001b[39m DataFrameFormatter(\n\u001b[0;32m   3959\u001b[0m     frame\u001b[38;5;241m=\u001b[39mdf,\n\u001b[0;32m   3960\u001b[0m     header\u001b[38;5;241m=\u001b[39mheader,\n\u001b[1;32m   (...)\u001b[0m\n\u001b[0;32m   3964\u001b[0m     decimal\u001b[38;5;241m=\u001b[39mdecimal,\n\u001b[0;32m   3965\u001b[0m )\n\u001b[1;32m-> 3967\u001b[0m \u001b[38;5;28;01mreturn\u001b[39;00m \u001b[43mDataFrameRenderer\u001b[49m\u001b[43m(\u001b[49m\u001b[43mformatter\u001b[49m\u001b[43m)\u001b[49m\u001b[38;5;241;43m.\u001b[39;49m\u001b[43mto_csv\u001b[49m\u001b[43m(\u001b[49m\n\u001b[0;32m   3968\u001b[0m \u001b[43m    \u001b[49m\u001b[43mpath_or_buf\u001b[49m\u001b[43m,\u001b[49m\n\u001b[0;32m   3969\u001b[0m \u001b[43m    \u001b[49m\u001b[43mlineterminator\u001b[49m\u001b[38;5;241;43m=\u001b[39;49m\u001b[43mlineterminator\u001b[49m\u001b[43m,\u001b[49m\n\u001b[0;32m   3970\u001b[0m \u001b[43m    \u001b[49m\u001b[43msep\u001b[49m\u001b[38;5;241;43m=\u001b[39;49m\u001b[43msep\u001b[49m\u001b[43m,\u001b[49m\n\u001b[0;32m   3971\u001b[0m \u001b[43m    \u001b[49m\u001b[43mencoding\u001b[49m\u001b[38;5;241;43m=\u001b[39;49m\u001b[43mencoding\u001b[49m\u001b[43m,\u001b[49m\n\u001b[0;32m   3972\u001b[0m \u001b[43m    \u001b[49m\u001b[43merrors\u001b[49m\u001b[38;5;241;43m=\u001b[39;49m\u001b[43merrors\u001b[49m\u001b[43m,\u001b[49m\n\u001b[0;32m   3973\u001b[0m \u001b[43m    \u001b[49m\u001b[43mcompression\u001b[49m\u001b[38;5;241;43m=\u001b[39;49m\u001b[43mcompression\u001b[49m\u001b[43m,\u001b[49m\n\u001b[0;32m   3974\u001b[0m \u001b[43m    \u001b[49m\u001b[43mquoting\u001b[49m\u001b[38;5;241;43m=\u001b[39;49m\u001b[43mquoting\u001b[49m\u001b[43m,\u001b[49m\n\u001b[0;32m   3975\u001b[0m \u001b[43m    \u001b[49m\u001b[43mcolumns\u001b[49m\u001b[38;5;241;43m=\u001b[39;49m\u001b[43mcolumns\u001b[49m\u001b[43m,\u001b[49m\n\u001b[0;32m   3976\u001b[0m \u001b[43m    \u001b[49m\u001b[43mindex_label\u001b[49m\u001b[38;5;241;43m=\u001b[39;49m\u001b[43mindex_label\u001b[49m\u001b[43m,\u001b[49m\n\u001b[0;32m   3977\u001b[0m \u001b[43m    \u001b[49m\u001b[43mmode\u001b[49m\u001b[38;5;241;43m=\u001b[39;49m\u001b[43mmode\u001b[49m\u001b[43m,\u001b[49m\n\u001b[0;32m   3978\u001b[0m \u001b[43m    \u001b[49m\u001b[43mchunksize\u001b[49m\u001b[38;5;241;43m=\u001b[39;49m\u001b[43mchunksize\u001b[49m\u001b[43m,\u001b[49m\n\u001b[0;32m   3979\u001b[0m \u001b[43m    \u001b[49m\u001b[43mquotechar\u001b[49m\u001b[38;5;241;43m=\u001b[39;49m\u001b[43mquotechar\u001b[49m\u001b[43m,\u001b[49m\n\u001b[0;32m   3980\u001b[0m \u001b[43m    \u001b[49m\u001b[43mdate_format\u001b[49m\u001b[38;5;241;43m=\u001b[39;49m\u001b[43mdate_format\u001b[49m\u001b[43m,\u001b[49m\n\u001b[0;32m   3981\u001b[0m \u001b[43m    \u001b[49m\u001b[43mdoublequote\u001b[49m\u001b[38;5;241;43m=\u001b[39;49m\u001b[43mdoublequote\u001b[49m\u001b[43m,\u001b[49m\n\u001b[0;32m   3982\u001b[0m \u001b[43m    \u001b[49m\u001b[43mescapechar\u001b[49m\u001b[38;5;241;43m=\u001b[39;49m\u001b[43mescapechar\u001b[49m\u001b[43m,\u001b[49m\n\u001b[0;32m   3983\u001b[0m \u001b[43m    \u001b[49m\u001b[43mstorage_options\u001b[49m\u001b[38;5;241;43m=\u001b[39;49m\u001b[43mstorage_options\u001b[49m\u001b[43m,\u001b[49m\n\u001b[0;32m   3984\u001b[0m \u001b[43m\u001b[49m\u001b[43m)\u001b[49m\n",
      "File \u001b[1;32me:\\Projects\\rlusd_dash\\rlusd_env\\Lib\\site-packages\\pandas\\io\\formats\\format.py:1014\u001b[0m, in \u001b[0;36mDataFrameRenderer.to_csv\u001b[1;34m(self, path_or_buf, encoding, sep, columns, index_label, mode, compression, quoting, quotechar, lineterminator, chunksize, date_format, doublequote, escapechar, errors, storage_options)\u001b[0m\n\u001b[0;32m    993\u001b[0m     created_buffer \u001b[38;5;241m=\u001b[39m \u001b[38;5;28;01mFalse\u001b[39;00m\n\u001b[0;32m    995\u001b[0m csv_formatter \u001b[38;5;241m=\u001b[39m CSVFormatter(\n\u001b[0;32m    996\u001b[0m     path_or_buf\u001b[38;5;241m=\u001b[39mpath_or_buf,\n\u001b[0;32m    997\u001b[0m     lineterminator\u001b[38;5;241m=\u001b[39mlineterminator,\n\u001b[1;32m   (...)\u001b[0m\n\u001b[0;32m   1012\u001b[0m     formatter\u001b[38;5;241m=\u001b[39m\u001b[38;5;28mself\u001b[39m\u001b[38;5;241m.\u001b[39mfmt,\n\u001b[0;32m   1013\u001b[0m )\n\u001b[1;32m-> 1014\u001b[0m \u001b[43mcsv_formatter\u001b[49m\u001b[38;5;241;43m.\u001b[39;49m\u001b[43msave\u001b[49m\u001b[43m(\u001b[49m\u001b[43m)\u001b[49m\n\u001b[0;32m   1016\u001b[0m \u001b[38;5;28;01mif\u001b[39;00m created_buffer:\n\u001b[0;32m   1017\u001b[0m     \u001b[38;5;28;01massert\u001b[39;00m \u001b[38;5;28misinstance\u001b[39m(path_or_buf, StringIO)\n",
      "File \u001b[1;32me:\\Projects\\rlusd_dash\\rlusd_env\\Lib\\site-packages\\pandas\\io\\formats\\csvs.py:251\u001b[0m, in \u001b[0;36mCSVFormatter.save\u001b[1;34m(self)\u001b[0m\n\u001b[0;32m    247\u001b[0m \u001b[38;5;250m\u001b[39m\u001b[38;5;124;03m\"\"\"\u001b[39;00m\n\u001b[0;32m    248\u001b[0m \u001b[38;5;124;03mCreate the writer & save.\u001b[39;00m\n\u001b[0;32m    249\u001b[0m \u001b[38;5;124;03m\"\"\"\u001b[39;00m\n\u001b[0;32m    250\u001b[0m \u001b[38;5;66;03m# apply compression and byte/text conversion\u001b[39;00m\n\u001b[1;32m--> 251\u001b[0m \u001b[38;5;28;01mwith\u001b[39;00m \u001b[43mget_handle\u001b[49m\u001b[43m(\u001b[49m\n\u001b[0;32m    252\u001b[0m \u001b[43m    \u001b[49m\u001b[38;5;28;43mself\u001b[39;49m\u001b[38;5;241;43m.\u001b[39;49m\u001b[43mfilepath_or_buffer\u001b[49m\u001b[43m,\u001b[49m\n\u001b[0;32m    253\u001b[0m \u001b[43m    \u001b[49m\u001b[38;5;28;43mself\u001b[39;49m\u001b[38;5;241;43m.\u001b[39;49m\u001b[43mmode\u001b[49m\u001b[43m,\u001b[49m\n\u001b[0;32m    254\u001b[0m \u001b[43m    \u001b[49m\u001b[43mencoding\u001b[49m\u001b[38;5;241;43m=\u001b[39;49m\u001b[38;5;28;43mself\u001b[39;49m\u001b[38;5;241;43m.\u001b[39;49m\u001b[43mencoding\u001b[49m\u001b[43m,\u001b[49m\n\u001b[0;32m    255\u001b[0m \u001b[43m    \u001b[49m\u001b[43merrors\u001b[49m\u001b[38;5;241;43m=\u001b[39;49m\u001b[38;5;28;43mself\u001b[39;49m\u001b[38;5;241;43m.\u001b[39;49m\u001b[43merrors\u001b[49m\u001b[43m,\u001b[49m\n\u001b[0;32m    256\u001b[0m \u001b[43m    \u001b[49m\u001b[43mcompression\u001b[49m\u001b[38;5;241;43m=\u001b[39;49m\u001b[38;5;28;43mself\u001b[39;49m\u001b[38;5;241;43m.\u001b[39;49m\u001b[43mcompression\u001b[49m\u001b[43m,\u001b[49m\n\u001b[0;32m    257\u001b[0m \u001b[43m    \u001b[49m\u001b[43mstorage_options\u001b[49m\u001b[38;5;241;43m=\u001b[39;49m\u001b[38;5;28;43mself\u001b[39;49m\u001b[38;5;241;43m.\u001b[39;49m\u001b[43mstorage_options\u001b[49m\u001b[43m,\u001b[49m\n\u001b[0;32m    258\u001b[0m \u001b[43m\u001b[49m\u001b[43m)\u001b[49m \u001b[38;5;28;01mas\u001b[39;00m handles:\n\u001b[0;32m    259\u001b[0m     \u001b[38;5;66;03m# Note: self.encoding is irrelevant here\u001b[39;00m\n\u001b[0;32m    260\u001b[0m     \u001b[38;5;28mself\u001b[39m\u001b[38;5;241m.\u001b[39mwriter \u001b[38;5;241m=\u001b[39m csvlib\u001b[38;5;241m.\u001b[39mwriter(\n\u001b[0;32m    261\u001b[0m         handles\u001b[38;5;241m.\u001b[39mhandle,\n\u001b[0;32m    262\u001b[0m         lineterminator\u001b[38;5;241m=\u001b[39m\u001b[38;5;28mself\u001b[39m\u001b[38;5;241m.\u001b[39mlineterminator,\n\u001b[1;32m   (...)\u001b[0m\n\u001b[0;32m    267\u001b[0m         quotechar\u001b[38;5;241m=\u001b[39m\u001b[38;5;28mself\u001b[39m\u001b[38;5;241m.\u001b[39mquotechar,\n\u001b[0;32m    268\u001b[0m     )\n\u001b[0;32m    270\u001b[0m     \u001b[38;5;28mself\u001b[39m\u001b[38;5;241m.\u001b[39m_save()\n",
      "File \u001b[1;32me:\\Projects\\rlusd_dash\\rlusd_env\\Lib\\site-packages\\pandas\\io\\common.py:749\u001b[0m, in \u001b[0;36mget_handle\u001b[1;34m(path_or_buf, mode, encoding, compression, memory_map, is_text, errors, storage_options)\u001b[0m\n\u001b[0;32m    747\u001b[0m \u001b[38;5;66;03m# Only for write methods\u001b[39;00m\n\u001b[0;32m    748\u001b[0m \u001b[38;5;28;01mif\u001b[39;00m \u001b[38;5;124m\"\u001b[39m\u001b[38;5;124mr\u001b[39m\u001b[38;5;124m\"\u001b[39m \u001b[38;5;129;01mnot\u001b[39;00m \u001b[38;5;129;01min\u001b[39;00m mode \u001b[38;5;129;01mand\u001b[39;00m is_path:\n\u001b[1;32m--> 749\u001b[0m     \u001b[43mcheck_parent_directory\u001b[49m\u001b[43m(\u001b[49m\u001b[38;5;28;43mstr\u001b[39;49m\u001b[43m(\u001b[49m\u001b[43mhandle\u001b[49m\u001b[43m)\u001b[49m\u001b[43m)\u001b[49m\n\u001b[0;32m    751\u001b[0m \u001b[38;5;28;01mif\u001b[39;00m compression:\n\u001b[0;32m    752\u001b[0m     \u001b[38;5;28;01mif\u001b[39;00m compression \u001b[38;5;241m!=\u001b[39m \u001b[38;5;124m\"\u001b[39m\u001b[38;5;124mzstd\u001b[39m\u001b[38;5;124m\"\u001b[39m:\n\u001b[0;32m    753\u001b[0m         \u001b[38;5;66;03m# compression libraries do not like an explicit text-mode\u001b[39;00m\n",
      "File \u001b[1;32me:\\Projects\\rlusd_dash\\rlusd_env\\Lib\\site-packages\\pandas\\io\\common.py:616\u001b[0m, in \u001b[0;36mcheck_parent_directory\u001b[1;34m(path)\u001b[0m\n\u001b[0;32m    614\u001b[0m parent \u001b[38;5;241m=\u001b[39m Path(path)\u001b[38;5;241m.\u001b[39mparent\n\u001b[0;32m    615\u001b[0m \u001b[38;5;28;01mif\u001b[39;00m \u001b[38;5;129;01mnot\u001b[39;00m parent\u001b[38;5;241m.\u001b[39mis_dir():\n\u001b[1;32m--> 616\u001b[0m     \u001b[38;5;28;01mraise\u001b[39;00m \u001b[38;5;167;01mOSError\u001b[39;00m(\u001b[38;5;124mrf\u001b[39m\u001b[38;5;124m\"\u001b[39m\u001b[38;5;124mCannot save file into a non-existent directory: \u001b[39m\u001b[38;5;124m'\u001b[39m\u001b[38;5;132;01m{\u001b[39;00mparent\u001b[38;5;132;01m}\u001b[39;00m\u001b[38;5;124m'\u001b[39m\u001b[38;5;124m\"\u001b[39m)\n",
      "\u001b[1;31mOSError\u001b[0m: Cannot save file into a non-existent directory: 'data\\timeseries_cache.csv'"
     ]
    }
   ],
   "source": [
    "hourly_data()"
   ]
  },
  {
   "cell_type": "markdown",
   "id": "ed49bfa1",
   "metadata": {},
   "source": [
    "def gecko_terminal_pool_data(network='xrpl',pool='524C555344000000000000000000000000000000.rMxCKbEDwqr76QuheSUMdEGf4B9xJ8m5De_XRP',\n",
    "                             freq='day',start_date=None):\n",
    "    xrpl_vol_base_url = f\"https://api.geckoterminal.com/api/v2/networks/{network}/pools/{pool}/ohlcv/{freq}\"\n",
    "    data = call_api(xrpl_vol_base_url)\n",
    "\n",
    "    xrpl_vol = pd.DataFrame(data['data']['attributes']['ohlcv_list'])\n",
    "\n",
    "    # Rename columns for clarity (assuming standard OHLCV format)\n",
    "    xrpl_vol.columns = ['timestamp', 'open', 'high', 'low', 'close', 'volume']\n",
    "\n",
    "    # Convert timestamp to datetime for readability\n",
    "    xrpl_vol['timestamp'] = pd.to_datetime(xrpl_vol['timestamp'], unit='s')\n",
    "    xrpl_vol['blockchain'] = 'XRPL'\n",
    "\n",
    "    return xrpl_vol.set_index('timestamp')"
   ]
  },
  {
   "cell_type": "markdown",
   "id": "4863a9ba",
   "metadata": {},
   "source": [
    "DUNE_QUERY_DIR = r'E:\\Projects\\rlusd_dash\\data\\rlusd_eth_dex_stats.csv'\n",
    "DUNE_QUERY_ID = 4695750"
   ]
  },
  {
   "cell_type": "markdown",
   "id": "f802731b",
   "metadata": {},
   "source": [
    "def dune_dex_data(DUNE_QUERY_ID,DUNE_QUERY_DIR):\n",
    "    rlusd_eth_dex_stats = dune_api_results(DUNE_QUERY_ID,DUNE_QUERY_DIR)\n",
    "\n",
    "    rlusd_eth_dex_stats['dt'] = pd.to_datetime(rlusd_eth_dex_stats['dt'])\n",
    "    rlusd_eth_dex_stats['dt'] = rlusd_eth_dex_stats['dt'].dt.strftime('%Y-%m-%d')\n",
    "\n",
    "    rlusd_eth_dex_stats['blockchain'] = 'Ethereum'\n",
    "    rlusd_eth_dex_stats.rename(columns={\"vol\":\"volume\"},inplace=True)\n",
    "    rlusd_eth_dex_stats.set_index('dt',inplace=True)\n",
    "    rlusd_eth_dex_stats.index = pd.to_datetime(rlusd_eth_dex_stats.index)\n",
    "\n",
    "    return rlusd_eth_dex_stats"
   ]
  },
  {
   "cell_type": "markdown",
   "id": "77d527fc",
   "metadata": {},
   "source": [
    "def update_cache_data(data, key='timeseries',time_col='dt',keep_subset=None, granularity='H'):\n",
    "    #timeseries column must have dt as name, \n",
    "\n",
    "    if keep_subset is None:\n",
    "        keep_subset = []\n",
    "\n",
    "    keep_cols = [time_col]+keep_subset\n",
    "    \n",
    "    print(f'keep_cols: {keep_cols}')\n",
    "\n",
    "    if isinstance(data, pd.DataFrame):  \n",
    "        new_data = data\n",
    "    elif isinstance(data, dict):       \n",
    "        new_data = pd.DataFrame([data])\n",
    "    else:\n",
    "        raise TypeError('Pass a DataFrame or dict for data')\n",
    "\n",
    "    historical_data = cache.get(f'{key}', pd.DataFrame())\n",
    "    # historical_data = historical_data.reset_index()\n",
    "    historical_data = pd.concat([historical_data, new_data]).reset_index(drop=True)\n",
    "    historical_data.drop_duplicates(subset=keep_cols, keep='last', inplace=True)\n",
    "    historical_data[time_col] = pd.to_datetime(historical_data[time_col])\n",
    "    \n",
    "    print(f'historical_data before resampling:\\n{historical_data}')\n",
    "\n",
    "    if granularity is not None:\n",
    "        group_cols = keep_subset\n",
    "        historical_data = (\n",
    "            historical_data\n",
    "            .set_index(time_col)\n",
    "            .sort_index()\n",
    "            .groupby(group_cols, group_keys=False)\n",
    "            .resample(granularity)\n",
    "            .ffill()\n",
    "            .reset_index()\n",
    "        )\n",
    "\n",
    "    print(f'historical_data after resampling:\\n{historical_data}')\n",
    "    cache.set(f'{key}', historical_data)\n",
    "    print(f'Saved {key} with {granularity}')"
   ]
  },
  {
   "cell_type": "markdown",
   "id": "89ff3c32",
   "metadata": {},
   "source": [
    "dex_timeseries = cache.get('dex_data',pd.DataFrame())\n",
    "if not dex_timeseries.empty:\n",
    "    start_date = dex_timeseries['dt'].iloc[-1]\n",
    "    print(f'last_dt: {start_date}')\n",
    "else:\n",
    "    start_date = None\n",
    "\n",
    "if start_date:\n",
    "    start_timestamp = int(start_date.timestamp())\n",
    "    print(f'start_timestamp: {start_timestamp}')"
   ]
  },
  {
   "cell_type": "markdown",
   "id": "79ece01f",
   "metadata": {},
   "source": [
    "def dex_data():\n",
    "    dex_timeseries = cache.get('dex_data',pd.DataFrame())\n",
    "    if not dex_timeseries.empty:\n",
    "        start_date = dex_timeseries['dt'].iloc[-1]\n",
    "        print(f'last_dt: {start_date}')\n",
    "    else:\n",
    "        start_date = None\n",
    "\n",
    "    if start_date:\n",
    "        start_timestamp = int(start_date.timestamp())\n",
    "        print(f'start_timestamp: {start_timestamp}')\n",
    "\n",
    "    xrpl_vol = gecko_terminal_pool_data()\n",
    "\n",
    "    rlusd_eth_dex_stats = dune_dex_data(DUNE_QUERY_ID,DUNE_QUERY_DIR)\n",
    "\n",
    "    filtered_rlusd_eth_dex = rlusd_eth_dex_stats[['blockchain','volume']].resample('D').agg({\n",
    "        \"blockchain\":'last',\n",
    "        \"volume\":'sum'\n",
    "    })\n",
    "    filtered_rlusd_xrpl_dex = xrpl_vol[['blockchain','volume']].resample('D').agg({\n",
    "        \"blockchain\":'last',\n",
    "        \"volume\":'sum'\n",
    "    })\n",
    "\n",
    "    combined_vol = pd.concat([filtered_rlusd_eth_dex, filtered_rlusd_xrpl_dex]).sort_index()\n",
    "\n",
    "    update_cache_data(data=combined_vol.rename_axis('dt').reset_index(),key='dex_data',\n",
    "                      time_col='dt',keep_subset=['blockchain'],\n",
    "                      granularity='D')\n",
    "    "
   ]
  }
 ],
 "metadata": {
  "kernelspec": {
   "display_name": "rlusd_env",
   "language": "python",
   "name": "rlusd_env"
  },
  "language_info": {
   "codemirror_mode": {
    "name": "ipython",
    "version": 3
   },
   "file_extension": ".py",
   "mimetype": "text/x-python",
   "name": "python",
   "nbconvert_exporter": "python",
   "pygments_lexer": "ipython3",
   "version": "3.11.9"
  }
 },
 "nbformat": 4,
 "nbformat_minor": 5
}
