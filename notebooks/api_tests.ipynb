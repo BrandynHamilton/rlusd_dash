{
 "cells": [
  {
   "cell_type": "code",
   "execution_count": 1,
   "id": "e749bc5b",
   "metadata": {},
   "outputs": [],
   "source": [
    "import requests\n",
    "import pandas as pd \n",
    "import os\n",
    "from diskcache import Cache\n"
   ]
  },
  {
   "cell_type": "code",
   "execution_count": 2,
   "id": "1db3e26f",
   "metadata": {},
   "outputs": [],
   "source": [
    "from defiquant import dune_api_results"
   ]
  },
  {
   "cell_type": "code",
   "execution_count": 3,
   "id": "f24c7da2",
   "metadata": {},
   "outputs": [],
   "source": [
    "os.chdir('..')"
   ]
  },
  {
   "cell_type": "code",
   "execution_count": 4,
   "id": "04dc78f6",
   "metadata": {},
   "outputs": [],
   "source": [
    "cache = Cache('data_collection')"
   ]
  },
  {
   "cell_type": "code",
   "execution_count": null,
   "id": "92f94df4",
   "metadata": {},
   "outputs": [
    {
     "name": "stdout",
     "output_type": "stream",
     "text": [
      "sys.path: ['C:\\\\Users\\\\brandyns pc\\\\AppData\\\\Local\\\\Programs\\\\Python\\\\Python311\\\\python311.zip', 'C:\\\\Users\\\\brandyns pc\\\\AppData\\\\Local\\\\Programs\\\\Python\\\\Python311\\\\DLLs', 'C:\\\\Users\\\\brandyns pc\\\\AppData\\\\Local\\\\Programs\\\\Python\\\\Python311\\\\Lib', 'C:\\\\Users\\\\brandyns pc\\\\AppData\\\\Local\\\\Programs\\\\Python\\\\Python311', 'e:\\\\Projects\\\\rlusd_dash\\\\rlusd_env', '', 'e:\\\\Projects\\\\rlusd_dash\\\\rlusd_env\\\\Lib\\\\site-packages', 'e:\\\\projects\\\\chart_builder_pkg', 'e:\\\\Projects\\\\rlusd_dash\\\\rlusd_env\\\\Lib\\\\site-packages\\\\win32', 'e:\\\\Projects\\\\rlusd_dash\\\\rlusd_env\\\\Lib\\\\site-packages\\\\win32\\\\lib', 'e:\\\\Projects\\\\rlusd_dash\\\\rlusd_env\\\\Lib\\\\site-packages\\\\Pythonwin', 'e:\\\\projects\\\\chart_builder_pkg\\\\chart_builder\\\\scripts']\n",
      "Current working directory: e:\\Projects\\rlusd_dash\n",
      "Current directory: e:\\projects\\chart_builder_pkg\\chart_builder\\scripts\n",
      "Current working directory: e:\\Projects\\rlusd_dash\n",
      "Current directory: e:\\projects\\chart_builder_pkg\\chart_builder\\scripts\n"
     ]
    },
    {
     "name": "stderr",
     "output_type": "stream",
     "text": [
      "2025-04-05 18:13:30,241 INFO apscheduler.scheduler Adding job tentatively -- it will be properly scheduled when the scheduler starts\n",
      "2025-04-05 18:13:30,242 INFO apscheduler.scheduler Added job \"hourly_data\" to job store \"default\"\n",
      "2025-04-05 18:13:30,243 INFO apscheduler.scheduler Scheduler started\n"
     ]
    },
    {
     "name": "stdout",
     "output_type": "stream",
     "text": [
      "Base Directory: E:\\Projects\\rlusd_dash\\python_scripts\n"
     ]
    },
    {
     "name": "stderr",
     "output_type": "stream",
     "text": [
      "2025-04-05 19:00:00,012 INFO apscheduler.executors.default Running job \"hourly_data (trigger: cron[minute='0'], next run at: 2025-04-05 19:00:00 -05)\" (scheduled at 2025-04-05 19:00:00-05:00)\n"
     ]
    },
    {
     "name": "stdout",
     "output_type": "stream",
     "text": [
      "Running Main\n",
      "data: [{'currency': '524C555344000000000000000000000000000000', 'value': '94055086.29000007'}]\n"
     ]
    },
    {
     "name": "stderr",
     "output_type": "stream",
     "text": [
      "2025-04-05 19:00:01,687 ERROR apscheduler.executors.default Job \"hourly_data (trigger: cron[minute='0'], next run at: 2025-04-05 20:00:00 -05)\" raised an exception\n",
      "Traceback (most recent call last):\n",
      "  File \"e:\\Projects\\rlusd_dash\\rlusd_env\\Lib\\site-packages\\apscheduler\\executors\\base.py\", line 131, in run_job\n",
      "    retval = job.func(*job.args, **job.kwargs)\n",
      "             ^^^^^^^^^^^^^^^^^^^^^^^^^^^^^^^^^\n",
      "  File \"e:\\Projects\\rlusd_dash\\data_collection.py\", line 167, in hourly_data\n",
      "    rl_usd_xrp_pool_data = xrpl_pools(pool='rhWTXC2m2gGGA9WozUaoMm6kLAVPb1tcS3')\n",
      "  File \"e:\\Projects\\rlusd_dash\\data_collection.py\", line 56, in update_cache_data\n",
      "TypeError: can only concatenate list (not \"NoneType\") to list\n"
     ]
    },
    {
     "name": "stdout",
     "output_type": "stream",
     "text": [
      "data: {'account': 'rhWTXC2m2gGGA9WozUaoMm6kLAVPb1tcS3', 'amount': '888319668121', 'amount2': {'currency': '524C555344000000000000000000000000000000', 'issuer': 'rMxCKbEDwqr76QuheSUMdEGf4B9xJ8m5De', 'value': '1903303.814421304'}, 'asset2_frozen': False, 'auction_slot': {'account': 'rPSvcmNAvc6DAZYX2w5WM4bcnLKSxyt8VY', 'discounted_fee': 23, 'expiration': '2025-01-31T19:53:30+0000', 'price': {'currency': '03B245BE580EC4F4386A751C084489EC4B514A2F', 'issuer': 'rhWTXC2m2gGGA9WozUaoMm6kLAVPb1tcS3', 'value': '0'}, 'time_interval': 20}, 'lp_token': {'currency': '03B245BE580EC4F4386A751C084489EC4B514A2F', 'issuer': 'rhWTXC2m2gGGA9WozUaoMm6kLAVPb1tcS3', 'value': '1228790975.233026'}, 'trading_fee': 233, 'vote_slots': [{'account': 'rwizard1gGgtcnNBb8mJQXDQfPpsVX69bY', 'trading_fee': 10, 'vote_weight': 3070}, {'account': 'rJDRwJ9oSiB5yUDEEdxEy9xBEHR9ekBmh', 'trading_fee': 195, 'vote_weight': 9700}, {'account': 'rKuYdrNLbHM1RYkAnccnRJhKRxNnAMixPA', 'trading_fee': 190, 'vote_weight': 7546}, {'account': 'rEiLZ9oofSc8KS7SyxKD7Qb2enL6xzKUhQ', 'trading_fee': 195, 'vote_weight': 8901}, {'account': 'rJ4XeEzorvsQp6un4h9CjtANEsB3Qcc8iA', 'trading_fee': 1000, 'vote_weight': 3956}, {'account': 'rGYuaEA3FxfBX3dzmgVi9KGkZX1Vj6KWgJ', 'trading_fee': 185, 'vote_weight': 9653}, {'account': 'rGUHgu32TDX5X44wA7u82XsGhNe4UtnLrE', 'trading_fee': 190, 'vote_weight': 8862}, {'account': 'rQU8xy3oETjcsTfGhyTvDMg2zzUp9Tg1G3', 'trading_fee': 185, 'vote_weight': 9590}]}\n"
     ]
    },
    {
     "name": "stderr",
     "output_type": "stream",
     "text": [
      "2025-04-05 20:00:00,006 INFO apscheduler.executors.default Running job \"hourly_data (trigger: cron[minute='0'], next run at: 2025-04-05 21:00:00 -05)\" (scheduled at 2025-04-05 20:00:00-05:00)\n"
     ]
    },
    {
     "name": "stdout",
     "output_type": "stream",
     "text": [
      "Running Main\n",
      "data: [{'currency': '524C555344000000000000000000000000000000', 'value': '94055086.29000013'}]\n"
     ]
    },
    {
     "name": "stderr",
     "output_type": "stream",
     "text": [
      "2025-04-05 20:00:02,367 ERROR apscheduler.executors.default Job \"hourly_data (trigger: cron[minute='0'], next run at: 2025-04-05 21:00:00 -05)\" raised an exception\n",
      "Traceback (most recent call last):\n",
      "  File \"e:\\Projects\\rlusd_dash\\rlusd_env\\Lib\\site-packages\\apscheduler\\executors\\base.py\", line 131, in run_job\n",
      "    retval = job.func(*job.args, **job.kwargs)\n",
      "             ^^^^^^^^^^^^^^^^^^^^^^^^^^^^^^^^^\n",
      "  File \"e:\\Projects\\rlusd_dash\\data_collection.py\", line 167, in hourly_data\n",
      "    rl_usd_xrp_pool_data = xrpl_pools(pool='rhWTXC2m2gGGA9WozUaoMm6kLAVPb1tcS3')\n",
      "  File \"e:\\Projects\\rlusd_dash\\data_collection.py\", line 56, in update_cache_data\n",
      "TypeError: can only concatenate list (not \"NoneType\") to list\n"
     ]
    },
    {
     "name": "stdout",
     "output_type": "stream",
     "text": [
      "data: {'account': 'rhWTXC2m2gGGA9WozUaoMm6kLAVPb1tcS3', 'amount': '888802119809', 'amount2': {'currency': '524C555344000000000000000000000000000000', 'issuer': 'rMxCKbEDwqr76QuheSUMdEGf4B9xJ8m5De', 'value': '1906601.456211924'}, 'asset2_frozen': False, 'auction_slot': {'account': 'rPSvcmNAvc6DAZYX2w5WM4bcnLKSxyt8VY', 'discounted_fee': 23, 'expiration': '2025-01-31T19:53:30+0000', 'price': {'currency': '03B245BE580EC4F4386A751C084489EC4B514A2F', 'issuer': 'rhWTXC2m2gGGA9WozUaoMm6kLAVPb1tcS3', 'value': '0'}, 'time_interval': 20}, 'lp_token': {'currency': '03B245BE580EC4F4386A751C084489EC4B514A2F', 'issuer': 'rhWTXC2m2gGGA9WozUaoMm6kLAVPb1tcS3', 'value': '1230188029.911177'}, 'trading_fee': 233, 'vote_slots': [{'account': 'rwizard1gGgtcnNBb8mJQXDQfPpsVX69bY', 'trading_fee': 10, 'vote_weight': 3070}, {'account': 'rJDRwJ9oSiB5yUDEEdxEy9xBEHR9ekBmh', 'trading_fee': 195, 'vote_weight': 9700}, {'account': 'rKuYdrNLbHM1RYkAnccnRJhKRxNnAMixPA', 'trading_fee': 190, 'vote_weight': 7546}, {'account': 'rEiLZ9oofSc8KS7SyxKD7Qb2enL6xzKUhQ', 'trading_fee': 195, 'vote_weight': 8901}, {'account': 'rJ4XeEzorvsQp6un4h9CjtANEsB3Qcc8iA', 'trading_fee': 1000, 'vote_weight': 3956}, {'account': 'rGYuaEA3FxfBX3dzmgVi9KGkZX1Vj6KWgJ', 'trading_fee': 185, 'vote_weight': 9653}, {'account': 'rGUHgu32TDX5X44wA7u82XsGhNe4UtnLrE', 'trading_fee': 190, 'vote_weight': 8862}, {'account': 'rQU8xy3oETjcsTfGhyTvDMg2zzUp9Tg1G3', 'trading_fee': 185, 'vote_weight': 9590}]}\n"
     ]
    }
   ],
   "source": [
    "from python_scripts.utils import call_api"
   ]
  },
  {
   "cell_type": "markdown",
   "id": "ed49bfa1",
   "metadata": {},
   "source": [
    "def gecko_terminal_pool_data(network='xrpl',pool='524C555344000000000000000000000000000000.rMxCKbEDwqr76QuheSUMdEGf4B9xJ8m5De_XRP',\n",
    "                             freq='day',start_date=None):\n",
    "    xrpl_vol_base_url = f\"https://api.geckoterminal.com/api/v2/networks/{network}/pools/{pool}/ohlcv/{freq}\"\n",
    "    data = call_api(xrpl_vol_base_url)\n",
    "\n",
    "    xrpl_vol = pd.DataFrame(data['data']['attributes']['ohlcv_list'])\n",
    "\n",
    "    # Rename columns for clarity (assuming standard OHLCV format)\n",
    "    xrpl_vol.columns = ['timestamp', 'open', 'high', 'low', 'close', 'volume']\n",
    "\n",
    "    # Convert timestamp to datetime for readability\n",
    "    xrpl_vol['timestamp'] = pd.to_datetime(xrpl_vol['timestamp'], unit='s')\n",
    "    xrpl_vol['blockchain'] = 'XRPL'\n",
    "\n",
    "    return xrpl_vol.set_index('timestamp')"
   ]
  },
  {
   "cell_type": "markdown",
   "id": "4863a9ba",
   "metadata": {},
   "source": [
    "DUNE_QUERY_DIR = r'E:\\Projects\\rlusd_dash\\data\\rlusd_eth_dex_stats.csv'\n",
    "DUNE_QUERY_ID = 4695750"
   ]
  },
  {
   "cell_type": "markdown",
   "id": "f802731b",
   "metadata": {},
   "source": [
    "def dune_dex_data(DUNE_QUERY_ID,DUNE_QUERY_DIR):\n",
    "    rlusd_eth_dex_stats = dune_api_results(DUNE_QUERY_ID,DUNE_QUERY_DIR)\n",
    "\n",
    "    rlusd_eth_dex_stats['dt'] = pd.to_datetime(rlusd_eth_dex_stats['dt'])\n",
    "    rlusd_eth_dex_stats['dt'] = rlusd_eth_dex_stats['dt'].dt.strftime('%Y-%m-%d')\n",
    "\n",
    "    rlusd_eth_dex_stats['blockchain'] = 'Ethereum'\n",
    "    rlusd_eth_dex_stats.rename(columns={\"vol\":\"volume\"},inplace=True)\n",
    "    rlusd_eth_dex_stats.set_index('dt',inplace=True)\n",
    "    rlusd_eth_dex_stats.index = pd.to_datetime(rlusd_eth_dex_stats.index)\n",
    "\n",
    "    return rlusd_eth_dex_stats"
   ]
  },
  {
   "cell_type": "markdown",
   "id": "77d527fc",
   "metadata": {},
   "source": [
    "def update_cache_data(data, key='timeseries',time_col='dt',keep_subset=None, granularity='H'):\n",
    "    #timeseries column must have dt as name, \n",
    "\n",
    "    if keep_subset is None:\n",
    "        keep_subset = []\n",
    "\n",
    "    keep_cols = [time_col]+keep_subset\n",
    "    \n",
    "    print(f'keep_cols: {keep_cols}')\n",
    "\n",
    "    if isinstance(data, pd.DataFrame):  \n",
    "        new_data = data\n",
    "    elif isinstance(data, dict):       \n",
    "        new_data = pd.DataFrame([data])\n",
    "    else:\n",
    "        raise TypeError('Pass a DataFrame or dict for data')\n",
    "\n",
    "    historical_data = cache.get(f'{key}', pd.DataFrame())\n",
    "    # historical_data = historical_data.reset_index()\n",
    "    historical_data = pd.concat([historical_data, new_data]).reset_index(drop=True)\n",
    "    historical_data.drop_duplicates(subset=keep_cols, keep='last', inplace=True)\n",
    "    historical_data[time_col] = pd.to_datetime(historical_data[time_col])\n",
    "    \n",
    "    print(f'historical_data before resampling:\\n{historical_data}')\n",
    "\n",
    "    if granularity is not None:\n",
    "        group_cols = keep_subset\n",
    "        historical_data = (\n",
    "            historical_data\n",
    "            .set_index(time_col)\n",
    "            .sort_index()\n",
    "            .groupby(group_cols, group_keys=False)\n",
    "            .resample(granularity)\n",
    "            .ffill()\n",
    "            .reset_index()\n",
    "        )\n",
    "\n",
    "    print(f'historical_data after resampling:\\n{historical_data}')\n",
    "    cache.set(f'{key}', historical_data)\n",
    "    print(f'Saved {key} with {granularity}')"
   ]
  },
  {
   "cell_type": "markdown",
   "id": "89ff3c32",
   "metadata": {},
   "source": [
    "dex_timeseries = cache.get('dex_data',pd.DataFrame())\n",
    "if not dex_timeseries.empty:\n",
    "    start_date = dex_timeseries['dt'].iloc[-1]\n",
    "    print(f'last_dt: {start_date}')\n",
    "else:\n",
    "    start_date = None\n",
    "\n",
    "if start_date:\n",
    "    start_timestamp = int(start_date.timestamp())\n",
    "    print(f'start_timestamp: {start_timestamp}')"
   ]
  },
  {
   "cell_type": "markdown",
   "id": "79ece01f",
   "metadata": {},
   "source": [
    "def dex_data():\n",
    "    dex_timeseries = cache.get('dex_data',pd.DataFrame())\n",
    "    if not dex_timeseries.empty:\n",
    "        start_date = dex_timeseries['dt'].iloc[-1]\n",
    "        print(f'last_dt: {start_date}')\n",
    "    else:\n",
    "        start_date = None\n",
    "\n",
    "    if start_date:\n",
    "        start_timestamp = int(start_date.timestamp())\n",
    "        print(f'start_timestamp: {start_timestamp}')\n",
    "\n",
    "    xrpl_vol = gecko_terminal_pool_data()\n",
    "\n",
    "    rlusd_eth_dex_stats = dune_dex_data(DUNE_QUERY_ID,DUNE_QUERY_DIR)\n",
    "\n",
    "    filtered_rlusd_eth_dex = rlusd_eth_dex_stats[['blockchain','volume']].resample('D').agg({\n",
    "        \"blockchain\":'last',\n",
    "        \"volume\":'sum'\n",
    "    })\n",
    "    filtered_rlusd_xrpl_dex = xrpl_vol[['blockchain','volume']].resample('D').agg({\n",
    "        \"blockchain\":'last',\n",
    "        \"volume\":'sum'\n",
    "    })\n",
    "\n",
    "    combined_vol = pd.concat([filtered_rlusd_eth_dex, filtered_rlusd_xrpl_dex]).sort_index()\n",
    "\n",
    "    update_cache_data(data=combined_vol.rename_axis('dt').reset_index(),key='dex_data',\n",
    "                      time_col='dt',keep_subset=['blockchain'],\n",
    "                      granularity='D')\n",
    "    "
   ]
  }
 ],
 "metadata": {
  "kernelspec": {
   "display_name": "test_env",
   "language": "python",
   "name": "test_env"
  },
  "language_info": {
   "codemirror_mode": {
    "name": "ipython",
    "version": 3
   },
   "file_extension": ".py",
   "mimetype": "text/x-python",
   "name": "python",
   "nbconvert_exporter": "python",
   "pygments_lexer": "ipython3",
   "version": "3.12.4"
  }
 },
 "nbformat": 4,
 "nbformat_minor": 5
}
