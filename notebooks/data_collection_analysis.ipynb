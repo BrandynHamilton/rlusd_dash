{
 "cells": [
  {
   "cell_type": "code",
   "execution_count": 1,
   "metadata": {},
   "outputs": [],
   "source": [
    "import os\n",
    "import pandas as pd\n",
    "\n",
    "from plotly.subplots import make_subplots\n",
    "import plotly.graph_objects as go\n",
    "import plotly.express as px\n",
    "import plotly.io as pio\n",
    "import plotly.offline as pyo\n",
    "import plotly.colors as pc\n",
    "\n",
    "import datetime as dt\n",
    "from datetime import timedelta\n",
    "import sys\n",
    "import requests\n",
    "from dotenv import load_dotenv\n",
    "\n",
    "from web3 import Web3\n",
    "from eth_abi import decode\n",
    "from eth_utils import decode_hex, to_text\n",
    "from web3.middleware import geth_poa_middleware\n",
    "import time\n",
    "import json\n",
    "from dash import Dash, html, dcc, Input, Output, State, callback\n",
    "from dash import dash_table\n",
    "\n",
    "import requests\n",
    "from dune_client.client import DuneClient\n",
    "\n",
    "from IPython.display import Image, display\n",
    "from diskcache import Cache\n",
    " \n",
    "\n",
    "pio.templates[\"custom\"] = pio.templates[\"plotly\"]\n",
    "pio.templates[\"custom\"].layout.font.family = \"IBM Plex Mono\"\n",
    "\n",
    "# Set the default template\n",
    "pio.templates.default = \"custom\""
   ]
  },
  {
   "cell_type": "code",
   "execution_count": 2,
   "metadata": {},
   "outputs": [
    {
     "name": "stdout",
     "output_type": "stream",
     "text": [
      "sys.path: ['C:\\\\Users\\\\brandyns pc\\\\AppData\\\\Local\\\\Programs\\\\Python\\\\Python311\\\\python311.zip', 'C:\\\\Users\\\\brandyns pc\\\\AppData\\\\Local\\\\Programs\\\\Python\\\\Python311\\\\DLLs', 'C:\\\\Users\\\\brandyns pc\\\\AppData\\\\Local\\\\Programs\\\\Python\\\\Python311\\\\Lib', 'C:\\\\Users\\\\brandyns pc\\\\AppData\\\\Local\\\\Programs\\\\Python\\\\Python311', 'e:\\\\Projects\\\\rlusd_dash\\\\rlusd_env', '', 'e:\\\\Projects\\\\rlusd_dash\\\\rlusd_env\\\\Lib\\\\site-packages', 'e:\\\\projects\\\\chart_builder_pkg', 'e:\\\\Projects\\\\rlusd_dash\\\\rlusd_env\\\\Lib\\\\site-packages\\\\win32', 'e:\\\\Projects\\\\rlusd_dash\\\\rlusd_env\\\\Lib\\\\site-packages\\\\win32\\\\lib', 'e:\\\\Projects\\\\rlusd_dash\\\\rlusd_env\\\\Lib\\\\site-packages\\\\Pythonwin', 'e:\\\\projects\\\\chart_builder_pkg\\\\chart_builder\\\\scripts']\n",
      "Current working directory: e:\\Projects\\rlusd_dash\\notebooks\n",
      "Current directory: e:\\projects\\chart_builder_pkg\\chart_builder\\scripts\n",
      "Current working directory: e:\\Projects\\rlusd_dash\\notebooks\n",
      "Current directory: e:\\projects\\chart_builder_pkg\\chart_builder\\scripts\n"
     ]
    }
   ],
   "source": [
    "from chart_builder.scripts.visualization_pipeline import visualization_pipeline\n",
    "from chart_builder.scripts.utils import data_processing,create_df,open_json, main as chartBuilder"
   ]
  },
  {
   "cell_type": "code",
   "execution_count": 3,
   "metadata": {},
   "outputs": [],
   "source": [
    "os.chdir('..')"
   ]
  },
  {
   "cell_type": "code",
   "execution_count": 4,
   "metadata": {},
   "outputs": [],
   "source": [
    "from sql_queries.sql_scripts import lp_data\n",
    "from python_scripts.utils import flipside_api_results"
   ]
  },
  {
   "cell_type": "code",
   "execution_count": 5,
   "metadata": {},
   "outputs": [],
   "source": [
    "cache = Cache('data_collection')"
   ]
  },
  {
   "cell_type": "code",
   "execution_count": 6,
   "metadata": {},
   "outputs": [
    {
     "data": {
      "text/plain": [
       "True"
      ]
     },
     "execution_count": 6,
     "metadata": {},
     "output_type": "execute_result"
    }
   ],
   "source": [
    "load_dotenv()"
   ]
  },
  {
   "cell_type": "code",
   "execution_count": 7,
   "metadata": {},
   "outputs": [],
   "source": [
    "timeseries = cache.get('timeseries')"
   ]
  },
  {
   "cell_type": "code",
   "execution_count": 8,
   "metadata": {},
   "outputs": [
    {
     "data": {
      "text/html": [
       "<div>\n",
       "<style scoped>\n",
       "    .dataframe tbody tr th:only-of-type {\n",
       "        vertical-align: middle;\n",
       "    }\n",
       "\n",
       "    .dataframe tbody tr th {\n",
       "        vertical-align: top;\n",
       "    }\n",
       "\n",
       "    .dataframe thead th {\n",
       "        text-align: right;\n",
       "    }\n",
       "</style>\n",
       "<table border=\"1\" class=\"dataframe\">\n",
       "  <thead>\n",
       "    <tr style=\"text-align: right;\">\n",
       "      <th></th>\n",
       "      <th>dt</th>\n",
       "      <th>level_0</th>\n",
       "      <th>index</th>\n",
       "      <th>xrp_bal</th>\n",
       "      <th>rlusd_bal</th>\n",
       "      <th>RLUSD_XRPL_Supply</th>\n",
       "      <th>RLUSD_ETH_Supply</th>\n",
       "    </tr>\n",
       "  </thead>\n",
       "  <tbody>\n",
       "    <tr>\n",
       "      <th>0</th>\n",
       "      <td>2025-02-17 21:00:00+00:00</td>\n",
       "      <td>0.0</td>\n",
       "      <td>0.0</td>\n",
       "      <td>NaN</td>\n",
       "      <td>NaN</td>\n",
       "      <td>NaN</td>\n",
       "      <td>NaN</td>\n",
       "    </tr>\n",
       "    <tr>\n",
       "      <th>1</th>\n",
       "      <td>2025-02-17 22:00:00+00:00</td>\n",
       "      <td>1.0</td>\n",
       "      <td>1.0</td>\n",
       "      <td>604564.626635</td>\n",
       "      <td>1.614909e+06</td>\n",
       "      <td>NaN</td>\n",
       "      <td>NaN</td>\n",
       "    </tr>\n",
       "    <tr>\n",
       "      <th>2</th>\n",
       "      <td>2025-02-17 23:00:00+00:00</td>\n",
       "      <td>2.0</td>\n",
       "      <td>2.0</td>\n",
       "      <td>604215.408003</td>\n",
       "      <td>1.617292e+06</td>\n",
       "      <td>NaN</td>\n",
       "      <td>NaN</td>\n",
       "    </tr>\n",
       "    <tr>\n",
       "      <th>3</th>\n",
       "      <td>2025-02-18 00:00:00+00:00</td>\n",
       "      <td>3.0</td>\n",
       "      <td>3.0</td>\n",
       "      <td>606079.360994</td>\n",
       "      <td>1.611439e+06</td>\n",
       "      <td>NaN</td>\n",
       "      <td>NaN</td>\n",
       "    </tr>\n",
       "    <tr>\n",
       "      <th>4</th>\n",
       "      <td>2025-02-18 01:00:00+00:00</td>\n",
       "      <td>4.0</td>\n",
       "      <td>4.0</td>\n",
       "      <td>607458.034679</td>\n",
       "      <td>1.610191e+06</td>\n",
       "      <td>NaN</td>\n",
       "      <td>NaN</td>\n",
       "    </tr>\n",
       "    <tr>\n",
       "      <th>...</th>\n",
       "      <td>...</td>\n",
       "      <td>...</td>\n",
       "      <td>...</td>\n",
       "      <td>...</td>\n",
       "      <td>...</td>\n",
       "      <td>...</td>\n",
       "      <td>...</td>\n",
       "    </tr>\n",
       "    <tr>\n",
       "      <th>780</th>\n",
       "      <td>2025-03-22 09:00:00+00:00</td>\n",
       "      <td>384.0</td>\n",
       "      <td>384.0</td>\n",
       "      <td>730352.770910</td>\n",
       "      <td>1.826077e+06</td>\n",
       "      <td>40855104.29</td>\n",
       "      <td>91837632.55</td>\n",
       "    </tr>\n",
       "    <tr>\n",
       "      <th>781</th>\n",
       "      <td>2025-03-22 10:00:00+00:00</td>\n",
       "      <td>384.0</td>\n",
       "      <td>384.0</td>\n",
       "      <td>730352.770910</td>\n",
       "      <td>1.826077e+06</td>\n",
       "      <td>40855104.29</td>\n",
       "      <td>91837632.55</td>\n",
       "    </tr>\n",
       "    <tr>\n",
       "      <th>782</th>\n",
       "      <td>2025-03-22 11:00:00+00:00</td>\n",
       "      <td>384.0</td>\n",
       "      <td>384.0</td>\n",
       "      <td>730352.770910</td>\n",
       "      <td>1.826077e+06</td>\n",
       "      <td>40855104.29</td>\n",
       "      <td>91837632.55</td>\n",
       "    </tr>\n",
       "    <tr>\n",
       "      <th>783</th>\n",
       "      <td>2025-03-22 12:00:00+00:00</td>\n",
       "      <td>384.0</td>\n",
       "      <td>384.0</td>\n",
       "      <td>730352.770910</td>\n",
       "      <td>1.826077e+06</td>\n",
       "      <td>40855104.29</td>\n",
       "      <td>91837632.55</td>\n",
       "    </tr>\n",
       "    <tr>\n",
       "      <th>784</th>\n",
       "      <td>2025-03-22 13:00:00+00:00</td>\n",
       "      <td>384.0</td>\n",
       "      <td>384.0</td>\n",
       "      <td>730352.770910</td>\n",
       "      <td>1.826077e+06</td>\n",
       "      <td>40855104.29</td>\n",
       "      <td>91837632.55</td>\n",
       "    </tr>\n",
       "  </tbody>\n",
       "</table>\n",
       "<p>785 rows × 7 columns</p>\n",
       "</div>"
      ],
      "text/plain": [
       "                           dt  level_0  index        xrp_bal     rlusd_bal  \\\n",
       "0   2025-02-17 21:00:00+00:00      0.0    0.0            NaN           NaN   \n",
       "1   2025-02-17 22:00:00+00:00      1.0    1.0  604564.626635  1.614909e+06   \n",
       "2   2025-02-17 23:00:00+00:00      2.0    2.0  604215.408003  1.617292e+06   \n",
       "3   2025-02-18 00:00:00+00:00      3.0    3.0  606079.360994  1.611439e+06   \n",
       "4   2025-02-18 01:00:00+00:00      4.0    4.0  607458.034679  1.610191e+06   \n",
       "..                        ...      ...    ...            ...           ...   \n",
       "780 2025-03-22 09:00:00+00:00    384.0  384.0  730352.770910  1.826077e+06   \n",
       "781 2025-03-22 10:00:00+00:00    384.0  384.0  730352.770910  1.826077e+06   \n",
       "782 2025-03-22 11:00:00+00:00    384.0  384.0  730352.770910  1.826077e+06   \n",
       "783 2025-03-22 12:00:00+00:00    384.0  384.0  730352.770910  1.826077e+06   \n",
       "784 2025-03-22 13:00:00+00:00    384.0  384.0  730352.770910  1.826077e+06   \n",
       "\n",
       "     RLUSD_XRPL_Supply  RLUSD_ETH_Supply  \n",
       "0                  NaN               NaN  \n",
       "1                  NaN               NaN  \n",
       "2                  NaN               NaN  \n",
       "3                  NaN               NaN  \n",
       "4                  NaN               NaN  \n",
       "..                 ...               ...  \n",
       "780        40855104.29       91837632.55  \n",
       "781        40855104.29       91837632.55  \n",
       "782        40855104.29       91837632.55  \n",
       "783        40855104.29       91837632.55  \n",
       "784        40855104.29       91837632.55  \n",
       "\n",
       "[785 rows x 7 columns]"
      ]
     },
     "execution_count": 8,
     "metadata": {},
     "output_type": "execute_result"
    }
   ],
   "source": [
    "timeseries"
   ]
  },
  {
   "cell_type": "code",
   "execution_count": 9,
   "metadata": {},
   "outputs": [],
   "source": [
    "from data_processing import main\n"
   ]
  },
  {
   "cell_type": "code",
   "execution_count": 10,
   "metadata": {},
   "outputs": [
    {
     "name": "stdout",
     "output_type": "stream",
     "text": [
      "data: [{'currency': '524C555344000000000000000000000000000000', 'value': '44055086.29000001'}]\n",
      "data: {'account': 'rhWTXC2m2gGGA9WozUaoMm6kLAVPb1tcS3', 'amount': '790264416057', 'amount2': {'currency': '524C555344000000000000000000000000000000', 'issuer': 'rMxCKbEDwqr76QuheSUMdEGf4B9xJ8m5De', 'value': '1878683.212857216'}, 'asset2_frozen': False, 'auction_slot': {'account': 'rPSvcmNAvc6DAZYX2w5WM4bcnLKSxyt8VY', 'discounted_fee': 24, 'expiration': '2025-01-31T19:53:30+0000', 'price': {'currency': '03B245BE580EC4F4386A751C084489EC4B514A2F', 'issuer': 'rhWTXC2m2gGGA9WozUaoMm6kLAVPb1tcS3', 'value': '0'}, 'time_interval': 20}, 'lp_token': {'currency': '03B245BE580EC4F4386A751C084489EC4B514A2F', 'issuer': 'rhWTXC2m2gGGA9WozUaoMm6kLAVPb1tcS3', 'value': '1156060283.834627'}, 'trading_fee': 248, 'vote_slots': [{'account': 'rwizard1gGgtcnNBb8mJQXDQfPpsVX69bY', 'trading_fee': 300, 'vote_weight': 3310}, {'account': 'rJDRwJ9oSiB5yUDEEdxEy9xBEHR9ekBmh', 'trading_fee': 195, 'vote_weight': 10030}, {'account': 'rKuYdrNLbHM1RYkAnccnRJhKRxNnAMixPA', 'trading_fee': 190, 'vote_weight': 7803}, {'account': 'rEiLZ9oofSc8KS7SyxKD7Qb2enL6xzKUhQ', 'trading_fee': 195, 'vote_weight': 9204}, {'account': 'rJ4XeEzorvsQp6un4h9CjtANEsB3Qcc8iA', 'trading_fee': 1000, 'vote_weight': 4090}, {'account': 'rGYuaEA3FxfBX3dzmgVi9KGkZX1Vj6KWgJ', 'trading_fee': 185, 'vote_weight': 9982}, {'account': 'rGUHgu32TDX5X44wA7u82XsGhNe4UtnLrE', 'trading_fee': 190, 'vote_weight': 9164}, {'account': 'rQU8xy3oETjcsTfGhyTvDMg2zzUp9Tg1G3', 'trading_fee': 185, 'vote_weight': 9917}]}\n",
      "Query not completed. Retrying in 30 seconds...\n",
      "Query not completed. Retrying in 30 seconds...\n",
      "Query not completed. Retrying in 30 seconds...\n"
     ]
    },
    {
     "name": "stderr",
     "output_type": "stream",
     "text": [
      "e:\\Projects\\rlusd_dash\\data_processing.py:209: SettingWithCopyWarning:\n",
      "\n",
      "\n",
      "A value is trying to be set on a copy of a slice from a DataFrame.\n",
      "Try using .loc[row_indexer,col_indexer] = value instead\n",
      "\n",
      "See the caveats in the documentation: https://pandas.pydata.org/pandas-docs/stable/user_guide/indexing.html#returning-a-view-versus-a-copy\n",
      "\n",
      "e:\\Projects\\rlusd_dash\\data_processing.py:210: SettingWithCopyWarning:\n",
      "\n",
      "\n",
      "A value is trying to be set on a copy of a slice from a DataFrame\n",
      "\n",
      "See the caveats in the documentation: https://pandas.pydata.org/pandas-docs/stable/user_guide/indexing.html#returning-a-view-versus-a-copy\n",
      "\n",
      "e:\\Projects\\rlusd_dash\\data_processing.py:215: SettingWithCopyWarning:\n",
      "\n",
      "\n",
      "A value is trying to be set on a copy of a slice from a DataFrame.\n",
      "Try using .loc[row_indexer,col_indexer] = value instead\n",
      "\n",
      "See the caveats in the documentation: https://pandas.pydata.org/pandas-docs/stable/user_guide/indexing.html#returning-a-view-versus-a-copy\n",
      "\n",
      "e:\\Projects\\rlusd_dash\\data_processing.py:77: FutureWarning:\n",
      "\n",
      "'H' is deprecated and will be removed in a future version, please use 'h' instead.\n",
      "\n",
      "e:\\Projects\\rlusd_dash\\data_processing.py:84: FutureWarning:\n",
      "\n",
      "DataFrame.fillna with 'method' is deprecated and will raise in a future version. Use obj.ffill() or obj.bfill() instead.\n",
      "\n",
      "e:\\Projects\\rlusd_dash\\data_processing.py:229: SettingWithCopyWarning:\n",
      "\n",
      "\n",
      "A value is trying to be set on a copy of a slice from a DataFrame\n",
      "\n",
      "See the caveats in the documentation: https://pandas.pydata.org/pandas-docs/stable/user_guide/indexing.html#returning-a-view-versus-a-copy\n",
      "\n"
     ]
    },
    {
     "name": "stdout",
     "output_type": "stream",
     "text": [
      "price index: DatetimeIndex(['2025-03-22 13:00:00', '2025-03-22 12:00:00',\n",
      "               '2025-03-22 11:00:00', '2025-03-22 10:00:00',\n",
      "               '2025-03-22 09:00:00', '2025-03-22 08:00:00',\n",
      "               '2025-03-22 07:00:00', '2025-03-22 06:00:00',\n",
      "               '2025-03-22 05:00:00', '2025-03-22 04:00:00',\n",
      "               ...\n",
      "               '2025-01-16 23:00:00', '2025-01-16 22:00:00',\n",
      "               '2025-01-16 21:00:00', '2025-01-16 20:00:00',\n",
      "               '2025-01-16 19:00:00', '2025-01-16 18:00:00',\n",
      "               '2025-01-16 17:00:00', '2025-01-16 16:00:00',\n",
      "               '2025-01-16 15:00:00', '2025-01-16 14:00:00'],\n",
      "              dtype='datetime64[ns]', name='dt', length=1560, freq=None)\n",
      "data: {'data': {'id': 'bc74eb16-4d74-4cff-a59b-1c90d441e795', 'type': 'ohlcv_request_response', 'attributes': {'ohlcv_list': [[1742601600, 1.000689564, 1.00503874780318, 0.995581473549714, 0.997240564502516, 478041.76540875], [1742515200, 0.998003985947465, 1.00801453583152, 0.984592317940428, 1.000689564, 2922276.61789761], [1742428800, 1.00143342431323, 1.009371, 0.993968830038569, 0.998003985947465, 3516013.50447937], [1742342400, 1.00228468386453, 1.01903973860077, 0.95899002002, 1.00143342431323, 9350223.33565956], [1742256000, 1.00034627350121, 1.02310207149553, 0.993321551301795, 1.00228468386453, 6177862.40064094], [1742169600, 1.00201710399631, 1.03141186079428, 0.969051998726721, 1.00034627350121, 2519089.17682989], [1742083200, 0.999652876183159, 1.03476870986551, 0.986970313252, 1.00201710399631, 4067699.7047189], [1741996800, 1.00298775821859, 1.0104961127935, 0.993286107766457, 0.999652876183159, 3282710.62920979], [1741910400, 1.0004001532224, 1.04562454213652, 0.960663107055717, 1.00298775821859, 4305138.34994667], [1741824000, 1.00105488, 1.0253247362408, 0.987007856471132, 1.0004001532224, 5952493.77889742], [1741737600, 1.00041485958066, 1.01858352732539, 0.966716901914707, 1.00105488, 4571246.31422635], [1741651200, 1.00687951658085, 1.02446362428356, 0.957150061364868, 1.00041485958066, 7653029.68620057], [1741564800, 0.998729315993204, 1.03501828278782, 0.914086994920294, 1.00687951658085, 9111318.67131826], [1741478400, 0.999112912959029, 1.0303045930542, 0.975139673805055, 0.998729315993204, 5223644.83785113], [1741392000, 0.998896177740373, 1.01036799346051, 0.993836591998556, 0.999112912959029, 2073743.11941054], [1741305600, 1.00038874, 1.03151212017325, 0.985958993609085, 0.998896177740373, 6214151.06484014], [1741219200, 1.000997, 1.02088410919099, 0.984486721790162, 1.00038874, 3679523.33439562], [1741132800, 0.9994040196, 1.0450908479866, 0.987915166709077, 1.000997, 3431203.63772392], [1741046400, 0.999020315134242, 1.04323211225362, 0.961052879830274, 0.9994040196, 10666016.8865277], [1740960000, 1.00141697150267, 1.03195545660179, 0.984781600697135, 0.999020315134242, 7511502.68656479], [1740873600, 0.999383943, 1.03693181819135, 0.922232769251226, 1.00141697150267, 9785579.99518799], [1740787200, 1.00215400598554, 1.02237944199997, 0.987494317780583, 0.999383943, 1641141.92244834], [1740700800, 1.00076836783139, 1.0267515747203, 0.952124989684568, 1.00215400598554, 7208519.47297992], [1740614400, 0.997608945279458, 1.02653658580488, 0.978672483389332, 1.00076836783139, 5342503.96409701], [1740528000, 1.00019448946515, 1.04242494967351, 0.985883060751511, 0.997608945279458, 6268329.84174188], [1740441600, 1.003768632, 1.02857148056512, 0.985311659997146, 1.00019448946515, 11427509.3619965], [1740355200, 1.00191849, 1.04440718272161, 0.924655860800783, 1.003768632, 8537796.00380897], [1740268800, 1.00213263, 1.00794498865852, 0.994921979825152, 1.00191849, 3422679.73283722], [1740182400, 0.999420572, 1.00421146247315, 0.994505189997869, 1.00213263, 1309473.6723128], [1740096000, 1.00027450852012, 1.01534651624015, 0.99154439999767, 0.999420572, 3566814.47727784], [1740009600, 0.999596767954252, 1.00640982231723, 0.990719471983288, 1.00027450852012, 2087276.50573632], [1739923200, 0.999730541257816, 1.00693834158677, 0.989368106525186, 0.999596767954252, 3253605.48597424], [1739836800, 1.00035349096386, 1.01407215754238, 0.861225056536475, 0.999730541257816, 3172405.20752181], [1739750400, 1.00095290436866, 1.0161970455571, 0.986277001934072, 1.00035349096386, 2923201.11584502], [1739664000, 0.999345491747336, 1.0102846593426, 0.994568217657868, 1.00095290436866, 1420950.35294398], [1739577600, 1.00066855, 1.00821047244149, 0.99314829973256, 0.999345491747336, 2021336.22975876], [1739491200, 0.99483572472235, 1.01705988583768, 0.977841578, 1.00066855, 5785919.3525478], [1739404800, 0.999190387444995, 1.04899714399905, 0.979745619, 0.99483572472235, 3452363.85855319], [1739318400, 1.00280538045894, 1.02774492936957, 0.983143745999999, 0.999190387444995, 2395290.97324729], [1739232000, 0.998597028, 1.00964231877873, 0.991056624997186, 1.00280538045894, 2758177.85973024], [1739145600, 1.00135600292062, 1.01718391424039, 0.969907578247599, 0.998597028, 3362116.40277914], [1739059200, 0.999849036733617, 1.08728891949608, 0.918114961618058, 1.00135600292062, 3263723.731472], [1738972800, 0.997749953999147, 1.00714506079415, 0.99416883999738, 0.999849036733617, 1396535.54666154], [1738886400, 0.996645389385977, 1.01174956163328, 0.985079828415384, 0.997749953999147, 4161921.91981018], [1738800000, 1.000929468, 1.02266795571429, 0.942075149959428, 0.996645389385977, 3978429.48670175], [1738713600, 1.000415383, 1.02080374395489, 0.988437066267028, 1.000929468, 4053515.28125238], [1738627200, 0.995459516988194, 1.02922124269399, 0.984409800000946, 1.000415383, 8388387.639608], [1738540800, 0.9999651075, 1.06323195200083, 0.895431350513255, 0.995459516988194, 9280023.44632332], [1738454400, 1.01006895774937, 1.21256526291139, 0.950087884664217, 0.9999651075, 9743037.3622397], [1738368000, 1.00258896, 1.1014823371175, 0.980949658332721, 1.01006895774937, 3079688.2210556], [1738281600, 1.00008269456785, 1.08540859208866, 0.992557734001578, 1.00258896, 1892750.55825869], [1738195200, 1.001291859, 1.29730488394065, 0.909508285891986, 1.00008269456785, 1203206.7272657], [1738108800, 1.00045476, 1.01539120861207, 0.979174136450236, 1.001291859, 3353842.41729218], [1738022400, 0.999105884999999, 1.04068829588468, 0.989679944063453, 1.00045476, 3758280.05099279], [1737936000, 0.998297844, 1.03692601698344, 0.98863112481384, 0.999105884999999, 6137801.84355827], [1737849600, 1.001252371, 1.00752684299349, 0.995909239379984, 0.998297844, 835542.82476624], [1737763200, 0.999083465311076, 1.00349296034572, 0.996403803043478, 1.001252371, 1155952.38996516], [1737676800, 0.997895278284528, 1.005646996, 0.989970954120882, 0.999083465311076, 1889654.59722957], [1737590400, 0.99591956781617, 5.58465587584706, 0.988064105, 0.997895278284528, 1603757.38373444], [1737504000, 1.00145605551372, 1.01113642798547, 0.977254594123281, 0.99591956781617, 1429971.70357977], [1737417600, 1.00182644556007, 1.00604572830963, 0.995418407969074, 1.00145605551372, 238316.012320198]]}}, 'meta': {'base': {'address': '524C555344000000000000000000000000000000.rMxCKbEDwqr76QuheSUMdEGf4B9xJ8m5De', 'name': 'RLUSD', 'symbol': 'RLUSD', 'coingecko_coin_id': None}, 'quote': {'address': 'XRP', 'name': 'XRP', 'symbol': 'XRP', 'coingecko_coin_id': None}}}\n",
      "Initialized axes_data: {'y1': 'All', 'y2': []}\n",
      "tick0: min\n",
      "turn_to_time: False\n",
      "df sort order at init: ['Ethereum' 'XRP']\n",
      "save:False\n",
      "capwords: []\n",
      "y1_list: All \n",
      "y2_list: []\n",
      "'Blockchain' does not match capword. Converting to title case: Blockchain\n",
      "Cleaned string: 'Blockchain'\n",
      "'Supply' does not match capword. Converting to title case: Supply\n",
      "Cleaned string: 'Supply'\n",
      "'A' does not match capword. Converting to title case: A\n",
      "Cleaned string: 'A'\n",
      "'l' does not match capword. Converting to title case: L\n",
      "Cleaned string: 'L'\n",
      "'l' does not match capword. Converting to title case: L\n",
      "Cleaned string: 'L'\n",
      "'Blockchain' does not match capword. Converting to title case: Blockchain\n",
      "Cleaned string: 'Blockchain'\n",
      "Cleaned groupby: Blockchain\n",
      "'Supply' does not match capword. Converting to title case: Supply\n",
      "Cleaned string: 'Supply'\n",
      "Cleaned num_col: Supply\n",
      "Cleaned DataFrame columns: ['Blockchain', 'Supply']\n",
      "Cleaned cols_to_plot: ['Blockchain', 'Supply']\n",
      "Cleaned bar_col: []\n",
      "Cleaned line_col: []\n",
      "Cleaned y1_list: ['A', 'L', 'L']\n",
      "Cleaned y2_list: []\n",
      "Cleaned groupby: Blockchain\n",
      "Cleaned num_col: Supply\n",
      "logo path: ../img/Logos/None\n",
      "Generating pie chart...\n",
      "self.textinfo: percent+label\n",
      "original_labels: ['Ethereum' 'XRP']\n",
      "df_copy:                   Supply\n",
      "Blockchain              \n",
      "Ethereum    1.326376e+08\n",
      "XRP         4.405509e+07\n",
      "percent+label, ['Ethereum    ', 'XRP    ']\n",
      "textinfo: percent+label\n",
      "x:176692685.84M\n",
      "Columns: Index(['Blockchain', 'Supply'], dtype='object') \n",
      "Index: RangeIndex(start=0, stop=2, step=1)\n",
      "Initialized axes_data: {'y1': 'All', 'y2': []}\n",
      "tick0: min\n",
      "turn_to_time: False\n",
      "df sort order at init: ['In-Liquidity' 'Out-Liquidity']\n",
      "save:False\n",
      "capwords: []\n",
      "y1_list: All \n",
      "y2_list: []\n",
      "'Amount' does not match capword. Converting to title case: Amount\n",
      "Cleaned string: 'Amount'\n",
      "'Status' does not match capword. Converting to title case: Status\n",
      "Cleaned string: 'Status'\n",
      "'A' does not match capword. Converting to title case: A\n",
      "Cleaned string: 'A'\n",
      "'l' does not match capword. Converting to title case: L\n",
      "Cleaned string: 'L'\n",
      "'l' does not match capword. Converting to title case: L\n",
      "Cleaned string: 'L'\n",
      "'Status' does not match capword. Converting to title case: Status\n",
      "Cleaned string: 'Status'\n",
      "Cleaned groupby: Status\n",
      "'Amount' does not match capword. Converting to title case: Amount\n",
      "Cleaned string: 'Amount'\n",
      "Cleaned num_col: Amount\n",
      "Cleaned DataFrame columns: ['Amount', 'Status']\n",
      "Cleaned cols_to_plot: ['Amount', 'Status']\n",
      "Cleaned bar_col: []\n",
      "Cleaned line_col: []\n",
      "Cleaned y1_list: ['A', 'L', 'L']\n",
      "Cleaned y2_list: []\n",
      "Cleaned groupby: Status\n",
      "Cleaned num_col: Amount\n",
      "logo path: ../img/Logos/None\n",
      "Generating pie chart...\n",
      "self.textinfo: percent+label\n",
      "original_labels: ['In-Liquidity' 'Out-Liquidity']\n",
      "df_copy:                      Amount\n",
      "Status                     \n",
      "In-Liquidity   2.471047e+07\n",
      "Out-Liquidity  1.519822e+08\n",
      "percent+label, ['Out-Liquidity    ', 'In-Liquidity    ']\n",
      "textinfo: percent+label\n",
      "x:176692685.84M\n",
      "Columns: Index(['Amount', 'Status'], dtype='object') \n",
      "Index: RangeIndex(start=0, stop=2, step=1)\n",
      "Initialized axes_data: {'y1': 'All', 'y2': []}\n",
      "tick0: 2025-02-18 00:00:00\n",
      "turn_to_time: True\n",
      "df sort order at init: ['XRP Ledger' 'Ethereum']\n",
      "save:False\n",
      "logo path: ../img/Logos/None\n",
      "Generating line plot...\n",
      "axes titles at viz pipeline: {'y1': None, 'y2': None}\n",
      "GroupBy Col: blockchain\n",
      "tick0: 2025-02-18 00:00:00\n",
      "df @ rank_by_col:             blockchain   current_bal  marker_size\n",
      "2025-02-18  XRP Ledger  1.391237e+06            3\n",
      "2025-02-18    Ethereum  4.758962e+06            3\n",
      "2025-02-19    Ethereum  5.451765e+06            3\n",
      "2025-02-19  XRP Ledger  1.437362e+06            3\n",
      "2025-02-20  XRP Ledger  1.424306e+06            3\n",
      "...                ...           ...          ...\n",
      "2025-03-20  XRP Ledger  1.826077e+06            3\n",
      "2025-03-21    Ethereum  2.283191e+07            3\n",
      "2025-03-21  XRP Ledger  1.826077e+06            3\n",
      "2025-03-22    Ethereum  2.283179e+07            3\n",
      "2025-03-22  XRP Ledger  1.826077e+06            3\n",
      "\n",
      "[66 rows x 3 columns]\n",
      "df:             blockchain   current_bal  marker_size\n",
      "2025-02-18  XRP Ledger  1.391237e+06            3\n",
      "2025-02-18    Ethereum  4.758962e+06            3\n",
      "2025-02-19    Ethereum  5.451765e+06            3\n",
      "2025-02-19  XRP Ledger  1.437362e+06            3\n",
      "2025-02-20  XRP Ledger  1.424306e+06            3\n",
      "...                ...           ...          ...\n",
      "2025-03-20  XRP Ledger  1.826077e+06            3\n",
      "2025-03-21    Ethereum  2.283191e+07            3\n",
      "2025-03-21  XRP Ledger  1.826077e+06            3\n",
      "2025-03-22    Ethereum  2.283179e+07            3\n",
      "2025-03-22  XRP Ledger  1.826077e+06            3\n",
      "\n",
      "[66 rows x 3 columns]\n",
      "Available columns in df: Index(['blockchain', 'current_bal', 'marker_size'], dtype='object')\n",
      "sort_col: blockchain\n",
      "num_col: current_bal\n",
      "sort_list: ['XRP Ledger', 'Ethereum']\n",
      "color_map: {'Ethereum': '#2E91E5', 'XRP Ledger': '#E15F99'}\n",
      "x:1826076.749950319M\n",
      "idx: 0\n",
      "custom_annotation: ['2022-10-31']\n",
      "i_df index:             blockchain   current_bal  marker_size\n",
      "2025-02-18  XRP Ledger  1.391237e+06            3\n",
      "2025-02-19  XRP Ledger  1.437362e+06            3\n",
      "2025-02-20  XRP Ledger  1.424306e+06            3\n",
      "2025-02-21  XRP Ledger  1.403955e+06            3\n",
      "2025-02-22  XRP Ledger  1.406806e+06            3\n",
      "2025-02-23  XRP Ledger  1.617806e+06            3\n",
      "2025-02-24  XRP Ledger  1.559569e+06            3\n",
      "2025-02-25  XRP Ledger  1.489113e+06            3\n",
      "2025-02-26  XRP Ledger  1.463966e+06            3\n",
      "2025-02-27  XRP Ledger  1.471975e+06            3\n",
      "2025-02-28  XRP Ledger  1.402603e+06            3\n",
      "2025-03-01  XRP Ledger  1.515528e+06            3\n",
      "2025-03-02  XRP Ledger  1.551527e+06            3\n",
      "2025-03-03  XRP Ledger  1.856776e+06            3\n",
      "2025-03-04  XRP Ledger  1.933084e+06            3\n",
      "2025-03-05  XRP Ledger  1.826077e+06            3\n",
      "2025-03-06  XRP Ledger  1.826077e+06            3\n",
      "2025-03-07  XRP Ledger  1.826077e+06            3\n",
      "2025-03-08  XRP Ledger  1.826077e+06            3\n",
      "2025-03-09  XRP Ledger  1.826077e+06            3\n",
      "2025-03-10  XRP Ledger  1.826077e+06            3\n",
      "2025-03-11  XRP Ledger  1.826077e+06            3\n",
      "2025-03-12  XRP Ledger  1.826077e+06            3\n",
      "2025-03-13  XRP Ledger  1.826077e+06            3\n",
      "2025-03-14  XRP Ledger  1.826077e+06            3\n",
      "2025-03-15  XRP Ledger  1.826077e+06            3\n",
      "2025-03-16  XRP Ledger  1.826077e+06            3\n",
      "2025-03-17  XRP Ledger  1.826077e+06            3\n",
      "2025-03-18  XRP Ledger  1.826077e+06            3\n",
      "2025-03-19  XRP Ledger  1.826077e+06            3\n",
      "2025-03-20  XRP Ledger  1.826077e+06            3\n",
      "2025-03-21  XRP Ledger  1.826077e+06            3\n",
      "2025-03-22  XRP Ledger  1.826077e+06            3\n",
      "custom_annotation: 2022-10-31\n",
      "x:22831787.586947475M\n",
      "idx: 1\n",
      "custom_annotation: ['2022-10-31']\n",
      "x_ticks: [Timestamp('2025-02-18 00:00:00'), Timestamp('2025-02-26 00:00:00'), Timestamp('2025-03-06 00:00:00'), Timestamp('2025-03-14 00:00:00'), Timestamp('2025-03-22 00:00:00')]\n",
      "Columns: Index(['blockchain', 'current_bal', 'marker_size'], dtype='object') \n",
      "Index: DatetimeIndex(['2025-02-18', '2025-02-18', '2025-02-19', '2025-02-19',\n",
      "               '2025-02-20', '2025-02-20', '2025-02-21', '2025-02-21',\n",
      "               '2025-02-22', '2025-02-22', '2025-02-23', '2025-02-23',\n",
      "               '2025-02-24', '2025-02-24', '2025-02-25', '2025-02-25',\n",
      "               '2025-02-26', '2025-02-26', '2025-02-27', '2025-02-27',\n",
      "               '2025-02-28', '2025-02-28', '2025-03-01', '2025-03-01',\n",
      "               '2025-03-02', '2025-03-02', '2025-03-03', '2025-03-03',\n",
      "               '2025-03-04', '2025-03-04', '2025-03-05', '2025-03-05',\n",
      "               '2025-03-06', '2025-03-06', '2025-03-07', '2025-03-07',\n",
      "               '2025-03-08', '2025-03-08', '2025-03-09', '2025-03-09',\n",
      "               '2025-03-10', '2025-03-10', '2025-03-11', '2025-03-11',\n",
      "               '2025-03-12', '2025-03-12', '2025-03-13', '2025-03-13',\n",
      "               '2025-03-14', '2025-03-14', '2025-03-15', '2025-03-15',\n",
      "               '2025-03-16', '2025-03-16', '2025-03-17', '2025-03-17',\n",
      "               '2025-03-18', '2025-03-18', '2025-03-19', '2025-03-19',\n",
      "               '2025-03-20', '2025-03-20', '2025-03-21', '2025-03-21',\n",
      "               '2025-03-22', '2025-03-22'],\n",
      "              dtype='datetime64[ns]', freq=None)\n",
      "Initialized axes_data: {'y1': 'All', 'y2': []}\n",
      "tick0: min\n",
      "turn_to_time: False\n",
      "df sort order at init: ['Ethereum' 'XRPL']\n",
      "save:False\n",
      "logo path: ../img/Logos/None\n",
      "Generating pie chart...\n",
      "self.textinfo: percent+label\n",
      "original_labels: ['Ethereum' 'XRPL']\n",
      "df_copy:                   volume\n",
      "blockchain              \n",
      "Ethereum    1.490957e+07\n",
      "XRPL        2.646943e+08\n",
      "percent+label, ['XRPL    ', 'Ethereum    ']\n",
      "textinfo: percent+label\n",
      "x:279603829.7652369M\n",
      "Columns: Index(['blockchain', 'volume'], dtype='object') \n",
      "Index: RangeIndex(start=0, stop=2, step=1)\n",
      "formatted_today_utc: 2025-03-22 15:00:00\n",
      "combined_vol.index: DatetimeIndex(['2025-01-19', '2025-01-26', '2025-01-26', '2025-02-02',\n",
      "               '2025-02-02', '2025-02-09', '2025-02-09', '2025-02-16',\n",
      "               '2025-02-16', '2025-02-23', '2025-02-23', '2025-03-02',\n",
      "               '2025-03-02', '2025-03-09', '2025-03-09', '2025-03-16',\n",
      "               '2025-03-16', '2025-03-23', '2025-03-23'],\n",
      "              dtype='datetime64[ns]', freq=None)\n",
      "Initialized axes_data: {'y1': 'All', 'y2': []}\n",
      "tick0: 2025-01-19 00:00:00\n",
      "turn_to_time: True\n",
      "df sort order at init: ['Ethereum' 'XRPL']\n",
      "save:False\n",
      "logo path: ../img/Logos/None\n",
      "Generating bar plot...\n",
      "GroupBy Col: blockchain\n",
      "legend_orientation: v\n",
      "cumulative_sort: True\n",
      "sorted_bar_legend_orientation: v\n",
      "x_range_start:2025-01-16 00:00:00\n",
      "df @ rank_by_col:            blockchain        volume\n",
      "2025-01-19   Ethereum  5.143131e+03\n",
      "2025-01-26   Ethereum  7.870095e+04\n",
      "2025-01-26       XRPL  7.153195e+06\n",
      "2025-02-02   Ethereum  1.471697e+05\n",
      "2025-02-02       XRPL  2.916861e+07\n",
      "2025-02-09   Ethereum  2.266607e+05\n",
      "2025-02-09       XRPL  3.452254e+07\n",
      "2025-02-16   Ethereum  1.427957e+05\n",
      "2025-02-16       XRPL  2.119616e+07\n",
      "2025-02-23   Ethereum  1.505793e+05\n",
      "2025-02-23       XRPL  1.973546e+07\n",
      "2025-03-02   Ethereum  1.328668e+05\n",
      "2025-03-02       XRPL  5.021138e+07\n",
      "2025-03-09       XRPL  3.879979e+07\n",
      "2025-03-09   Ethereum  1.905514e+06\n",
      "2025-03-16       XRPL  3.894364e+07\n",
      "2025-03-16   Ethereum  8.019841e+06\n",
      "df:            blockchain        volume\n",
      "2025-01-19   Ethereum  5.143131e+03\n",
      "2025-01-26   Ethereum  7.870095e+04\n",
      "2025-01-26       XRPL  7.153195e+06\n",
      "2025-02-02   Ethereum  1.471697e+05\n",
      "2025-02-02       XRPL  2.916861e+07\n",
      "2025-02-09   Ethereum  2.266607e+05\n",
      "2025-02-09       XRPL  3.452254e+07\n",
      "2025-02-16   Ethereum  1.427957e+05\n",
      "2025-02-16       XRPL  2.119616e+07\n",
      "2025-02-23   Ethereum  1.505793e+05\n",
      "2025-02-23       XRPL  1.973546e+07\n",
      "2025-03-02   Ethereum  1.328668e+05\n",
      "2025-03-02       XRPL  5.021138e+07\n",
      "2025-03-09       XRPL  3.879979e+07\n",
      "2025-03-09   Ethereum  1.905514e+06\n",
      "2025-03-16       XRPL  3.894364e+07\n",
      "2025-03-16   Ethereum  8.019841e+06\n",
      "Available columns in df: Index(['blockchain', 'volume'], dtype='object')\n",
      "sort_col: blockchain\n",
      "num_col: volume\n",
      "df columns: Index(['blockchain', 'volume'], dtype='object')\n",
      "sort_col: blockchain\n",
      "sort_list: ['XRPL', 'Ethereum']\n",
      "df[sort_col]:\n",
      "['Ethereum' 'XRPL']\n",
      "Missing values in sort_list: set()\n",
      "i_df:           blockchain        volume\n",
      "2025-01-26       XRPL  7.153195e+06\n",
      "2025-02-02       XRPL  2.916861e+07\n",
      "2025-02-09       XRPL  3.452254e+07\n",
      "2025-02-16       XRPL  2.119616e+07\n",
      "2025-02-23       XRPL  1.973546e+07\n",
      "2025-03-02       XRPL  5.021138e+07\n",
      "2025-03-09       XRPL  3.879979e+07\n",
      "2025-03-16       XRPL  3.894364e+07\n",
      "col:volume\n",
      "text font size: 14\n",
      "x:38943637.13451796M\n",
      "i_df:           blockchain        volume\n",
      "2025-01-19   Ethereum  5.143131e+03\n",
      "2025-01-26   Ethereum  7.870095e+04\n",
      "2025-02-02   Ethereum  1.471697e+05\n",
      "2025-02-09   Ethereum  2.266607e+05\n",
      "2025-02-16   Ethereum  1.427957e+05\n",
      "2025-02-23   Ethereum  1.505793e+05\n",
      "2025-03-02   Ethereum  1.328668e+05\n",
      "2025-03-09   Ethereum  1.905514e+06\n",
      "2025-03-16   Ethereum  8.019841e+06\n",
      "col:volume\n",
      "text font size: 14\n",
      "x:8019841.108137251M\n",
      "x_ticks:[Timestamp('2025-01-19 00:00:00'), Timestamp('2025-01-26 00:00:00'), Timestamp('2025-01-26 00:00:00'), Timestamp('2025-02-02 00:00:00'), Timestamp('2025-02-02 00:00:00'), Timestamp('2025-02-09 00:00:00'), Timestamp('2025-02-16 00:00:00'), Timestamp('2025-02-16 00:00:00'), Timestamp('2025-02-23 00:00:00'), Timestamp('2025-03-02 00:00:00'), Timestamp('2025-03-02 00:00:00'), Timestamp('2025-03-09 00:00:00'), Timestamp('2025-03-09 00:00:00'), Timestamp('2025-03-16 00:00:00')]\n",
      "Columns: Index(['blockchain', 'volume'], dtype='object') \n",
      "Index: DatetimeIndex(['2025-01-19', '2025-01-26', '2025-01-26', '2025-02-02',\n",
      "               '2025-02-02', '2025-02-09', '2025-02-09', '2025-02-16',\n",
      "               '2025-02-16', '2025-02-23', '2025-02-23', '2025-03-02',\n",
      "               '2025-03-02', '2025-03-09', '2025-03-09', '2025-03-16',\n",
      "               '2025-03-16'],\n",
      "              dtype='datetime64[ns]', freq=None)\n",
      "Initialized axes_data: {'y1': 'All', 'y2': []}\n",
      "tick0: 2025-01-19 00:00:00\n",
      "turn_to_time: True\n",
      "df sort order at init: ['Ethereum' 'XRPL']\n",
      "save:False\n",
      "logo path: ../img/Logos/None\n",
      "Generating bar plot...\n",
      "GroupBy Col: blockchain\n",
      "legend_orientation: v\n",
      "cumulative_sort: True\n",
      "sorted_bar_legend_orientation: v\n",
      "x_range_start:2025-01-16 00:00:00\n",
      "df @ rank_by_col:            blockchain        volume\n",
      "2025-01-19   Ethereum  5.143131e+03\n",
      "2025-01-26   Ethereum  7.870095e+04\n",
      "2025-01-26       XRPL  7.153195e+06\n",
      "2025-02-02   Ethereum  1.471697e+05\n",
      "2025-02-02       XRPL  2.916861e+07\n",
      "2025-02-09   Ethereum  2.266607e+05\n",
      "2025-02-09       XRPL  3.452254e+07\n",
      "2025-02-16   Ethereum  1.427957e+05\n",
      "2025-02-16       XRPL  2.119616e+07\n",
      "2025-02-23   Ethereum  1.505793e+05\n",
      "2025-02-23       XRPL  1.973546e+07\n",
      "2025-03-02   Ethereum  1.328668e+05\n",
      "2025-03-02       XRPL  5.021138e+07\n",
      "2025-03-09       XRPL  3.879979e+07\n",
      "2025-03-09   Ethereum  1.905514e+06\n",
      "2025-03-16       XRPL  3.894364e+07\n",
      "2025-03-16   Ethereum  8.019841e+06\n",
      "df:            blockchain        volume\n",
      "2025-01-19   Ethereum  5.143131e+03\n",
      "2025-01-26   Ethereum  7.870095e+04\n",
      "2025-01-26       XRPL  7.153195e+06\n",
      "2025-02-02   Ethereum  1.471697e+05\n",
      "2025-02-02       XRPL  2.916861e+07\n",
      "2025-02-09   Ethereum  2.266607e+05\n",
      "2025-02-09       XRPL  3.452254e+07\n",
      "2025-02-16   Ethereum  1.427957e+05\n",
      "2025-02-16       XRPL  2.119616e+07\n",
      "2025-02-23   Ethereum  1.505793e+05\n",
      "2025-02-23       XRPL  1.973546e+07\n",
      "2025-03-02   Ethereum  1.328668e+05\n",
      "2025-03-02       XRPL  5.021138e+07\n",
      "2025-03-09       XRPL  3.879979e+07\n",
      "2025-03-09   Ethereum  1.905514e+06\n",
      "2025-03-16       XRPL  3.894364e+07\n",
      "2025-03-16   Ethereum  8.019841e+06\n",
      "Available columns in df: Index(['blockchain', 'volume'], dtype='object')\n",
      "sort_col: blockchain\n",
      "num_col: volume\n",
      "df columns: Index(['blockchain', 'volume'], dtype='object')\n",
      "sort_col: blockchain\n",
      "sort_list: ['XRPL', 'Ethereum']\n",
      "df[sort_col]:\n",
      "['Ethereum' 'XRPL']\n",
      "Missing values in sort_list: set()\n",
      "i_df:           blockchain        volume\n",
      "2025-01-26       XRPL  7.153195e+06\n",
      "2025-02-02       XRPL  2.916861e+07\n",
      "2025-02-09       XRPL  3.452254e+07\n",
      "2025-02-16       XRPL  2.119616e+07\n",
      "2025-02-23       XRPL  1.973546e+07\n",
      "2025-03-02       XRPL  5.021138e+07\n",
      "2025-03-09       XRPL  3.879979e+07\n",
      "2025-03-16       XRPL  3.894364e+07\n",
      "col:volume\n",
      "text font size: 14\n",
      "x:38943637.13451796M\n",
      "i_df:           blockchain        volume\n",
      "2025-01-19   Ethereum  5.143131e+03\n",
      "2025-01-26   Ethereum  7.870095e+04\n",
      "2025-02-02   Ethereum  1.471697e+05\n",
      "2025-02-09   Ethereum  2.266607e+05\n",
      "2025-02-16   Ethereum  1.427957e+05\n",
      "2025-02-23   Ethereum  1.505793e+05\n",
      "2025-03-02   Ethereum  1.328668e+05\n",
      "2025-03-09   Ethereum  1.905514e+06\n",
      "2025-03-16   Ethereum  8.019841e+06\n",
      "col:volume\n",
      "text font size: 14\n",
      "x:8019841.108137251M\n",
      "x_ticks:[Timestamp('2025-01-19 00:00:00'), Timestamp('2025-01-26 00:00:00'), Timestamp('2025-01-26 00:00:00'), Timestamp('2025-02-02 00:00:00'), Timestamp('2025-02-02 00:00:00'), Timestamp('2025-02-09 00:00:00'), Timestamp('2025-02-16 00:00:00'), Timestamp('2025-02-16 00:00:00'), Timestamp('2025-02-23 00:00:00'), Timestamp('2025-03-02 00:00:00'), Timestamp('2025-03-02 00:00:00'), Timestamp('2025-03-09 00:00:00'), Timestamp('2025-03-09 00:00:00'), Timestamp('2025-03-16 00:00:00')]\n",
      "Columns: Index(['blockchain', 'volume'], dtype='object') \n",
      "Index: DatetimeIndex(['2025-01-19', '2025-01-26', '2025-01-26', '2025-02-02',\n",
      "               '2025-02-02', '2025-02-09', '2025-02-09', '2025-02-16',\n",
      "               '2025-02-16', '2025-02-23', '2025-02-23', '2025-03-02',\n",
      "               '2025-03-02', '2025-03-09', '2025-03-09', '2025-03-16',\n",
      "               '2025-03-16'],\n",
      "              dtype='datetime64[ns]', freq=None)\n"
     ]
    }
   ],
   "source": [
    "fig1, fig3, fig4, fig6, fig7 = main()"
   ]
  },
  {
   "cell_type": "code",
   "execution_count": 11,
   "metadata": {},
   "outputs": [
    {
     "data": {
      "application/vnd.plotly.v1+json": {
       "config": {
        "plotlyServerURL": "https://plot.ly"
       },
       "data": [
        {
         "hole": 0,
         "labels": [
          "Ethereum    ",
          "XRP    "
         ],
         "marker": {
          "colors": [
           "#2E91E5",
           "#E15F99",
           "#1CA71C",
           "#FB0D0D",
           "#DA16FF",
           "#222A2A",
           "#B68100",
           "#750D86",
           "#EB663B",
           "#511CFB",
           "#00A08B",
           "#FB00D1",
           "#FC0080",
           "#B2828D",
           "#6C7C32",
           "#778AAE",
           "#862A16",
           "#A777F1",
           "#620042",
           "#1616A7",
           "#DA60CA",
           "#6C4516",
           "#0D2A63",
           "#AF0038",
           "rgb(141,211,199)",
           "rgb(255,255,179)",
           "rgb(190,186,218)",
           "rgb(251,128,114)",
           "rgb(128,177,211)",
           "rgb(253,180,98)",
           "rgb(179,222,105)",
           "rgb(252,205,229)",
           "rgb(217,217,217)",
           "rgb(188,128,189)",
           "rgb(204,235,197)",
           "rgb(255,237,111)",
           "#FECB52",
           "#FF97FF",
           "#B6E880",
           "#FF6692",
           "#19D3F3",
           "#FFA15A",
           "#AB63FA",
           "#00CC96",
           "#EF553B",
           "#636EFA",
           "#1f77b4",
           "#ff7f0e",
           "#2ca02c",
           "#d62728",
           "#9467bd",
           "#8c564b",
           "#e377c2",
           "#7f7f7f",
           "#bcbd22",
           "#17becf",
           "#e41a1c",
           "#377eb8",
           "#4daf4a",
           "#984ea3",
           "#ff7f00",
           "#ffff33",
           "#a65628",
           "#f781bf",
           "#999999",
           "#d60000",
           "#8c3bff",
           "#018700",
           "#00acc6",
           "#e6a500",
           "#ff7ed1",
           "#6b004f",
           "#573b00",
           "#005659",
           "#15e18c",
           "#0000dd",
           "#a17569",
           "#bcb6ff",
           "#bf03b8",
           "#645472",
           "#790000",
           "#0774d8",
           "#729a7c",
           "#ff7752",
           "#004b00",
           "#8e7b01",
           "#f2007b",
           "#8eba00",
           "#a57bb8",
           "#5901a3",
           "#e2afaf",
           "#a03a52",
           "#a1c8c8",
           "#9e4b00",
           "#546744",
           "#bac389",
           "#5e7b87",
           "#60383b",
           "#8287ff",
           "#380000",
           "#e252ff",
           "#2f5282",
           "#7ecaff",
           "#c4668e",
           "#008069",
           "#919eb6",
           "#cc7407",
           "#7e2a8e",
           "#00bda3",
           "#2db152",
           "#4d33ff",
           "#00e400",
           "#ff00cd",
           "#c85748",
           "#e49cff",
           "#1ca1ff",
           "#6e70aa",
           "#c89a69",
           "#77563b",
           "#03dae6",
           "#c1a3c3",
           "#ff6989",
           "#ba00fd",
           "#915280",
           "#9e0174",
           "#93a14f",
           "#364424",
           "#af6dff",
           "#596d00",
           "#ff3146",
           "#828056",
           "#006d2d",
           "#8956af",
           "#5949a3",
           "#773416",
           "#85c39a",
           "#5e1123",
           "#d48580",
           "#a32818",
           "#0087b1",
           "#ca0044",
           "#ffa056",
           "#eb4d00",
           "#6b9700",
           "#528549",
           "#755900",
           "#c8c33f",
           "#91d370",
           "#4b9793",
           "#4d230c",
           "#60345b",
           "#8300cf",
           "#8a0031",
           "#9e6e31",
           "#ac8399",
           "#c63189",
           "#015438",
           "#086b83",
           "#87a8eb",
           "#6466ef",
           "#c35dba",
           "#019e70",
           "#805059",
           "#826e8c",
           "#b3bfda",
           "#b89028",
           "#ff97b1",
           "#a793e1",
           "#698cbd",
           "#4b4f01",
           "#4801cc",
           "#60006e",
           "#446966",
           "#9c5642",
           "#7bacb5",
           "#cd83bc",
           "#0054c1",
           "#7b2f4f",
           "#fb7c00",
           "#34bf00",
           "#ff9c87",
           "#e1b669",
           "#526077",
           "#5b3a7c",
           "#eda5da",
           "#ef52a3",
           "#5d7e69",
           "#c3774f",
           "#d14867",
           "#6e00eb",
           "#1f3400",
           "#c14103",
           "#6dd4c1",
           "#46709e",
           "#a101c3",
           "#0a8289",
           "#afa501",
           "#a55b6b",
           "#fd77ff",
           "#8a85ae",
           "#c67ee8",
           "#9aaa85",
           "#876bd8",
           "#01baf6",
           "#af5dd1",
           "#59502a",
           "#b5005e",
           "#7cb569",
           "#4985ff",
           "#00c182",
           "#d195aa",
           "#a34ba8",
           "#e205e2",
           "#16a300",
           "#382d00",
           "#832f33",
           "#5d95aa",
           "#590f00",
           "#7b4600",
           "#6e6e31",
           "#335726",
           "#4d60b5",
           "#a19564",
           "#623f28",
           "#44d457",
           "#70aacf",
           "#2d6b4d",
           "#72af9e",
           "#fd1500",
           "#d8b391",
           "#79893b",
           "#7cc6d8",
           "#db9036",
           "#eb605d",
           "#eb5ed4",
           "#e47ba7",
           "#a56b97",
           "#009744",
           "#ba5e21",
           "#bcac52",
           "#87d82f",
           "#873472",
           "#aea8d1",
           "#e28c62",
           "#d1b1eb",
           "#36429e",
           "#3abdc1",
           "#669c4d",
           "#9e0399",
           "#4d4d79",
           "#7b4b85",
           "#c33431",
           "#8c6677",
           "#aa002d",
           "#7e0175",
           "#01824d",
           "#724967",
           "#727790",
           "#6e0099",
           "#a0ba52",
           "#e16e31",
           "#c46970",
           "#6d5b95",
           "#a33b74",
           "#316200",
           "#87004f",
           "#335769",
           "#ba8c7c",
           "#1859ff",
           "#909101",
           "#2b8ad4",
           "#1626ff",
           "#21d3ff",
           "#a390af",
           "#8a6d4f",
           "#5d213d",
           "#db03b3",
           "#6e56ca",
           "#642821",
           "#ac7700",
           "#a3bff6",
           "#b58346",
           "#9738db",
           "#b15093",
           "#7242a3",
           "#878ed1",
           "#8970b1",
           "#6baf36",
           "#5979c8",
           "#c69eff",
           "#56831a",
           "#00d6a7",
           "#824638",
           "#11421c",
           "#59aa75",
           "#905b01",
           "#f64470",
           "#ff9703",
           "#e14231",
           "#ba91cf",
           "#34574d",
           "#f7807c",
           "#903400",
           "#b3cd00",
           "#2d9ed3",
           "#798a9e",
           "#50807c",
           "#c136d6",
           "#eb0552",
           "#b8ac7e",
           "#487031",
           "#839564",
           "#d89c89",
           "#0064a3",
           "#4b9077",
           "#8e6097",
           "#ff5238",
           "#a7423b",
           "#006e70",
           "#97833d",
           "#dbafc8",
           "#d60000",
           "#018700",
           "#b500ff",
           "#05acc6",
           "#97ff00",
           "#ffa52f",
           "#ff8ec8",
           "#79525e",
           "#00fdcf",
           "#afa5ff",
           "#93ac83",
           "#9a6900",
           "#366962",
           "#d3008c",
           "#fdf490",
           "#c86e66",
           "#9ee2ff",
           "#00c846",
           "#a877ac",
           "#b8ba01",
           "#f4bfb1",
           "#ff28fd",
           "#f2cdff",
           "#009e7c",
           "#ff6200",
           "#56642a",
           "#953f1f",
           "#90318e",
           "#ff3464",
           "#a0e491",
           "#8c9ab1",
           "#829026",
           "#ae083f",
           "#77c6ba",
           "#bc9157",
           "#e48eff",
           "#72b8ff",
           "#c6a5c1",
           "#ff9070",
           "#d3c37c",
           "#bceddb",
           "#6b8567",
           "#916e56",
           "#f9ff00",
           "#bac1df",
           "#ac567c",
           "#ffcd03",
           "#ff49b1",
           "#c15603",
           "#5d8c90",
           "#c144bc",
           "#00753f",
           "#ba6efd",
           "#00d493",
           "#00ff75",
           "#49a150",
           "#cc9790",
           "#00ebed",
           "#db7e01",
           "#f77589",
           "#b89500",
           "#c84248",
           "#00cff9",
           "#755726",
           "#85d401",
           "#ebffd4",
           "#a77b87",
           "#db72c8",
           "#cae256",
           "#8abf5d",
           "#a1216b",
           "#855b89",
           "#89bacf",
           "#ffbad6",
           "#b6cfaa",
           "#97414d",
           "#67aa00",
           "#fde1b1",
           "#ff3628",
           "#80793d",
           "#d6e8ff",
           "#a795c6",
           "#7ea59a",
           "#d182a3",
           "#54823b",
           "#e6a872",
           "#9cffff",
           "#da5480",
           "#05b3aa",
           "#ffaaf6",
           "#d1afef",
           "#da015d",
           "#ac1a13",
           "#60b385",
           "#d442fd",
           "#acaa59",
           "#fb9ca7",
           "#b3723b",
           "#f26952",
           "#aed1d4",
           "#9affc3",
           "#dbb333",
           "#eb01c3",
           "#9900c4",
           "#cfff9e",
           "#a55949",
           "#3b6d01",
           "#008579",
           "#959167",
           "#89dbb3",
           "#6d7400",
           "#aa5dca",
           "#07ef00",
           "#804f3d",
           "#d88052",
           "#ffc862",
           "#b8009e",
           "#99acdd",
           "#904f00",
           "#8c4470",
           "#4f6e52",
           "#ff8734",
           "#c68ecd",
           "#d4e29e",
           "#b1826d",
           "#9cfb75",
           "#56dd77",
           "#f90087",
           "#a1cdff",
           "#13cad1",
           "#118e54",
           "#d154a5",
           "#00dfc3",
           "#a3832f",
           "#77975b",
           "#baaa80",
           "#70a3af",
           "#d6fbff",
           "#e8013a",
           "#d84621",
           "#ff82ed",
           "#b63862",
           "#b6cd72",
           "#97626b",
           "#897490",
           "#00a316",
           "#00f4a1",
           "#bf90f2",
           "#89e4d8",
           "#a34d95",
           "#6e5d00",
           "#8cc68e",
           "#95aa2a",
           "#c672dd",
           "#b33b01",
           "#d69a36",
           "#dfacb6",
           "#009aa0",
           "#599000",
           "#97bca8",
           "#ac8ca8",
           "#dad4ff",
           "#547c72",
           "#00ba69",
           "#ffc38e",
           "#b800d4",
           "#dfcf5b",
           "#629a7b",
           "#bfedbc",
           "#c1bdfd",
           "#80d3dd",
           "#e2857e",
           "#f9eb4d",
           "#bf6d82",
           "#caff4f",
           "#ef72aa",
           "#ed67ff",
           "#9946ae",
           "#6d6942",
           "#e25660",
           "#dd662d",
           "#9cdb5d",
           "#e29ccf",
           "#b87500",
           "#c6002d",
           "#dfbcda",
           "#59b5df",
           "#ff59da",
           "#38c1a1",
           "#9e698c",
           "#acaac8",
           "#95622f",
           "#b55662",
           "#2b7e60",
           "#b1e400",
           "#eda590",
           "#95fde2",
           "#ff548e",
           "#bd6ea1",
           "#aa3b36",
           "#d8cf00",
           "#aa80cd",
           "#a08052",
           "#e100e8",
           "#c35b3d",
           "#b53a85",
           "#8c7700",
           "#dbbc95",
           "#529e93",
           "#afbc82",
           "#91b5b6",
           "#a75423",
           "#ffd4ef",
           "#79ae6b",
           "#5db54b",
           "#80fb9a",
           "#48ffef",
           "#979548",
           "#9387a7",
           "#31d400",
           "#6ee956",
           "#b6d4eb",
           "#705470",
           "#f2db8a",
           "#aad4c1",
           "#7ecdf2",
           "#89ba00",
           "#64b6ba",
           "#ffb500",
           "#c38285",
           "#caaa5e",
           "#647748",
           "#59e2ff",
           "#df4dcd",
           "#e9ff79",
           "#bc66b8",
           "#c395a5",
           "#64c674",
           "#d19570",
           "#70cf4f",
           "#aa6e66",
           "#9c60a5",
           "#00b800",
           "#e299b3",
           "#bc006b",
           "#b3e8ef",
           "#cdbfe4",
           "#77a342",
           "#856277",
           "#568e5b",
           "#9eafc4",
           "#e82fa0",
           "#247c2a",
           "#826723",
           "#bfbc4d",
           "#ddd3a5"
          ],
          "line": {
           "color": "white",
           "width": 0
          }
         },
         "showlegend": false,
         "textfont": {
          "color": "black",
          "family": "Cardo",
          "size": 14
         },
         "textinfo": "percent+label",
         "texttemplate": "%{label}<br>%{percent}",
         "type": "pie",
         "values": {
          "bdata": "MzMzfo6fn0GG61Fy0QGFQQ==",
          "dtype": "f8"
         }
        }
       ],
       "layout": {
        "annotations": [
         {
          "align": "center",
          "font": {
           "color": "black",
           "family": "Cardo",
           "size": 25
          },
          "showarrow": false,
          "text": "Total: 177M",
          "x": 0.5,
          "xref": "paper",
          "y": 0.5,
          "yref": "paper"
         }
        ],
        "autosize": true,
        "font": {
         "family": "Cardo",
         "size": 16
        },
        "height": 351,
        "legend": {
         "bgcolor": "rgba(0,0,0,0)",
         "font": {
          "color": "black",
          "family": "Cardo",
          "size": 12
         },
         "itemsizing": "constant",
         "orientation": "v",
         "x": 0.2,
         "xanchor": "left",
         "y": 0.9,
         "yanchor": "top"
        },
        "margin": {
         "b": 0,
         "l": 0,
         "r": 0,
         "t": 50
        },
        "paper_bgcolor": "rgba(0,0,0,0)",
        "plot_bgcolor": "rgba(0,0,0,0)",
        "template": {
         "data": {
          "bar": [
           {
            "error_x": {
             "color": "#2a3f5f"
            },
            "error_y": {
             "color": "#2a3f5f"
            },
            "marker": {
             "line": {
              "color": "#E5ECF6",
              "width": 0.5
             },
             "pattern": {
              "fillmode": "overlay",
              "size": 10,
              "solidity": 0.2
             }
            },
            "type": "bar"
           }
          ],
          "barpolar": [
           {
            "marker": {
             "line": {
              "color": "#E5ECF6",
              "width": 0.5
             },
             "pattern": {
              "fillmode": "overlay",
              "size": 10,
              "solidity": 0.2
             }
            },
            "type": "barpolar"
           }
          ],
          "carpet": [
           {
            "aaxis": {
             "endlinecolor": "#2a3f5f",
             "gridcolor": "white",
             "linecolor": "white",
             "minorgridcolor": "white",
             "startlinecolor": "#2a3f5f"
            },
            "baxis": {
             "endlinecolor": "#2a3f5f",
             "gridcolor": "white",
             "linecolor": "white",
             "minorgridcolor": "white",
             "startlinecolor": "#2a3f5f"
            },
            "type": "carpet"
           }
          ],
          "choropleth": [
           {
            "colorbar": {
             "outlinewidth": 0,
             "ticks": ""
            },
            "type": "choropleth"
           }
          ],
          "contour": [
           {
            "colorbar": {
             "outlinewidth": 0,
             "ticks": ""
            },
            "colorscale": [
             [
              0,
              "#0d0887"
             ],
             [
              0.1111111111111111,
              "#46039f"
             ],
             [
              0.2222222222222222,
              "#7201a8"
             ],
             [
              0.3333333333333333,
              "#9c179e"
             ],
             [
              0.4444444444444444,
              "#bd3786"
             ],
             [
              0.5555555555555556,
              "#d8576b"
             ],
             [
              0.6666666666666666,
              "#ed7953"
             ],
             [
              0.7777777777777778,
              "#fb9f3a"
             ],
             [
              0.8888888888888888,
              "#fdca26"
             ],
             [
              1,
              "#f0f921"
             ]
            ],
            "type": "contour"
           }
          ],
          "contourcarpet": [
           {
            "colorbar": {
             "outlinewidth": 0,
             "ticks": ""
            },
            "type": "contourcarpet"
           }
          ],
          "heatmap": [
           {
            "colorbar": {
             "outlinewidth": 0,
             "ticks": ""
            },
            "colorscale": [
             [
              0,
              "#0d0887"
             ],
             [
              0.1111111111111111,
              "#46039f"
             ],
             [
              0.2222222222222222,
              "#7201a8"
             ],
             [
              0.3333333333333333,
              "#9c179e"
             ],
             [
              0.4444444444444444,
              "#bd3786"
             ],
             [
              0.5555555555555556,
              "#d8576b"
             ],
             [
              0.6666666666666666,
              "#ed7953"
             ],
             [
              0.7777777777777778,
              "#fb9f3a"
             ],
             [
              0.8888888888888888,
              "#fdca26"
             ],
             [
              1,
              "#f0f921"
             ]
            ],
            "type": "heatmap"
           }
          ],
          "histogram": [
           {
            "marker": {
             "pattern": {
              "fillmode": "overlay",
              "size": 10,
              "solidity": 0.2
             }
            },
            "type": "histogram"
           }
          ],
          "histogram2d": [
           {
            "colorbar": {
             "outlinewidth": 0,
             "ticks": ""
            },
            "colorscale": [
             [
              0,
              "#0d0887"
             ],
             [
              0.1111111111111111,
              "#46039f"
             ],
             [
              0.2222222222222222,
              "#7201a8"
             ],
             [
              0.3333333333333333,
              "#9c179e"
             ],
             [
              0.4444444444444444,
              "#bd3786"
             ],
             [
              0.5555555555555556,
              "#d8576b"
             ],
             [
              0.6666666666666666,
              "#ed7953"
             ],
             [
              0.7777777777777778,
              "#fb9f3a"
             ],
             [
              0.8888888888888888,
              "#fdca26"
             ],
             [
              1,
              "#f0f921"
             ]
            ],
            "type": "histogram2d"
           }
          ],
          "histogram2dcontour": [
           {
            "colorbar": {
             "outlinewidth": 0,
             "ticks": ""
            },
            "colorscale": [
             [
              0,
              "#0d0887"
             ],
             [
              0.1111111111111111,
              "#46039f"
             ],
             [
              0.2222222222222222,
              "#7201a8"
             ],
             [
              0.3333333333333333,
              "#9c179e"
             ],
             [
              0.4444444444444444,
              "#bd3786"
             ],
             [
              0.5555555555555556,
              "#d8576b"
             ],
             [
              0.6666666666666666,
              "#ed7953"
             ],
             [
              0.7777777777777778,
              "#fb9f3a"
             ],
             [
              0.8888888888888888,
              "#fdca26"
             ],
             [
              1,
              "#f0f921"
             ]
            ],
            "type": "histogram2dcontour"
           }
          ],
          "mesh3d": [
           {
            "colorbar": {
             "outlinewidth": 0,
             "ticks": ""
            },
            "type": "mesh3d"
           }
          ],
          "parcoords": [
           {
            "line": {
             "colorbar": {
              "outlinewidth": 0,
              "ticks": ""
             }
            },
            "type": "parcoords"
           }
          ],
          "pie": [
           {
            "automargin": true,
            "type": "pie"
           }
          ],
          "scatter": [
           {
            "fillpattern": {
             "fillmode": "overlay",
             "size": 10,
             "solidity": 0.2
            },
            "type": "scatter"
           }
          ],
          "scatter3d": [
           {
            "line": {
             "colorbar": {
              "outlinewidth": 0,
              "ticks": ""
             }
            },
            "marker": {
             "colorbar": {
              "outlinewidth": 0,
              "ticks": ""
             }
            },
            "type": "scatter3d"
           }
          ],
          "scattercarpet": [
           {
            "marker": {
             "colorbar": {
              "outlinewidth": 0,
              "ticks": ""
             }
            },
            "type": "scattercarpet"
           }
          ],
          "scattergeo": [
           {
            "marker": {
             "colorbar": {
              "outlinewidth": 0,
              "ticks": ""
             }
            },
            "type": "scattergeo"
           }
          ],
          "scattergl": [
           {
            "marker": {
             "colorbar": {
              "outlinewidth": 0,
              "ticks": ""
             }
            },
            "type": "scattergl"
           }
          ],
          "scattermap": [
           {
            "marker": {
             "colorbar": {
              "outlinewidth": 0,
              "ticks": ""
             }
            },
            "type": "scattermap"
           }
          ],
          "scattermapbox": [
           {
            "marker": {
             "colorbar": {
              "outlinewidth": 0,
              "ticks": ""
             }
            },
            "type": "scattermapbox"
           }
          ],
          "scatterpolar": [
           {
            "marker": {
             "colorbar": {
              "outlinewidth": 0,
              "ticks": ""
             }
            },
            "type": "scatterpolar"
           }
          ],
          "scatterpolargl": [
           {
            "marker": {
             "colorbar": {
              "outlinewidth": 0,
              "ticks": ""
             }
            },
            "type": "scatterpolargl"
           }
          ],
          "scatterternary": [
           {
            "marker": {
             "colorbar": {
              "outlinewidth": 0,
              "ticks": ""
             }
            },
            "type": "scatterternary"
           }
          ],
          "surface": [
           {
            "colorbar": {
             "outlinewidth": 0,
             "ticks": ""
            },
            "colorscale": [
             [
              0,
              "#0d0887"
             ],
             [
              0.1111111111111111,
              "#46039f"
             ],
             [
              0.2222222222222222,
              "#7201a8"
             ],
             [
              0.3333333333333333,
              "#9c179e"
             ],
             [
              0.4444444444444444,
              "#bd3786"
             ],
             [
              0.5555555555555556,
              "#d8576b"
             ],
             [
              0.6666666666666666,
              "#ed7953"
             ],
             [
              0.7777777777777778,
              "#fb9f3a"
             ],
             [
              0.8888888888888888,
              "#fdca26"
             ],
             [
              1,
              "#f0f921"
             ]
            ],
            "type": "surface"
           }
          ],
          "table": [
           {
            "cells": {
             "fill": {
              "color": "#EBF0F8"
             },
             "line": {
              "color": "white"
             }
            },
            "header": {
             "fill": {
              "color": "#C8D4E3"
             },
             "line": {
              "color": "white"
             }
            },
            "type": "table"
           }
          ]
         },
         "layout": {
          "annotationdefaults": {
           "arrowcolor": "#2a3f5f",
           "arrowhead": 0,
           "arrowwidth": 1
          },
          "autotypenumbers": "strict",
          "coloraxis": {
           "colorbar": {
            "outlinewidth": 0,
            "ticks": ""
           }
          },
          "colorscale": {
           "diverging": [
            [
             0,
             "#8e0152"
            ],
            [
             0.1,
             "#c51b7d"
            ],
            [
             0.2,
             "#de77ae"
            ],
            [
             0.3,
             "#f1b6da"
            ],
            [
             0.4,
             "#fde0ef"
            ],
            [
             0.5,
             "#f7f7f7"
            ],
            [
             0.6,
             "#e6f5d0"
            ],
            [
             0.7,
             "#b8e186"
            ],
            [
             0.8,
             "#7fbc41"
            ],
            [
             0.9,
             "#4d9221"
            ],
            [
             1,
             "#276419"
            ]
           ],
           "sequential": [
            [
             0,
             "#0d0887"
            ],
            [
             0.1111111111111111,
             "#46039f"
            ],
            [
             0.2222222222222222,
             "#7201a8"
            ],
            [
             0.3333333333333333,
             "#9c179e"
            ],
            [
             0.4444444444444444,
             "#bd3786"
            ],
            [
             0.5555555555555556,
             "#d8576b"
            ],
            [
             0.6666666666666666,
             "#ed7953"
            ],
            [
             0.7777777777777778,
             "#fb9f3a"
            ],
            [
             0.8888888888888888,
             "#fdca26"
            ],
            [
             1,
             "#f0f921"
            ]
           ],
           "sequentialminus": [
            [
             0,
             "#0d0887"
            ],
            [
             0.1111111111111111,
             "#46039f"
            ],
            [
             0.2222222222222222,
             "#7201a8"
            ],
            [
             0.3333333333333333,
             "#9c179e"
            ],
            [
             0.4444444444444444,
             "#bd3786"
            ],
            [
             0.5555555555555556,
             "#d8576b"
            ],
            [
             0.6666666666666666,
             "#ed7953"
            ],
            [
             0.7777777777777778,
             "#fb9f3a"
            ],
            [
             0.8888888888888888,
             "#fdca26"
            ],
            [
             1,
             "#f0f921"
            ]
           ]
          },
          "colorway": [
           "#636efa",
           "#EF553B",
           "#00cc96",
           "#ab63fa",
           "#FFA15A",
           "#19d3f3",
           "#FF6692",
           "#B6E880",
           "#FF97FF",
           "#FECB52"
          ],
          "font": {
           "color": "#2a3f5f",
           "family": "Cardo"
          },
          "geo": {
           "bgcolor": "white",
           "lakecolor": "white",
           "landcolor": "#E5ECF6",
           "showlakes": true,
           "showland": true,
           "subunitcolor": "white"
          },
          "hoverlabel": {
           "align": "left"
          },
          "hovermode": "closest",
          "mapbox": {
           "style": "light"
          },
          "paper_bgcolor": "white",
          "plot_bgcolor": "#E5ECF6",
          "polar": {
           "angularaxis": {
            "gridcolor": "white",
            "linecolor": "white",
            "ticks": ""
           },
           "bgcolor": "#E5ECF6",
           "radialaxis": {
            "gridcolor": "white",
            "linecolor": "white",
            "ticks": ""
           }
          },
          "scene": {
           "xaxis": {
            "backgroundcolor": "#E5ECF6",
            "gridcolor": "white",
            "gridwidth": 2,
            "linecolor": "white",
            "showbackground": true,
            "ticks": "",
            "zerolinecolor": "white"
           },
           "yaxis": {
            "backgroundcolor": "#E5ECF6",
            "gridcolor": "white",
            "gridwidth": 2,
            "linecolor": "white",
            "showbackground": true,
            "ticks": "",
            "zerolinecolor": "white"
           },
           "zaxis": {
            "backgroundcolor": "#E5ECF6",
            "gridcolor": "white",
            "gridwidth": 2,
            "linecolor": "white",
            "showbackground": true,
            "ticks": "",
            "zerolinecolor": "white"
           }
          },
          "shapedefaults": {
           "line": {
            "color": "#2a3f5f"
           }
          },
          "ternary": {
           "aaxis": {
            "gridcolor": "white",
            "linecolor": "white",
            "ticks": ""
           },
           "baxis": {
            "gridcolor": "white",
            "linecolor": "white",
            "ticks": ""
           },
           "bgcolor": "#E5ECF6",
           "caxis": {
            "gridcolor": "white",
            "linecolor": "white",
            "ticks": ""
           }
          },
          "title": {
           "x": 0.05
          },
          "xaxis": {
           "automargin": true,
           "gridcolor": "white",
           "linecolor": "white",
           "ticks": "",
           "title": {
            "standoff": 15
           },
           "zerolinecolor": "white",
           "zerolinewidth": 2
          },
          "yaxis": {
           "automargin": true,
           "gridcolor": "white",
           "linecolor": "white",
           "ticks": "",
           "title": {
            "standoff": 15
           },
           "zerolinecolor": "white",
           "zerolinewidth": 2
          }
         }
        },
        "title": {
         "font": {
          "color": "black",
          "family": "Cardo",
          "size": 27
         },
         "text": "<span style='color: black; font-weight: normal;'>RLUSD Supply by Chain</span><br><sub style='font-size: 18px; color: black; font-weight: normal;'></sub>",
         "x": 0.1,
         "xanchor": "left",
         "y": 0.92,
         "yanchor": "top"
        },
        "width": 730
       }
      }
     },
     "metadata": {},
     "output_type": "display_data"
    }
   ],
   "source": [
    "fig1.return_fig()"
   ]
  },
  {
   "cell_type": "code",
   "execution_count": 13,
   "metadata": {},
   "outputs": [
    {
     "data": {
      "application/vnd.plotly.v1+json": {
       "config": {
        "plotlyServerURL": "https://plot.ly"
       },
       "data": [
        {
         "hole": 0,
         "labels": [
          "Out-Liquidity    ",
          "In-Liquidity    "
         ],
         "marker": {
          "colors": [
           "#2E91E5",
           "#E15F99",
           "#1CA71C",
           "#FB0D0D",
           "#DA16FF",
           "#222A2A",
           "#B68100",
           "#750D86",
           "#EB663B",
           "#511CFB",
           "#00A08B",
           "#FB00D1",
           "#FC0080",
           "#B2828D",
           "#6C7C32",
           "#778AAE",
           "#862A16",
           "#A777F1",
           "#620042",
           "#1616A7",
           "#DA60CA",
           "#6C4516",
           "#0D2A63",
           "#AF0038",
           "rgb(141,211,199)",
           "rgb(255,255,179)",
           "rgb(190,186,218)",
           "rgb(251,128,114)",
           "rgb(128,177,211)",
           "rgb(253,180,98)",
           "rgb(179,222,105)",
           "rgb(252,205,229)",
           "rgb(217,217,217)",
           "rgb(188,128,189)",
           "rgb(204,235,197)",
           "rgb(255,237,111)",
           "#FECB52",
           "#FF97FF",
           "#B6E880",
           "#FF6692",
           "#19D3F3",
           "#FFA15A",
           "#AB63FA",
           "#00CC96",
           "#EF553B",
           "#636EFA",
           "#1f77b4",
           "#ff7f0e",
           "#2ca02c",
           "#d62728",
           "#9467bd",
           "#8c564b",
           "#e377c2",
           "#7f7f7f",
           "#bcbd22",
           "#17becf",
           "#e41a1c",
           "#377eb8",
           "#4daf4a",
           "#984ea3",
           "#ff7f00",
           "#ffff33",
           "#a65628",
           "#f781bf",
           "#999999",
           "#d60000",
           "#8c3bff",
           "#018700",
           "#00acc6",
           "#e6a500",
           "#ff7ed1",
           "#6b004f",
           "#573b00",
           "#005659",
           "#15e18c",
           "#0000dd",
           "#a17569",
           "#bcb6ff",
           "#bf03b8",
           "#645472",
           "#790000",
           "#0774d8",
           "#729a7c",
           "#ff7752",
           "#004b00",
           "#8e7b01",
           "#f2007b",
           "#8eba00",
           "#a57bb8",
           "#5901a3",
           "#e2afaf",
           "#a03a52",
           "#a1c8c8",
           "#9e4b00",
           "#546744",
           "#bac389",
           "#5e7b87",
           "#60383b",
           "#8287ff",
           "#380000",
           "#e252ff",
           "#2f5282",
           "#7ecaff",
           "#c4668e",
           "#008069",
           "#919eb6",
           "#cc7407",
           "#7e2a8e",
           "#00bda3",
           "#2db152",
           "#4d33ff",
           "#00e400",
           "#ff00cd",
           "#c85748",
           "#e49cff",
           "#1ca1ff",
           "#6e70aa",
           "#c89a69",
           "#77563b",
           "#03dae6",
           "#c1a3c3",
           "#ff6989",
           "#ba00fd",
           "#915280",
           "#9e0174",
           "#93a14f",
           "#364424",
           "#af6dff",
           "#596d00",
           "#ff3146",
           "#828056",
           "#006d2d",
           "#8956af",
           "#5949a3",
           "#773416",
           "#85c39a",
           "#5e1123",
           "#d48580",
           "#a32818",
           "#0087b1",
           "#ca0044",
           "#ffa056",
           "#eb4d00",
           "#6b9700",
           "#528549",
           "#755900",
           "#c8c33f",
           "#91d370",
           "#4b9793",
           "#4d230c",
           "#60345b",
           "#8300cf",
           "#8a0031",
           "#9e6e31",
           "#ac8399",
           "#c63189",
           "#015438",
           "#086b83",
           "#87a8eb",
           "#6466ef",
           "#c35dba",
           "#019e70",
           "#805059",
           "#826e8c",
           "#b3bfda",
           "#b89028",
           "#ff97b1",
           "#a793e1",
           "#698cbd",
           "#4b4f01",
           "#4801cc",
           "#60006e",
           "#446966",
           "#9c5642",
           "#7bacb5",
           "#cd83bc",
           "#0054c1",
           "#7b2f4f",
           "#fb7c00",
           "#34bf00",
           "#ff9c87",
           "#e1b669",
           "#526077",
           "#5b3a7c",
           "#eda5da",
           "#ef52a3",
           "#5d7e69",
           "#c3774f",
           "#d14867",
           "#6e00eb",
           "#1f3400",
           "#c14103",
           "#6dd4c1",
           "#46709e",
           "#a101c3",
           "#0a8289",
           "#afa501",
           "#a55b6b",
           "#fd77ff",
           "#8a85ae",
           "#c67ee8",
           "#9aaa85",
           "#876bd8",
           "#01baf6",
           "#af5dd1",
           "#59502a",
           "#b5005e",
           "#7cb569",
           "#4985ff",
           "#00c182",
           "#d195aa",
           "#a34ba8",
           "#e205e2",
           "#16a300",
           "#382d00",
           "#832f33",
           "#5d95aa",
           "#590f00",
           "#7b4600",
           "#6e6e31",
           "#335726",
           "#4d60b5",
           "#a19564",
           "#623f28",
           "#44d457",
           "#70aacf",
           "#2d6b4d",
           "#72af9e",
           "#fd1500",
           "#d8b391",
           "#79893b",
           "#7cc6d8",
           "#db9036",
           "#eb605d",
           "#eb5ed4",
           "#e47ba7",
           "#a56b97",
           "#009744",
           "#ba5e21",
           "#bcac52",
           "#87d82f",
           "#873472",
           "#aea8d1",
           "#e28c62",
           "#d1b1eb",
           "#36429e",
           "#3abdc1",
           "#669c4d",
           "#9e0399",
           "#4d4d79",
           "#7b4b85",
           "#c33431",
           "#8c6677",
           "#aa002d",
           "#7e0175",
           "#01824d",
           "#724967",
           "#727790",
           "#6e0099",
           "#a0ba52",
           "#e16e31",
           "#c46970",
           "#6d5b95",
           "#a33b74",
           "#316200",
           "#87004f",
           "#335769",
           "#ba8c7c",
           "#1859ff",
           "#909101",
           "#2b8ad4",
           "#1626ff",
           "#21d3ff",
           "#a390af",
           "#8a6d4f",
           "#5d213d",
           "#db03b3",
           "#6e56ca",
           "#642821",
           "#ac7700",
           "#a3bff6",
           "#b58346",
           "#9738db",
           "#b15093",
           "#7242a3",
           "#878ed1",
           "#8970b1",
           "#6baf36",
           "#5979c8",
           "#c69eff",
           "#56831a",
           "#00d6a7",
           "#824638",
           "#11421c",
           "#59aa75",
           "#905b01",
           "#f64470",
           "#ff9703",
           "#e14231",
           "#ba91cf",
           "#34574d",
           "#f7807c",
           "#903400",
           "#b3cd00",
           "#2d9ed3",
           "#798a9e",
           "#50807c",
           "#c136d6",
           "#eb0552",
           "#b8ac7e",
           "#487031",
           "#839564",
           "#d89c89",
           "#0064a3",
           "#4b9077",
           "#8e6097",
           "#ff5238",
           "#a7423b",
           "#006e70",
           "#97833d",
           "#dbafc8",
           "#d60000",
           "#018700",
           "#b500ff",
           "#05acc6",
           "#97ff00",
           "#ffa52f",
           "#ff8ec8",
           "#79525e",
           "#00fdcf",
           "#afa5ff",
           "#93ac83",
           "#9a6900",
           "#366962",
           "#d3008c",
           "#fdf490",
           "#c86e66",
           "#9ee2ff",
           "#00c846",
           "#a877ac",
           "#b8ba01",
           "#f4bfb1",
           "#ff28fd",
           "#f2cdff",
           "#009e7c",
           "#ff6200",
           "#56642a",
           "#953f1f",
           "#90318e",
           "#ff3464",
           "#a0e491",
           "#8c9ab1",
           "#829026",
           "#ae083f",
           "#77c6ba",
           "#bc9157",
           "#e48eff",
           "#72b8ff",
           "#c6a5c1",
           "#ff9070",
           "#d3c37c",
           "#bceddb",
           "#6b8567",
           "#916e56",
           "#f9ff00",
           "#bac1df",
           "#ac567c",
           "#ffcd03",
           "#ff49b1",
           "#c15603",
           "#5d8c90",
           "#c144bc",
           "#00753f",
           "#ba6efd",
           "#00d493",
           "#00ff75",
           "#49a150",
           "#cc9790",
           "#00ebed",
           "#db7e01",
           "#f77589",
           "#b89500",
           "#c84248",
           "#00cff9",
           "#755726",
           "#85d401",
           "#ebffd4",
           "#a77b87",
           "#db72c8",
           "#cae256",
           "#8abf5d",
           "#a1216b",
           "#855b89",
           "#89bacf",
           "#ffbad6",
           "#b6cfaa",
           "#97414d",
           "#67aa00",
           "#fde1b1",
           "#ff3628",
           "#80793d",
           "#d6e8ff",
           "#a795c6",
           "#7ea59a",
           "#d182a3",
           "#54823b",
           "#e6a872",
           "#9cffff",
           "#da5480",
           "#05b3aa",
           "#ffaaf6",
           "#d1afef",
           "#da015d",
           "#ac1a13",
           "#60b385",
           "#d442fd",
           "#acaa59",
           "#fb9ca7",
           "#b3723b",
           "#f26952",
           "#aed1d4",
           "#9affc3",
           "#dbb333",
           "#eb01c3",
           "#9900c4",
           "#cfff9e",
           "#a55949",
           "#3b6d01",
           "#008579",
           "#959167",
           "#89dbb3",
           "#6d7400",
           "#aa5dca",
           "#07ef00",
           "#804f3d",
           "#d88052",
           "#ffc862",
           "#b8009e",
           "#99acdd",
           "#904f00",
           "#8c4470",
           "#4f6e52",
           "#ff8734",
           "#c68ecd",
           "#d4e29e",
           "#b1826d",
           "#9cfb75",
           "#56dd77",
           "#f90087",
           "#a1cdff",
           "#13cad1",
           "#118e54",
           "#d154a5",
           "#00dfc3",
           "#a3832f",
           "#77975b",
           "#baaa80",
           "#70a3af",
           "#d6fbff",
           "#e8013a",
           "#d84621",
           "#ff82ed",
           "#b63862",
           "#b6cd72",
           "#97626b",
           "#897490",
           "#00a316",
           "#00f4a1",
           "#bf90f2",
           "#89e4d8",
           "#a34d95",
           "#6e5d00",
           "#8cc68e",
           "#95aa2a",
           "#c672dd",
           "#b33b01",
           "#d69a36",
           "#dfacb6",
           "#009aa0",
           "#599000",
           "#97bca8",
           "#ac8ca8",
           "#dad4ff",
           "#547c72",
           "#00ba69",
           "#ffc38e",
           "#b800d4",
           "#dfcf5b",
           "#629a7b",
           "#bfedbc",
           "#c1bdfd",
           "#80d3dd",
           "#e2857e",
           "#f9eb4d",
           "#bf6d82",
           "#caff4f",
           "#ef72aa",
           "#ed67ff",
           "#9946ae",
           "#6d6942",
           "#e25660",
           "#dd662d",
           "#9cdb5d",
           "#e29ccf",
           "#b87500",
           "#c6002d",
           "#dfbcda",
           "#59b5df",
           "#ff59da",
           "#38c1a1",
           "#9e698c",
           "#acaac8",
           "#95622f",
           "#b55662",
           "#2b7e60",
           "#b1e400",
           "#eda590",
           "#95fde2",
           "#ff548e",
           "#bd6ea1",
           "#aa3b36",
           "#d8cf00",
           "#aa80cd",
           "#a08052",
           "#e100e8",
           "#c35b3d",
           "#b53a85",
           "#8c7700",
           "#dbbc95",
           "#529e93",
           "#afbc82",
           "#91b5b6",
           "#a75423",
           "#ffd4ef",
           "#79ae6b",
           "#5db54b",
           "#80fb9a",
           "#48ffef",
           "#979548",
           "#9387a7",
           "#31d400",
           "#6ee956",
           "#b6d4eb",
           "#705470",
           "#f2db8a",
           "#aad4c1",
           "#7ecdf2",
           "#89ba00",
           "#64b6ba",
           "#ffb500",
           "#c38285",
           "#caaa5e",
           "#647748",
           "#59e2ff",
           "#df4dcd",
           "#e9ff79",
           "#bc66b8",
           "#c395a5",
           "#64c674",
           "#d19570",
           "#70cf4f",
           "#aa6e66",
           "#9c60a5",
           "#00b800",
           "#e299b3",
           "#bc006b",
           "#b3e8ef",
           "#cdbfe4",
           "#77a342",
           "#856277",
           "#568e5b",
           "#9eafc4",
           "#e82fa0",
           "#247c2a",
           "#826723",
           "#bfbc4d",
           "#ddd3a5"
          ],
          "line": {
           "color": "white",
           "width": 0
          }
         },
         "showlegend": false,
         "textfont": {
          "color": "black",
          "family": "Cardo",
          "size": 14
         },
         "textinfo": "percent+label",
         "texttemplate": "%{label}<br>%{percent}",
         "type": "pie",
         "values": {
          "bdata": "e5QUDiEeokEBAMxs1JB3QQ==",
          "dtype": "f8"
         }
        }
       ],
       "layout": {
        "annotations": [
         {
          "align": "center",
          "font": {
           "color": "black",
           "family": "Cardo",
           "size": 25
          },
          "showarrow": false,
          "text": "Total: 177M",
          "x": 0.5,
          "xref": "paper",
          "y": 0.5,
          "yref": "paper"
         }
        ],
        "autosize": true,
        "font": {
         "family": "Cardo",
         "size": 16
        },
        "height": 351,
        "legend": {
         "bgcolor": "rgba(0,0,0,0)",
         "font": {
          "color": "black",
          "family": "Cardo",
          "size": 12
         },
         "itemsizing": "constant",
         "orientation": "v",
         "x": 0.2,
         "xanchor": "left",
         "y": 0.9,
         "yanchor": "top"
        },
        "margin": {
         "b": 0,
         "l": 0,
         "r": 0,
         "t": 100
        },
        "paper_bgcolor": "rgba(0,0,0,0)",
        "plot_bgcolor": "rgba(0,0,0,0)",
        "template": {
         "data": {
          "bar": [
           {
            "error_x": {
             "color": "#2a3f5f"
            },
            "error_y": {
             "color": "#2a3f5f"
            },
            "marker": {
             "line": {
              "color": "#E5ECF6",
              "width": 0.5
             },
             "pattern": {
              "fillmode": "overlay",
              "size": 10,
              "solidity": 0.2
             }
            },
            "type": "bar"
           }
          ],
          "barpolar": [
           {
            "marker": {
             "line": {
              "color": "#E5ECF6",
              "width": 0.5
             },
             "pattern": {
              "fillmode": "overlay",
              "size": 10,
              "solidity": 0.2
             }
            },
            "type": "barpolar"
           }
          ],
          "carpet": [
           {
            "aaxis": {
             "endlinecolor": "#2a3f5f",
             "gridcolor": "white",
             "linecolor": "white",
             "minorgridcolor": "white",
             "startlinecolor": "#2a3f5f"
            },
            "baxis": {
             "endlinecolor": "#2a3f5f",
             "gridcolor": "white",
             "linecolor": "white",
             "minorgridcolor": "white",
             "startlinecolor": "#2a3f5f"
            },
            "type": "carpet"
           }
          ],
          "choropleth": [
           {
            "colorbar": {
             "outlinewidth": 0,
             "ticks": ""
            },
            "type": "choropleth"
           }
          ],
          "contour": [
           {
            "colorbar": {
             "outlinewidth": 0,
             "ticks": ""
            },
            "colorscale": [
             [
              0,
              "#0d0887"
             ],
             [
              0.1111111111111111,
              "#46039f"
             ],
             [
              0.2222222222222222,
              "#7201a8"
             ],
             [
              0.3333333333333333,
              "#9c179e"
             ],
             [
              0.4444444444444444,
              "#bd3786"
             ],
             [
              0.5555555555555556,
              "#d8576b"
             ],
             [
              0.6666666666666666,
              "#ed7953"
             ],
             [
              0.7777777777777778,
              "#fb9f3a"
             ],
             [
              0.8888888888888888,
              "#fdca26"
             ],
             [
              1,
              "#f0f921"
             ]
            ],
            "type": "contour"
           }
          ],
          "contourcarpet": [
           {
            "colorbar": {
             "outlinewidth": 0,
             "ticks": ""
            },
            "type": "contourcarpet"
           }
          ],
          "heatmap": [
           {
            "colorbar": {
             "outlinewidth": 0,
             "ticks": ""
            },
            "colorscale": [
             [
              0,
              "#0d0887"
             ],
             [
              0.1111111111111111,
              "#46039f"
             ],
             [
              0.2222222222222222,
              "#7201a8"
             ],
             [
              0.3333333333333333,
              "#9c179e"
             ],
             [
              0.4444444444444444,
              "#bd3786"
             ],
             [
              0.5555555555555556,
              "#d8576b"
             ],
             [
              0.6666666666666666,
              "#ed7953"
             ],
             [
              0.7777777777777778,
              "#fb9f3a"
             ],
             [
              0.8888888888888888,
              "#fdca26"
             ],
             [
              1,
              "#f0f921"
             ]
            ],
            "type": "heatmap"
           }
          ],
          "histogram": [
           {
            "marker": {
             "pattern": {
              "fillmode": "overlay",
              "size": 10,
              "solidity": 0.2
             }
            },
            "type": "histogram"
           }
          ],
          "histogram2d": [
           {
            "colorbar": {
             "outlinewidth": 0,
             "ticks": ""
            },
            "colorscale": [
             [
              0,
              "#0d0887"
             ],
             [
              0.1111111111111111,
              "#46039f"
             ],
             [
              0.2222222222222222,
              "#7201a8"
             ],
             [
              0.3333333333333333,
              "#9c179e"
             ],
             [
              0.4444444444444444,
              "#bd3786"
             ],
             [
              0.5555555555555556,
              "#d8576b"
             ],
             [
              0.6666666666666666,
              "#ed7953"
             ],
             [
              0.7777777777777778,
              "#fb9f3a"
             ],
             [
              0.8888888888888888,
              "#fdca26"
             ],
             [
              1,
              "#f0f921"
             ]
            ],
            "type": "histogram2d"
           }
          ],
          "histogram2dcontour": [
           {
            "colorbar": {
             "outlinewidth": 0,
             "ticks": ""
            },
            "colorscale": [
             [
              0,
              "#0d0887"
             ],
             [
              0.1111111111111111,
              "#46039f"
             ],
             [
              0.2222222222222222,
              "#7201a8"
             ],
             [
              0.3333333333333333,
              "#9c179e"
             ],
             [
              0.4444444444444444,
              "#bd3786"
             ],
             [
              0.5555555555555556,
              "#d8576b"
             ],
             [
              0.6666666666666666,
              "#ed7953"
             ],
             [
              0.7777777777777778,
              "#fb9f3a"
             ],
             [
              0.8888888888888888,
              "#fdca26"
             ],
             [
              1,
              "#f0f921"
             ]
            ],
            "type": "histogram2dcontour"
           }
          ],
          "mesh3d": [
           {
            "colorbar": {
             "outlinewidth": 0,
             "ticks": ""
            },
            "type": "mesh3d"
           }
          ],
          "parcoords": [
           {
            "line": {
             "colorbar": {
              "outlinewidth": 0,
              "ticks": ""
             }
            },
            "type": "parcoords"
           }
          ],
          "pie": [
           {
            "automargin": true,
            "type": "pie"
           }
          ],
          "scatter": [
           {
            "fillpattern": {
             "fillmode": "overlay",
             "size": 10,
             "solidity": 0.2
            },
            "type": "scatter"
           }
          ],
          "scatter3d": [
           {
            "line": {
             "colorbar": {
              "outlinewidth": 0,
              "ticks": ""
             }
            },
            "marker": {
             "colorbar": {
              "outlinewidth": 0,
              "ticks": ""
             }
            },
            "type": "scatter3d"
           }
          ],
          "scattercarpet": [
           {
            "marker": {
             "colorbar": {
              "outlinewidth": 0,
              "ticks": ""
             }
            },
            "type": "scattercarpet"
           }
          ],
          "scattergeo": [
           {
            "marker": {
             "colorbar": {
              "outlinewidth": 0,
              "ticks": ""
             }
            },
            "type": "scattergeo"
           }
          ],
          "scattergl": [
           {
            "marker": {
             "colorbar": {
              "outlinewidth": 0,
              "ticks": ""
             }
            },
            "type": "scattergl"
           }
          ],
          "scattermap": [
           {
            "marker": {
             "colorbar": {
              "outlinewidth": 0,
              "ticks": ""
             }
            },
            "type": "scattermap"
           }
          ],
          "scattermapbox": [
           {
            "marker": {
             "colorbar": {
              "outlinewidth": 0,
              "ticks": ""
             }
            },
            "type": "scattermapbox"
           }
          ],
          "scatterpolar": [
           {
            "marker": {
             "colorbar": {
              "outlinewidth": 0,
              "ticks": ""
             }
            },
            "type": "scatterpolar"
           }
          ],
          "scatterpolargl": [
           {
            "marker": {
             "colorbar": {
              "outlinewidth": 0,
              "ticks": ""
             }
            },
            "type": "scatterpolargl"
           }
          ],
          "scatterternary": [
           {
            "marker": {
             "colorbar": {
              "outlinewidth": 0,
              "ticks": ""
             }
            },
            "type": "scatterternary"
           }
          ],
          "surface": [
           {
            "colorbar": {
             "outlinewidth": 0,
             "ticks": ""
            },
            "colorscale": [
             [
              0,
              "#0d0887"
             ],
             [
              0.1111111111111111,
              "#46039f"
             ],
             [
              0.2222222222222222,
              "#7201a8"
             ],
             [
              0.3333333333333333,
              "#9c179e"
             ],
             [
              0.4444444444444444,
              "#bd3786"
             ],
             [
              0.5555555555555556,
              "#d8576b"
             ],
             [
              0.6666666666666666,
              "#ed7953"
             ],
             [
              0.7777777777777778,
              "#fb9f3a"
             ],
             [
              0.8888888888888888,
              "#fdca26"
             ],
             [
              1,
              "#f0f921"
             ]
            ],
            "type": "surface"
           }
          ],
          "table": [
           {
            "cells": {
             "fill": {
              "color": "#EBF0F8"
             },
             "line": {
              "color": "white"
             }
            },
            "header": {
             "fill": {
              "color": "#C8D4E3"
             },
             "line": {
              "color": "white"
             }
            },
            "type": "table"
           }
          ]
         },
         "layout": {
          "annotationdefaults": {
           "arrowcolor": "#2a3f5f",
           "arrowhead": 0,
           "arrowwidth": 1
          },
          "autotypenumbers": "strict",
          "coloraxis": {
           "colorbar": {
            "outlinewidth": 0,
            "ticks": ""
           }
          },
          "colorscale": {
           "diverging": [
            [
             0,
             "#8e0152"
            ],
            [
             0.1,
             "#c51b7d"
            ],
            [
             0.2,
             "#de77ae"
            ],
            [
             0.3,
             "#f1b6da"
            ],
            [
             0.4,
             "#fde0ef"
            ],
            [
             0.5,
             "#f7f7f7"
            ],
            [
             0.6,
             "#e6f5d0"
            ],
            [
             0.7,
             "#b8e186"
            ],
            [
             0.8,
             "#7fbc41"
            ],
            [
             0.9,
             "#4d9221"
            ],
            [
             1,
             "#276419"
            ]
           ],
           "sequential": [
            [
             0,
             "#0d0887"
            ],
            [
             0.1111111111111111,
             "#46039f"
            ],
            [
             0.2222222222222222,
             "#7201a8"
            ],
            [
             0.3333333333333333,
             "#9c179e"
            ],
            [
             0.4444444444444444,
             "#bd3786"
            ],
            [
             0.5555555555555556,
             "#d8576b"
            ],
            [
             0.6666666666666666,
             "#ed7953"
            ],
            [
             0.7777777777777778,
             "#fb9f3a"
            ],
            [
             0.8888888888888888,
             "#fdca26"
            ],
            [
             1,
             "#f0f921"
            ]
           ],
           "sequentialminus": [
            [
             0,
             "#0d0887"
            ],
            [
             0.1111111111111111,
             "#46039f"
            ],
            [
             0.2222222222222222,
             "#7201a8"
            ],
            [
             0.3333333333333333,
             "#9c179e"
            ],
            [
             0.4444444444444444,
             "#bd3786"
            ],
            [
             0.5555555555555556,
             "#d8576b"
            ],
            [
             0.6666666666666666,
             "#ed7953"
            ],
            [
             0.7777777777777778,
             "#fb9f3a"
            ],
            [
             0.8888888888888888,
             "#fdca26"
            ],
            [
             1,
             "#f0f921"
            ]
           ]
          },
          "colorway": [
           "#636efa",
           "#EF553B",
           "#00cc96",
           "#ab63fa",
           "#FFA15A",
           "#19d3f3",
           "#FF6692",
           "#B6E880",
           "#FF97FF",
           "#FECB52"
          ],
          "font": {
           "color": "#2a3f5f",
           "family": "Cardo"
          },
          "geo": {
           "bgcolor": "white",
           "lakecolor": "white",
           "landcolor": "#E5ECF6",
           "showlakes": true,
           "showland": true,
           "subunitcolor": "white"
          },
          "hoverlabel": {
           "align": "left"
          },
          "hovermode": "closest",
          "mapbox": {
           "style": "light"
          },
          "paper_bgcolor": "white",
          "plot_bgcolor": "#E5ECF6",
          "polar": {
           "angularaxis": {
            "gridcolor": "white",
            "linecolor": "white",
            "ticks": ""
           },
           "bgcolor": "#E5ECF6",
           "radialaxis": {
            "gridcolor": "white",
            "linecolor": "white",
            "ticks": ""
           }
          },
          "scene": {
           "xaxis": {
            "backgroundcolor": "#E5ECF6",
            "gridcolor": "white",
            "gridwidth": 2,
            "linecolor": "white",
            "showbackground": true,
            "ticks": "",
            "zerolinecolor": "white"
           },
           "yaxis": {
            "backgroundcolor": "#E5ECF6",
            "gridcolor": "white",
            "gridwidth": 2,
            "linecolor": "white",
            "showbackground": true,
            "ticks": "",
            "zerolinecolor": "white"
           },
           "zaxis": {
            "backgroundcolor": "#E5ECF6",
            "gridcolor": "white",
            "gridwidth": 2,
            "linecolor": "white",
            "showbackground": true,
            "ticks": "",
            "zerolinecolor": "white"
           }
          },
          "shapedefaults": {
           "line": {
            "color": "#2a3f5f"
           }
          },
          "ternary": {
           "aaxis": {
            "gridcolor": "white",
            "linecolor": "white",
            "ticks": ""
           },
           "baxis": {
            "gridcolor": "white",
            "linecolor": "white",
            "ticks": ""
           },
           "bgcolor": "#E5ECF6",
           "caxis": {
            "gridcolor": "white",
            "linecolor": "white",
            "ticks": ""
           }
          },
          "title": {
           "x": 0.05
          },
          "xaxis": {
           "automargin": true,
           "gridcolor": "white",
           "linecolor": "white",
           "ticks": "",
           "title": {
            "standoff": 15
           },
           "zerolinecolor": "white",
           "zerolinewidth": 2
          },
          "yaxis": {
           "automargin": true,
           "gridcolor": "white",
           "linecolor": "white",
           "ticks": "",
           "title": {
            "standoff": 15
           },
           "zerolinecolor": "white",
           "zerolinewidth": 2
          }
         }
        },
        "title": {
         "font": {
          "color": "black",
          "family": "Cardo",
          "size": 27
         },
         "text": "<span style='color: black; font-weight: normal;'>Share of RLUSD Locked in Liquidity Pools</span><br><sub style='font-size: 18px; color: black; font-weight: normal;'></sub>",
         "x": 0.1,
         "xanchor": "left",
         "y": 0.9,
         "yanchor": "top"
        },
        "width": 730
       }
      }
     },
     "metadata": {},
     "output_type": "display_data"
    }
   ],
   "source": [
    "fig3.return_fig()"
   ]
  },
  {
   "cell_type": "code",
   "execution_count": 15,
   "metadata": {},
   "outputs": [
    {
     "data": {
      "application/vnd.plotly.v1+json": {
       "config": {
        "plotlyServerURL": "https://plot.ly"
       },
       "data": [
        {
         "connectgaps": true,
         "line": {
          "color": "#E15F99",
          "width": 4
         },
         "marker": {
          "color": "#E15F99",
          "size": [
           3,
           3,
           3,
           3,
           3,
           3,
           3,
           3,
           3,
           3,
           3,
           3,
           3,
           3,
           3,
           3,
           3,
           3,
           3,
           3,
           3,
           3,
           3,
           3,
           3,
           3,
           3,
           3,
           3,
           3,
           3,
           3,
           3
          ]
         },
         "mode": "lines",
         "name": "XRP Ledger ($1.8M)        ",
         "showlegend": true,
         "stackgroup": "one",
         "type": "scatter",
         "x": [
          "2025-02-18T00:00:00.000000000",
          "2025-02-19T00:00:00.000000000",
          "2025-02-20T00:00:00.000000000",
          "2025-02-21T00:00:00.000000000",
          "2025-02-22T00:00:00.000000000",
          "2025-02-23T00:00:00.000000000",
          "2025-02-24T00:00:00.000000000",
          "2025-02-25T00:00:00.000000000",
          "2025-02-26T00:00:00.000000000",
          "2025-02-27T00:00:00.000000000",
          "2025-02-28T00:00:00.000000000",
          "2025-03-01T00:00:00.000000000",
          "2025-03-02T00:00:00.000000000",
          "2025-03-03T00:00:00.000000000",
          "2025-03-04T00:00:00.000000000",
          "2025-03-05T00:00:00.000000000",
          "2025-03-06T00:00:00.000000000",
          "2025-03-07T00:00:00.000000000",
          "2025-03-08T00:00:00.000000000",
          "2025-03-09T00:00:00.000000000",
          "2025-03-10T00:00:00.000000000",
          "2025-03-11T00:00:00.000000000",
          "2025-03-12T00:00:00.000000000",
          "2025-03-13T00:00:00.000000000",
          "2025-03-14T00:00:00.000000000",
          "2025-03-15T00:00:00.000000000",
          "2025-03-16T00:00:00.000000000",
          "2025-03-17T00:00:00.000000000",
          "2025-03-18T00:00:00.000000000",
          "2025-03-19T00:00:00.000000000",
          "2025-03-20T00:00:00.000000000",
          "2025-03-21T00:00:00.000000000",
          "2025-03-22T00:00:00.000000000"
         ],
         "xaxis": "x",
         "y": {
          "bdata": "NlLzx4Q6NUGZjCMasu41QRx2M7mxuzVB6rHFMTNsNUHnylWzVXc1QZPBKkiOrzhBpSnkQBHMN0EGYbCs2Lg2QflvMDeeVjZBil1XdOd1NkE1xF4/62Y1QU0E/R0IIDdBYAs0q6asN0GzVGvrB1U8Qazdwcobfz1Bfr78vxzdO0F+vvy/HN07QX6+/L8c3TtBfr78vxzdO0F+vvy/HN07QX6+/L8c3TtBfr78vxzdO0F+vvy/HN07QX6+/L8c3TtBfr78vxzdO0F+vvy/HN07QX6+/L8c3TtBfr78vxzdO0F+vvy/HN07QX6+/L8c3TtBfr78vxzdO0F+vvy/HN07QX6+/L8c3TtB",
          "dtype": "f8"
         },
         "yaxis": "y"
        },
        {
         "connectgaps": true,
         "line": {
          "color": "#2E91E5",
          "width": 4
         },
         "marker": {
          "color": "#2E91E5",
          "size": [
           3,
           3,
           3,
           3,
           3,
           3,
           3,
           3,
           3,
           3,
           3,
           3,
           3,
           3,
           3,
           3,
           3,
           3,
           3,
           3,
           3,
           3,
           3,
           3,
           3,
           3,
           3,
           3,
           3,
           3,
           3,
           3,
           3
          ]
         },
         "mode": "lines",
         "name": "Ethereum ($22.8M)        ",
         "showlegend": true,
         "stackgroup": "one",
         "type": "scatter",
         "x": [
          "2025-02-18T00:00:00.000000000",
          "2025-02-19T00:00:00.000000000",
          "2025-02-20T00:00:00.000000000",
          "2025-02-21T00:00:00.000000000",
          "2025-02-22T00:00:00.000000000",
          "2025-02-23T00:00:00.000000000",
          "2025-02-24T00:00:00.000000000",
          "2025-02-25T00:00:00.000000000",
          "2025-02-26T00:00:00.000000000",
          "2025-02-27T00:00:00.000000000",
          "2025-02-28T00:00:00.000000000",
          "2025-03-01T00:00:00.000000000",
          "2025-03-02T00:00:00.000000000",
          "2025-03-03T00:00:00.000000000",
          "2025-03-04T00:00:00.000000000",
          "2025-03-05T00:00:00.000000000",
          "2025-03-06T00:00:00.000000000",
          "2025-03-07T00:00:00.000000000",
          "2025-03-08T00:00:00.000000000",
          "2025-03-09T00:00:00.000000000",
          "2025-03-10T00:00:00.000000000",
          "2025-03-11T00:00:00.000000000",
          "2025-03-12T00:00:00.000000000",
          "2025-03-13T00:00:00.000000000",
          "2025-03-14T00:00:00.000000000",
          "2025-03-15T00:00:00.000000000",
          "2025-03-16T00:00:00.000000000",
          "2025-03-17T00:00:00.000000000",
          "2025-03-18T00:00:00.000000000",
          "2025-03-19T00:00:00.000000000",
          "2025-03-20T00:00:00.000000000",
          "2025-03-21T00:00:00.000000000",
          "2025-03-22T00:00:00.000000000"
         ],
         "xaxis": "x",
         "y": {
          "bdata": "MLw9emwnUkF7x71H/ctUQWiMR/i4x1RB1jE219/GVEEdGO+ZtcdUQVRMjxGBx1RB5I95qG+nVEFknJYXaLRUQZcM1/8jtVZB+gugQna2VkFOQeWzI7tWQYDKBoGlulZButiVkiGtVkHM6M02YaZWQW6TGzVLmlZBSf1KDfeWVkHFMzE53X5WQRiYDTxGg1ZBwv8U4+CCVkEF1Ro5mu1XQaOYc1uPtGRBgmbhjky5ZEHKm+3gFrpkQVQVcHdb4G9BUAW2/hfib0EOg8Rn1fZtQce3Q8oM+W1BMX/z9ZsacUFBthdYdkFyQdGIQ+7WQXJBBUfkpNo9ckHrA1YsMsZ1QQkjZLkqxnVB",
          "dtype": "f8"
         },
         "yaxis": "y"
        }
       ],
       "layout": {
        "annotations": [
         {
          "align": "center",
          "font": {
           "color": "black",
           "size": 12
          },
          "showarrow": false,
          "text": "Mar. 22, 2025",
          "x": 0.93,
          "xref": "paper",
          "y": 1.05,
          "yref": "paper"
         }
        ],
        "autosize": true,
        "font": {
         "color": "black",
         "family": "Cardo",
         "size": 16
        },
        "height": 351,
        "legend": {
         "bgcolor": "white",
         "bordercolor": "black",
         "borderwidth": 1,
         "font": {
          "color": "black",
          "family": "Cardo",
          "size": 12
         },
         "itemsizing": "constant",
         "orientation": "v",
         "traceorder": "reversed",
         "x": 0.75,
         "xanchor": "center",
         "y": 0.9,
         "yanchor": "top"
        },
        "margin": {
         "b": 0,
         "l": 0,
         "r": 0,
         "t": 100
        },
        "paper_bgcolor": "rgba(0,0,0,0)",
        "plot_bgcolor": "rgba(0,0,0,0)",
        "template": {
         "data": {
          "bar": [
           {
            "error_x": {
             "color": "#2a3f5f"
            },
            "error_y": {
             "color": "#2a3f5f"
            },
            "marker": {
             "line": {
              "color": "#E5ECF6",
              "width": 0.5
             },
             "pattern": {
              "fillmode": "overlay",
              "size": 10,
              "solidity": 0.2
             }
            },
            "type": "bar"
           }
          ],
          "barpolar": [
           {
            "marker": {
             "line": {
              "color": "#E5ECF6",
              "width": 0.5
             },
             "pattern": {
              "fillmode": "overlay",
              "size": 10,
              "solidity": 0.2
             }
            },
            "type": "barpolar"
           }
          ],
          "carpet": [
           {
            "aaxis": {
             "endlinecolor": "#2a3f5f",
             "gridcolor": "white",
             "linecolor": "white",
             "minorgridcolor": "white",
             "startlinecolor": "#2a3f5f"
            },
            "baxis": {
             "endlinecolor": "#2a3f5f",
             "gridcolor": "white",
             "linecolor": "white",
             "minorgridcolor": "white",
             "startlinecolor": "#2a3f5f"
            },
            "type": "carpet"
           }
          ],
          "choropleth": [
           {
            "colorbar": {
             "outlinewidth": 0,
             "ticks": ""
            },
            "type": "choropleth"
           }
          ],
          "contour": [
           {
            "colorbar": {
             "outlinewidth": 0,
             "ticks": ""
            },
            "colorscale": [
             [
              0,
              "#0d0887"
             ],
             [
              0.1111111111111111,
              "#46039f"
             ],
             [
              0.2222222222222222,
              "#7201a8"
             ],
             [
              0.3333333333333333,
              "#9c179e"
             ],
             [
              0.4444444444444444,
              "#bd3786"
             ],
             [
              0.5555555555555556,
              "#d8576b"
             ],
             [
              0.6666666666666666,
              "#ed7953"
             ],
             [
              0.7777777777777778,
              "#fb9f3a"
             ],
             [
              0.8888888888888888,
              "#fdca26"
             ],
             [
              1,
              "#f0f921"
             ]
            ],
            "type": "contour"
           }
          ],
          "contourcarpet": [
           {
            "colorbar": {
             "outlinewidth": 0,
             "ticks": ""
            },
            "type": "contourcarpet"
           }
          ],
          "heatmap": [
           {
            "colorbar": {
             "outlinewidth": 0,
             "ticks": ""
            },
            "colorscale": [
             [
              0,
              "#0d0887"
             ],
             [
              0.1111111111111111,
              "#46039f"
             ],
             [
              0.2222222222222222,
              "#7201a8"
             ],
             [
              0.3333333333333333,
              "#9c179e"
             ],
             [
              0.4444444444444444,
              "#bd3786"
             ],
             [
              0.5555555555555556,
              "#d8576b"
             ],
             [
              0.6666666666666666,
              "#ed7953"
             ],
             [
              0.7777777777777778,
              "#fb9f3a"
             ],
             [
              0.8888888888888888,
              "#fdca26"
             ],
             [
              1,
              "#f0f921"
             ]
            ],
            "type": "heatmap"
           }
          ],
          "histogram": [
           {
            "marker": {
             "pattern": {
              "fillmode": "overlay",
              "size": 10,
              "solidity": 0.2
             }
            },
            "type": "histogram"
           }
          ],
          "histogram2d": [
           {
            "colorbar": {
             "outlinewidth": 0,
             "ticks": ""
            },
            "colorscale": [
             [
              0,
              "#0d0887"
             ],
             [
              0.1111111111111111,
              "#46039f"
             ],
             [
              0.2222222222222222,
              "#7201a8"
             ],
             [
              0.3333333333333333,
              "#9c179e"
             ],
             [
              0.4444444444444444,
              "#bd3786"
             ],
             [
              0.5555555555555556,
              "#d8576b"
             ],
             [
              0.6666666666666666,
              "#ed7953"
             ],
             [
              0.7777777777777778,
              "#fb9f3a"
             ],
             [
              0.8888888888888888,
              "#fdca26"
             ],
             [
              1,
              "#f0f921"
             ]
            ],
            "type": "histogram2d"
           }
          ],
          "histogram2dcontour": [
           {
            "colorbar": {
             "outlinewidth": 0,
             "ticks": ""
            },
            "colorscale": [
             [
              0,
              "#0d0887"
             ],
             [
              0.1111111111111111,
              "#46039f"
             ],
             [
              0.2222222222222222,
              "#7201a8"
             ],
             [
              0.3333333333333333,
              "#9c179e"
             ],
             [
              0.4444444444444444,
              "#bd3786"
             ],
             [
              0.5555555555555556,
              "#d8576b"
             ],
             [
              0.6666666666666666,
              "#ed7953"
             ],
             [
              0.7777777777777778,
              "#fb9f3a"
             ],
             [
              0.8888888888888888,
              "#fdca26"
             ],
             [
              1,
              "#f0f921"
             ]
            ],
            "type": "histogram2dcontour"
           }
          ],
          "mesh3d": [
           {
            "colorbar": {
             "outlinewidth": 0,
             "ticks": ""
            },
            "type": "mesh3d"
           }
          ],
          "parcoords": [
           {
            "line": {
             "colorbar": {
              "outlinewidth": 0,
              "ticks": ""
             }
            },
            "type": "parcoords"
           }
          ],
          "pie": [
           {
            "automargin": true,
            "type": "pie"
           }
          ],
          "scatter": [
           {
            "fillpattern": {
             "fillmode": "overlay",
             "size": 10,
             "solidity": 0.2
            },
            "type": "scatter"
           }
          ],
          "scatter3d": [
           {
            "line": {
             "colorbar": {
              "outlinewidth": 0,
              "ticks": ""
             }
            },
            "marker": {
             "colorbar": {
              "outlinewidth": 0,
              "ticks": ""
             }
            },
            "type": "scatter3d"
           }
          ],
          "scattercarpet": [
           {
            "marker": {
             "colorbar": {
              "outlinewidth": 0,
              "ticks": ""
             }
            },
            "type": "scattercarpet"
           }
          ],
          "scattergeo": [
           {
            "marker": {
             "colorbar": {
              "outlinewidth": 0,
              "ticks": ""
             }
            },
            "type": "scattergeo"
           }
          ],
          "scattergl": [
           {
            "marker": {
             "colorbar": {
              "outlinewidth": 0,
              "ticks": ""
             }
            },
            "type": "scattergl"
           }
          ],
          "scattermap": [
           {
            "marker": {
             "colorbar": {
              "outlinewidth": 0,
              "ticks": ""
             }
            },
            "type": "scattermap"
           }
          ],
          "scattermapbox": [
           {
            "marker": {
             "colorbar": {
              "outlinewidth": 0,
              "ticks": ""
             }
            },
            "type": "scattermapbox"
           }
          ],
          "scatterpolar": [
           {
            "marker": {
             "colorbar": {
              "outlinewidth": 0,
              "ticks": ""
             }
            },
            "type": "scatterpolar"
           }
          ],
          "scatterpolargl": [
           {
            "marker": {
             "colorbar": {
              "outlinewidth": 0,
              "ticks": ""
             }
            },
            "type": "scatterpolargl"
           }
          ],
          "scatterternary": [
           {
            "marker": {
             "colorbar": {
              "outlinewidth": 0,
              "ticks": ""
             }
            },
            "type": "scatterternary"
           }
          ],
          "surface": [
           {
            "colorbar": {
             "outlinewidth": 0,
             "ticks": ""
            },
            "colorscale": [
             [
              0,
              "#0d0887"
             ],
             [
              0.1111111111111111,
              "#46039f"
             ],
             [
              0.2222222222222222,
              "#7201a8"
             ],
             [
              0.3333333333333333,
              "#9c179e"
             ],
             [
              0.4444444444444444,
              "#bd3786"
             ],
             [
              0.5555555555555556,
              "#d8576b"
             ],
             [
              0.6666666666666666,
              "#ed7953"
             ],
             [
              0.7777777777777778,
              "#fb9f3a"
             ],
             [
              0.8888888888888888,
              "#fdca26"
             ],
             [
              1,
              "#f0f921"
             ]
            ],
            "type": "surface"
           }
          ],
          "table": [
           {
            "cells": {
             "fill": {
              "color": "#EBF0F8"
             },
             "line": {
              "color": "white"
             }
            },
            "header": {
             "fill": {
              "color": "#C8D4E3"
             },
             "line": {
              "color": "white"
             }
            },
            "type": "table"
           }
          ]
         },
         "layout": {
          "annotationdefaults": {
           "arrowcolor": "#2a3f5f",
           "arrowhead": 0,
           "arrowwidth": 1
          },
          "autotypenumbers": "strict",
          "coloraxis": {
           "colorbar": {
            "outlinewidth": 0,
            "ticks": ""
           }
          },
          "colorscale": {
           "diverging": [
            [
             0,
             "#8e0152"
            ],
            [
             0.1,
             "#c51b7d"
            ],
            [
             0.2,
             "#de77ae"
            ],
            [
             0.3,
             "#f1b6da"
            ],
            [
             0.4,
             "#fde0ef"
            ],
            [
             0.5,
             "#f7f7f7"
            ],
            [
             0.6,
             "#e6f5d0"
            ],
            [
             0.7,
             "#b8e186"
            ],
            [
             0.8,
             "#7fbc41"
            ],
            [
             0.9,
             "#4d9221"
            ],
            [
             1,
             "#276419"
            ]
           ],
           "sequential": [
            [
             0,
             "#0d0887"
            ],
            [
             0.1111111111111111,
             "#46039f"
            ],
            [
             0.2222222222222222,
             "#7201a8"
            ],
            [
             0.3333333333333333,
             "#9c179e"
            ],
            [
             0.4444444444444444,
             "#bd3786"
            ],
            [
             0.5555555555555556,
             "#d8576b"
            ],
            [
             0.6666666666666666,
             "#ed7953"
            ],
            [
             0.7777777777777778,
             "#fb9f3a"
            ],
            [
             0.8888888888888888,
             "#fdca26"
            ],
            [
             1,
             "#f0f921"
            ]
           ],
           "sequentialminus": [
            [
             0,
             "#0d0887"
            ],
            [
             0.1111111111111111,
             "#46039f"
            ],
            [
             0.2222222222222222,
             "#7201a8"
            ],
            [
             0.3333333333333333,
             "#9c179e"
            ],
            [
             0.4444444444444444,
             "#bd3786"
            ],
            [
             0.5555555555555556,
             "#d8576b"
            ],
            [
             0.6666666666666666,
             "#ed7953"
            ],
            [
             0.7777777777777778,
             "#fb9f3a"
            ],
            [
             0.8888888888888888,
             "#fdca26"
            ],
            [
             1,
             "#f0f921"
            ]
           ]
          },
          "colorway": [
           "#636efa",
           "#EF553B",
           "#00cc96",
           "#ab63fa",
           "#FFA15A",
           "#19d3f3",
           "#FF6692",
           "#B6E880",
           "#FF97FF",
           "#FECB52"
          ],
          "font": {
           "color": "#2a3f5f",
           "family": "Cardo"
          },
          "geo": {
           "bgcolor": "white",
           "lakecolor": "white",
           "landcolor": "#E5ECF6",
           "showlakes": true,
           "showland": true,
           "subunitcolor": "white"
          },
          "hoverlabel": {
           "align": "left"
          },
          "hovermode": "closest",
          "mapbox": {
           "style": "light"
          },
          "paper_bgcolor": "white",
          "plot_bgcolor": "#E5ECF6",
          "polar": {
           "angularaxis": {
            "gridcolor": "white",
            "linecolor": "white",
            "ticks": ""
           },
           "bgcolor": "#E5ECF6",
           "radialaxis": {
            "gridcolor": "white",
            "linecolor": "white",
            "ticks": ""
           }
          },
          "scene": {
           "xaxis": {
            "backgroundcolor": "#E5ECF6",
            "gridcolor": "white",
            "gridwidth": 2,
            "linecolor": "white",
            "showbackground": true,
            "ticks": "",
            "zerolinecolor": "white"
           },
           "yaxis": {
            "backgroundcolor": "#E5ECF6",
            "gridcolor": "white",
            "gridwidth": 2,
            "linecolor": "white",
            "showbackground": true,
            "ticks": "",
            "zerolinecolor": "white"
           },
           "zaxis": {
            "backgroundcolor": "#E5ECF6",
            "gridcolor": "white",
            "gridwidth": 2,
            "linecolor": "white",
            "showbackground": true,
            "ticks": "",
            "zerolinecolor": "white"
           }
          },
          "shapedefaults": {
           "line": {
            "color": "#2a3f5f"
           }
          },
          "ternary": {
           "aaxis": {
            "gridcolor": "white",
            "linecolor": "white",
            "ticks": ""
           },
           "baxis": {
            "gridcolor": "white",
            "linecolor": "white",
            "ticks": ""
           },
           "bgcolor": "#E5ECF6",
           "caxis": {
            "gridcolor": "white",
            "linecolor": "white",
            "ticks": ""
           }
          },
          "title": {
           "x": 0.05
          },
          "xaxis": {
           "automargin": true,
           "gridcolor": "white",
           "linecolor": "white",
           "ticks": "",
           "title": {
            "standoff": 15
           },
           "zerolinecolor": "white",
           "zerolinewidth": 2
          },
          "yaxis": {
           "automargin": true,
           "gridcolor": "white",
           "linecolor": "white",
           "ticks": "",
           "title": {
            "standoff": 15
           },
           "zerolinecolor": "white",
           "zerolinewidth": 2
          }
         }
        },
        "title": {
         "font": {
          "color": "black",
          "family": "Cardo",
          "size": 27
         },
         "text": "<span style='color: black; font-weight: normal;'>RLUSD Locked in Liquidity Pools <br>by Chain Over Time</span><br><sub style='font-size: 18px; color: black; font-weight: normal;'></sub>",
         "x": 0.1,
         "xanchor": "left",
         "y": 0.9,
         "yanchor": "top"
        },
        "uniformtext": {
         "minsize": 15,
         "mode": "show"
        },
        "width": 730,
        "xaxis": {
         "anchor": "y",
         "domain": [
          0,
          0.94
         ],
         "range": [
          "2025-02-18T00:00:00",
          "2025-03-22T00:00:00"
         ],
         "tick0": "2025-02-18T00:00:00",
         "tickangle": 0,
         "tickfont": {
          "color": "black",
          "family": "Cardo",
          "size": 16
         },
         "tickformat": "%b %d <br>%y",
         "tickvals": [
          "2025-02-18T00:00:00",
          "2025-02-26T00:00:00",
          "2025-03-06T00:00:00",
          "2025-03-14T00:00:00",
          "2025-03-22T00:00:00"
         ]
        },
        "yaxis": {
         "anchor": "x",
         "domain": [
          0,
          1
         ],
         "tickfont": {
          "color": "black",
          "family": "Cardo",
          "size": 16
         },
         "tickprefix": "$",
         "title": {
          "font": {
           "color": "black",
           "family": "Cardo",
           "size": 16
          }
         }
        },
        "yaxis2": {
         "anchor": "x",
         "overlaying": "y",
         "side": "right"
        }
       }
      }
     },
     "metadata": {},
     "output_type": "display_data"
    }
   ],
   "source": [
    "fig4.return_fig()"
   ]
  },
  {
   "cell_type": "code",
   "execution_count": 17,
   "metadata": {},
   "outputs": [
    {
     "data": {
      "application/vnd.plotly.v1+json": {
       "config": {
        "plotlyServerURL": "https://plot.ly"
       },
       "data": [
        {
         "marker": {
          "color": "#2E91E5"
         },
         "name": "XRPL ($38.9M)     ",
         "orientation": "v",
         "showlegend": true,
         "text": "",
         "textfont": {
          "color": "black",
          "family": "Cardo",
          "size": 14
         },
         "textposition": "outside",
         "type": "bar",
         "x": [
          "2025-01-26T00:00:00.000000000",
          "2025-02-02T00:00:00.000000000",
          "2025-02-09T00:00:00.000000000",
          "2025-02-16T00:00:00.000000000",
          "2025-02-23T00:00:00.000000000",
          "2025-03-02T00:00:00.000000000",
          "2025-03-09T00:00:00.000000000",
          "2025-03-16T00:00:00.000000000"
         ],
         "xaxis": "x",
         "y": {
          "bdata": "JJRXuopJW0HQ/uPyPdF7QWolakgtdoBBUxR5sNc2dEFE+ygDOtJyQX6Cf6RR8YdB19uJTE2AgkEnfhOp3JGCQQ==",
          "dtype": "f8"
         },
         "yaxis": "y"
        },
        {
         "marker": {
          "color": "#E15F99"
         },
         "name": "Ethereum ($8.0M)     ",
         "orientation": "v",
         "showlegend": true,
         "text": "",
         "textfont": {
          "color": "black",
          "family": "Cardo",
          "size": 14
         },
         "textposition": "outside",
         "type": "bar",
         "x": [
          "2025-01-19T00:00:00.000000000",
          "2025-01-26T00:00:00.000000000",
          "2025-02-02T00:00:00.000000000",
          "2025-02-09T00:00:00.000000000",
          "2025-02-16T00:00:00.000000000",
          "2025-02-23T00:00:00.000000000",
          "2025-03-02T00:00:00.000000000",
          "2025-03-09T00:00:00.000000000",
          "2025-03-16T00:00:00.000000000"
         ],
         "xaxis": "x",
         "y": {
          "bdata": "TA+6fCEXtEDTcsA/zzbzQB6V3PsN9wFB5wc11yWrC0H3oOCzXW4BQWdQCMGaYQJBM2tuoBY4AEGV1jK7aRM9QYG460bgl15B",
          "dtype": "f8"
         },
         "yaxis": "y"
        }
       ],
       "layout": {
        "annotations": [
         {
          "align": "center",
          "font": {
           "color": "black",
           "size": 12
          },
          "showarrow": false,
          "text": "Mar. 16, 2025",
          "x": 0.87,
          "xref": "paper",
          "y": 0.98,
          "yref": "paper"
         }
        ],
        "autosize": false,
        "barmode": "stack",
        "font": {
         "color": "black",
         "family": "Cardo",
         "size": 16
        },
        "height": 351,
        "legend": {
         "bgcolor": "white",
         "bordercolor": "black",
         "borderwidth": 1,
         "font": {
          "color": "black",
          "family": "Cardo",
          "size": 12
         },
         "itemsizing": "constant",
         "orientation": "v",
         "traceorder": "normal",
         "x": 0.8,
         "xanchor": "center",
         "y": 0.9,
         "yanchor": "top"
        },
        "margin": {
         "b": 0,
         "l": 0,
         "r": 0,
         "t": 50
        },
        "paper_bgcolor": "rgba(0,0,0,0)",
        "plot_bgcolor": "rgba(0,0,0,0)",
        "template": {
         "data": {
          "bar": [
           {
            "error_x": {
             "color": "#2a3f5f"
            },
            "error_y": {
             "color": "#2a3f5f"
            },
            "marker": {
             "line": {
              "color": "#E5ECF6",
              "width": 0.5
             },
             "pattern": {
              "fillmode": "overlay",
              "size": 10,
              "solidity": 0.2
             }
            },
            "type": "bar"
           }
          ],
          "barpolar": [
           {
            "marker": {
             "line": {
              "color": "#E5ECF6",
              "width": 0.5
             },
             "pattern": {
              "fillmode": "overlay",
              "size": 10,
              "solidity": 0.2
             }
            },
            "type": "barpolar"
           }
          ],
          "carpet": [
           {
            "aaxis": {
             "endlinecolor": "#2a3f5f",
             "gridcolor": "white",
             "linecolor": "white",
             "minorgridcolor": "white",
             "startlinecolor": "#2a3f5f"
            },
            "baxis": {
             "endlinecolor": "#2a3f5f",
             "gridcolor": "white",
             "linecolor": "white",
             "minorgridcolor": "white",
             "startlinecolor": "#2a3f5f"
            },
            "type": "carpet"
           }
          ],
          "choropleth": [
           {
            "colorbar": {
             "outlinewidth": 0,
             "ticks": ""
            },
            "type": "choropleth"
           }
          ],
          "contour": [
           {
            "colorbar": {
             "outlinewidth": 0,
             "ticks": ""
            },
            "colorscale": [
             [
              0,
              "#0d0887"
             ],
             [
              0.1111111111111111,
              "#46039f"
             ],
             [
              0.2222222222222222,
              "#7201a8"
             ],
             [
              0.3333333333333333,
              "#9c179e"
             ],
             [
              0.4444444444444444,
              "#bd3786"
             ],
             [
              0.5555555555555556,
              "#d8576b"
             ],
             [
              0.6666666666666666,
              "#ed7953"
             ],
             [
              0.7777777777777778,
              "#fb9f3a"
             ],
             [
              0.8888888888888888,
              "#fdca26"
             ],
             [
              1,
              "#f0f921"
             ]
            ],
            "type": "contour"
           }
          ],
          "contourcarpet": [
           {
            "colorbar": {
             "outlinewidth": 0,
             "ticks": ""
            },
            "type": "contourcarpet"
           }
          ],
          "heatmap": [
           {
            "colorbar": {
             "outlinewidth": 0,
             "ticks": ""
            },
            "colorscale": [
             [
              0,
              "#0d0887"
             ],
             [
              0.1111111111111111,
              "#46039f"
             ],
             [
              0.2222222222222222,
              "#7201a8"
             ],
             [
              0.3333333333333333,
              "#9c179e"
             ],
             [
              0.4444444444444444,
              "#bd3786"
             ],
             [
              0.5555555555555556,
              "#d8576b"
             ],
             [
              0.6666666666666666,
              "#ed7953"
             ],
             [
              0.7777777777777778,
              "#fb9f3a"
             ],
             [
              0.8888888888888888,
              "#fdca26"
             ],
             [
              1,
              "#f0f921"
             ]
            ],
            "type": "heatmap"
           }
          ],
          "histogram": [
           {
            "marker": {
             "pattern": {
              "fillmode": "overlay",
              "size": 10,
              "solidity": 0.2
             }
            },
            "type": "histogram"
           }
          ],
          "histogram2d": [
           {
            "colorbar": {
             "outlinewidth": 0,
             "ticks": ""
            },
            "colorscale": [
             [
              0,
              "#0d0887"
             ],
             [
              0.1111111111111111,
              "#46039f"
             ],
             [
              0.2222222222222222,
              "#7201a8"
             ],
             [
              0.3333333333333333,
              "#9c179e"
             ],
             [
              0.4444444444444444,
              "#bd3786"
             ],
             [
              0.5555555555555556,
              "#d8576b"
             ],
             [
              0.6666666666666666,
              "#ed7953"
             ],
             [
              0.7777777777777778,
              "#fb9f3a"
             ],
             [
              0.8888888888888888,
              "#fdca26"
             ],
             [
              1,
              "#f0f921"
             ]
            ],
            "type": "histogram2d"
           }
          ],
          "histogram2dcontour": [
           {
            "colorbar": {
             "outlinewidth": 0,
             "ticks": ""
            },
            "colorscale": [
             [
              0,
              "#0d0887"
             ],
             [
              0.1111111111111111,
              "#46039f"
             ],
             [
              0.2222222222222222,
              "#7201a8"
             ],
             [
              0.3333333333333333,
              "#9c179e"
             ],
             [
              0.4444444444444444,
              "#bd3786"
             ],
             [
              0.5555555555555556,
              "#d8576b"
             ],
             [
              0.6666666666666666,
              "#ed7953"
             ],
             [
              0.7777777777777778,
              "#fb9f3a"
             ],
             [
              0.8888888888888888,
              "#fdca26"
             ],
             [
              1,
              "#f0f921"
             ]
            ],
            "type": "histogram2dcontour"
           }
          ],
          "mesh3d": [
           {
            "colorbar": {
             "outlinewidth": 0,
             "ticks": ""
            },
            "type": "mesh3d"
           }
          ],
          "parcoords": [
           {
            "line": {
             "colorbar": {
              "outlinewidth": 0,
              "ticks": ""
             }
            },
            "type": "parcoords"
           }
          ],
          "pie": [
           {
            "automargin": true,
            "type": "pie"
           }
          ],
          "scatter": [
           {
            "fillpattern": {
             "fillmode": "overlay",
             "size": 10,
             "solidity": 0.2
            },
            "type": "scatter"
           }
          ],
          "scatter3d": [
           {
            "line": {
             "colorbar": {
              "outlinewidth": 0,
              "ticks": ""
             }
            },
            "marker": {
             "colorbar": {
              "outlinewidth": 0,
              "ticks": ""
             }
            },
            "type": "scatter3d"
           }
          ],
          "scattercarpet": [
           {
            "marker": {
             "colorbar": {
              "outlinewidth": 0,
              "ticks": ""
             }
            },
            "type": "scattercarpet"
           }
          ],
          "scattergeo": [
           {
            "marker": {
             "colorbar": {
              "outlinewidth": 0,
              "ticks": ""
             }
            },
            "type": "scattergeo"
           }
          ],
          "scattergl": [
           {
            "marker": {
             "colorbar": {
              "outlinewidth": 0,
              "ticks": ""
             }
            },
            "type": "scattergl"
           }
          ],
          "scattermap": [
           {
            "marker": {
             "colorbar": {
              "outlinewidth": 0,
              "ticks": ""
             }
            },
            "type": "scattermap"
           }
          ],
          "scattermapbox": [
           {
            "marker": {
             "colorbar": {
              "outlinewidth": 0,
              "ticks": ""
             }
            },
            "type": "scattermapbox"
           }
          ],
          "scatterpolar": [
           {
            "marker": {
             "colorbar": {
              "outlinewidth": 0,
              "ticks": ""
             }
            },
            "type": "scatterpolar"
           }
          ],
          "scatterpolargl": [
           {
            "marker": {
             "colorbar": {
              "outlinewidth": 0,
              "ticks": ""
             }
            },
            "type": "scatterpolargl"
           }
          ],
          "scatterternary": [
           {
            "marker": {
             "colorbar": {
              "outlinewidth": 0,
              "ticks": ""
             }
            },
            "type": "scatterternary"
           }
          ],
          "surface": [
           {
            "colorbar": {
             "outlinewidth": 0,
             "ticks": ""
            },
            "colorscale": [
             [
              0,
              "#0d0887"
             ],
             [
              0.1111111111111111,
              "#46039f"
             ],
             [
              0.2222222222222222,
              "#7201a8"
             ],
             [
              0.3333333333333333,
              "#9c179e"
             ],
             [
              0.4444444444444444,
              "#bd3786"
             ],
             [
              0.5555555555555556,
              "#d8576b"
             ],
             [
              0.6666666666666666,
              "#ed7953"
             ],
             [
              0.7777777777777778,
              "#fb9f3a"
             ],
             [
              0.8888888888888888,
              "#fdca26"
             ],
             [
              1,
              "#f0f921"
             ]
            ],
            "type": "surface"
           }
          ],
          "table": [
           {
            "cells": {
             "fill": {
              "color": "#EBF0F8"
             },
             "line": {
              "color": "white"
             }
            },
            "header": {
             "fill": {
              "color": "#C8D4E3"
             },
             "line": {
              "color": "white"
             }
            },
            "type": "table"
           }
          ]
         },
         "layout": {
          "annotationdefaults": {
           "arrowcolor": "#2a3f5f",
           "arrowhead": 0,
           "arrowwidth": 1
          },
          "autotypenumbers": "strict",
          "coloraxis": {
           "colorbar": {
            "outlinewidth": 0,
            "ticks": ""
           }
          },
          "colorscale": {
           "diverging": [
            [
             0,
             "#8e0152"
            ],
            [
             0.1,
             "#c51b7d"
            ],
            [
             0.2,
             "#de77ae"
            ],
            [
             0.3,
             "#f1b6da"
            ],
            [
             0.4,
             "#fde0ef"
            ],
            [
             0.5,
             "#f7f7f7"
            ],
            [
             0.6,
             "#e6f5d0"
            ],
            [
             0.7,
             "#b8e186"
            ],
            [
             0.8,
             "#7fbc41"
            ],
            [
             0.9,
             "#4d9221"
            ],
            [
             1,
             "#276419"
            ]
           ],
           "sequential": [
            [
             0,
             "#0d0887"
            ],
            [
             0.1111111111111111,
             "#46039f"
            ],
            [
             0.2222222222222222,
             "#7201a8"
            ],
            [
             0.3333333333333333,
             "#9c179e"
            ],
            [
             0.4444444444444444,
             "#bd3786"
            ],
            [
             0.5555555555555556,
             "#d8576b"
            ],
            [
             0.6666666666666666,
             "#ed7953"
            ],
            [
             0.7777777777777778,
             "#fb9f3a"
            ],
            [
             0.8888888888888888,
             "#fdca26"
            ],
            [
             1,
             "#f0f921"
            ]
           ],
           "sequentialminus": [
            [
             0,
             "#0d0887"
            ],
            [
             0.1111111111111111,
             "#46039f"
            ],
            [
             0.2222222222222222,
             "#7201a8"
            ],
            [
             0.3333333333333333,
             "#9c179e"
            ],
            [
             0.4444444444444444,
             "#bd3786"
            ],
            [
             0.5555555555555556,
             "#d8576b"
            ],
            [
             0.6666666666666666,
             "#ed7953"
            ],
            [
             0.7777777777777778,
             "#fb9f3a"
            ],
            [
             0.8888888888888888,
             "#fdca26"
            ],
            [
             1,
             "#f0f921"
            ]
           ]
          },
          "colorway": [
           "#636efa",
           "#EF553B",
           "#00cc96",
           "#ab63fa",
           "#FFA15A",
           "#19d3f3",
           "#FF6692",
           "#B6E880",
           "#FF97FF",
           "#FECB52"
          ],
          "font": {
           "color": "#2a3f5f",
           "family": "Cardo"
          },
          "geo": {
           "bgcolor": "white",
           "lakecolor": "white",
           "landcolor": "#E5ECF6",
           "showlakes": true,
           "showland": true,
           "subunitcolor": "white"
          },
          "hoverlabel": {
           "align": "left"
          },
          "hovermode": "closest",
          "mapbox": {
           "style": "light"
          },
          "paper_bgcolor": "white",
          "plot_bgcolor": "#E5ECF6",
          "polar": {
           "angularaxis": {
            "gridcolor": "white",
            "linecolor": "white",
            "ticks": ""
           },
           "bgcolor": "#E5ECF6",
           "radialaxis": {
            "gridcolor": "white",
            "linecolor": "white",
            "ticks": ""
           }
          },
          "scene": {
           "xaxis": {
            "backgroundcolor": "#E5ECF6",
            "gridcolor": "white",
            "gridwidth": 2,
            "linecolor": "white",
            "showbackground": true,
            "ticks": "",
            "zerolinecolor": "white"
           },
           "yaxis": {
            "backgroundcolor": "#E5ECF6",
            "gridcolor": "white",
            "gridwidth": 2,
            "linecolor": "white",
            "showbackground": true,
            "ticks": "",
            "zerolinecolor": "white"
           },
           "zaxis": {
            "backgroundcolor": "#E5ECF6",
            "gridcolor": "white",
            "gridwidth": 2,
            "linecolor": "white",
            "showbackground": true,
            "ticks": "",
            "zerolinecolor": "white"
           }
          },
          "shapedefaults": {
           "line": {
            "color": "#2a3f5f"
           }
          },
          "ternary": {
           "aaxis": {
            "gridcolor": "white",
            "linecolor": "white",
            "ticks": ""
           },
           "baxis": {
            "gridcolor": "white",
            "linecolor": "white",
            "ticks": ""
           },
           "bgcolor": "#E5ECF6",
           "caxis": {
            "gridcolor": "white",
            "linecolor": "white",
            "ticks": ""
           }
          },
          "title": {
           "x": 0.05
          },
          "xaxis": {
           "automargin": true,
           "gridcolor": "white",
           "linecolor": "white",
           "ticks": "",
           "title": {
            "standoff": 15
           },
           "zerolinecolor": "white",
           "zerolinewidth": 2
          },
          "yaxis": {
           "automargin": true,
           "gridcolor": "white",
           "linecolor": "white",
           "ticks": "",
           "title": {
            "standoff": 15
           },
           "zerolinecolor": "white",
           "zerolinewidth": 2
          }
         }
        },
        "title": {
         "font": {
          "color": "black",
          "family": "Cardo",
          "size": 27
         },
         "text": "<span style='color: black; font-weight: normal;'>RLUSD DEX Volume By Chain</span><br><sub style='font-size: 18px; color: black; font-weight: normal;'></sub>",
         "x": 0.1,
         "xanchor": "left",
         "y": 0.9,
         "yanchor": "top"
        },
        "uniformtext": {
         "minsize": 15,
         "mode": "show"
        },
        "width": 730,
        "xaxis": {
         "anchor": "y",
         "domain": [
          0,
          0.94
         ],
         "range": [
          "2025-01-16T00:00:00",
          "2025-03-19T00:00:00"
         ],
         "tick0": "2025-01-19T00:00:00",
         "tickangle": 0,
         "tickfont": {
          "color": "black",
          "family": "Cardo",
          "size": 16
         },
         "tickformat": "%b %d <br>%y",
         "tickvals": [
          "2025-01-19T00:00:00",
          "2025-01-26T00:00:00",
          "2025-01-26T00:00:00",
          "2025-02-02T00:00:00",
          "2025-02-02T00:00:00",
          "2025-02-09T00:00:00",
          "2025-02-16T00:00:00",
          "2025-02-16T00:00:00",
          "2025-02-23T00:00:00",
          "2025-03-02T00:00:00",
          "2025-03-02T00:00:00",
          "2025-03-09T00:00:00",
          "2025-03-09T00:00:00",
          "2025-03-16T00:00:00"
         ],
         "title": {
          "font": {
           "color": "black",
           "family": "Cardo",
           "size": 16
          }
         }
        },
        "yaxis": {
         "anchor": "x",
         "domain": [
          0,
          1
         ],
         "tickfont": {
          "color": "black",
          "family": "Cardo",
          "size": 16
         },
         "tickprefix": "$"
        },
        "yaxis2": {
         "anchor": "x",
         "overlaying": "y",
         "side": "right"
        }
       }
      }
     },
     "metadata": {},
     "output_type": "display_data"
    }
   ],
   "source": [
    "fig6.return_fig()"
   ]
  },
  {
   "cell_type": "code",
   "execution_count": 18,
   "metadata": {},
   "outputs": [
    {
     "data": {
      "application/vnd.plotly.v1+json": {
       "config": {
        "plotlyServerURL": "https://plot.ly"
       },
       "data": [
        {
         "hole": 0,
         "labels": [
          "XRPL    ",
          "Ethereum    "
         ],
         "marker": {
          "colors": [
           "#2E91E5",
           "#E15F99",
           "#1CA71C",
           "#FB0D0D",
           "#DA16FF",
           "#222A2A",
           "#B68100",
           "#750D86",
           "#EB663B",
           "#511CFB",
           "#00A08B",
           "#FB00D1",
           "#FC0080",
           "#B2828D",
           "#6C7C32",
           "#778AAE",
           "#862A16",
           "#A777F1",
           "#620042",
           "#1616A7",
           "#DA60CA",
           "#6C4516",
           "#0D2A63",
           "#AF0038",
           "rgb(141,211,199)",
           "rgb(255,255,179)",
           "rgb(190,186,218)",
           "rgb(251,128,114)",
           "rgb(128,177,211)",
           "rgb(253,180,98)",
           "rgb(179,222,105)",
           "rgb(252,205,229)",
           "rgb(217,217,217)",
           "rgb(188,128,189)",
           "rgb(204,235,197)",
           "rgb(255,237,111)",
           "#FECB52",
           "#FF97FF",
           "#B6E880",
           "#FF6692",
           "#19D3F3",
           "#FFA15A",
           "#AB63FA",
           "#00CC96",
           "#EF553B",
           "#636EFA",
           "#1f77b4",
           "#ff7f0e",
           "#2ca02c",
           "#d62728",
           "#9467bd",
           "#8c564b",
           "#e377c2",
           "#7f7f7f",
           "#bcbd22",
           "#17becf",
           "#e41a1c",
           "#377eb8",
           "#4daf4a",
           "#984ea3",
           "#ff7f00",
           "#ffff33",
           "#a65628",
           "#f781bf",
           "#999999",
           "#d60000",
           "#8c3bff",
           "#018700",
           "#00acc6",
           "#e6a500",
           "#ff7ed1",
           "#6b004f",
           "#573b00",
           "#005659",
           "#15e18c",
           "#0000dd",
           "#a17569",
           "#bcb6ff",
           "#bf03b8",
           "#645472",
           "#790000",
           "#0774d8",
           "#729a7c",
           "#ff7752",
           "#004b00",
           "#8e7b01",
           "#f2007b",
           "#8eba00",
           "#a57bb8",
           "#5901a3",
           "#e2afaf",
           "#a03a52",
           "#a1c8c8",
           "#9e4b00",
           "#546744",
           "#bac389",
           "#5e7b87",
           "#60383b",
           "#8287ff",
           "#380000",
           "#e252ff",
           "#2f5282",
           "#7ecaff",
           "#c4668e",
           "#008069",
           "#919eb6",
           "#cc7407",
           "#7e2a8e",
           "#00bda3",
           "#2db152",
           "#4d33ff",
           "#00e400",
           "#ff00cd",
           "#c85748",
           "#e49cff",
           "#1ca1ff",
           "#6e70aa",
           "#c89a69",
           "#77563b",
           "#03dae6",
           "#c1a3c3",
           "#ff6989",
           "#ba00fd",
           "#915280",
           "#9e0174",
           "#93a14f",
           "#364424",
           "#af6dff",
           "#596d00",
           "#ff3146",
           "#828056",
           "#006d2d",
           "#8956af",
           "#5949a3",
           "#773416",
           "#85c39a",
           "#5e1123",
           "#d48580",
           "#a32818",
           "#0087b1",
           "#ca0044",
           "#ffa056",
           "#eb4d00",
           "#6b9700",
           "#528549",
           "#755900",
           "#c8c33f",
           "#91d370",
           "#4b9793",
           "#4d230c",
           "#60345b",
           "#8300cf",
           "#8a0031",
           "#9e6e31",
           "#ac8399",
           "#c63189",
           "#015438",
           "#086b83",
           "#87a8eb",
           "#6466ef",
           "#c35dba",
           "#019e70",
           "#805059",
           "#826e8c",
           "#b3bfda",
           "#b89028",
           "#ff97b1",
           "#a793e1",
           "#698cbd",
           "#4b4f01",
           "#4801cc",
           "#60006e",
           "#446966",
           "#9c5642",
           "#7bacb5",
           "#cd83bc",
           "#0054c1",
           "#7b2f4f",
           "#fb7c00",
           "#34bf00",
           "#ff9c87",
           "#e1b669",
           "#526077",
           "#5b3a7c",
           "#eda5da",
           "#ef52a3",
           "#5d7e69",
           "#c3774f",
           "#d14867",
           "#6e00eb",
           "#1f3400",
           "#c14103",
           "#6dd4c1",
           "#46709e",
           "#a101c3",
           "#0a8289",
           "#afa501",
           "#a55b6b",
           "#fd77ff",
           "#8a85ae",
           "#c67ee8",
           "#9aaa85",
           "#876bd8",
           "#01baf6",
           "#af5dd1",
           "#59502a",
           "#b5005e",
           "#7cb569",
           "#4985ff",
           "#00c182",
           "#d195aa",
           "#a34ba8",
           "#e205e2",
           "#16a300",
           "#382d00",
           "#832f33",
           "#5d95aa",
           "#590f00",
           "#7b4600",
           "#6e6e31",
           "#335726",
           "#4d60b5",
           "#a19564",
           "#623f28",
           "#44d457",
           "#70aacf",
           "#2d6b4d",
           "#72af9e",
           "#fd1500",
           "#d8b391",
           "#79893b",
           "#7cc6d8",
           "#db9036",
           "#eb605d",
           "#eb5ed4",
           "#e47ba7",
           "#a56b97",
           "#009744",
           "#ba5e21",
           "#bcac52",
           "#87d82f",
           "#873472",
           "#aea8d1",
           "#e28c62",
           "#d1b1eb",
           "#36429e",
           "#3abdc1",
           "#669c4d",
           "#9e0399",
           "#4d4d79",
           "#7b4b85",
           "#c33431",
           "#8c6677",
           "#aa002d",
           "#7e0175",
           "#01824d",
           "#724967",
           "#727790",
           "#6e0099",
           "#a0ba52",
           "#e16e31",
           "#c46970",
           "#6d5b95",
           "#a33b74",
           "#316200",
           "#87004f",
           "#335769",
           "#ba8c7c",
           "#1859ff",
           "#909101",
           "#2b8ad4",
           "#1626ff",
           "#21d3ff",
           "#a390af",
           "#8a6d4f",
           "#5d213d",
           "#db03b3",
           "#6e56ca",
           "#642821",
           "#ac7700",
           "#a3bff6",
           "#b58346",
           "#9738db",
           "#b15093",
           "#7242a3",
           "#878ed1",
           "#8970b1",
           "#6baf36",
           "#5979c8",
           "#c69eff",
           "#56831a",
           "#00d6a7",
           "#824638",
           "#11421c",
           "#59aa75",
           "#905b01",
           "#f64470",
           "#ff9703",
           "#e14231",
           "#ba91cf",
           "#34574d",
           "#f7807c",
           "#903400",
           "#b3cd00",
           "#2d9ed3",
           "#798a9e",
           "#50807c",
           "#c136d6",
           "#eb0552",
           "#b8ac7e",
           "#487031",
           "#839564",
           "#d89c89",
           "#0064a3",
           "#4b9077",
           "#8e6097",
           "#ff5238",
           "#a7423b",
           "#006e70",
           "#97833d",
           "#dbafc8",
           "#d60000",
           "#018700",
           "#b500ff",
           "#05acc6",
           "#97ff00",
           "#ffa52f",
           "#ff8ec8",
           "#79525e",
           "#00fdcf",
           "#afa5ff",
           "#93ac83",
           "#9a6900",
           "#366962",
           "#d3008c",
           "#fdf490",
           "#c86e66",
           "#9ee2ff",
           "#00c846",
           "#a877ac",
           "#b8ba01",
           "#f4bfb1",
           "#ff28fd",
           "#f2cdff",
           "#009e7c",
           "#ff6200",
           "#56642a",
           "#953f1f",
           "#90318e",
           "#ff3464",
           "#a0e491",
           "#8c9ab1",
           "#829026",
           "#ae083f",
           "#77c6ba",
           "#bc9157",
           "#e48eff",
           "#72b8ff",
           "#c6a5c1",
           "#ff9070",
           "#d3c37c",
           "#bceddb",
           "#6b8567",
           "#916e56",
           "#f9ff00",
           "#bac1df",
           "#ac567c",
           "#ffcd03",
           "#ff49b1",
           "#c15603",
           "#5d8c90",
           "#c144bc",
           "#00753f",
           "#ba6efd",
           "#00d493",
           "#00ff75",
           "#49a150",
           "#cc9790",
           "#00ebed",
           "#db7e01",
           "#f77589",
           "#b89500",
           "#c84248",
           "#00cff9",
           "#755726",
           "#85d401",
           "#ebffd4",
           "#a77b87",
           "#db72c8",
           "#cae256",
           "#8abf5d",
           "#a1216b",
           "#855b89",
           "#89bacf",
           "#ffbad6",
           "#b6cfaa",
           "#97414d",
           "#67aa00",
           "#fde1b1",
           "#ff3628",
           "#80793d",
           "#d6e8ff",
           "#a795c6",
           "#7ea59a",
           "#d182a3",
           "#54823b",
           "#e6a872",
           "#9cffff",
           "#da5480",
           "#05b3aa",
           "#ffaaf6",
           "#d1afef",
           "#da015d",
           "#ac1a13",
           "#60b385",
           "#d442fd",
           "#acaa59",
           "#fb9ca7",
           "#b3723b",
           "#f26952",
           "#aed1d4",
           "#9affc3",
           "#dbb333",
           "#eb01c3",
           "#9900c4",
           "#cfff9e",
           "#a55949",
           "#3b6d01",
           "#008579",
           "#959167",
           "#89dbb3",
           "#6d7400",
           "#aa5dca",
           "#07ef00",
           "#804f3d",
           "#d88052",
           "#ffc862",
           "#b8009e",
           "#99acdd",
           "#904f00",
           "#8c4470",
           "#4f6e52",
           "#ff8734",
           "#c68ecd",
           "#d4e29e",
           "#b1826d",
           "#9cfb75",
           "#56dd77",
           "#f90087",
           "#a1cdff",
           "#13cad1",
           "#118e54",
           "#d154a5",
           "#00dfc3",
           "#a3832f",
           "#77975b",
           "#baaa80",
           "#70a3af",
           "#d6fbff",
           "#e8013a",
           "#d84621",
           "#ff82ed",
           "#b63862",
           "#b6cd72",
           "#97626b",
           "#897490",
           "#00a316",
           "#00f4a1",
           "#bf90f2",
           "#89e4d8",
           "#a34d95",
           "#6e5d00",
           "#8cc68e",
           "#95aa2a",
           "#c672dd",
           "#b33b01",
           "#d69a36",
           "#dfacb6",
           "#009aa0",
           "#599000",
           "#97bca8",
           "#ac8ca8",
           "#dad4ff",
           "#547c72",
           "#00ba69",
           "#ffc38e",
           "#b800d4",
           "#dfcf5b",
           "#629a7b",
           "#bfedbc",
           "#c1bdfd",
           "#80d3dd",
           "#e2857e",
           "#f9eb4d",
           "#bf6d82",
           "#caff4f",
           "#ef72aa",
           "#ed67ff",
           "#9946ae",
           "#6d6942",
           "#e25660",
           "#dd662d",
           "#9cdb5d",
           "#e29ccf",
           "#b87500",
           "#c6002d",
           "#dfbcda",
           "#59b5df",
           "#ff59da",
           "#38c1a1",
           "#9e698c",
           "#acaac8",
           "#95622f",
           "#b55662",
           "#2b7e60",
           "#b1e400",
           "#eda590",
           "#95fde2",
           "#ff548e",
           "#bd6ea1",
           "#aa3b36",
           "#d8cf00",
           "#aa80cd",
           "#a08052",
           "#e100e8",
           "#c35b3d",
           "#b53a85",
           "#8c7700",
           "#dbbc95",
           "#529e93",
           "#afbc82",
           "#91b5b6",
           "#a75423",
           "#ffd4ef",
           "#79ae6b",
           "#5db54b",
           "#80fb9a",
           "#48ffef",
           "#979548",
           "#9387a7",
           "#31d400",
           "#6ee956",
           "#b6d4eb",
           "#705470",
           "#f2db8a",
           "#aad4c1",
           "#7ecdf2",
           "#89ba00",
           "#64b6ba",
           "#ffb500",
           "#c38285",
           "#caaa5e",
           "#647748",
           "#59e2ff",
           "#df4dcd",
           "#e9ff79",
           "#bc66b8",
           "#c395a5",
           "#64c674",
           "#d19570",
           "#70cf4f",
           "#aa6e66",
           "#9c60a5",
           "#00b800",
           "#e299b3",
           "#bc006b",
           "#b3e8ef",
           "#cdbfe4",
           "#77a342",
           "#856277",
           "#568e5b",
           "#9eafc4",
           "#e82fa0",
           "#247c2a",
           "#826723",
           "#bfbc4d",
           "#ddd3a5"
          ],
          "line": {
           "color": "white",
           "width": 0
          }
         },
         "showlegend": false,
         "textfont": {
          "color": "black",
          "family": "Cardo",
          "size": 14
         },
         "textinfo": "percent+label",
         "texttemplate": "%{label}<br>%{percent}",
         "type": "pie",
         "values": {
          "bdata": "lVDf6NONr0HayIcqEHBsQQ==",
          "dtype": "f8"
         }
        }
       ],
       "layout": {
        "annotations": [
         {
          "align": "center",
          "font": {
           "color": "black",
           "family": "Cardo",
           "size": 25
          },
          "showarrow": false,
          "text": "Total: $280M",
          "x": 0.5,
          "xref": "paper",
          "y": 0.5,
          "yref": "paper"
         }
        ],
        "autosize": true,
        "font": {
         "family": "Cardo",
         "size": 16
        },
        "height": 351,
        "legend": {
         "bgcolor": "rgba(0,0,0,0)",
         "font": {
          "color": "black",
          "family": "Cardo",
          "size": 12
         },
         "itemsizing": "constant",
         "orientation": "v",
         "x": 0.2,
         "xanchor": "left",
         "y": 0.9,
         "yanchor": "top"
        },
        "margin": {
         "b": 0,
         "l": 0,
         "r": 0,
         "t": 100
        },
        "paper_bgcolor": "rgba(0,0,0,0)",
        "plot_bgcolor": "rgba(0,0,0,0)",
        "template": {
         "data": {
          "bar": [
           {
            "error_x": {
             "color": "#2a3f5f"
            },
            "error_y": {
             "color": "#2a3f5f"
            },
            "marker": {
             "line": {
              "color": "#E5ECF6",
              "width": 0.5
             },
             "pattern": {
              "fillmode": "overlay",
              "size": 10,
              "solidity": 0.2
             }
            },
            "type": "bar"
           }
          ],
          "barpolar": [
           {
            "marker": {
             "line": {
              "color": "#E5ECF6",
              "width": 0.5
             },
             "pattern": {
              "fillmode": "overlay",
              "size": 10,
              "solidity": 0.2
             }
            },
            "type": "barpolar"
           }
          ],
          "carpet": [
           {
            "aaxis": {
             "endlinecolor": "#2a3f5f",
             "gridcolor": "white",
             "linecolor": "white",
             "minorgridcolor": "white",
             "startlinecolor": "#2a3f5f"
            },
            "baxis": {
             "endlinecolor": "#2a3f5f",
             "gridcolor": "white",
             "linecolor": "white",
             "minorgridcolor": "white",
             "startlinecolor": "#2a3f5f"
            },
            "type": "carpet"
           }
          ],
          "choropleth": [
           {
            "colorbar": {
             "outlinewidth": 0,
             "ticks": ""
            },
            "type": "choropleth"
           }
          ],
          "contour": [
           {
            "colorbar": {
             "outlinewidth": 0,
             "ticks": ""
            },
            "colorscale": [
             [
              0,
              "#0d0887"
             ],
             [
              0.1111111111111111,
              "#46039f"
             ],
             [
              0.2222222222222222,
              "#7201a8"
             ],
             [
              0.3333333333333333,
              "#9c179e"
             ],
             [
              0.4444444444444444,
              "#bd3786"
             ],
             [
              0.5555555555555556,
              "#d8576b"
             ],
             [
              0.6666666666666666,
              "#ed7953"
             ],
             [
              0.7777777777777778,
              "#fb9f3a"
             ],
             [
              0.8888888888888888,
              "#fdca26"
             ],
             [
              1,
              "#f0f921"
             ]
            ],
            "type": "contour"
           }
          ],
          "contourcarpet": [
           {
            "colorbar": {
             "outlinewidth": 0,
             "ticks": ""
            },
            "type": "contourcarpet"
           }
          ],
          "heatmap": [
           {
            "colorbar": {
             "outlinewidth": 0,
             "ticks": ""
            },
            "colorscale": [
             [
              0,
              "#0d0887"
             ],
             [
              0.1111111111111111,
              "#46039f"
             ],
             [
              0.2222222222222222,
              "#7201a8"
             ],
             [
              0.3333333333333333,
              "#9c179e"
             ],
             [
              0.4444444444444444,
              "#bd3786"
             ],
             [
              0.5555555555555556,
              "#d8576b"
             ],
             [
              0.6666666666666666,
              "#ed7953"
             ],
             [
              0.7777777777777778,
              "#fb9f3a"
             ],
             [
              0.8888888888888888,
              "#fdca26"
             ],
             [
              1,
              "#f0f921"
             ]
            ],
            "type": "heatmap"
           }
          ],
          "histogram": [
           {
            "marker": {
             "pattern": {
              "fillmode": "overlay",
              "size": 10,
              "solidity": 0.2
             }
            },
            "type": "histogram"
           }
          ],
          "histogram2d": [
           {
            "colorbar": {
             "outlinewidth": 0,
             "ticks": ""
            },
            "colorscale": [
             [
              0,
              "#0d0887"
             ],
             [
              0.1111111111111111,
              "#46039f"
             ],
             [
              0.2222222222222222,
              "#7201a8"
             ],
             [
              0.3333333333333333,
              "#9c179e"
             ],
             [
              0.4444444444444444,
              "#bd3786"
             ],
             [
              0.5555555555555556,
              "#d8576b"
             ],
             [
              0.6666666666666666,
              "#ed7953"
             ],
             [
              0.7777777777777778,
              "#fb9f3a"
             ],
             [
              0.8888888888888888,
              "#fdca26"
             ],
             [
              1,
              "#f0f921"
             ]
            ],
            "type": "histogram2d"
           }
          ],
          "histogram2dcontour": [
           {
            "colorbar": {
             "outlinewidth": 0,
             "ticks": ""
            },
            "colorscale": [
             [
              0,
              "#0d0887"
             ],
             [
              0.1111111111111111,
              "#46039f"
             ],
             [
              0.2222222222222222,
              "#7201a8"
             ],
             [
              0.3333333333333333,
              "#9c179e"
             ],
             [
              0.4444444444444444,
              "#bd3786"
             ],
             [
              0.5555555555555556,
              "#d8576b"
             ],
             [
              0.6666666666666666,
              "#ed7953"
             ],
             [
              0.7777777777777778,
              "#fb9f3a"
             ],
             [
              0.8888888888888888,
              "#fdca26"
             ],
             [
              1,
              "#f0f921"
             ]
            ],
            "type": "histogram2dcontour"
           }
          ],
          "mesh3d": [
           {
            "colorbar": {
             "outlinewidth": 0,
             "ticks": ""
            },
            "type": "mesh3d"
           }
          ],
          "parcoords": [
           {
            "line": {
             "colorbar": {
              "outlinewidth": 0,
              "ticks": ""
             }
            },
            "type": "parcoords"
           }
          ],
          "pie": [
           {
            "automargin": true,
            "type": "pie"
           }
          ],
          "scatter": [
           {
            "fillpattern": {
             "fillmode": "overlay",
             "size": 10,
             "solidity": 0.2
            },
            "type": "scatter"
           }
          ],
          "scatter3d": [
           {
            "line": {
             "colorbar": {
              "outlinewidth": 0,
              "ticks": ""
             }
            },
            "marker": {
             "colorbar": {
              "outlinewidth": 0,
              "ticks": ""
             }
            },
            "type": "scatter3d"
           }
          ],
          "scattercarpet": [
           {
            "marker": {
             "colorbar": {
              "outlinewidth": 0,
              "ticks": ""
             }
            },
            "type": "scattercarpet"
           }
          ],
          "scattergeo": [
           {
            "marker": {
             "colorbar": {
              "outlinewidth": 0,
              "ticks": ""
             }
            },
            "type": "scattergeo"
           }
          ],
          "scattergl": [
           {
            "marker": {
             "colorbar": {
              "outlinewidth": 0,
              "ticks": ""
             }
            },
            "type": "scattergl"
           }
          ],
          "scattermap": [
           {
            "marker": {
             "colorbar": {
              "outlinewidth": 0,
              "ticks": ""
             }
            },
            "type": "scattermap"
           }
          ],
          "scattermapbox": [
           {
            "marker": {
             "colorbar": {
              "outlinewidth": 0,
              "ticks": ""
             }
            },
            "type": "scattermapbox"
           }
          ],
          "scatterpolar": [
           {
            "marker": {
             "colorbar": {
              "outlinewidth": 0,
              "ticks": ""
             }
            },
            "type": "scatterpolar"
           }
          ],
          "scatterpolargl": [
           {
            "marker": {
             "colorbar": {
              "outlinewidth": 0,
              "ticks": ""
             }
            },
            "type": "scatterpolargl"
           }
          ],
          "scatterternary": [
           {
            "marker": {
             "colorbar": {
              "outlinewidth": 0,
              "ticks": ""
             }
            },
            "type": "scatterternary"
           }
          ],
          "surface": [
           {
            "colorbar": {
             "outlinewidth": 0,
             "ticks": ""
            },
            "colorscale": [
             [
              0,
              "#0d0887"
             ],
             [
              0.1111111111111111,
              "#46039f"
             ],
             [
              0.2222222222222222,
              "#7201a8"
             ],
             [
              0.3333333333333333,
              "#9c179e"
             ],
             [
              0.4444444444444444,
              "#bd3786"
             ],
             [
              0.5555555555555556,
              "#d8576b"
             ],
             [
              0.6666666666666666,
              "#ed7953"
             ],
             [
              0.7777777777777778,
              "#fb9f3a"
             ],
             [
              0.8888888888888888,
              "#fdca26"
             ],
             [
              1,
              "#f0f921"
             ]
            ],
            "type": "surface"
           }
          ],
          "table": [
           {
            "cells": {
             "fill": {
              "color": "#EBF0F8"
             },
             "line": {
              "color": "white"
             }
            },
            "header": {
             "fill": {
              "color": "#C8D4E3"
             },
             "line": {
              "color": "white"
             }
            },
            "type": "table"
           }
          ]
         },
         "layout": {
          "annotationdefaults": {
           "arrowcolor": "#2a3f5f",
           "arrowhead": 0,
           "arrowwidth": 1
          },
          "autotypenumbers": "strict",
          "coloraxis": {
           "colorbar": {
            "outlinewidth": 0,
            "ticks": ""
           }
          },
          "colorscale": {
           "diverging": [
            [
             0,
             "#8e0152"
            ],
            [
             0.1,
             "#c51b7d"
            ],
            [
             0.2,
             "#de77ae"
            ],
            [
             0.3,
             "#f1b6da"
            ],
            [
             0.4,
             "#fde0ef"
            ],
            [
             0.5,
             "#f7f7f7"
            ],
            [
             0.6,
             "#e6f5d0"
            ],
            [
             0.7,
             "#b8e186"
            ],
            [
             0.8,
             "#7fbc41"
            ],
            [
             0.9,
             "#4d9221"
            ],
            [
             1,
             "#276419"
            ]
           ],
           "sequential": [
            [
             0,
             "#0d0887"
            ],
            [
             0.1111111111111111,
             "#46039f"
            ],
            [
             0.2222222222222222,
             "#7201a8"
            ],
            [
             0.3333333333333333,
             "#9c179e"
            ],
            [
             0.4444444444444444,
             "#bd3786"
            ],
            [
             0.5555555555555556,
             "#d8576b"
            ],
            [
             0.6666666666666666,
             "#ed7953"
            ],
            [
             0.7777777777777778,
             "#fb9f3a"
            ],
            [
             0.8888888888888888,
             "#fdca26"
            ],
            [
             1,
             "#f0f921"
            ]
           ],
           "sequentialminus": [
            [
             0,
             "#0d0887"
            ],
            [
             0.1111111111111111,
             "#46039f"
            ],
            [
             0.2222222222222222,
             "#7201a8"
            ],
            [
             0.3333333333333333,
             "#9c179e"
            ],
            [
             0.4444444444444444,
             "#bd3786"
            ],
            [
             0.5555555555555556,
             "#d8576b"
            ],
            [
             0.6666666666666666,
             "#ed7953"
            ],
            [
             0.7777777777777778,
             "#fb9f3a"
            ],
            [
             0.8888888888888888,
             "#fdca26"
            ],
            [
             1,
             "#f0f921"
            ]
           ]
          },
          "colorway": [
           "#636efa",
           "#EF553B",
           "#00cc96",
           "#ab63fa",
           "#FFA15A",
           "#19d3f3",
           "#FF6692",
           "#B6E880",
           "#FF97FF",
           "#FECB52"
          ],
          "font": {
           "color": "#2a3f5f",
           "family": "Cardo"
          },
          "geo": {
           "bgcolor": "white",
           "lakecolor": "white",
           "landcolor": "#E5ECF6",
           "showlakes": true,
           "showland": true,
           "subunitcolor": "white"
          },
          "hoverlabel": {
           "align": "left"
          },
          "hovermode": "closest",
          "mapbox": {
           "style": "light"
          },
          "paper_bgcolor": "white",
          "plot_bgcolor": "#E5ECF6",
          "polar": {
           "angularaxis": {
            "gridcolor": "white",
            "linecolor": "white",
            "ticks": ""
           },
           "bgcolor": "#E5ECF6",
           "radialaxis": {
            "gridcolor": "white",
            "linecolor": "white",
            "ticks": ""
           }
          },
          "scene": {
           "xaxis": {
            "backgroundcolor": "#E5ECF6",
            "gridcolor": "white",
            "gridwidth": 2,
            "linecolor": "white",
            "showbackground": true,
            "ticks": "",
            "zerolinecolor": "white"
           },
           "yaxis": {
            "backgroundcolor": "#E5ECF6",
            "gridcolor": "white",
            "gridwidth": 2,
            "linecolor": "white",
            "showbackground": true,
            "ticks": "",
            "zerolinecolor": "white"
           },
           "zaxis": {
            "backgroundcolor": "#E5ECF6",
            "gridcolor": "white",
            "gridwidth": 2,
            "linecolor": "white",
            "showbackground": true,
            "ticks": "",
            "zerolinecolor": "white"
           }
          },
          "shapedefaults": {
           "line": {
            "color": "#2a3f5f"
           }
          },
          "ternary": {
           "aaxis": {
            "gridcolor": "white",
            "linecolor": "white",
            "ticks": ""
           },
           "baxis": {
            "gridcolor": "white",
            "linecolor": "white",
            "ticks": ""
           },
           "bgcolor": "#E5ECF6",
           "caxis": {
            "gridcolor": "white",
            "linecolor": "white",
            "ticks": ""
           }
          },
          "title": {
           "x": 0.05
          },
          "xaxis": {
           "automargin": true,
           "gridcolor": "white",
           "linecolor": "white",
           "ticks": "",
           "title": {
            "standoff": 15
           },
           "zerolinecolor": "white",
           "zerolinewidth": 2
          },
          "yaxis": {
           "automargin": true,
           "gridcolor": "white",
           "linecolor": "white",
           "ticks": "",
           "title": {
            "standoff": 15
           },
           "zerolinecolor": "white",
           "zerolinewidth": 2
          }
         }
        },
        "title": {
         "font": {
          "color": "black",
          "family": "Cardo",
          "size": 27
         },
         "text": "<span style='color: black; font-weight: normal;'>RLUSD Cumulative DEX Volume <br>by Chain</span><br><sub style='font-size: 18px; color: black; font-weight: normal;'></sub>",
         "x": 0.1,
         "xanchor": "left",
         "y": 0.92,
         "yanchor": "top"
        },
        "width": 730
       }
      }
     },
     "metadata": {},
     "output_type": "display_data"
    }
   ],
   "source": [
    "fig7.return_fig()"
   ]
  },
  {
   "cell_type": "code",
   "execution_count": null,
   "metadata": {},
   "outputs": [],
   "source": []
  }
 ],
 "metadata": {
  "kernelspec": {
   "display_name": "rlusd_env",
   "language": "python",
   "name": "rlusd_env"
  },
  "language_info": {
   "codemirror_mode": {
    "name": "ipython",
    "version": 3
   },
   "file_extension": ".py",
   "mimetype": "text/x-python",
   "name": "python",
   "nbconvert_exporter": "python",
   "pygments_lexer": "ipython3",
   "version": "3.11.9"
  }
 },
 "nbformat": 4,
 "nbformat_minor": 2
}
