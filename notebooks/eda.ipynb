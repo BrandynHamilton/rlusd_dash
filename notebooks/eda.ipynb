{
 "cells": [
  {
   "cell_type": "code",
   "execution_count": 1,
   "metadata": {},
   "outputs": [
    {
     "data": {
      "text/html": [
       "<style>\n",
       "@import url('https://fonts.googleapis.com/css2?family=IBM+Plex+Mono:wght@400;700&display=swap');\n",
       "</style>"
      ],
      "text/plain": [
       "<IPython.core.display.HTML object>"
      ]
     },
     "execution_count": 1,
     "metadata": {},
     "output_type": "execute_result"
    }
   ],
   "source": [
    "from IPython.display import HTML\n",
    "\n",
    "# Load the IBM Plex Mono font\n",
    "HTML('''<style>\n",
    "@import url('https://fonts.googleapis.com/css2?family=IBM+Plex+Mono:wght@400;700&display=swap');\n",
    "</style>''')"
   ]
  },
  {
   "cell_type": "code",
   "execution_count": 2,
   "metadata": {},
   "outputs": [],
   "source": [
    "import os\n",
    "import pandas as pd\n",
    "\n",
    "from plotly.subplots import make_subplots\n",
    "import plotly.graph_objects as go\n",
    "import plotly.express as px\n",
    "import plotly.io as pio\n",
    "import plotly.offline as pyo\n",
    "import plotly.colors as pc\n",
    "\n",
    "import datetime as dt\n",
    "from datetime import timedelta\n",
    "import sys\n",
    "import requests\n",
    "from dotenv import load_dotenv\n",
    "\n",
    "from web3 import Web3\n",
    "from eth_abi import decode\n",
    "from eth_utils import decode_hex, to_text\n",
    "from web3.middleware import geth_poa_middleware\n",
    "import time\n",
    "import json\n",
    "from dash import Dash, html, dcc, Input, Output, State, callback\n",
    "from dash import dash_table\n",
    "\n",
    "import requests\n",
    "from dune_client.client import DuneClient\n",
    "\n",
    "from IPython.display import Image, display\n",
    "\n",
    "pio.templates[\"custom\"] = pio.templates[\"plotly\"]\n",
    "pio.templates[\"custom\"].layout.font.family = \"IBM Plex Mono\"\n",
    "\n",
    "# Set the default template\n",
    "pio.templates.default = \"custom\""
   ]
  },
  {
   "cell_type": "code",
   "execution_count": 3,
   "metadata": {},
   "outputs": [
    {
     "name": "stdout",
     "output_type": "stream",
     "text": [
      "sys.path: ['C:\\\\Users\\\\brandyns pc\\\\AppData\\\\Local\\\\Programs\\\\Python\\\\Python311\\\\python311.zip', 'C:\\\\Users\\\\brandyns pc\\\\AppData\\\\Local\\\\Programs\\\\Python\\\\Python311\\\\DLLs', 'C:\\\\Users\\\\brandyns pc\\\\AppData\\\\Local\\\\Programs\\\\Python\\\\Python311\\\\Lib', 'C:\\\\Users\\\\brandyns pc\\\\AppData\\\\Local\\\\Programs\\\\Python\\\\Python311', 'e:\\\\Projects\\\\rlusd_dash\\\\rlusd_env', '', 'e:\\\\Projects\\\\rlusd_dash\\\\rlusd_env\\\\Lib\\\\site-packages', 'e:\\\\projects\\\\chart_builder_pkg', 'e:\\\\Projects\\\\rlusd_dash\\\\rlusd_env\\\\Lib\\\\site-packages\\\\win32', 'e:\\\\Projects\\\\rlusd_dash\\\\rlusd_env\\\\Lib\\\\site-packages\\\\win32\\\\lib', 'e:\\\\Projects\\\\rlusd_dash\\\\rlusd_env\\\\Lib\\\\site-packages\\\\Pythonwin', 'e:\\\\projects\\\\chart_builder_pkg\\\\chart_builder\\\\scripts']\n",
      "Current working directory: e:\\Projects\\rlusd_dash\\notebooks\n",
      "Current directory: e:\\projects\\chart_builder_pkg\\chart_builder\\scripts\n",
      "Current working directory: e:\\Projects\\rlusd_dash\\notebooks\n",
      "Current directory: e:\\projects\\chart_builder_pkg\\chart_builder\\scripts\n"
     ]
    }
   ],
   "source": [
    "from chart_builder.scripts.visualization_pipeline import visualization_pipeline\n",
    "from chart_builder.scripts.utils import data_processing,create_df,open_json, main as chartBuilder"
   ]
  },
  {
   "cell_type": "code",
   "execution_count": 4,
   "metadata": {},
   "outputs": [],
   "source": [
    "os.chdir('..')"
   ]
  },
  {
   "cell_type": "code",
   "execution_count": 5,
   "metadata": {},
   "outputs": [],
   "source": [
    "from sql_queries.sql_scripts import lp_data\n",
    "from python_scripts.utils import flipside_api_results"
   ]
  },
  {
   "cell_type": "code",
   "execution_count": 6,
   "metadata": {},
   "outputs": [
    {
     "name": "stdout",
     "output_type": "stream",
     "text": [
      "e:\\Projects\\rlusd_dash\n"
     ]
    }
   ],
   "source": [
    "print(os.getcwd())"
   ]
  },
  {
   "cell_type": "code",
   "execution_count": 7,
   "metadata": {},
   "outputs": [
    {
     "data": {
      "text/plain": [
       "True"
      ]
     },
     "execution_count": 7,
     "metadata": {},
     "output_type": "execute_result"
    }
   ],
   "source": [
    "load_dotenv()"
   ]
  },
  {
   "cell_type": "code",
   "execution_count": 8,
   "metadata": {},
   "outputs": [
    {
     "name": "stdout",
     "output_type": "stream",
     "text": [
      "Combined colors: ['#00CC96', '#67D8FE', '#FF7EBE', '#FFBC36', '#E6FF59', '#2E91E5', '#E15F99', '#1CA71C', '#FB0D0D', '#DA16FF', '#222A2A', '#B68100', '#750D86', '#EB663B', '#511CFB', '#00A08B', '#FB00D1', '#FC0080', '#B2828D', '#6C7C32', '#778AAE', '#862A16', '#A777F1', '#620042', '#1616A7', '#DA60CA', '#6C4516', '#0D2A63', '#AF0038', 'rgb(141,211,199)', 'rgb(255,255,179)', 'rgb(190,186,218)', 'rgb(251,128,114)', 'rgb(128,177,211)', 'rgb(253,180,98)', 'rgb(179,222,105)', 'rgb(252,205,229)', 'rgb(217,217,217)', 'rgb(188,128,189)', 'rgb(204,235,197)', 'rgb(255,237,111)', '#FECB52', '#FF97FF', '#B6E880', '#FF6692', '#19D3F3', '#FFA15A', '#AB63FA', '#00CC96', '#EF553B', '#636EFA'] \n",
      "Combined colors length: 51\n"
     ]
    }
   ],
   "source": [
    "import random\n",
    "\n",
    "def colors(shuffle=False):\n",
    "    on_colors = ['#00CC96', '#67D8FE','#FF7EBE', '#FFBC36', '#E6FF59']\n",
    "    \n",
    "    color_palette = pc.qualitative.Plotly[::-1]\n",
    "    distinct_palette = pc.qualitative.Dark24 + pc.qualitative.Set3\n",
    "    lib_colors = distinct_palette+color_palette\n",
    "\n",
    "    if shuffle==True:\n",
    "        random.shuffle(lib_colors)\n",
    "\n",
    "    combined_colors = on_colors + lib_colors\n",
    "    print(f'Combined colors: {combined_colors} \\nCombined colors length: {len(combined_colors)}')\n",
    "    \n",
    "    return combined_colors\n",
    "\n",
    "combined_colors = colors()\n",
    "font_family = 'IBM Plex Mono'"
   ]
  },
  {
   "cell_type": "code",
   "execution_count": 9,
   "metadata": {},
   "outputs": [],
   "source": [
    "def dune_api_results(query_num, save_csv=False, csv_path=None):\n",
    "    results = dune.get_latest_result(query_num)\n",
    "    df = pd.DataFrame(results.result.rows)\n",
    "\n",
    "    if save_csv and csv_path:\n",
    "        df.to_csv(csv_path, index=False)\n",
    "    return df"
   ]
  },
  {
   "cell_type": "code",
   "execution_count": 10,
   "metadata": {},
   "outputs": [],
   "source": [
    "RLUSD_ETHEREUM = os.getenv('RLUSD_ETHEREUM')\n",
    "RLUSD_XRP = os.getenv('RLUSD_XRP')\n",
    "DUNE_KEY = os.getenv('DUNE_API_KEY')\n",
    "FLIPSIDE_KEY = os.getenv('FLIPSIDE_API_KEY')"
   ]
  },
  {
   "cell_type": "code",
   "execution_count": 11,
   "metadata": {},
   "outputs": [],
   "source": [
    "dune = DuneClient(DUNE_KEY)"
   ]
  },
  {
   "cell_type": "code",
   "execution_count": 12,
   "metadata": {},
   "outputs": [],
   "source": [
    "w3 = Web3(Web3.HTTPProvider('https://eth-mainnet.g.alchemy.com/v2/6AUlaGmWe505S7gRPZXVh4YEFgJdYHy5'))"
   ]
  },
  {
   "cell_type": "code",
   "execution_count": 13,
   "metadata": {},
   "outputs": [
    {
     "name": "stdout",
     "output_type": "stream",
     "text": [
      "{'abi/erc20_abi.json': [{'constant': True, 'inputs': [], 'name': 'name', 'outputs': [{'name': '', 'type': 'string'}], 'payable': False, 'stateMutability': 'view', 'type': 'function'}, {'constant': False, 'inputs': [{'name': '_spender', 'type': 'address'}, {'name': '_value', 'type': 'uint256'}], 'name': 'approve', 'outputs': [{'name': '', 'type': 'bool'}], 'payable': False, 'stateMutability': 'nonpayable', 'type': 'function'}, {'constant': True, 'inputs': [], 'name': 'totalSupply', 'outputs': [{'name': '', 'type': 'uint256'}], 'payable': False, 'stateMutability': 'view', 'type': 'function'}, {'constant': False, 'inputs': [{'name': '_from', 'type': 'address'}, {'name': '_to', 'type': 'address'}, {'name': '_value', 'type': 'uint256'}], 'name': 'transferFrom', 'outputs': [{'name': '', 'type': 'bool'}], 'payable': False, 'stateMutability': 'nonpayable', 'type': 'function'}, {'constant': True, 'inputs': [], 'name': 'decimals', 'outputs': [{'name': '', 'type': 'uint8'}], 'payable': False, 'stateMutability': 'view', 'type': 'function'}, {'constant': True, 'inputs': [{'name': '_owner', 'type': 'address'}], 'name': 'balanceOf', 'outputs': [{'name': 'balance', 'type': 'uint256'}], 'payable': False, 'stateMutability': 'view', 'type': 'function'}, {'constant': True, 'inputs': [], 'name': 'symbol', 'outputs': [{'name': '', 'type': 'string'}], 'payable': False, 'stateMutability': 'view', 'type': 'function'}, {'constant': False, 'inputs': [{'name': '_to', 'type': 'address'}, {'name': '_value', 'type': 'uint256'}], 'name': 'transfer', 'outputs': [{'name': '', 'type': 'bool'}], 'payable': False, 'stateMutability': 'nonpayable', 'type': 'function'}, {'constant': True, 'inputs': [{'name': '_owner', 'type': 'address'}, {'name': '_spender', 'type': 'address'}], 'name': 'allowance', 'outputs': [{'name': '', 'type': 'uint256'}], 'payable': False, 'stateMutability': 'view', 'type': 'function'}, {'payable': True, 'stateMutability': 'payable', 'type': 'fallback'}, {'anonymous': False, 'inputs': [{'indexed': True, 'name': 'owner', 'type': 'address'}, {'indexed': True, 'name': 'spender', 'type': 'address'}, {'indexed': False, 'name': 'value', 'type': 'uint256'}], 'name': 'Approval', 'type': 'event'}, {'anonymous': False, 'inputs': [{'indexed': True, 'name': 'from', 'type': 'address'}, {'indexed': True, 'name': 'to', 'type': 'address'}, {'indexed': False, 'name': 'value', 'type': 'uint256'}], 'name': 'Transfer', 'type': 'event'}]}\n"
     ]
    }
   ],
   "source": [
    "erc20_abi_path = 'abi/erc20_abi.json'\n",
    "\n",
    "abi_paths = [erc20_abi_path]\n",
    "abis = {}\n",
    "\n",
    "for path in abi_paths:\n",
    "    with open(path, \"r\") as file:\n",
    "        abis[path] = json.load(file)\n",
    "\n",
    "print(abis)"
   ]
  },
  {
   "cell_type": "code",
   "execution_count": 14,
   "metadata": {},
   "outputs": [],
   "source": [
    "rlusd_contract = w3.eth.contract(address=RLUSD_ETHEREUM, abi=abis['abi/erc20_abi.json'])"
   ]
  },
  {
   "cell_type": "code",
   "execution_count": 15,
   "metadata": {},
   "outputs": [
    {
     "data": {
      "text/plain": [
       "85337632.55"
      ]
     },
     "execution_count": 15,
     "metadata": {},
     "output_type": "execute_result"
    }
   ],
   "source": [
    "rlusd_ETH_supply = rlusd_contract.functions.totalSupply().call() /1e18\n",
    "rlusd_ETH_supply"
   ]
  },
  {
   "cell_type": "code",
   "execution_count": 16,
   "metadata": {},
   "outputs": [],
   "source": [
    "def call_api(base_url):\n",
    "    response = requests.get(base_url)\n",
    "\n",
    "    # Check if the request was successful\n",
    "    if response.status_code == 200:\n",
    "        data = response.json()\n",
    "        print(\"data:\", data)\n",
    "        return data\n",
    "    else:\n",
    "        print(\"Error:\", response.status_code, response.text)\n",
    "        return None\n",
    "    "
   ]
  },
  {
   "cell_type": "code",
   "execution_count": 17,
   "metadata": {},
   "outputs": [
    {
     "name": "stdout",
     "output_type": "stream",
     "text": [
      "data: [{'currency': '524C555344000000000000000000000000000000', 'value': '37479104.2900001'}]\n"
     ]
    }
   ],
   "source": [
    "base_url = f'https://api.xrpscan.com/api/v1/account/{RLUSD_XRP}/obligations'\n",
    "data = call_api(base_url)"
   ]
  },
  {
   "cell_type": "code",
   "execution_count": 18,
   "metadata": {},
   "outputs": [],
   "source": [
    "rlusd_raw = pd.DataFrame(data)\n",
    "rlusd_XRP_supply = float(rlusd_raw['value'].values[0])"
   ]
  },
  {
   "cell_type": "code",
   "execution_count": 19,
   "metadata": {},
   "outputs": [
    {
     "data": {
      "text/plain": [
       "37479104.2900001"
      ]
     },
     "execution_count": 19,
     "metadata": {},
     "output_type": "execute_result"
    }
   ],
   "source": [
    "rlusd_XRP_supply"
   ]
  },
  {
   "cell_type": "code",
   "execution_count": 20,
   "metadata": {},
   "outputs": [
    {
     "data": {
      "text/plain": [
       "{'Blockchain': ['Ethereum', 'XRP'], 'Supply': [85337632.55, 37479104.2900001]}"
      ]
     },
     "execution_count": 20,
     "metadata": {},
     "output_type": "execute_result"
    }
   ],
   "source": [
    "supply_dict = {\n",
    "    \"Blockchain\":[\"Ethereum\",\"XRP\"],\n",
    "    \"Supply\":[rlusd_ETH_supply,rlusd_XRP_supply]\n",
    "}\n",
    "\n",
    "supply_dict"
   ]
  },
  {
   "cell_type": "code",
   "execution_count": 21,
   "metadata": {},
   "outputs": [],
   "source": [
    "supply_df = pd.DataFrame(supply_dict)"
   ]
  },
  {
   "cell_type": "code",
   "execution_count": 22,
   "metadata": {},
   "outputs": [],
   "source": [
    "supply_df.to_csv('data/rl_usd_supply.csv')"
   ]
  },
  {
   "cell_type": "code",
   "execution_count": 23,
   "metadata": {},
   "outputs": [
    {
     "data": {
      "text/plain": [
       "np.float64(122816736.8400001)"
      ]
     },
     "execution_count": 23,
     "metadata": {},
     "output_type": "execute_result"
    }
   ],
   "source": [
    "total_rlusd_supply = supply_df['Supply'].sum()\n",
    "total_rlusd_supply"
   ]
  },
  {
   "cell_type": "code",
   "execution_count": 24,
   "metadata": {},
   "outputs": [
    {
     "name": "stdout",
     "output_type": "stream",
     "text": [
      "Initialized axes_data: {'y1': 'All', 'y2': []}\n",
      "tick0: min\n",
      "turn_to_time: False\n",
      "df sort order at init: ['Ethereum' 'XRP']\n"
     ]
    }
   ],
   "source": [
    "fig1 = visualization_pipeline(\n",
    "df=supply_df,\n",
    "    title='rlusd_fig1',\n",
    "    # start_date='2024-01-01',\n",
    "    # end_date='2024-12-31',\n",
    "    # end_date='2024-10-01',\n",
    "    chart_type='pie',\n",
    "    dimensions=dict(height=351, width=730),\n",
    "    groupby = 'Blockchain',\n",
    "    num_col='Supply',\n",
    "    # cols_to_plot='All',\n",
    "    # line_col=['cumulative_freq'],\n",
    "    # bar_col=['freg'],\n",
    "    tickangle=0,\n",
    "    dropna=True,\n",
    "    area=True,\n",
    "    colors=combined_colors,\n",
    "    # axes_data=dict(y1=['UAW'],y2=[]),\n",
    "    tickformat=dict(x='%b<br>`%y',y1=None,y2=None),\n",
    "    legend_font_size=12,\n",
    "    font_family=font_family,\n",
    "    cumulative_sort=True,\n",
    "    normalize=False,\n",
    "    decimals=True,\n",
    "    decimal_places=0,\n",
    "    y2=True,\n",
    "    # min_tick_spacing=50,\n",
    "    # buffer=3,\n",
    "    barmode='group',\n",
    "    mode='lines+markers',\n",
    "    # font_size=14,\n",
    "    # line_width=3,\n",
    "    margin=dict(l=0, r=0, t=50, b=0),\n",
    "    marker_size=3,\n",
    "    tickprefix=dict(y1='$',y2=None),\n",
    "    ticksuffix=dict(y1=None,y2=None),\n",
    "    axes_titles=dict(y1=None,y2=None),\n",
    "    show_legend=False,\n",
    "    hole_size=0,\n",
    "    line_width=0,\n",
    "    descending=False,\n",
    "    buffer = 0.25,\n",
    "    annotations=True,\n",
    "    text=True,\n",
    "    orientation='h',\n",
    "    sort_list=True,\n",
    "    autosize=False,\n",
    "    max_annotation=True,\n",
    "    annotation_prefix=None,\n",
    "    auto_title=False,\n",
    "    axes_font_colors='auto',\n",
    "    to_reverse=False,\n",
    "    line_color='black',\n",
    "    use_single_color=False,\n",
    "    custom_annotation = ['2022-10-31'],\n",
    "    # axes_font_colors='auto',\n",
    ")"
   ]
  },
  {
   "cell_type": "code",
   "execution_count": 25,
   "metadata": {},
   "outputs": [
    {
     "name": "stdout",
     "output_type": "stream",
     "text": [
      "save:False\n",
      "capwords: []\n",
      "y1_list: All \n",
      "y2_list: []\n",
      "'Blockchain' does not match capword. Converting to title case: Blockchain\n",
      "Cleaned string: 'Blockchain'\n",
      "'Supply' does not match capword. Converting to title case: Supply\n",
      "Cleaned string: 'Supply'\n",
      "'A' does not match capword. Converting to title case: A\n",
      "Cleaned string: 'A'\n",
      "'l' does not match capword. Converting to title case: L\n",
      "Cleaned string: 'L'\n",
      "'l' does not match capword. Converting to title case: L\n",
      "Cleaned string: 'L'\n",
      "'Blockchain' does not match capword. Converting to title case: Blockchain\n",
      "Cleaned string: 'Blockchain'\n",
      "Cleaned groupby: Blockchain\n",
      "'Supply' does not match capword. Converting to title case: Supply\n",
      "Cleaned string: 'Supply'\n",
      "Cleaned num_col: Supply\n",
      "Cleaned DataFrame columns: ['Blockchain', 'Supply']\n",
      "Cleaned cols_to_plot: ['Blockchain', 'Supply']\n",
      "Cleaned bar_col: []\n",
      "Cleaned line_col: []\n",
      "Cleaned y1_list: ['A', 'L', 'L']\n",
      "Cleaned y2_list: []\n",
      "Cleaned groupby: Blockchain\n",
      "Cleaned num_col: Supply\n",
      "logo path: ../img/Logos/None\n",
      "Generating pie chart...\n",
      "self.textinfo: percent+label\n",
      "original_labels: ['Ethereum' 'XRP']\n",
      "df_copy:                  Supply\n",
      "Blockchain             \n",
      "Ethereum    85337632.55\n",
      "XRP         37479104.29\n",
      "percent+label, ['Ethereum    ', 'XRP    ']\n",
      "textinfo: percent+label\n",
      "x:122816736.8400001M\n",
      "Columns: Index(['Blockchain', 'Supply'], dtype='object') \n",
      "Index: RangeIndex(start=0, stop=2, step=1)\n"
     ]
    },
    {
     "data": {
      "application/vnd.plotly.v1+json": {
       "config": {
        "linkText": "Export to plot.ly",
        "plotlyServerURL": "https://plot.ly",
        "showLink": false
       },
       "data": [
        {
         "hole": 0,
         "labels": [
          "Ethereum    ",
          "XRP    "
         ],
         "marker": {
          "colors": [
           "#00CC96",
           "#67D8FE",
           "#FF7EBE",
           "#FFBC36",
           "#E6FF59",
           "#2E91E5",
           "#E15F99",
           "#1CA71C",
           "#FB0D0D",
           "#DA16FF",
           "#222A2A",
           "#B68100",
           "#750D86",
           "#EB663B",
           "#511CFB",
           "#00A08B",
           "#FB00D1",
           "#FC0080",
           "#B2828D",
           "#6C7C32",
           "#778AAE",
           "#862A16",
           "#A777F1",
           "#620042",
           "#1616A7",
           "#DA60CA",
           "#6C4516",
           "#0D2A63",
           "#AF0038",
           "rgb(141,211,199)",
           "rgb(255,255,179)",
           "rgb(190,186,218)",
           "rgb(251,128,114)",
           "rgb(128,177,211)",
           "rgb(253,180,98)",
           "rgb(179,222,105)",
           "rgb(252,205,229)",
           "rgb(217,217,217)",
           "rgb(188,128,189)",
           "rgb(204,235,197)",
           "rgb(255,237,111)",
           "#FECB52",
           "#FF97FF",
           "#B6E880",
           "#FF6692",
           "#19D3F3",
           "#FFA15A",
           "#AB63FA",
           "#00CC96",
           "#EF553B",
           "#636EFA"
          ],
          "line": {
           "color": "white",
           "width": 0
          }
         },
         "showlegend": false,
         "textfont": {
          "color": "black",
          "family": "IBM Plex Mono",
          "size": 14
         },
         "textinfo": "percent+label",
         "texttemplate": "%{label}<br>%{percent}",
         "type": "pie",
         "values": {
          "bdata": "MzMzgphYlEGT61ECFt+BQQ==",
          "dtype": "f8"
         }
        }
       ],
       "layout": {
        "annotations": [
         {
          "align": "center",
          "font": {
           "color": "black",
           "family": "IBM Plex Mono",
           "size": 25
          },
          "showarrow": false,
          "text": "Total: 123M",
          "x": 0.5,
          "xref": "paper",
          "y": 0.5,
          "yref": "paper"
         }
        ],
        "autosize": true,
        "font": {
         "family": "IBM Plex Mono",
         "size": 16
        },
        "height": 351,
        "legend": {
         "bgcolor": "rgba(0,0,0,0)",
         "font": {
          "color": "black",
          "family": "IBM Plex Mono",
          "size": 12
         },
         "itemsizing": "constant",
         "orientation": "v",
         "x": 0.2,
         "xanchor": "left",
         "y": 0.9,
         "yanchor": "top"
        },
        "margin": {
         "b": 0,
         "l": 0,
         "r": 0,
         "t": 50
        },
        "paper_bgcolor": "rgba(0,0,0,0)",
        "plot_bgcolor": "rgba(0,0,0,0)",
        "template": {
         "data": {
          "bar": [
           {
            "error_x": {
             "color": "#2a3f5f"
            },
            "error_y": {
             "color": "#2a3f5f"
            },
            "marker": {
             "line": {
              "color": "#E5ECF6",
              "width": 0.5
             },
             "pattern": {
              "fillmode": "overlay",
              "size": 10,
              "solidity": 0.2
             }
            },
            "type": "bar"
           }
          ],
          "barpolar": [
           {
            "marker": {
             "line": {
              "color": "#E5ECF6",
              "width": 0.5
             },
             "pattern": {
              "fillmode": "overlay",
              "size": 10,
              "solidity": 0.2
             }
            },
            "type": "barpolar"
           }
          ],
          "carpet": [
           {
            "aaxis": {
             "endlinecolor": "#2a3f5f",
             "gridcolor": "white",
             "linecolor": "white",
             "minorgridcolor": "white",
             "startlinecolor": "#2a3f5f"
            },
            "baxis": {
             "endlinecolor": "#2a3f5f",
             "gridcolor": "white",
             "linecolor": "white",
             "minorgridcolor": "white",
             "startlinecolor": "#2a3f5f"
            },
            "type": "carpet"
           }
          ],
          "choropleth": [
           {
            "colorbar": {
             "outlinewidth": 0,
             "ticks": ""
            },
            "type": "choropleth"
           }
          ],
          "contour": [
           {
            "colorbar": {
             "outlinewidth": 0,
             "ticks": ""
            },
            "colorscale": [
             [
              0,
              "#0d0887"
             ],
             [
              0.1111111111111111,
              "#46039f"
             ],
             [
              0.2222222222222222,
              "#7201a8"
             ],
             [
              0.3333333333333333,
              "#9c179e"
             ],
             [
              0.4444444444444444,
              "#bd3786"
             ],
             [
              0.5555555555555556,
              "#d8576b"
             ],
             [
              0.6666666666666666,
              "#ed7953"
             ],
             [
              0.7777777777777778,
              "#fb9f3a"
             ],
             [
              0.8888888888888888,
              "#fdca26"
             ],
             [
              1,
              "#f0f921"
             ]
            ],
            "type": "contour"
           }
          ],
          "contourcarpet": [
           {
            "colorbar": {
             "outlinewidth": 0,
             "ticks": ""
            },
            "type": "contourcarpet"
           }
          ],
          "heatmap": [
           {
            "colorbar": {
             "outlinewidth": 0,
             "ticks": ""
            },
            "colorscale": [
             [
              0,
              "#0d0887"
             ],
             [
              0.1111111111111111,
              "#46039f"
             ],
             [
              0.2222222222222222,
              "#7201a8"
             ],
             [
              0.3333333333333333,
              "#9c179e"
             ],
             [
              0.4444444444444444,
              "#bd3786"
             ],
             [
              0.5555555555555556,
              "#d8576b"
             ],
             [
              0.6666666666666666,
              "#ed7953"
             ],
             [
              0.7777777777777778,
              "#fb9f3a"
             ],
             [
              0.8888888888888888,
              "#fdca26"
             ],
             [
              1,
              "#f0f921"
             ]
            ],
            "type": "heatmap"
           }
          ],
          "histogram": [
           {
            "marker": {
             "pattern": {
              "fillmode": "overlay",
              "size": 10,
              "solidity": 0.2
             }
            },
            "type": "histogram"
           }
          ],
          "histogram2d": [
           {
            "colorbar": {
             "outlinewidth": 0,
             "ticks": ""
            },
            "colorscale": [
             [
              0,
              "#0d0887"
             ],
             [
              0.1111111111111111,
              "#46039f"
             ],
             [
              0.2222222222222222,
              "#7201a8"
             ],
             [
              0.3333333333333333,
              "#9c179e"
             ],
             [
              0.4444444444444444,
              "#bd3786"
             ],
             [
              0.5555555555555556,
              "#d8576b"
             ],
             [
              0.6666666666666666,
              "#ed7953"
             ],
             [
              0.7777777777777778,
              "#fb9f3a"
             ],
             [
              0.8888888888888888,
              "#fdca26"
             ],
             [
              1,
              "#f0f921"
             ]
            ],
            "type": "histogram2d"
           }
          ],
          "histogram2dcontour": [
           {
            "colorbar": {
             "outlinewidth": 0,
             "ticks": ""
            },
            "colorscale": [
             [
              0,
              "#0d0887"
             ],
             [
              0.1111111111111111,
              "#46039f"
             ],
             [
              0.2222222222222222,
              "#7201a8"
             ],
             [
              0.3333333333333333,
              "#9c179e"
             ],
             [
              0.4444444444444444,
              "#bd3786"
             ],
             [
              0.5555555555555556,
              "#d8576b"
             ],
             [
              0.6666666666666666,
              "#ed7953"
             ],
             [
              0.7777777777777778,
              "#fb9f3a"
             ],
             [
              0.8888888888888888,
              "#fdca26"
             ],
             [
              1,
              "#f0f921"
             ]
            ],
            "type": "histogram2dcontour"
           }
          ],
          "mesh3d": [
           {
            "colorbar": {
             "outlinewidth": 0,
             "ticks": ""
            },
            "type": "mesh3d"
           }
          ],
          "parcoords": [
           {
            "line": {
             "colorbar": {
              "outlinewidth": 0,
              "ticks": ""
             }
            },
            "type": "parcoords"
           }
          ],
          "pie": [
           {
            "automargin": true,
            "type": "pie"
           }
          ],
          "scatter": [
           {
            "fillpattern": {
             "fillmode": "overlay",
             "size": 10,
             "solidity": 0.2
            },
            "type": "scatter"
           }
          ],
          "scatter3d": [
           {
            "line": {
             "colorbar": {
              "outlinewidth": 0,
              "ticks": ""
             }
            },
            "marker": {
             "colorbar": {
              "outlinewidth": 0,
              "ticks": ""
             }
            },
            "type": "scatter3d"
           }
          ],
          "scattercarpet": [
           {
            "marker": {
             "colorbar": {
              "outlinewidth": 0,
              "ticks": ""
             }
            },
            "type": "scattercarpet"
           }
          ],
          "scattergeo": [
           {
            "marker": {
             "colorbar": {
              "outlinewidth": 0,
              "ticks": ""
             }
            },
            "type": "scattergeo"
           }
          ],
          "scattergl": [
           {
            "marker": {
             "colorbar": {
              "outlinewidth": 0,
              "ticks": ""
             }
            },
            "type": "scattergl"
           }
          ],
          "scattermap": [
           {
            "marker": {
             "colorbar": {
              "outlinewidth": 0,
              "ticks": ""
             }
            },
            "type": "scattermap"
           }
          ],
          "scattermapbox": [
           {
            "marker": {
             "colorbar": {
              "outlinewidth": 0,
              "ticks": ""
             }
            },
            "type": "scattermapbox"
           }
          ],
          "scatterpolar": [
           {
            "marker": {
             "colorbar": {
              "outlinewidth": 0,
              "ticks": ""
             }
            },
            "type": "scatterpolar"
           }
          ],
          "scatterpolargl": [
           {
            "marker": {
             "colorbar": {
              "outlinewidth": 0,
              "ticks": ""
             }
            },
            "type": "scatterpolargl"
           }
          ],
          "scatterternary": [
           {
            "marker": {
             "colorbar": {
              "outlinewidth": 0,
              "ticks": ""
             }
            },
            "type": "scatterternary"
           }
          ],
          "surface": [
           {
            "colorbar": {
             "outlinewidth": 0,
             "ticks": ""
            },
            "colorscale": [
             [
              0,
              "#0d0887"
             ],
             [
              0.1111111111111111,
              "#46039f"
             ],
             [
              0.2222222222222222,
              "#7201a8"
             ],
             [
              0.3333333333333333,
              "#9c179e"
             ],
             [
              0.4444444444444444,
              "#bd3786"
             ],
             [
              0.5555555555555556,
              "#d8576b"
             ],
             [
              0.6666666666666666,
              "#ed7953"
             ],
             [
              0.7777777777777778,
              "#fb9f3a"
             ],
             [
              0.8888888888888888,
              "#fdca26"
             ],
             [
              1,
              "#f0f921"
             ]
            ],
            "type": "surface"
           }
          ],
          "table": [
           {
            "cells": {
             "fill": {
              "color": "#EBF0F8"
             },
             "line": {
              "color": "white"
             }
            },
            "header": {
             "fill": {
              "color": "#C8D4E3"
             },
             "line": {
              "color": "white"
             }
            },
            "type": "table"
           }
          ]
         },
         "layout": {
          "annotationdefaults": {
           "arrowcolor": "#2a3f5f",
           "arrowhead": 0,
           "arrowwidth": 1
          },
          "autotypenumbers": "strict",
          "coloraxis": {
           "colorbar": {
            "outlinewidth": 0,
            "ticks": ""
           }
          },
          "colorscale": {
           "diverging": [
            [
             0,
             "#8e0152"
            ],
            [
             0.1,
             "#c51b7d"
            ],
            [
             0.2,
             "#de77ae"
            ],
            [
             0.3,
             "#f1b6da"
            ],
            [
             0.4,
             "#fde0ef"
            ],
            [
             0.5,
             "#f7f7f7"
            ],
            [
             0.6,
             "#e6f5d0"
            ],
            [
             0.7,
             "#b8e186"
            ],
            [
             0.8,
             "#7fbc41"
            ],
            [
             0.9,
             "#4d9221"
            ],
            [
             1,
             "#276419"
            ]
           ],
           "sequential": [
            [
             0,
             "#0d0887"
            ],
            [
             0.1111111111111111,
             "#46039f"
            ],
            [
             0.2222222222222222,
             "#7201a8"
            ],
            [
             0.3333333333333333,
             "#9c179e"
            ],
            [
             0.4444444444444444,
             "#bd3786"
            ],
            [
             0.5555555555555556,
             "#d8576b"
            ],
            [
             0.6666666666666666,
             "#ed7953"
            ],
            [
             0.7777777777777778,
             "#fb9f3a"
            ],
            [
             0.8888888888888888,
             "#fdca26"
            ],
            [
             1,
             "#f0f921"
            ]
           ],
           "sequentialminus": [
            [
             0,
             "#0d0887"
            ],
            [
             0.1111111111111111,
             "#46039f"
            ],
            [
             0.2222222222222222,
             "#7201a8"
            ],
            [
             0.3333333333333333,
             "#9c179e"
            ],
            [
             0.4444444444444444,
             "#bd3786"
            ],
            [
             0.5555555555555556,
             "#d8576b"
            ],
            [
             0.6666666666666666,
             "#ed7953"
            ],
            [
             0.7777777777777778,
             "#fb9f3a"
            ],
            [
             0.8888888888888888,
             "#fdca26"
            ],
            [
             1,
             "#f0f921"
            ]
           ]
          },
          "colorway": [
           "#636efa",
           "#EF553B",
           "#00cc96",
           "#ab63fa",
           "#FFA15A",
           "#19d3f3",
           "#FF6692",
           "#B6E880",
           "#FF97FF",
           "#FECB52"
          ],
          "font": {
           "color": "#2a3f5f",
           "family": "IBM Plex Mono"
          },
          "geo": {
           "bgcolor": "white",
           "lakecolor": "white",
           "landcolor": "#E5ECF6",
           "showlakes": true,
           "showland": true,
           "subunitcolor": "white"
          },
          "hoverlabel": {
           "align": "left"
          },
          "hovermode": "closest",
          "mapbox": {
           "style": "light"
          },
          "paper_bgcolor": "white",
          "plot_bgcolor": "#E5ECF6",
          "polar": {
           "angularaxis": {
            "gridcolor": "white",
            "linecolor": "white",
            "ticks": ""
           },
           "bgcolor": "#E5ECF6",
           "radialaxis": {
            "gridcolor": "white",
            "linecolor": "white",
            "ticks": ""
           }
          },
          "scene": {
           "xaxis": {
            "backgroundcolor": "#E5ECF6",
            "gridcolor": "white",
            "gridwidth": 2,
            "linecolor": "white",
            "showbackground": true,
            "ticks": "",
            "zerolinecolor": "white"
           },
           "yaxis": {
            "backgroundcolor": "#E5ECF6",
            "gridcolor": "white",
            "gridwidth": 2,
            "linecolor": "white",
            "showbackground": true,
            "ticks": "",
            "zerolinecolor": "white"
           },
           "zaxis": {
            "backgroundcolor": "#E5ECF6",
            "gridcolor": "white",
            "gridwidth": 2,
            "linecolor": "white",
            "showbackground": true,
            "ticks": "",
            "zerolinecolor": "white"
           }
          },
          "shapedefaults": {
           "line": {
            "color": "#2a3f5f"
           }
          },
          "ternary": {
           "aaxis": {
            "gridcolor": "white",
            "linecolor": "white",
            "ticks": ""
           },
           "baxis": {
            "gridcolor": "white",
            "linecolor": "white",
            "ticks": ""
           },
           "bgcolor": "#E5ECF6",
           "caxis": {
            "gridcolor": "white",
            "linecolor": "white",
            "ticks": ""
           }
          },
          "title": {
           "x": 0.05
          },
          "xaxis": {
           "automargin": true,
           "gridcolor": "white",
           "linecolor": "white",
           "ticks": "",
           "title": {
            "standoff": 15
           },
           "zerolinecolor": "white",
           "zerolinewidth": 2
          },
          "yaxis": {
           "automargin": true,
           "gridcolor": "white",
           "linecolor": "white",
           "ticks": "",
           "title": {
            "standoff": 15
           },
           "zerolinecolor": "white",
           "zerolinewidth": 2
          }
         }
        },
        "title": {
         "font": {
          "color": "black",
          "family": "IBM Plex Mono",
          "size": 27
         },
         "text": "<span style='color: black; font-weight: normal;'>RLUSD Supply by Chain</span><br><sub style='font-size: 18px; color: black; font-weight: normal;'></sub>",
         "x": 0.1,
         "xanchor": "left",
         "y": 0.92,
         "yanchor": "top"
        },
        "width": 730
       }
      }
     },
     "metadata": {},
     "output_type": "display_data"
    }
   ],
   "source": [
    "chartBuilder(\n",
    "    fig=fig1,\n",
    "    add_the_date=False,\n",
    "    clean_columns=True,\n",
    "    date_xy=dict(x=0.05,y=1.02),\n",
    "    keep_top_n=False,\n",
    "    # groupby=True,\n",
    "    other=True,\n",
    "    save=False,\n",
    "    topn=4,\n",
    "    title_xy=dict(x=0.1,y=0.92),\n",
    "    title='RLUSD Supply by Chain',\n",
    "    # dashed_line=True,\n",
    "    # date='2023-04-12',\n",
    "    # annotation_text='Staked ETH <br> Withdrawl Activated'\n",
    ")"
   ]
  },
  {
   "cell_type": "code",
   "execution_count": 26,
   "metadata": {},
   "outputs": [],
   "source": [
    "def get_pagination_results(base_url):\n",
    "    # Pagination parameters\n",
    "    limit = 100  # Number of records per request\n",
    "    offset = 0  # Start from the first record\n",
    "    all_results = []  # Store all retrieved results\n",
    "\n",
    "    while True:\n",
    "        # Construct URL with pagination parameters\n",
    "        url = f\"{base_url}?offset={offset}&limit={limit}\"\n",
    "        \n",
    "        # Make API request\n",
    "        response = requests.get(url)\n",
    "        \n",
    "        # Check for successful response\n",
    "        if response.status_code != 200:\n",
    "            print(f\"Error: {response.status_code} - {response.text}\")\n",
    "            break\n",
    "        \n",
    "        # Parse JSON response\n",
    "        data = response.json()\n",
    "        \n",
    "        # Append results\n",
    "        if not data:  # Stop when no more data is returned\n",
    "            break\n",
    "        \n",
    "        all_results.extend(data)\n",
    "        \n",
    "        # Update offset to fetch the next batch\n",
    "        offset += limit\n",
    "\n",
    "    # Print the total number of results retrieved\n",
    "    print(f\"Total records fetched: {len(all_results)}\")\n",
    "    return all_results"
   ]
  },
  {
   "cell_type": "code",
   "execution_count": 27,
   "metadata": {},
   "outputs": [],
   "source": [
    "def get_tx_pagination_results(base_url):\n",
    "    all_results = []  # Store all retrieved results\n",
    "    marker = None     # Marker for pagination\n",
    "\n",
    "    while True:\n",
    "        # Construct URL with pagination parameters\n",
    "        if marker:\n",
    "            url = f\"{base_url}?marker={marker}\"\n",
    "        else:\n",
    "            url = base_url\n",
    "        \n",
    "        # Make API request\n",
    "        response = requests.get(url)\n",
    "        \n",
    "        # Check for successful response\n",
    "        if response.status_code != 200:\n",
    "            print(f\"Error: {response.status_code} - {response.text}\")\n",
    "            break\n",
    "        \n",
    "        # Parse JSON response\n",
    "        data = response.json()\n",
    "        \n",
    "        # Append transactions to the list\n",
    "        transactions = data.get('transactions', [])\n",
    "        all_results.extend(transactions)\n",
    "        \n",
    "        # Check for marker to continue pagination\n",
    "        marker = data.get('marker')\n",
    "        if not marker:\n",
    "            break  # Stop when no more pages are available\n",
    "        \n",
    "    # Print the total number of results retrieved\n",
    "    print(f\"Total records fetched: {len(all_results)}\")\n",
    "    return all_results"
   ]
  },
  {
   "cell_type": "code",
   "execution_count": 28,
   "metadata": {},
   "outputs": [],
   "source": [
    "# base_url = f'https://api.xrpscan.com/api/v1/amm/pools'\n",
    "# amm_data = get_pagination_results(base_url)"
   ]
  },
  {
   "cell_type": "code",
   "execution_count": 29,
   "metadata": {},
   "outputs": [],
   "source": [
    "# amm_df = pd.DataFrame(amm_data)"
   ]
  },
  {
   "cell_type": "code",
   "execution_count": 30,
   "metadata": {},
   "outputs": [],
   "source": [
    "# amm_df[\"AssetName_Extracted\"] = amm_df[\"AssetName\"].apply(lambda x: x.get(\"name\") if isinstance(x, dict) else None)\n",
    "# amm_df[\"Asset2Name_Extracted\"] = amm_df[\"Asset2Name\"].apply(lambda x: x.get(\"name\") if isinstance(x, dict) else None)\n"
   ]
  },
  {
   "cell_type": "code",
   "execution_count": 31,
   "metadata": {},
   "outputs": [],
   "source": [
    "# filtered_df = amm_df[(amm_df[\"AssetName_Extracted\"] == \"RLUSD\") | (amm_df[\"Asset2Name_Extracted\"] == \"RLUSD\")]\n",
    "# filtered_df[filtered_df['Balance'] > 0]"
   ]
  },
  {
   "cell_type": "code",
   "execution_count": 32,
   "metadata": {},
   "outputs": [],
   "source": [
    "# rlusd_pools = filtered_df['Account'].unique()"
   ]
  },
  {
   "cell_type": "code",
   "execution_count": 33,
   "metadata": {},
   "outputs": [],
   "source": [
    "# all_results = []\n",
    "\n",
    "# for pool in rlusd_pools:\n",
    "#     base_url = f'https://api.xrpscan.com/api/v1/amm/{pool}'\n",
    "#     data = call_api(base_url)\n",
    "#     all_results.append(data)"
   ]
  },
  {
   "cell_type": "code",
   "execution_count": 34,
   "metadata": {},
   "outputs": [],
   "source": [
    "# rl_usd_xrp_pool_data = pd.DataFrame(all_results)"
   ]
  },
  {
   "cell_type": "code",
   "execution_count": 35,
   "metadata": {},
   "outputs": [
    {
     "name": "stdout",
     "output_type": "stream",
     "text": [
      "data: {'account': 'rhWTXC2m2gGGA9WozUaoMm6kLAVPb1tcS3', 'amount': '666185571998', 'amount2': {'currency': '524C555344000000000000000000000000000000', 'issuer': 'rMxCKbEDwqr76QuheSUMdEGf4B9xJ8m5De', 'value': '1535635.383894134'}, 'asset2_frozen': False, 'auction_slot': {'account': 'rPSvcmNAvc6DAZYX2w5WM4bcnLKSxyt8VY', 'discounted_fee': 23, 'expiration': '2025-01-31T19:53:30+0000', 'price': {'currency': '03B245BE580EC4F4386A751C084489EC4B514A2F', 'issuer': 'rhWTXC2m2gGGA9WozUaoMm6kLAVPb1tcS3', 'value': '0'}, 'time_interval': 20}, 'lp_token': {'currency': '03B245BE580EC4F4386A751C084489EC4B514A2F', 'issuer': 'rhWTXC2m2gGGA9WozUaoMm6kLAVPb1tcS3', 'value': '978747322.1161325'}, 'trading_fee': 234, 'vote_slots': [{'account': 'rwizard1gGgtcnNBb8mJQXDQfPpsVX69bY', 'trading_fee': 300, 'vote_weight': 3785}, {'account': 'rJDRwJ9oSiB5yUDEEdxEy9xBEHR9ekBmh', 'trading_fee': 190, 'vote_weight': 11819}, {'account': 'rKuYdrNLbHM1RYkAnccnRJhKRxNnAMixPA', 'trading_fee': 175, 'vote_weight': 9191}, {'account': 'r91E5jNe2vzAJi6Wfu2GssYbrGxaksPDcG', 'trading_fee': 950, 'vote_weight': 1545}, {'account': 'rJ4XeEzorvsQp6un4h9CjtANEsB3Qcc8iA', 'trading_fee': 300, 'vote_weight': 4821}, {'account': 'rGYuaEA3FxfBX3dzmgVi9KGkZX1Vj6KWgJ', 'trading_fee': 150, 'vote_weight': 11745}, {'account': 'r42VCs56CWH9eiS4EKBQB33ThbtPcBwN4', 'trading_fee': 1000, 'vote_weight': 1031}, {'account': 'rQU8xy3oETjcsTfGhyTvDMg2zzUp9Tg1G3', 'trading_fee': 200, 'vote_weight': 11669}]}\n"
     ]
    },
    {
     "data": {
      "text/html": [
       "<div>\n",
       "<style scoped>\n",
       "    .dataframe tbody tr th:only-of-type {\n",
       "        vertical-align: middle;\n",
       "    }\n",
       "\n",
       "    .dataframe tbody tr th {\n",
       "        vertical-align: top;\n",
       "    }\n",
       "\n",
       "    .dataframe thead th {\n",
       "        text-align: right;\n",
       "    }\n",
       "</style>\n",
       "<table border=\"1\" class=\"dataframe\">\n",
       "  <thead>\n",
       "    <tr style=\"text-align: right;\">\n",
       "      <th></th>\n",
       "      <th>account</th>\n",
       "      <th>amount</th>\n",
       "      <th>amount2</th>\n",
       "      <th>asset2_frozen</th>\n",
       "      <th>auction_slot</th>\n",
       "      <th>lp_token</th>\n",
       "      <th>trading_fee</th>\n",
       "      <th>vote_slots</th>\n",
       "    </tr>\n",
       "  </thead>\n",
       "  <tbody>\n",
       "    <tr>\n",
       "      <th>0</th>\n",
       "      <td>rhWTXC2m2gGGA9WozUaoMm6kLAVPb1tcS3</td>\n",
       "      <td>666185571998</td>\n",
       "      <td>{'currency': '524C5553440000000000000000000000...</td>\n",
       "      <td>False</td>\n",
       "      <td>{'account': 'rPSvcmNAvc6DAZYX2w5WM4bcnLKSxyt8V...</td>\n",
       "      <td>{'currency': '03B245BE580EC4F4386A751C084489EC...</td>\n",
       "      <td>234</td>\n",
       "      <td>[{'account': 'rwizard1gGgtcnNBb8mJQXDQfPpsVX69...</td>\n",
       "    </tr>\n",
       "  </tbody>\n",
       "</table>\n",
       "</div>"
      ],
      "text/plain": [
       "                              account        amount  \\\n",
       "0  rhWTXC2m2gGGA9WozUaoMm6kLAVPb1tcS3  666185571998   \n",
       "\n",
       "                                             amount2  asset2_frozen  \\\n",
       "0  {'currency': '524C5553440000000000000000000000...          False   \n",
       "\n",
       "                                        auction_slot  \\\n",
       "0  {'account': 'rPSvcmNAvc6DAZYX2w5WM4bcnLKSxyt8V...   \n",
       "\n",
       "                                            lp_token  trading_fee  \\\n",
       "0  {'currency': '03B245BE580EC4F4386A751C084489EC...          234   \n",
       "\n",
       "                                          vote_slots  \n",
       "0  [{'account': 'rwizard1gGgtcnNBb8mJQXDQfPpsVX69...  "
      ]
     },
     "execution_count": 35,
     "metadata": {},
     "output_type": "execute_result"
    }
   ],
   "source": [
    "base_url = f'https://api.xrpscan.com/api/v1/amm/rhWTXC2m2gGGA9WozUaoMm6kLAVPb1tcS3'\n",
    "data = call_api(base_url)\n",
    "rl_usd_xrp_pool_data = pd.DataFrame([data])\n",
    "rl_usd_xrp_pool_data"
   ]
  },
  {
   "cell_type": "code",
   "execution_count": 36,
   "metadata": {},
   "outputs": [
    {
     "data": {
      "text/html": [
       "<div>\n",
       "<style scoped>\n",
       "    .dataframe tbody tr th:only-of-type {\n",
       "        vertical-align: middle;\n",
       "    }\n",
       "\n",
       "    .dataframe tbody tr th {\n",
       "        vertical-align: top;\n",
       "    }\n",
       "\n",
       "    .dataframe thead th {\n",
       "        text-align: right;\n",
       "    }\n",
       "</style>\n",
       "<table border=\"1\" class=\"dataframe\">\n",
       "  <thead>\n",
       "    <tr style=\"text-align: right;\">\n",
       "      <th></th>\n",
       "      <th>account</th>\n",
       "      <th>amount</th>\n",
       "      <th>amount2</th>\n",
       "      <th>asset2_frozen</th>\n",
       "      <th>auction_slot</th>\n",
       "      <th>lp_token</th>\n",
       "      <th>trading_fee</th>\n",
       "      <th>vote_slots</th>\n",
       "      <th>amount2_value</th>\n",
       "    </tr>\n",
       "  </thead>\n",
       "  <tbody>\n",
       "    <tr>\n",
       "      <th>0</th>\n",
       "      <td>rhWTXC2m2gGGA9WozUaoMm6kLAVPb1tcS3</td>\n",
       "      <td>666185571998</td>\n",
       "      <td>{'currency': '524C5553440000000000000000000000...</td>\n",
       "      <td>False</td>\n",
       "      <td>{'account': 'rPSvcmNAvc6DAZYX2w5WM4bcnLKSxyt8V...</td>\n",
       "      <td>{'currency': '03B245BE580EC4F4386A751C084489EC...</td>\n",
       "      <td>234</td>\n",
       "      <td>[{'account': 'rwizard1gGgtcnNBb8mJQXDQfPpsVX69...</td>\n",
       "      <td>1.535635e+06</td>\n",
       "    </tr>\n",
       "  </tbody>\n",
       "</table>\n",
       "</div>"
      ],
      "text/plain": [
       "                              account        amount  \\\n",
       "0  rhWTXC2m2gGGA9WozUaoMm6kLAVPb1tcS3  666185571998   \n",
       "\n",
       "                                             amount2  asset2_frozen  \\\n",
       "0  {'currency': '524C5553440000000000000000000000...          False   \n",
       "\n",
       "                                        auction_slot  \\\n",
       "0  {'account': 'rPSvcmNAvc6DAZYX2w5WM4bcnLKSxyt8V...   \n",
       "\n",
       "                                            lp_token  trading_fee  \\\n",
       "0  {'currency': '03B245BE580EC4F4386A751C084489EC...          234   \n",
       "\n",
       "                                          vote_slots  amount2_value  \n",
       "0  [{'account': 'rwizard1gGgtcnNBb8mJQXDQfPpsVX69...   1.535635e+06  "
      ]
     },
     "execution_count": 36,
     "metadata": {},
     "output_type": "execute_result"
    }
   ],
   "source": [
    "rl_usd_xrp_pool_data[\"amount2_value\"] = rl_usd_xrp_pool_data[\"amount2\"].apply(lambda x: float(x[\"value\"]) if isinstance(x, dict) and \"value\" in x else None)\n",
    "rl_usd_xrp_pool_data"
   ]
  },
  {
   "cell_type": "code",
   "execution_count": 37,
   "metadata": {},
   "outputs": [],
   "source": [
    "rl_usd_xrp_pool_data[\"token1\"] = rl_usd_xrp_pool_data[\"amount\"].apply(lambda x: x[\"currency\"] if isinstance(x, dict) else \"XRP\")\n",
    "rl_usd_xrp_pool_data[\"amount1\"] = rl_usd_xrp_pool_data[\"amount\"].apply(lambda x: float(x[\"value\"]) if isinstance(x, dict) and \"value\" in x else pd.to_numeric(x, errors=\"coerce\"))\n",
    "\n",
    "# Extract currency from 'amount2'\n",
    "rl_usd_xrp_pool_data[\"token2\"] = rl_usd_xrp_pool_data[\"amount2\"].apply(lambda x: x[\"currency\"] if isinstance(x, dict) else \"XRP\")\n",
    "rl_usd_xrp_pool_data[\"amount2\"] = rl_usd_xrp_pool_data[\"amount2\"].apply(lambda x: float(x[\"value\"]) if isinstance(x, dict) and \"value\" in x else pd.to_numeric(x, errors=\"coerce\"))\n"
   ]
  },
  {
   "cell_type": "code",
   "execution_count": 38,
   "metadata": {},
   "outputs": [],
   "source": [
    "rl_usd_xrp_pool_data[\"token1\"] = rl_usd_xrp_pool_data[\"token1\"].replace(\"524C555344000000000000000000000000000000\", \"RLUSD\")\n",
    "rl_usd_xrp_pool_data[\"token2\"] = rl_usd_xrp_pool_data[\"token2\"].replace(\"524C555344000000000000000000000000000000\", \"RLUSD\")"
   ]
  },
  {
   "cell_type": "code",
   "execution_count": 39,
   "metadata": {},
   "outputs": [
    {
     "data": {
      "text/html": [
       "<div>\n",
       "<style scoped>\n",
       "    .dataframe tbody tr th:only-of-type {\n",
       "        vertical-align: middle;\n",
       "    }\n",
       "\n",
       "    .dataframe tbody tr th {\n",
       "        vertical-align: top;\n",
       "    }\n",
       "\n",
       "    .dataframe thead th {\n",
       "        text-align: right;\n",
       "    }\n",
       "</style>\n",
       "<table border=\"1\" class=\"dataframe\">\n",
       "  <thead>\n",
       "    <tr style=\"text-align: right;\">\n",
       "      <th></th>\n",
       "      <th>account</th>\n",
       "      <th>token1</th>\n",
       "      <th>amount1</th>\n",
       "      <th>token2</th>\n",
       "      <th>amount2</th>\n",
       "    </tr>\n",
       "  </thead>\n",
       "  <tbody>\n",
       "    <tr>\n",
       "      <th>0</th>\n",
       "      <td>rhWTXC2m2gGGA9WozUaoMm6kLAVPb1tcS3</td>\n",
       "      <td>XRP</td>\n",
       "      <td>666185571998</td>\n",
       "      <td>RLUSD</td>\n",
       "      <td>1.535635e+06</td>\n",
       "    </tr>\n",
       "  </tbody>\n",
       "</table>\n",
       "</div>"
      ],
      "text/plain": [
       "                              account token1       amount1 token2  \\\n",
       "0  rhWTXC2m2gGGA9WozUaoMm6kLAVPb1tcS3    XRP  666185571998  RLUSD   \n",
       "\n",
       "        amount2  \n",
       "0  1.535635e+06  "
      ]
     },
     "execution_count": 39,
     "metadata": {},
     "output_type": "execute_result"
    }
   ],
   "source": [
    "rl_usd_xrp_pool_data[[\"account\", \"token1\", \"amount1\", \"token2\", \"amount2\"]]"
   ]
  },
  {
   "cell_type": "code",
   "execution_count": 40,
   "metadata": {},
   "outputs": [],
   "source": [
    "xpr_rlusd_pool = rl_usd_xrp_pool_data[\n",
    "    ((rl_usd_xrp_pool_data[\"token1\"] == \"XRP\") | (rl_usd_xrp_pool_data[\"token1\"] == \"RLUSD\")) &\n",
    "    ((rl_usd_xrp_pool_data[\"token2\"] == \"XRP\") | (rl_usd_xrp_pool_data[\"token2\"] == \"RLUSD\"))\n",
    "]"
   ]
  },
  {
   "cell_type": "code",
   "execution_count": 41,
   "metadata": {},
   "outputs": [],
   "source": [
    "xpr_rlusd_pool['amount1_norm'] = xpr_rlusd_pool['amount1'] / 1e6"
   ]
  },
  {
   "cell_type": "code",
   "execution_count": 42,
   "metadata": {},
   "outputs": [
    {
     "data": {
      "text/plain": [
       "np.float64(666185.571998)"
      ]
     },
     "execution_count": 42,
     "metadata": {},
     "output_type": "execute_result"
    }
   ],
   "source": [
    "xpr_rlusd_pool['amount1_norm'].values[0]"
   ]
  },
  {
   "cell_type": "code",
   "execution_count": 43,
   "metadata": {},
   "outputs": [],
   "source": [
    "rlusd_in_xrp_lp = xpr_rlusd_pool['amount2_value'].values[0]"
   ]
  },
  {
   "cell_type": "code",
   "execution_count": 44,
   "metadata": {},
   "outputs": [],
   "source": [
    "xrp_in_xrp_lp = xpr_rlusd_pool['amount1_norm'].values[0]"
   ]
  },
  {
   "cell_type": "code",
   "execution_count": 45,
   "metadata": {},
   "outputs": [
    {
     "data": {
      "text/plain": [
       "np.float64(666185.571998)"
      ]
     },
     "execution_count": 45,
     "metadata": {},
     "output_type": "execute_result"
    }
   ],
   "source": [
    "xrp_in_xrp_lp"
   ]
  },
  {
   "cell_type": "code",
   "execution_count": 46,
   "metadata": {},
   "outputs": [],
   "source": [
    "today_utc = dt.datetime.now(dt.timezone.utc) \n",
    "formatted_today_utc = today_utc.strftime('%Y-%m-%d %H:00:00')"
   ]
  },
  {
   "cell_type": "code",
   "execution_count": 47,
   "metadata": {},
   "outputs": [
    {
     "name": "stdout",
     "output_type": "stream",
     "text": [
      "Query not completed. Retrying in 30 seconds...\n",
      "Query not completed. Retrying in 30 seconds...\n"
     ]
    }
   ],
   "source": [
    "eth_rlusd_pool_query1 = lp_data('0xd001ae433f254283fece51d4acce8c53263aa186')\n",
    "eth_rlusd_pool = flipside_api_results(eth_rlusd_pool_query1,FLIPSIDE_KEY)"
   ]
  },
  {
   "cell_type": "code",
   "execution_count": 48,
   "metadata": {},
   "outputs": [
    {
     "name": "stdout",
     "output_type": "stream",
     "text": [
      "Query not completed. Retrying in 30 seconds...\n"
     ]
    }
   ],
   "source": [
    "eth_rlusd_pool_query2 = lp_data('0xcc6d2f26d363836f85a42d249e145ec0320d3e55')\n",
    "eth_rlusd_pool2 = flipside_api_results(eth_rlusd_pool_query2,FLIPSIDE_KEY)"
   ]
  },
  {
   "cell_type": "code",
   "execution_count": 49,
   "metadata": {},
   "outputs": [],
   "source": [
    "eth_rlusd_pool.dropna(inplace=True)\n",
    "eth_rlusd_pool2.dropna(inplace=True)"
   ]
  },
  {
   "cell_type": "code",
   "execution_count": null,
   "metadata": {},
   "outputs": [],
   "source": [
    "eth_rlusd_pool = pd.concat([eth_rlusd_pool.drop(columns=['total_tvl','__row_index']),eth_rlusd_pool2.drop(columns=['total_tvl','__row_index'])]).groupby(['symbol','dt']).sum().reset_index()\n",
    "eth_rlusd_pool['dt'] = pd.to_datetime(eth_rlusd_pool['dt'])\n",
    "eth_rlusd_pool.set_index('dt',inplace=True)\n",
    "eth_rlusd_pool.sort_index(inplace=True)\n",
    "total_tvl = eth_rlusd_pool.groupby(eth_rlusd_pool.index)['tvl'].sum()\n",
    "\n",
    "eth_rlusd_pool = eth_rlusd_pool.merge(\n",
    "    total_tvl.to_frame('total_tvl'),\n",
    "    left_index=True,\n",
    "    right_index=True,\n",
    "    how='inner'\n",
    ")\n"
   ]
  },
  {
   "cell_type": "code",
   "execution_count": 69,
   "metadata": {},
   "outputs": [],
   "source": [
    "eth_rlusd_bal_timeseries = eth_rlusd_pool[eth_rlusd_pool['symbol']=='RLUSD']"
   ]
  },
  {
   "cell_type": "code",
   "execution_count": 70,
   "metadata": {},
   "outputs": [
    {
     "data": {
      "text/html": [
       "<div>\n",
       "<style scoped>\n",
       "    .dataframe tbody tr th:only-of-type {\n",
       "        vertical-align: middle;\n",
       "    }\n",
       "\n",
       "    .dataframe tbody tr th {\n",
       "        vertical-align: top;\n",
       "    }\n",
       "\n",
       "    .dataframe thead th {\n",
       "        text-align: right;\n",
       "    }\n",
       "</style>\n",
       "<table border=\"1\" class=\"dataframe\">\n",
       "  <thead>\n",
       "    <tr style=\"text-align: right;\">\n",
       "      <th></th>\n",
       "      <th>total_tvl</th>\n",
       "    </tr>\n",
       "    <tr>\n",
       "      <th>dt</th>\n",
       "      <th></th>\n",
       "    </tr>\n",
       "  </thead>\n",
       "  <tbody>\n",
       "    <tr>\n",
       "      <th>2025-01-16 14:00:00+00:00</th>\n",
       "      <td>9.873170e+03</td>\n",
       "    </tr>\n",
       "    <tr>\n",
       "      <th>2025-01-16 15:00:00+00:00</th>\n",
       "      <td>9.873066e+03</td>\n",
       "    </tr>\n",
       "    <tr>\n",
       "      <th>2025-01-16 16:00:00+00:00</th>\n",
       "      <td>9.872010e+03</td>\n",
       "    </tr>\n",
       "    <tr>\n",
       "      <th>2025-01-16 17:00:00+00:00</th>\n",
       "      <td>9.889454e+03</td>\n",
       "    </tr>\n",
       "    <tr>\n",
       "      <th>2025-01-16 18:00:00+00:00</th>\n",
       "      <td>9.872686e+03</td>\n",
       "    </tr>\n",
       "    <tr>\n",
       "      <th>...</th>\n",
       "      <td>...</td>\n",
       "    </tr>\n",
       "    <tr>\n",
       "      <th>2025-02-24 18:00:00+00:00</th>\n",
       "      <td>1.057870e+07</td>\n",
       "    </tr>\n",
       "    <tr>\n",
       "      <th>2025-02-24 19:00:00+00:00</th>\n",
       "      <td>1.056875e+07</td>\n",
       "    </tr>\n",
       "    <tr>\n",
       "      <th>2025-02-24 20:00:00+00:00</th>\n",
       "      <td>1.058732e+07</td>\n",
       "    </tr>\n",
       "    <tr>\n",
       "      <th>2025-02-24 21:00:00+00:00</th>\n",
       "      <td>1.058625e+07</td>\n",
       "    </tr>\n",
       "    <tr>\n",
       "      <th>2025-02-24 22:00:00+00:00</th>\n",
       "      <td>1.057624e+07</td>\n",
       "    </tr>\n",
       "  </tbody>\n",
       "</table>\n",
       "<p>945 rows × 1 columns</p>\n",
       "</div>"
      ],
      "text/plain": [
       "                              total_tvl\n",
       "dt                                     \n",
       "2025-01-16 14:00:00+00:00  9.873170e+03\n",
       "2025-01-16 15:00:00+00:00  9.873066e+03\n",
       "2025-01-16 16:00:00+00:00  9.872010e+03\n",
       "2025-01-16 17:00:00+00:00  9.889454e+03\n",
       "2025-01-16 18:00:00+00:00  9.872686e+03\n",
       "...                                 ...\n",
       "2025-02-24 18:00:00+00:00  1.057870e+07\n",
       "2025-02-24 19:00:00+00:00  1.056875e+07\n",
       "2025-02-24 20:00:00+00:00  1.058732e+07\n",
       "2025-02-24 21:00:00+00:00  1.058625e+07\n",
       "2025-02-24 22:00:00+00:00  1.057624e+07\n",
       "\n",
       "[945 rows x 1 columns]"
      ]
     },
     "execution_count": 70,
     "metadata": {},
     "output_type": "execute_result"
    }
   ],
   "source": [
    "eth_rlusd_pool.groupby(eth_rlusd_pool.index)[['total_tvl']].last()"
   ]
  },
  {
   "cell_type": "code",
   "execution_count": 71,
   "metadata": {},
   "outputs": [
    {
     "name": "stdout",
     "output_type": "stream",
     "text": [
      "Initialized axes_data: {'y1': ['total_tvl'], 'y2': []}\n",
      "tick0: 2025-01-16 14:00:00+00:00\n",
      "turn_to_time: True\n"
     ]
    }
   ],
   "source": [
    "fig2 = visualization_pipeline(\n",
    "df=eth_rlusd_pool.groupby(eth_rlusd_pool.index)[['total_tvl']].last(),\n",
    "    title='rlusd_fig2',\n",
    "    # start_date='2024-01-01',\n",
    "    # end_date='2024-12-31',\n",
    "    # end_date='2024-10-01',\n",
    "    chart_type='line',\n",
    "    dimensions=dict(height=351, width=730),\n",
    "    # groupby = 'Blockchain',\n",
    "    # num_col='Supply',\n",
    "    cols_to_plot=['total_tvl'],\n",
    "    # line_col=['cumulative_freq'],\n",
    "    # bar_col=['freg'],\n",
    "    tickangle=0,\n",
    "    dropna=True,\n",
    "    area=True,\n",
    "    colors=combined_colors,\n",
    "    axes_data=dict(y1=['total_tvl'],y2=[]),\n",
    "    # tickformat=dict(x='%b<br>`%y',y1=None,y2=None),\n",
    "    legend_font_size=12,\n",
    "    font_family=font_family,\n",
    "    cumulative_sort=True,\n",
    "    normalize=False,\n",
    "    decimals=True,\n",
    "    decimal_places=1,\n",
    "    y2=True,\n",
    "    # min_tick_spacing=50,\n",
    "    # buffer=3,\n",
    "    barmode='group',\n",
    "    mode='lines',\n",
    "    # font_size=14,\n",
    "    # line_width=3,\n",
    "    marker_size=3,\n",
    "    tickprefix=dict(y1='$',y2=None),\n",
    "    ticksuffix=dict(y1=None,y2=None),\n",
    "    axes_titles=dict(y1=None,y2=None),\n",
    "    show_legend=False,\n",
    "    hole_size=0,\n",
    "    # line_width=1,\n",
    "    descending=False,\n",
    "    buffer = 0.25,\n",
    "    annotations=True,\n",
    "    text=True,\n",
    "    orientation='h',\n",
    "    sort_list=True,\n",
    "    autosize=False,\n",
    "    max_annotation=True,\n",
    "    annotation_prefix=\"$\",\n",
    "    auto_title=False,\n",
    "    axes_font_colors='auto',\n",
    "    to_reverse=False,\n",
    "    line_color='black',\n",
    "    use_single_color=False,\n",
    "    custom_annotation = ['2022-10-31'],\n",
    "    # axes_font_colors='auto',\n",
    ")"
   ]
  },
  {
   "cell_type": "code",
   "execution_count": 72,
   "metadata": {},
   "outputs": [
    {
     "name": "stdout",
     "output_type": "stream",
     "text": [
      "save:False\n",
      "capwords: []\n",
      "y1_list: ['total_tvl'] \n",
      "y2_list: []\n",
      "'total_tvl' does not match capword. Converting to title case: Total\n",
      "'total_tvl' does not match capword. Converting to title case: Tvl\n",
      "Cleaned string: 'Total Tvl'\n",
      "'total_tvl' does not match capword. Converting to title case: Total\n",
      "'total_tvl' does not match capword. Converting to title case: Tvl\n",
      "Cleaned string: 'Total Tvl'\n",
      "Cleaned DataFrame columns: ['Total Tvl']\n",
      "Cleaned cols_to_plot: ['Total Tvl']\n",
      "Cleaned bar_col: []\n",
      "Cleaned line_col: []\n",
      "Cleaned y1_list: ['Total Tvl']\n",
      "Cleaned y2_list: []\n",
      "Cleaned groupby: None\n",
      "Cleaned num_col: None\n",
      "logo path: ../img/Logos/None\n",
      "Generating line plot...\n",
      "axes titles at viz pipeline: {'y1': None, 'y2': None}\n",
      "No GroupBy Col\n",
      "cols to plot: ['Total Tvl']\n",
      "axes data to plot: {'y1': ['Total Tvl'], 'y2': []}\n",
      "tick0 in func: 2025-01-16 14:00:00+00:00\n",
      "sort_list: True\n",
      "Ranked columns: Total Tvl    6.364063e+09\n",
      "dtype: float64\n",
      "Ranked columns: Total Tvl    1.057624e+07\n",
      "Name: 2025-02-24 22:00:00+00:00, dtype: float64\n",
      "Color order (cumulative): Index(['Total Tvl'], dtype='object')\n",
      "Plot order (latest value): Index(['Total Tvl'], dtype='object')\n",
      "axes_titles at beginning: {'y1': None, 'y2': None}\n",
      "cumulative_sort: True\n",
      "descending: False\n",
      "columns to plot: Index(['Total Tvl'], dtype='object')\n",
      "axes_font_colors: {}\n",
      "idx: 0 y1_col: Total Tvl\n",
      "axes_titles: {'y1': None, 'y2': None}\n",
      "y1_lineto_show: None\n",
      "axes_font_colors: {}\n",
      "latest val: 10576242.310014796\n",
      "x:9873.169983001K\n",
      "x:9873.066202883001K\n",
      "x:9872.010294742999K\n",
      "x:9889.453721K\n",
      "x:9872.686113928K\n",
      "x:9879.787254733K\n",
      "x:9879.456242049K\n",
      "x:9874.946610867999K\n",
      "x:9504.61074167K\n",
      "x:9494.944556493K\n",
      "x:9504.581445828K\n",
      "x:9504.422805244001K\n",
      "x:9500.007082706K\n",
      "x:9507.548786454001K\n",
      "x:9500.852411211K\n",
      "x:9508.201824151001K\n",
      "x:9510.110162965K\n",
      "x:9508.58660093K\n",
      "x:9509.998227173K\n",
      "x:9509.329864788K\n",
      "x:9512.400229071K\n",
      "x:9513.836449452K\n",
      "x:9516.751171853K\n",
      "x:9509.092602402K\n",
      "x:9508.430264383K\n",
      "x:9508.269306185999K\n",
      "x:9511.964565946K\n",
      "x:9510.049923583K\n",
      "x:9511.964565946K\n",
      "x:9508.05568171K\n",
      "x:9510.367522653K\n",
      "x:9510.350361264K\n",
      "x:9509.413019219K\n",
      "x:9506.957344442K\n",
      "x:9510.341780569K\n",
      "x:9509.38047118K\n",
      "x:9509.103144061999K\n",
      "x:9508.989654726K\n",
      "x:9508.25838515K\n",
      "x:9511.409879367K\n",
      "x:9510.067198343K\n",
      "x:9508.522073851K\n",
      "x:9510.032875565K\n",
      "x:9510.350361264K\n",
      "x:9510.84150719K\n",
      "x:9508.623595318K\n",
      "x:9508.396590139999K\n",
      "x:9508.541157401K\n",
      "x:9509.135686489K\n",
      "x:9509.467449329K\n",
      "x:9510.539721694999K\n",
      "x:9508.883672887001K\n",
      "x:9507.58887288K\n",
      "x:9507.683330021K\n",
      "x:9507.322551502K\n",
      "x:9511.135773949K\n",
      "x:9509.013759677K\n",
      "x:9508.31017088K\n",
      "x:9509.084113109K\n",
      "x:9508.666904489999K\n",
      "x:9509.522486838001K\n",
      "x:9508.877176103999K\n",
      "x:9507.399350578K\n",
      "x:9509.174093864K\n",
      "x:9509.157141988999K\n",
      "x:9509.688760926K\n",
      "x:9509.075517545001K\n",
      "x:9510.611444586K\n",
      "x:9507.495361181K\n",
      "x:9513.594384651K\n",
      "x:9507.777979384K\n",
      "x:9509.041723527K\n",
      "x:9509.642824725K\n",
      "x:9510.393597118999K\n",
      "x:9510.410788244999K\n",
      "x:9508.152932051K\n",
      "x:9510.860715923K\n",
      "x:9511.333471906K\n",
      "x:9510.490919946K\n",
      "x:9512.727514754K\n",
      "x:9512.704253474K\n",
      "x:9508.693557434K\n",
      "x:9515.23515178K\n",
      "x:9513.605863027K\n",
      "x:9506.497276193999K\n",
      "x:9512.773825615K\n",
      "x:9512.295517149K\n",
      "x:9512.79121865K\n",
      "x:9514.350935263K\n",
      "x:9511.976574273K\n",
      "x:9525.79074261K\n",
      "x:9510.15313386K\n",
      "x:9514.331473441001K\n",
      "x:9520.957288707K\n",
      "x:9518.460204625K\n",
      "x:9518.9710863K\n",
      "x:9521.076167562K\n",
      "x:9520.731734247001K\n",
      "x:9520.15431483K\n",
      "x:9518.126426037K\n",
      "x:9519.988734547K\n",
      "x:9526.867857629K\n",
      "x:9519.988734547K\n",
      "x:9519.988734547K\n",
      "x:9521.482165589K\n",
      "x:9517.864679973001K\n",
      "x:9520.984355242K\n",
      "x:9516.069473681K\n",
      "x:9516.809717667K\n",
      "x:9521.979975937K\n",
      "x:9520.984355242K\n",
      "x:9520.477522716K\n",
      "x:9519.979712369K\n",
      "x:9519.544564532K\n",
      "x:9522.408848479K\n",
      "x:9520.929681384001K\n",
      "x:9521.896394196K\n",
      "x:9521.552331113K\n",
      "x:9522.399794187K\n",
      "x:9521.266234121K\n",
      "x:9521.288544065K\n",
      "x:9521.474482829K\n",
      "x:9520.657380069K\n",
      "x:9521.271258301K\n",
      "x:9520.994218885K\n",
      "x:9521.474482829K\n",
      "x:9521.941665654K\n",
      "x:9521.914502779K\n",
      "x:9520.400808417999K\n",
      "x:9524.483270952998K\n",
      "x:9526.195289098K\n",
      "x:9527.273650649999K\n",
      "x:9531.217745385K\n",
      "x:9539.753893264K\n",
      "x:9568.765491332999K\n",
      "x:9859.436594738K\n",
      "x:9953.823670271K\n",
      "x:9954.207403844K\n",
      "x:9513.850179156K\n",
      "x:9513.849270743K\n",
      "x:9518.051184669K\n",
      "x:9520.191479897001K\n",
      "x:9536.292703897K\n",
      "x:9536.62468726K\n",
      "x:9535.417927738K\n",
      "x:9534.270261255K\n",
      "x:9586.688932506K\n",
      "x:9586.556162953999K\n",
      "x:9586.594395968K\n",
      "x:9586.378251753998K\n",
      "x:9586.405867820999K\n",
      "x:9586.556162953999K\n",
      "x:9586.32301962K\n",
      "x:9575.353973897K\n",
      "x:9517.412453511K\n",
      "x:9518.39257167K\n",
      "x:9518.222963852K\n",
      "x:9518.449740670001K\n",
      "x:9519.210389615K\n",
      "x:9520.993906934K\n",
      "x:9523.924269692001K\n",
      "x:9524.444145113K\n",
      "x:9593.862058569K\n",
      "x:9629.632176934K\n",
      "x:9587.232780093998K\n",
      "x:9587.197094026998K\n",
      "x:9586.926576252K\n",
      "x:9550.119155924K\n",
      "x:9548.061813809001K\n",
      "x:9548.894132706K\n",
      "x:9535.138397738001K\n",
      "x:9513.883341955K\n",
      "x:9499.008751133K\n",
      "x:9520.135146156K\n",
      "x:9518.996975831K\n",
      "x:9561.103694584K\n",
      "x:9471.840839366K\n",
      "x:9524.783907116K\n",
      "x:9515.380505471K\n",
      "x:9520.40637314K\n",
      "x:9509.487397986999K\n",
      "x:9515.661514940999K\n",
      "x:9516.471379289K\n",
      "x:9525.501142028K\n",
      "x:9525.527015944K\n",
      "x:9525.50888923K\n",
      "x:9520.418465865K\n",
      "x:9528.228652548K\n",
      "x:9525.51333467K\n",
      "x:9521.302884142999K\n",
      "x:9525.661626230001K\n",
      "x:9526.761495825998K\n",
      "x:9521.871904209998K\n",
      "x:9526.757475838K\n",
      "x:9526.781480385K\n",
      "x:9531.320196704K\n",
      "x:9522.060329507K\n",
      "x:9531.392210345999K\n",
      "x:9515.506095952K\n",
      "x:9521.216614791K\n",
      "x:9521.977578814K\n",
      "x:9516.718343571K\n",
      "x:9514.523297019K\n",
      "x:9527.06628506K\n",
      "x:9519.036531014K\n",
      "x:9531.950770764K\n",
      "x:9528.069454842K\n",
      "x:9543.689672675K\n",
      "x:9525.05471803K\n",
      "x:9527.419819026001K\n",
      "x:9529.92596478K\n",
      "x:9529.818440375K\n",
      "x:9527.577166477K\n",
      "x:9525.902684423K\n",
      "x:9546.978650738K\n",
      "x:9538.659789326999K\n",
      "x:9538.659789326999K\n",
      "x:9526.039154109001K\n",
      "x:9524.757596767K\n",
      "x:9529.377004948K\n",
      "x:9534.058640118K\n",
      "x:9534.053748661001K\n",
      "x:9524.797287205K\n",
      "x:9524.823110013K\n",
      "x:9524.823110013K\n",
      "x:9529.155589661K\n",
      "x:9524.511261371K\n",
      "x:9518.175556040998K\n",
      "x:9525.013994848K\n",
      "x:9524.603715768K\n",
      "x:9523.487824492K\n",
      "x:9529.878457146999K\n",
      "x:9526.02638494K\n",
      "x:9530.26532755K\n",
      "x:9526.817681364K\n",
      "x:9526.646051998K\n",
      "x:9526.989455965K\n",
      "x:9522.349822852K\n",
      "x:9530.633888621K\n",
      "x:9526.870330541999K\n",
      "x:9527.168667913K\n",
      "x:9527.02832373K\n",
      "x:9531.148438303K\n",
      "x:9527.196124357999K\n",
      "x:9525.844092995001K\n",
      "x:9526.880717389K\n",
      "x:9527.143820841K\n",
      "x:9527.136127185K\n",
      "x:9522.995471373K\n",
      "x:9521.808404723K\n",
      "x:9520.6112755K\n",
      "x:9521.382435307001K\n",
      "x:9516.023238787999K\n",
      "x:9527.501045650999K\n",
      "x:9524.384541004001K\n",
      "x:9522.438480964K\n",
      "x:9518.404916122K\n",
      "x:9521.12504215K\n",
      "x:9514.404631774K\n",
      "x:9539.6873869K\n",
      "x:9526.221468818K\n",
      "x:9535.447149684K\n",
      "x:9512.589138132K\n",
      "x:9527.490814974K\n",
      "x:9546.4978884K\n",
      "x:9518.767098732K\n",
      "x:9536.778677079K\n",
      "x:9528.490477905001K\n",
      "x:9522.110906238999K\n",
      "x:9523.521322625K\n",
      "x:9528.505721151K\n",
      "x:9533.558346841K\n",
      "x:9542.964917631001K\n",
      "x:9521.857404770999K\n",
      "x:9538.295395698999K\n",
      "x:9528.836026645K\n",
      "x:9521.598719619K\n",
      "x:9538.103197836K\n",
      "x:9538.369657232K\n",
      "x:9538.653156962999K\n",
      "x:9531.561839969K\n",
      "x:9531.067455420001K\n",
      "x:9528.581799631K\n",
      "x:9527.637414369K\n",
      "x:9531.703649578001K\n",
      "x:9532.086058311K\n",
      "x:9532.645626255K\n",
      "x:9532.302318699K\n",
      "x:9530.461323669K\n",
      "x:434356.462777537K\n",
      "x:540667.5459048459K\n",
      "x:939148.65735077K\n",
      "x:939851.54644523K\n",
      "x:1740470.8703785809M\n",
      "x:1738728.210491797M\n",
      "x:1739839.912665565M\n",
      "x:1737102.719453024M\n",
      "x:1737802.014937566M\n",
      "x:1740583.260408982M\n",
      "x:1740627.367679804M\n",
      "x:1741579.4761438388M\n",
      "x:1741579.701284171M\n",
      "x:1740276.888023167M\n",
      "x:1741579.215916967M\n",
      "x:1740000.311096596M\n",
      "x:1740710.452799343M\n",
      "x:1740710.483994887M\n",
      "x:1741582.938813015M\n",
      "x:6239423.8753512M\n",
      "x:9736816.31227924M\n",
      "x:9740352.17900444M\n",
      "x:9740459.32477014M\n",
      "x:9740094.04843054M\n",
      "x:9732069.27262846M\n",
      "x:9745416.27801496M\n",
      "x:9745571.99817094M\n",
      "x:9745557.38310957M\n",
      "x:9739841.19911658M\n",
      "x:9750450.719289929M\n",
      "x:9760145.62885036M\n",
      "x:9745226.80934344M\n",
      "x:9737523.41144016M\n",
      "x:9739471.2847355M\n",
      "x:9736345.06801041M\n",
      "x:9750451.13943922M\n",
      "x:9740669.14161844M\n",
      "x:9740664.31524916M\n",
      "x:9745532.69145373M\n",
      "x:9745513.12097474M\n",
      "x:9739048.15174944M\n",
      "x:9740777.106223479M\n",
      "x:9745401.65027005M\n",
      "x:9736571.003721349M\n",
      "x:9745709.553300451M\n",
      "x:9740782.67828658M\n",
      "x:9745655.95651151M\n",
      "x:9745655.19419353M\n",
      "x:9737322.03111591M\n",
      "x:9784395.498966321M\n",
      "x:9740841.27510952M\n",
      "x:9740841.28491306M\n",
      "x:9745669.70117078M\n",
      "x:9738300.43377996M\n",
      "x:9745674.37560606M\n",
      "x:9737916.3879621M\n",
      "x:9745669.170625169M\n",
      "x:9739420.284820639M\n",
      "x:9735507.67064582M\n",
      "x:9745678.686848521M\n",
      "x:9745649.440958321M\n",
      "x:9739658.8625047M\n",
      "x:9740807.30066872M\n",
      "x:9734339.44166269M\n",
      "x:9740807.32446759M\n",
      "x:9737381.15255426M\n",
      "x:9731701.410808511M\n",
      "x:9740841.46646393M\n",
      "x:9745659.87996503M\n",
      "x:9745625.763977371M\n",
      "x:9740841.48812491M\n",
      "x:9740744.013874449M\n",
      "x:9740354.83375423M\n",
      "x:9745708.99941231M\n",
      "x:9745719.49085283M\n",
      "x:9745247.80903555M\n",
      "x:9739809.14874908M\n",
      "x:9715871.16117589M\n",
      "x:9740843.69235M\n",
      "x:9738724.389974989M\n",
      "x:9739007.664649311M\n",
      "x:9729358.28276281M\n",
      "x:9745717.151275389M\n",
      "x:9745726.86688493M\n",
      "x:9740843.93236978M\n",
      "x:9737452.06568516M\n",
      "x:9740844.07084441M\n",
      "x:9745627.09469864M\n",
      "x:9740664.24249899M\n",
      "x:9745510.89320053M\n",
      "x:9737762.08293317M\n",
      "x:9738823.81436936M\n",
      "x:9731741.96147839M\n",
      "x:9745716.25912218M\n",
      "x:9740811.10833039M\n",
      "x:9750533.00252431M\n",
      "x:9738867.79128895M\n",
      "x:9734289.55965971M\n",
      "x:9740762.93238512M\n",
      "x:9740845.712789059M\n",
      "x:9750588.53316286M\n",
      "x:9737542.89668234M\n",
      "x:9734668.71179156M\n",
      "x:9745717.19138411M\n",
      "x:9729986.374663752M\n",
      "x:9734879.14002919M\n",
      "x:9740846.08562047M\n",
      "x:9740836.36387432M\n",
      "x:9734197.22382947M\n",
      "x:9722606.39507008M\n",
      "x:9736883.34005281M\n",
      "x:9755469.166513361M\n",
      "x:9755484.878280912M\n",
      "x:9750605.48074707M\n",
      "x:9740846.72986596M\n",
      "x:9731357.242902711M\n",
      "x:9738251.14954234M\n",
      "x:9740846.7322262M\n",
      "x:9750603.98381098M\n",
      "x:9731231.01903066M\n",
      "x:9733740.55516738M\n",
      "x:9740804.22154502M\n",
      "x:9735346.391648121M\n",
      "x:9708408.184748389M\n",
      "x:9719570.122683171M\n",
      "x:9729606.86484627M\n",
      "x:9760391.67151739M\n",
      "x:9733425.55007684M\n",
      "x:9750160.57540742M\n",
      "x:9745317.498319019M\n",
      "x:9740848.18572467M\n",
      "x:9750408.13370868M\n",
      "x:9765282.00496189M\n",
      "x:9731393.930776391M\n",
      "x:9740804.65819822M\n",
      "x:9750518.73734537M\n",
      "x:9745681.116494551M\n",
      "x:9721468.16638364M\n",
      "x:9750596.412236448M\n",
      "x:9745545.185435161M\n",
      "x:9739490.68842883M\n",
      "x:9750248.09936801M\n",
      "x:9745330.65331815M\n",
      "x:9735938.64991355M\n",
      "x:9733152.6210039M\n",
      "x:9750366.76563925M\n",
      "x:9740853.45704418M\n",
      "x:9750566.2808672M\n",
      "x:9779646.34346876M\n",
      "x:9750564.574717231M\n",
      "x:9759922.188688M\n",
      "x:9750485.46408666M\n",
      "x:9755152.7006844M\n",
      "x:9745715.976083051M\n",
      "x:9735721.813055M\n",
      "x:9736155.68923672M\n",
      "x:9729550.83622196M\n",
      "x:9728191.32503542M\n",
      "x:9745527.2542657M\n",
      "x:9737648.899511479M\n",
      "x:9774754.234759651M\n",
      "x:9740847.422129791M\n",
      "x:9739991.97885799M\n",
      "x:9740504.78504931M\n",
      "x:9733679.12333563M\n",
      "x:9740857.3160238M\n",
      "x:9735976.3862199M\n",
      "x:9745698.093267739M\n",
      "x:9732493.11281396M\n",
      "x:9755393.43623473M\n",
      "x:9750528.09747982M\n",
      "x:9728695.7721992M\n",
      "x:9738881.642204281M\n",
      "x:9738900.96008375M\n",
      "x:9697827.041972961M\n",
      "x:9745361.708022341M\n",
      "x:9727098.80614186M\n",
      "x:9733412.0074543M\n",
      "x:9750417.91460673M\n",
      "x:9750539.76533301M\n",
      "x:9730142.27435464M\n",
      "x:9750070.07281828M\n",
      "x:9732840.72448002M\n",
      "x:9739270.681666259M\n",
      "x:9764649.730618011M\n",
      "x:9738977.62897611M\n",
      "x:9745444.46101723M\n",
      "x:9737544.087402351M\n",
      "x:9740388.80138418M\n",
      "x:9738839.55012835M\n",
      "x:9740246.001981601M\n",
      "x:9735894.81151792M\n",
      "x:9735815.15108544M\n",
      "x:9726293.697556939M\n",
      "x:9745665.73578461M\n",
      "x:9739896.163583469M\n",
      "x:9755198.77245704M\n",
      "x:9711526.7648311M\n",
      "x:9745652.75670826M\n",
      "x:9745558.9003237M\n",
      "x:9738356.72917375M\n",
      "x:9740746.54731475M\n",
      "x:9739232.86432685M\n",
      "x:9737428.12280186M\n",
      "x:9750440.12297685M\n",
      "x:9745618.114747971M\n",
      "x:9739138.83029753M\n",
      "x:9745211.20964453M\n",
      "x:9740315.63460011M\n",
      "x:9740419.67640723M\n",
      "x:9745196.30744542M\n",
      "x:9740444.448036611M\n",
      "x:9740419.67734423M\n",
      "x:9740389.97818199M\n",
      "x:9740865.57950022M\n",
      "x:9732509.56077359M\n",
      "x:9750437.82971809M\n",
      "x:9738262.08760712M\n",
      "x:9737529.918330818M\n",
      "x:9745191.790702749M\n",
      "x:9750182.007250741M\n",
      "x:9737992.11042866M\n",
      "x:9745192.25256924M\n",
      "x:9727892.27767925M\n",
      "x:9738079.26139861M\n",
      "x:9745162.23920419M\n",
      "x:9745647.58513856M\n",
      "x:9735706.7660444M\n",
      "x:9774267.74332721M\n",
      "x:9745592.82856041M\n",
      "x:9745166.734972749M\n",
      "x:9732865.143938709M\n",
      "x:9737869.01087258M\n",
      "x:9740851.03970806M\n",
      "x:9740017.10144268M\n",
      "x:9740722.21999006M\n",
      "x:9738803.00183527M\n",
      "x:9736606.130907029M\n",
      "x:9745221.302229691M\n",
      "x:9740822.670485951M\n",
      "x:9755195.63598556M\n",
      "x:9755136.18332405M\n",
      "x:9727875.43004796M\n",
      "x:9732130.367303759M\n",
      "x:9740597.30321664M\n",
      "x:9723594.12083043M\n",
      "x:9740866.18223136M\n",
      "x:9735454.24393975M\n",
      "x:9740477.93934899M\n",
      "x:9745379.30280605M\n",
      "x:9745627.04202662M\n",
      "x:9739103.26503404M\n",
      "x:9739365.79287873M\n",
      "x:9745171.0239703M\n",
      "x:9739427.73357719M\n",
      "x:9736825.19596011M\n",
      "x:9740365.9336507M\n",
      "x:9738495.193678211M\n",
      "x:9754756.47408045M\n",
      "x:9733323.19251747M\n",
      "x:9745166.08618962M\n",
      "x:9732038.93787058M\n",
      "x:9740861.521906279M\n",
      "x:9745646.729956679M\n",
      "x:9745641.75697048M\n",
      "x:9740742.59931415M\n",
      "x:9740534.45919248M\n",
      "x:9745303.84131368M\n",
      "x:9740837.51799584M\n",
      "x:9740254.988812558M\n",
      "x:9739624.7886698M\n",
      "x:9740867.44633521M\n",
      "x:9740867.463510271M\n",
      "x:9745645.3705409M\n",
      "x:9740845.17531458M\n",
      "x:9740850.61514627M\n",
      "x:9745643.34242793M\n",
      "x:9736627.35919668M\n",
      "x:9769537.595967479M\n",
      "x:9745345.58122198M\n",
      "x:9740038.943382509M\n",
      "x:9745638.21179879M\n",
      "x:9740850.65549521M\n",
      "x:9740987.47044895M\n",
      "x:9740743.748193141M\n",
      "x:9737870.412119959M\n",
      "x:9740404.02694565M\n",
      "x:9745201.19859064M\n",
      "x:9724049.665790189M\n",
      "x:9739838.03348304M\n",
      "x:9745632.61145164M\n",
      "x:9745453.29142184M\n",
      "x:9750212.48897945M\n",
      "x:9740613.290467061M\n",
      "x:9740380.25255928M\n",
      "x:9735781.51050649M\n",
      "x:9755168.450705681M\n",
      "x:9732485.9034791M\n",
      "x:9745628.808274679M\n",
      "x:9745146.20812928M\n",
      "x:9722820.47037945M\n",
      "x:9737966.13497167M\n",
      "x:9737776.36400723M\n",
      "x:9740385.61758171M\n",
      "x:9750304.642905079M\n",
      "x:9740564.7360671M\n",
      "x:9745364.98642391M\n",
      "x:9745498.61147327M\n",
      "x:9737403.217569M\n",
      "x:9736094.20669323M\n",
      "x:9738259.272578321M\n",
      "x:9745622.190103069M\n",
      "x:9754939.614944361M\n",
      "x:9740876.230874M\n",
      "x:9750330.15211769M\n",
      "x:9749942.65447069M\n",
      "x:9745285.7015195M\n",
      "x:9745165.50894766M\n",
      "x:9740304.24417065M\n",
      "x:9738334.48925927M\n",
      "x:9745481.647361219M\n",
      "x:9735761.73807173M\n",
      "x:9745121.228534989M\n",
      "x:9735494.89928698M\n",
      "x:9745594.566079501M\n",
      "x:9750317.76726259M\n",
      "x:9740448.01097833M\n",
      "x:9759381.35381298M\n",
      "x:9740470.39323943M\n",
      "x:9745588.56623301M\n",
      "x:9736536.85768635M\n",
      "x:9738734.60948823M\n",
      "x:9740851.93102178M\n",
      "x:9740842.20528255M\n",
      "x:9745404.52606613M\n",
      "x:9739285.13752884M\n",
      "x:9730885.85988496M\n",
      "x:9740097.23509388M\n",
      "x:9749930.99160682M\n",
      "x:9740833.96572704M\n",
      "x:9730676.3393556M\n",
      "x:9737308.52925816M\n",
      "x:9745275.88810194M\n",
      "x:9740496.89848238M\n",
      "x:9733425.184047509M\n",
      "x:9730756.95057232M\n",
      "x:9739389.21322782M\n",
      "x:9745201.53963415M\n",
      "x:9740368.02050659M\n",
      "x:9729281.3042986M\n",
      "x:9731656.27443818M\n",
      "x:9745142.05678967M\n",
      "x:9740363.06360288M\n",
      "x:9740710.04686234M\n",
      "x:9738504.05228378M\n",
      "x:9745290.70846398M\n",
      "x:9739653.050998889M\n",
      "x:9729270.99216386M\n",
      "x:9730291.230035849M\n",
      "x:9740353.156740889M\n",
      "x:9764327.150945641M\n",
      "x:9738635.70417386M\n",
      "x:9750260.06627002M\n",
      "x:9783426.79488976M\n",
      "x:9740652.69380971M\n",
      "x:9745501.5742613M\n",
      "x:9754568.46776448M\n",
      "x:9737996.408095859M\n",
      "x:9735834.67886677M\n",
      "x:9740588.37918938M\n",
      "x:9745014.613341361M\n",
      "x:9739596.03758733M\n",
      "x:9754805.957720071M\n",
      "x:9730663.963442381M\n",
      "x:9740230.79096462M\n",
      "x:9729150.39117668M\n",
      "x:9739160.25352892M\n",
      "x:9744716.79598234M\n",
      "x:9736870.891510509M\n",
      "x:9736054.456988111M\n",
      "x:9740215.89974147M\n",
      "x:9740071.64821669M\n",
      "x:9730935.53935371M\n",
      "x:9737962.68589579M\n",
      "x:9740573.509030141M\n",
      "x:9739391.43874366M\n",
      "x:9725456.25032238M\n",
      "x:9737078.55265208M\n",
      "x:9734644.151083559M\n",
      "x:9739284.75832504M\n",
      "x:9738879.16249786M\n",
      "x:9738263.524929151M\n",
      "x:9735669.970477M\n",
      "x:9740391.30730374M\n",
      "x:9740246.70330419M\n",
      "x:9745046.148155458M\n",
      "x:9749740.660463091M\n",
      "x:9738340.70232793M\n",
      "x:9759233.15597092M\n",
      "x:9737904.31858185M\n",
      "x:9738740.36112074M\n",
      "x:9744970.37652576M\n",
      "x:9739209.14714931M\n",
      "x:9744890.758567661M\n",
      "x:9740102.25788849M\n",
      "x:9740251.86604467M\n",
      "x:9735055.73816258M\n",
      "x:9740226.93135197M\n",
      "x:9739028.97574961M\n",
      "x:9740731.0057309M\n",
      "x:9749729.78229376M\n",
      "x:9744507.26263345M\n",
      "x:9773823.955422599M\n",
      "x:9736262.87905179M\n",
      "x:9725509.62108139M\n",
      "x:9733491.477802541M\n",
      "x:9749749.638355602M\n",
      "x:9726593.55578988M\n",
      "x:9740466.47761064M\n",
      "x:9739143.62882352M\n",
      "x:9749864.3967544M\n",
      "x:9740232.10407762M\n",
      "x:9740287.57220255M\n",
      "x:9737118.07585556M\n",
      "x:9739705.376528159M\n",
      "x:9740138.443068929M\n",
      "x:9740262.056792181M\n",
      "x:9737345.13185948M\n",
      "x:9739182.04015483M\n",
      "x:9740730.85836385M\n",
      "x:9740486.4984823M\n",
      "x:9740222.19085531M\n",
      "x:9738594.954554949M\n",
      "x:9738252.749523189M\n",
      "x:9738670.41961913M\n",
      "x:9739791.76513476M\n",
      "x:9739652.56073343M\n",
      "x:9740476.950990971M\n",
      "x:9738940.45478536M\n",
      "x:9740696.22710327M\n",
      "x:9740382.32620956M\n",
      "x:9740526.938804999M\n",
      "x:9737874.150373269M\n",
      "x:9745258.17808126M\n",
      "x:9739715.12861275M\n",
      "x:9732931.105235249M\n",
      "x:9740706.539941251M\n",
      "x:9740701.5551561M\n",
      "x:9737879.298695069M\n",
      "x:9738604.23357609M\n",
      "x:9738067.86118795M\n",
      "x:9733989.7980216M\n",
      "x:9745014.07864435M\n",
      "x:9739972.19663941M\n",
      "x:9740153.383344501M\n",
      "x:9739896.299531259M\n",
      "x:9726566.05211748M\n",
      "x:9739153.570819579M\n",
      "x:9740362.754406061M\n",
      "x:9740352.79745308M\n",
      "x:9737070.207063619M\n",
      "x:9736047.62526495M\n",
      "x:9738832.17413209M\n",
      "x:9738466.33148852M\n",
      "x:9740228.29118327M\n",
      "x:9740412.753205959M\n",
      "x:9745197.82682956M\n",
      "x:9739962.09692451M\n",
      "x:9744978.449854359M\n",
      "x:9730898.730523668M\n",
      "x:9737319.24132846M\n",
      "x:9745213.39621462M\n",
      "x:9744984.08082187M\n",
      "x:9737799.409879971M\n",
      "x:9740697.086911231M\n",
      "x:9740642.269684639M\n",
      "x:9736735.60941541M\n",
      "x:9740687.157014959M\n",
      "x:9740159.31472097M\n",
      "x:9739223.025257621M\n",
      "x:9740413.01041889M\n",
      "x:9738402.74623027M\n",
      "x:9745811.406451993M\n",
      "x:9750686.763100479M\n",
      "x:9755455.066512674M\n",
      "x:9741525.604823928M\n",
      "x:9755260.889938273M\n",
      "x:9750512.43924747M\n",
      "x:9750253.585133936M\n",
      "x:9749735.882926846M\n",
      "x:9749858.701422118M\n",
      "x:9746861.129631542M\n",
      "x:9754931.847206376M\n",
      "x:9750098.88064585M\n",
      "x:9746752.175290432M\n",
      "x:9747545.147170935M\n",
      "x:9743731.10690174M\n",
      "x:9742453.798408631M\n",
      "x:9749586.643488437M\n",
      "x:9746422.01773115M\n",
      "x:9754991.475601055M\n",
      "x:9746299.31042644M\n",
      "x:9750218.726677965M\n",
      "x:9750048.96294754M\n",
      "x:9744928.654902527M\n",
      "x:9715788.172833275M\n",
      "x:9754991.316731103M\n",
      "x:9750183.77976077M\n",
      "x:9750123.89820439M\n",
      "x:9755001.884867402M\n",
      "x:9749480.114761002M\n",
      "x:9759754.525697079M\n",
      "x:9750242.525459059M\n",
      "x:9747790.833610661M\n",
      "x:9749968.013053156M\n",
      "x:9745199.82645762M\n",
      "x:9748305.319419116M\n",
      "x:9755001.459087744M\n",
      "x:9749548.171790771M\n",
      "x:9745370.31876482M\n",
      "x:9747341.646124875M\n",
      "x:9764134.627270706M\n",
      "x:9748359.328403816M\n",
      "x:9748746.552191239M\n",
      "x:10250605.78385094M\n",
      "x:10750986.810542896M\n",
      "x:10756771.221283555M\n",
      "x:10746470.020990547M\n",
      "x:10747693.592724742M\n",
      "x:10744602.66259602M\n",
      "x:10746474.85993972M\n",
      "x:10749440.615749555M\n",
      "x:10762060.351068478M\n",
      "x:10736942.810857981M\n",
      "x:10756376.133171592M\n",
      "x:10742402.877877966M\n",
      "x:10735876.115019437M\n",
      "x:10750893.00176518M\n",
      "x:10750575.00692845M\n",
      "x:10750993.537065567M\n",
      "x:10751110.170842793M\n",
      "x:10762105.647358537M\n",
      "x:10751094.27248596M\n",
      "x:10745184.835507542M\n",
      "x:10745947.874441039M\n",
      "x:10751025.346928727M\n",
      "x:10750175.565482644M\n",
      "x:10756162.735707793M\n",
      "x:10746628.420582727M\n",
      "x:10747839.537332214M\n",
      "x:10750263.851538455M\n",
      "x:10744297.687924588M\n",
      "x:10756602.57472796M\n",
      "x:10725826.616399541M\n",
      "x:10740356.670721281M\n",
      "x:10748293.603940662M\n",
      "x:10750646.400068207M\n",
      "x:10756353.25061496M\n",
      "x:10746471.10033968M\n",
      "x:10747731.051838156M\n",
      "x:10742080.648411259M\n",
      "x:10746148.135573557M\n",
      "x:10749096.37627389M\n",
      "x:10742445.124018079M\n",
      "x:10750404.31232839M\n",
      "x:10750288.742003093M\n",
      "x:10746260.150617588M\n",
      "x:10751099.51096888M\n",
      "x:10749494.434859939M\n",
      "x:10756050.114749007M\n",
      "x:10747656.808447637M\n",
      "x:10750865.987566724M\n",
      "x:10748061.789762158M\n",
      "x:10756347.028193654M\n",
      "x:10749976.711691013M\n",
      "x:10748869.177846774M\n",
      "x:10745795.019004086M\n",
      "x:10761710.892070938M\n",
      "x:10756299.162113115M\n",
      "x:10734351.312223956M\n",
      "x:10750839.195628252M\n",
      "x:10738333.045639021M\n",
      "x:10756009.724503115M\n",
      "x:10746631.404789984M\n",
      "x:10756484.672601148M\n",
      "x:10756611.995884076M\n",
      "x:10748590.67498458M\n",
      "x:10756569.554789765M\n",
      "x:10747922.313395811M\n",
      "x:10756692.411408724M\n",
      "x:10747933.84875442M\n",
      "x:10751261.307721075M\n",
      "x:10748352.306389479M\n",
      "x:10750935.74259013M\n",
      "x:10749725.817644471M\n",
      "x:10751128.703193516M\n",
      "x:10751319.652079102M\n",
      "x:10749434.822004395M\n",
      "x:10743185.713942196M\n",
      "x:10756809.554447342M\n",
      "x:10748980.39659781M\n",
      "x:10749214.167976411M\n",
      "x:10751637.941427663M\n",
      "x:10749122.664028157M\n",
      "x:10757058.484109726M\n",
      "x:10743690.673216755M\n",
      "x:10751584.944184646M\n",
      "x:10751409.05735099M\n",
      "x:10750205.337840006M\n",
      "x:10751638.001237916M\n",
      "x:10750696.176984966M\n",
      "x:10750282.107563993M\n",
      "x:10751653.92272605M\n",
      "x:10749453.577438878M\n",
      "x:10748919.76115914M\n",
      "x:10751452.349459857M\n",
      "x:10748445.577942735M\n",
      "x:10751383.390184583M\n",
      "x:10750782.243397543M\n",
      "x:10750319.239481453M\n",
      "x:10750548.723925576M\n",
      "x:10746005.16541848M\n",
      "x:10745915.300194202M\n",
      "x:10748198.36867372M\n",
      "x:10756793.176269425M\n",
      "x:10732175.962761795M\n",
      "x:10743576.586004443M\n",
      "x:10747568.357356641M\n",
      "x:10767518.352711024M\n",
      "x:10748723.240748476M\n",
      "x:10747226.346751098M\n",
      "x:10751638.110442467M\n",
      "x:10751150.104215767M\n",
      "x:10756549.536058847M\n",
      "x:10751234.973877825M\n",
      "x:10746592.465519913M\n",
      "x:10751654.042077605M\n",
      "x:10749650.132826872M\n",
      "x:10740091.000131804M\n",
      "x:10750714.362112109M\n",
      "x:10767830.774566486M\n",
      "x:10756708.574114112M\n",
      "x:10751553.276831444M\n",
      "x:10757010.947840933M\n",
      "x:10751112.996352023M\n",
      "x:10175090.477412479M\n",
      "x:10612509.660227355M\n",
      "x:10608372.904210657M\n",
      "x:10573914.43248891M\n",
      "x:10561137.734880438M\n",
      "x:10574467.650813693M\n",
      "x:10578696.538489316M\n",
      "x:10568752.479002766M\n",
      "x:10587317.838909231M\n",
      "x:10586250.633810367M\n",
      "x:10576242.310014796M\n",
      "y1_col values:dt\n",
      "2025-01-16 14:00:00+00:00    9.873170e+03\n",
      "2025-01-16 15:00:00+00:00    9.873066e+03\n",
      "2025-01-16 16:00:00+00:00    9.872010e+03\n",
      "2025-01-16 17:00:00+00:00    9.889454e+03\n",
      "2025-01-16 18:00:00+00:00    9.872686e+03\n",
      "                                 ...     \n",
      "2025-02-24 18:00:00+00:00    1.057870e+07\n",
      "2025-02-24 19:00:00+00:00    1.056875e+07\n",
      "2025-02-24 20:00:00+00:00    1.058732e+07\n",
      "2025-02-24 21:00:00+00:00    1.058625e+07\n",
      "2025-02-24 22:00:00+00:00    1.057624e+07\n",
      "Name: Total Tvl, Length: 945, dtype: float64 \n",
      "color_map: {'Total Tvl': '#00CC96'}\n",
      "Processing y1 column: Total Tvl with color: #00CC96\n",
      "x:10576242.310014796M\n"
     ]
    },
    {
     "name": "stderr",
     "output_type": "stream",
     "text": [
      "e:\\projects\\chart_builder_pkg\\chart_builder\\scripts\\plots.py:232: FutureWarning:\n",
      "\n",
      "Series.__getitem__ treating keys as positions is deprecated. In a future version, integer keys will always be treated as labels (consistent with DataFrame behavior). To access a value by position, use `ser.iloc[pos]`\n",
      "\n"
     ]
    },
    {
     "name": "stdout",
     "output_type": "stream",
     "text": [
      "x:10576242.310014796M\n",
      "x:9873.169983001K\n",
      "x:10767830.774566486M\n",
      "axes_font_colors: {}\n",
      "ticksy: None\n",
      "[x_range_start, x_range_end]: [Timestamp('2025-01-16 08:00:00+0000', tz='UTC'), Timestamp('2025-02-25 04:00:00+0000', tz='UTC')]\n",
      "legend_orientation: v\n",
      "Columns: Index(['Total Tvl'], dtype='object') \n",
      "Index: DatetimeIndex(['2025-01-16 14:00:00+00:00', '2025-01-16 15:00:00+00:00',\n",
      "               '2025-01-16 16:00:00+00:00', '2025-01-16 17:00:00+00:00',\n",
      "               '2025-01-16 18:00:00+00:00', '2025-01-16 19:00:00+00:00',\n",
      "               '2025-01-16 20:00:00+00:00', '2025-01-16 21:00:00+00:00',\n",
      "               '2025-01-16 22:00:00+00:00', '2025-01-16 23:00:00+00:00',\n",
      "               ...\n",
      "               '2025-02-24 13:00:00+00:00', '2025-02-24 14:00:00+00:00',\n",
      "               '2025-02-24 15:00:00+00:00', '2025-02-24 16:00:00+00:00',\n",
      "               '2025-02-24 17:00:00+00:00', '2025-02-24 18:00:00+00:00',\n",
      "               '2025-02-24 19:00:00+00:00', '2025-02-24 20:00:00+00:00',\n",
      "               '2025-02-24 21:00:00+00:00', '2025-02-24 22:00:00+00:00'],\n",
      "              dtype='datetime64[ns, UTC]', name='dt', length=945, freq=None)\n"
     ]
    },
    {
     "data": {
      "application/vnd.plotly.v1+json": {
       "config": {
        "linkText": "Export to plot.ly",
        "plotlyServerURL": "https://plot.ly",
        "showLink": false
       },
       "data": [
        {
         "connectgaps": true,
         "line": {
          "color": "#00CC96",
          "width": 4
         },
         "marker": {
          "color": "#00CC96",
          "size": 3
         },
         "mode": "lines",
         "name": "Total Tvl ($10.6M)     ",
         "showlegend": false,
         "stackgroup": "one",
         "text": [
          "$9.9K",
          "$9.9K",
          "$9.9K",
          "$9.9K",
          "$9.9K",
          "$9.9K",
          "$9.9K",
          "$9.9K",
          "$9.5K",
          "$9.5K",
          "$9.5K",
          "$9.5K",
          "$9.5K",
          "$9.5K",
          "$9.5K",
          "$9.5K",
          "$9.5K",
          "$9.5K",
          "$9.5K",
          "$9.5K",
          "$9.5K",
          "$9.5K",
          "$9.5K",
          "$9.5K",
          "$9.5K",
          "$9.5K",
          "$9.5K",
          "$9.5K",
          "$9.5K",
          "$9.5K",
          "$9.5K",
          "$9.5K",
          "$9.5K",
          "$9.5K",
          "$9.5K",
          "$9.5K",
          "$9.5K",
          "$9.5K",
          "$9.5K",
          "$9.5K",
          "$9.5K",
          "$9.5K",
          "$9.5K",
          "$9.5K",
          "$9.5K",
          "$9.5K",
          "$9.5K",
          "$9.5K",
          "$9.5K",
          "$9.5K",
          "$9.5K",
          "$9.5K",
          "$9.5K",
          "$9.5K",
          "$9.5K",
          "$9.5K",
          "$9.5K",
          "$9.5K",
          "$9.5K",
          "$9.5K",
          "$9.5K",
          "$9.5K",
          "$9.5K",
          "$9.5K",
          "$9.5K",
          "$9.5K",
          "$9.5K",
          "$9.5K",
          "$9.5K",
          "$9.5K",
          "$9.5K",
          "$9.5K",
          "$9.5K",
          "$9.5K",
          "$9.5K",
          "$9.5K",
          "$9.5K",
          "$9.5K",
          "$9.5K",
          "$9.5K",
          "$9.5K",
          "$9.5K",
          "$9.5K",
          "$9.5K",
          "$9.5K",
          "$9.5K",
          "$9.5K",
          "$9.5K",
          "$9.5K",
          "$9.5K",
          "$9.5K",
          "$9.5K",
          "$9.5K",
          "$9.5K",
          "$9.5K",
          "$9.5K",
          "$9.5K",
          "$9.5K",
          "$9.5K",
          "$9.5K",
          "$9.5K",
          "$9.5K",
          "$9.5K",
          "$9.5K",
          "$9.5K",
          "$9.5K",
          "$9.5K",
          "$9.5K",
          "$9.5K",
          "$9.5K",
          "$9.5K",
          "$9.5K",
          "$9.5K",
          "$9.5K",
          "$9.5K",
          "$9.5K",
          "$9.5K",
          "$9.5K",
          "$9.5K",
          "$9.5K",
          "$9.5K",
          "$9.5K",
          "$9.5K",
          "$9.5K",
          "$9.5K",
          "$9.5K",
          "$9.5K",
          "$9.5K",
          "$9.5K",
          "$9.5K",
          "$9.5K",
          "$9.5K",
          "$9.5K",
          "$9.5K",
          "$9.6K",
          "$9.9K",
          "$10.0K",
          "$10.0K",
          "$9.5K",
          "$9.5K",
          "$9.5K",
          "$9.5K",
          "$9.5K",
          "$9.5K",
          "$9.5K",
          "$9.5K",
          "$9.6K",
          "$9.6K",
          "$9.6K",
          "$9.6K",
          "$9.6K",
          "$9.6K",
          "$9.6K",
          "$9.6K",
          "$9.5K",
          "$9.5K",
          "$9.5K",
          "$9.5K",
          "$9.5K",
          "$9.5K",
          "$9.5K",
          "$9.5K",
          "$9.6K",
          "$9.6K",
          "$9.6K",
          "$9.6K",
          "$9.6K",
          "$9.6K",
          "$9.5K",
          "$9.5K",
          "$9.5K",
          "$9.5K",
          "$9.5K",
          "$9.5K",
          "$9.5K",
          "$9.6K",
          "$9.5K",
          "$9.5K",
          "$9.5K",
          "$9.5K",
          "$9.5K",
          "$9.5K",
          "$9.5K",
          "$9.5K",
          "$9.5K",
          "$9.5K",
          "$9.5K",
          "$9.5K",
          "$9.5K",
          "$9.5K",
          "$9.5K",
          "$9.5K",
          "$9.5K",
          "$9.5K",
          "$9.5K",
          "$9.5K",
          "$9.5K",
          "$9.5K",
          "$9.5K",
          "$9.5K",
          "$9.5K",
          "$9.5K",
          "$9.5K",
          "$9.5K",
          "$9.5K",
          "$9.5K",
          "$9.5K",
          "$9.5K",
          "$9.5K",
          "$9.5K",
          "$9.5K",
          "$9.5K",
          "$9.5K",
          "$9.5K",
          "$9.5K",
          "$9.5K",
          "$9.5K",
          "$9.5K",
          "$9.5K",
          "$9.5K",
          "$9.5K",
          "$9.5K",
          "$9.5K",
          "$9.5K",
          "$9.5K",
          "$9.5K",
          "$9.5K",
          "$9.5K",
          "$9.5K",
          "$9.5K",
          "$9.5K",
          "$9.5K",
          "$9.5K",
          "$9.5K",
          "$9.5K",
          "$9.5K",
          "$9.5K",
          "$9.5K",
          "$9.5K",
          "$9.5K",
          "$9.5K",
          "$9.5K",
          "$9.5K",
          "$9.5K",
          "$9.5K",
          "$9.5K",
          "$9.5K",
          "$9.5K",
          "$9.5K",
          "$9.5K",
          "$9.5K",
          "$9.5K",
          "$9.5K",
          "$9.5K",
          "$9.5K",
          "$9.5K",
          "$9.5K",
          "$9.5K",
          "$9.5K",
          "$9.5K",
          "$9.5K",
          "$9.5K",
          "$9.5K",
          "$9.5K",
          "$9.5K",
          "$9.5K",
          "$9.5K",
          "$9.5K",
          "$9.5K",
          "$9.5K",
          "$9.5K",
          "$9.5K",
          "$9.5K",
          "$9.5K",
          "$9.5K",
          "$9.5K",
          "$9.5K",
          "$9.5K",
          "$9.5K",
          "$9.5K",
          "$9.5K",
          "$9.5K",
          "$9.5K",
          "$9.5K",
          "$9.5K",
          "$9.5K",
          "$9.5K",
          "$9.5K",
          "$9.5K",
          "$434.4K",
          "$540.7K",
          "$939.1K",
          "$939.9K",
          "$1.7M",
          "$1.7M",
          "$1.7M",
          "$1.7M",
          "$1.7M",
          "$1.7M",
          "$1.7M",
          "$1.7M",
          "$1.7M",
          "$1.7M",
          "$1.7M",
          "$1.7M",
          "$1.7M",
          "$1.7M",
          "$1.7M",
          "$6.2M",
          "$9.7M",
          "$9.7M",
          "$9.7M",
          "$9.7M",
          "$9.7M",
          "$9.7M",
          "$9.7M",
          "$9.7M",
          "$9.7M",
          "$9.8M",
          "$9.8M",
          "$9.7M",
          "$9.7M",
          "$9.7M",
          "$9.7M",
          "$9.8M",
          "$9.7M",
          "$9.7M",
          "$9.7M",
          "$9.7M",
          "$9.7M",
          "$9.7M",
          "$9.7M",
          "$9.7M",
          "$9.7M",
          "$9.7M",
          "$9.7M",
          "$9.7M",
          "$9.7M",
          "$9.8M",
          "$9.7M",
          "$9.7M",
          "$9.7M",
          "$9.7M",
          "$9.7M",
          "$9.7M",
          "$9.7M",
          "$9.7M",
          "$9.7M",
          "$9.7M",
          "$9.7M",
          "$9.7M",
          "$9.7M",
          "$9.7M",
          "$9.7M",
          "$9.7M",
          "$9.7M",
          "$9.7M",
          "$9.7M",
          "$9.7M",
          "$9.7M",
          "$9.7M",
          "$9.7M",
          "$9.7M",
          "$9.7M",
          "$9.7M",
          "$9.7M",
          "$9.7M",
          "$9.7M",
          "$9.7M",
          "$9.7M",
          "$9.7M",
          "$9.7M",
          "$9.7M",
          "$9.7M",
          "$9.7M",
          "$9.7M",
          "$9.7M",
          "$9.7M",
          "$9.7M",
          "$9.7M",
          "$9.7M",
          "$9.7M",
          "$9.7M",
          "$9.7M",
          "$9.8M",
          "$9.7M",
          "$9.7M",
          "$9.7M",
          "$9.7M",
          "$9.8M",
          "$9.7M",
          "$9.7M",
          "$9.7M",
          "$9.7M",
          "$9.7M",
          "$9.7M",
          "$9.7M",
          "$9.7M",
          "$9.7M",
          "$9.7M",
          "$9.8M",
          "$9.8M",
          "$9.8M",
          "$9.7M",
          "$9.7M",
          "$9.7M",
          "$9.7M",
          "$9.8M",
          "$9.7M",
          "$9.7M",
          "$9.7M",
          "$9.7M",
          "$9.7M",
          "$9.7M",
          "$9.7M",
          "$9.8M",
          "$9.7M",
          "$9.8M",
          "$9.7M",
          "$9.7M",
          "$9.8M",
          "$9.8M",
          "$9.7M",
          "$9.7M",
          "$9.8M",
          "$9.7M",
          "$9.7M",
          "$9.8M",
          "$9.7M",
          "$9.7M",
          "$9.8M",
          "$9.7M",
          "$9.7M",
          "$9.7M",
          "$9.8M",
          "$9.7M",
          "$9.8M",
          "$9.8M",
          "$9.8M",
          "$9.8M",
          "$9.8M",
          "$9.8M",
          "$9.7M",
          "$9.7M",
          "$9.7M",
          "$9.7M",
          "$9.7M",
          "$9.7M",
          "$9.7M",
          "$9.8M",
          "$9.7M",
          "$9.7M",
          "$9.7M",
          "$9.7M",
          "$9.7M",
          "$9.7M",
          "$9.7M",
          "$9.7M",
          "$9.8M",
          "$9.8M",
          "$9.7M",
          "$9.7M",
          "$9.7M",
          "$9.7M",
          "$9.7M",
          "$9.7M",
          "$9.7M",
          "$9.8M",
          "$9.8M",
          "$9.7M",
          "$9.8M",
          "$9.7M",
          "$9.7M",
          "$9.8M",
          "$9.7M",
          "$9.7M",
          "$9.7M",
          "$9.7M",
          "$9.7M",
          "$9.7M",
          "$9.7M",
          "$9.7M",
          "$9.7M",
          "$9.7M",
          "$9.7M",
          "$9.8M",
          "$9.7M",
          "$9.7M",
          "$9.7M",
          "$9.7M",
          "$9.7M",
          "$9.7M",
          "$9.7M",
          "$9.8M",
          "$9.7M",
          "$9.7M",
          "$9.7M",
          "$9.7M",
          "$9.7M",
          "$9.7M",
          "$9.7M",
          "$9.7M",
          "$9.7M",
          "$9.7M",
          "$9.7M",
          "$9.8M",
          "$9.7M",
          "$9.7M",
          "$9.7M",
          "$9.8M",
          "$9.7M",
          "$9.7M",
          "$9.7M",
          "$9.7M",
          "$9.7M",
          "$9.7M",
          "$9.7M",
          "$9.8M",
          "$9.7M",
          "$9.7M",
          "$9.7M",
          "$9.7M",
          "$9.7M",
          "$9.7M",
          "$9.7M",
          "$9.7M",
          "$9.7M",
          "$9.7M",
          "$9.7M",
          "$9.8M",
          "$9.8M",
          "$9.7M",
          "$9.7M",
          "$9.7M",
          "$9.7M",
          "$9.7M",
          "$9.7M",
          "$9.7M",
          "$9.7M",
          "$9.7M",
          "$9.7M",
          "$9.7M",
          "$9.7M",
          "$9.7M",
          "$9.7M",
          "$9.7M",
          "$9.7M",
          "$9.8M",
          "$9.7M",
          "$9.7M",
          "$9.7M",
          "$9.7M",
          "$9.7M",
          "$9.7M",
          "$9.7M",
          "$9.7M",
          "$9.7M",
          "$9.7M",
          "$9.7M",
          "$9.7M",
          "$9.7M",
          "$9.7M",
          "$9.7M",
          "$9.7M",
          "$9.7M",
          "$9.7M",
          "$9.7M",
          "$9.8M",
          "$9.7M",
          "$9.7M",
          "$9.7M",
          "$9.7M",
          "$9.7M",
          "$9.7M",
          "$9.7M",
          "$9.7M",
          "$9.7M",
          "$9.7M",
          "$9.7M",
          "$9.7M",
          "$9.7M",
          "$9.8M",
          "$9.7M",
          "$9.7M",
          "$9.7M",
          "$9.8M",
          "$9.7M",
          "$9.7M",
          "$9.7M",
          "$9.7M",
          "$9.7M",
          "$9.7M",
          "$9.7M",
          "$9.8M",
          "$9.7M",
          "$9.7M",
          "$9.7M",
          "$9.7M",
          "$9.7M",
          "$9.7M",
          "$9.7M",
          "$9.8M",
          "$9.7M",
          "$9.8M",
          "$9.7M",
          "$9.7M",
          "$9.7M",
          "$9.7M",
          "$9.7M",
          "$9.7M",
          "$9.7M",
          "$9.7M",
          "$9.7M",
          "$9.7M",
          "$9.8M",
          "$9.7M",
          "$9.8M",
          "$9.7M",
          "$9.7M",
          "$9.7M",
          "$9.7M",
          "$9.7M",
          "$9.7M",
          "$9.7M",
          "$9.7M",
          "$9.7M",
          "$9.7M",
          "$9.7M",
          "$9.7M",
          "$9.7M",
          "$9.7M",
          "$9.7M",
          "$9.7M",
          "$9.7M",
          "$9.7M",
          "$9.7M",
          "$9.7M",
          "$9.7M",
          "$9.7M",
          "$9.7M",
          "$9.7M",
          "$9.7M",
          "$9.7M",
          "$9.7M",
          "$9.7M",
          "$9.7M",
          "$9.7M",
          "$9.7M",
          "$9.7M",
          "$9.8M",
          "$9.7M",
          "$9.8M",
          "$9.8M",
          "$9.7M",
          "$9.7M",
          "$9.8M",
          "$9.7M",
          "$9.7M",
          "$9.7M",
          "$9.7M",
          "$9.7M",
          "$9.8M",
          "$9.7M",
          "$9.7M",
          "$9.7M",
          "$9.7M",
          "$9.7M",
          "$9.7M",
          "$9.7M",
          "$9.7M",
          "$9.7M",
          "$9.7M",
          "$9.7M",
          "$9.7M",
          "$9.7M",
          "$9.7M",
          "$9.7M",
          "$9.7M",
          "$9.7M",
          "$9.7M",
          "$9.7M",
          "$9.7M",
          "$9.7M",
          "$9.7M",
          "$9.7M",
          "$9.7M",
          "$9.7M",
          "$9.8M",
          "$9.7M",
          "$9.7M",
          "$9.7M",
          "$9.7M",
          "$9.7M",
          "$9.7M",
          "$9.7M",
          "$9.7M",
          "$9.7M",
          "$9.7M",
          "$9.7M",
          "$9.7M",
          "$9.7M",
          "$9.8M",
          "$9.7M",
          "$9.7M",
          "$9.7M",
          "$9.7M",
          "$9.7M",
          "$9.7M",
          "$9.7M",
          "$9.7M",
          "$9.7M",
          "$9.7M",
          "$9.7M",
          "$9.7M",
          "$9.7M",
          "$9.7M",
          "$9.7M",
          "$9.7M",
          "$9.7M",
          "$9.7M",
          "$9.7M",
          "$9.7M",
          "$9.7M",
          "$9.7M",
          "$9.7M",
          "$9.7M",
          "$9.7M",
          "$9.7M",
          "$9.7M",
          "$9.7M",
          "$9.7M",
          "$9.7M",
          "$9.7M",
          "$9.7M",
          "$9.7M",
          "$9.7M",
          "$9.7M",
          "$9.7M",
          "$9.7M",
          "$9.7M",
          "$9.7M",
          "$9.7M",
          "$9.7M",
          "$9.7M",
          "$9.7M",
          "$9.7M",
          "$9.7M",
          "$9.7M",
          "$9.7M",
          "$9.7M",
          "$9.7M",
          "$9.7M",
          "$9.7M",
          "$9.7M",
          "$9.7M",
          "$9.7M",
          "$9.7M",
          "$9.7M",
          "$9.7M",
          "$9.7M",
          "$9.7M",
          "$9.7M",
          "$9.7M",
          "$9.7M",
          "$9.7M",
          "$9.7M",
          "$9.7M",
          "$9.7M",
          "$9.7M",
          "$9.7M",
          "$9.7M",
          "$9.7M",
          "$9.8M",
          "$9.8M",
          "$9.7M",
          "$9.8M",
          "$9.8M",
          "$9.8M",
          "$9.7M",
          "$9.7M",
          "$9.7M",
          "$9.8M",
          "$9.8M",
          "$9.7M",
          "$9.7M",
          "$9.7M",
          "$9.7M",
          "$9.7M",
          "$9.7M",
          "$9.8M",
          "$9.7M",
          "$9.8M",
          "$9.8M",
          "$9.7M",
          "$9.7M",
          "$9.8M",
          "$9.8M",
          "$9.8M",
          "$9.8M",
          "$9.7M",
          "$9.8M",
          "$9.8M",
          "$9.7M",
          "$9.7M",
          "$9.7M",
          "$9.7M",
          "$9.8M",
          "$9.7M",
          "$9.7M",
          "$9.7M",
          "$9.8M",
          "$9.7M",
          "$9.7M",
          "$10.3M",
          "$10.8M",
          "$10.8M",
          "$10.7M",
          "$10.7M",
          "$10.7M",
          "$10.7M",
          "$10.7M",
          "$10.8M",
          "$10.7M",
          "$10.8M",
          "$10.7M",
          "$10.7M",
          "$10.8M",
          "$10.8M",
          "$10.8M",
          "$10.8M",
          "$10.8M",
          "$10.8M",
          "$10.7M",
          "$10.7M",
          "$10.8M",
          "$10.8M",
          "$10.8M",
          "$10.7M",
          "$10.7M",
          "$10.8M",
          "$10.7M",
          "$10.8M",
          "$10.7M",
          "$10.7M",
          "$10.7M",
          "$10.8M",
          "$10.8M",
          "$10.7M",
          "$10.7M",
          "$10.7M",
          "$10.7M",
          "$10.7M",
          "$10.7M",
          "$10.8M",
          "$10.8M",
          "$10.7M",
          "$10.8M",
          "$10.7M",
          "$10.8M",
          "$10.7M",
          "$10.8M",
          "$10.7M",
          "$10.8M",
          "$10.7M",
          "$10.7M",
          "$10.7M",
          "$10.8M",
          "$10.8M",
          "$10.7M",
          "$10.8M",
          "$10.7M",
          "$10.8M",
          "$10.7M",
          "$10.8M",
          "$10.8M",
          "$10.7M",
          "$10.8M",
          "$10.7M",
          "$10.8M",
          "$10.7M",
          "$10.8M",
          "$10.7M",
          "$10.8M",
          "$10.7M",
          "$10.8M",
          "$10.8M",
          "$10.7M",
          "$10.7M",
          "$10.8M",
          "$10.7M",
          "$10.7M",
          "$10.8M",
          "$10.7M",
          "$10.8M",
          "$10.7M",
          "$10.8M",
          "$10.8M",
          "$10.8M",
          "$10.8M",
          "$10.8M",
          "$10.8M",
          "$10.8M",
          "$10.7M",
          "$10.7M",
          "$10.8M",
          "$10.7M",
          "$10.8M",
          "$10.8M",
          "$10.8M",
          "$10.8M",
          "$10.7M",
          "$10.7M",
          "$10.7M",
          "$10.8M",
          "$10.7M",
          "$10.7M",
          "$10.7M",
          "$10.8M",
          "$10.7M",
          "$10.7M",
          "$10.8M",
          "$10.8M",
          "$10.8M",
          "$10.8M",
          "$10.7M",
          "$10.8M",
          "$10.7M",
          "$10.7M",
          "$10.8M",
          "$10.8M",
          "$10.8M",
          "$10.8M",
          "$10.8M",
          "$10.8M",
          "$10.2M",
          "$10.6M",
          "$10.6M",
          "$10.6M",
          "$10.6M",
          "$10.6M",
          "$10.6M",
          "$10.6M",
          "$10.6M",
          "$10.6M",
          "$10.6M"
         ],
         "type": "scatter",
         "x": [
          "2025-01-16T14:00:00+00:00",
          "2025-01-16T15:00:00+00:00",
          "2025-01-16T16:00:00+00:00",
          "2025-01-16T17:00:00+00:00",
          "2025-01-16T18:00:00+00:00",
          "2025-01-16T19:00:00+00:00",
          "2025-01-16T20:00:00+00:00",
          "2025-01-16T21:00:00+00:00",
          "2025-01-16T22:00:00+00:00",
          "2025-01-16T23:00:00+00:00",
          "2025-01-17T00:00:00+00:00",
          "2025-01-17T01:00:00+00:00",
          "2025-01-17T02:00:00+00:00",
          "2025-01-17T03:00:00+00:00",
          "2025-01-17T04:00:00+00:00",
          "2025-01-17T05:00:00+00:00",
          "2025-01-17T06:00:00+00:00",
          "2025-01-17T07:00:00+00:00",
          "2025-01-17T08:00:00+00:00",
          "2025-01-17T09:00:00+00:00",
          "2025-01-17T10:00:00+00:00",
          "2025-01-17T11:00:00+00:00",
          "2025-01-17T12:00:00+00:00",
          "2025-01-17T13:00:00+00:00",
          "2025-01-17T14:00:00+00:00",
          "2025-01-17T15:00:00+00:00",
          "2025-01-17T16:00:00+00:00",
          "2025-01-17T17:00:00+00:00",
          "2025-01-17T18:00:00+00:00",
          "2025-01-17T19:00:00+00:00",
          "2025-01-17T20:00:00+00:00",
          "2025-01-17T21:00:00+00:00",
          "2025-01-17T22:00:00+00:00",
          "2025-01-17T23:00:00+00:00",
          "2025-01-18T00:00:00+00:00",
          "2025-01-18T01:00:00+00:00",
          "2025-01-18T02:00:00+00:00",
          "2025-01-18T03:00:00+00:00",
          "2025-01-18T04:00:00+00:00",
          "2025-01-18T05:00:00+00:00",
          "2025-01-18T06:00:00+00:00",
          "2025-01-18T07:00:00+00:00",
          "2025-01-18T08:00:00+00:00",
          "2025-01-18T09:00:00+00:00",
          "2025-01-18T10:00:00+00:00",
          "2025-01-18T11:00:00+00:00",
          "2025-01-18T12:00:00+00:00",
          "2025-01-18T13:00:00+00:00",
          "2025-01-18T14:00:00+00:00",
          "2025-01-18T15:00:00+00:00",
          "2025-01-18T16:00:00+00:00",
          "2025-01-18T17:00:00+00:00",
          "2025-01-18T18:00:00+00:00",
          "2025-01-18T19:00:00+00:00",
          "2025-01-18T20:00:00+00:00",
          "2025-01-18T21:00:00+00:00",
          "2025-01-18T22:00:00+00:00",
          "2025-01-18T23:00:00+00:00",
          "2025-01-19T00:00:00+00:00",
          "2025-01-19T01:00:00+00:00",
          "2025-01-19T02:00:00+00:00",
          "2025-01-19T03:00:00+00:00",
          "2025-01-19T04:00:00+00:00",
          "2025-01-19T05:00:00+00:00",
          "2025-01-19T06:00:00+00:00",
          "2025-01-19T07:00:00+00:00",
          "2025-01-19T08:00:00+00:00",
          "2025-01-19T09:00:00+00:00",
          "2025-01-19T10:00:00+00:00",
          "2025-01-19T11:00:00+00:00",
          "2025-01-19T12:00:00+00:00",
          "2025-01-19T13:00:00+00:00",
          "2025-01-19T14:00:00+00:00",
          "2025-01-19T15:00:00+00:00",
          "2025-01-19T16:00:00+00:00",
          "2025-01-19T17:00:00+00:00",
          "2025-01-19T18:00:00+00:00",
          "2025-01-19T19:00:00+00:00",
          "2025-01-19T20:00:00+00:00",
          "2025-01-19T21:00:00+00:00",
          "2025-01-19T22:00:00+00:00",
          "2025-01-19T23:00:00+00:00",
          "2025-01-20T00:00:00+00:00",
          "2025-01-20T01:00:00+00:00",
          "2025-01-20T02:00:00+00:00",
          "2025-01-20T03:00:00+00:00",
          "2025-01-20T04:00:00+00:00",
          "2025-01-20T05:00:00+00:00",
          "2025-01-20T06:00:00+00:00",
          "2025-01-20T07:00:00+00:00",
          "2025-01-20T08:00:00+00:00",
          "2025-01-20T09:00:00+00:00",
          "2025-01-20T10:00:00+00:00",
          "2025-01-20T11:00:00+00:00",
          "2025-01-20T12:00:00+00:00",
          "2025-01-20T13:00:00+00:00",
          "2025-01-20T14:00:00+00:00",
          "2025-01-20T15:00:00+00:00",
          "2025-01-20T16:00:00+00:00",
          "2025-01-20T17:00:00+00:00",
          "2025-01-20T18:00:00+00:00",
          "2025-01-20T19:00:00+00:00",
          "2025-01-20T20:00:00+00:00",
          "2025-01-20T21:00:00+00:00",
          "2025-01-20T22:00:00+00:00",
          "2025-01-20T23:00:00+00:00",
          "2025-01-21T00:00:00+00:00",
          "2025-01-21T01:00:00+00:00",
          "2025-01-21T02:00:00+00:00",
          "2025-01-21T03:00:00+00:00",
          "2025-01-21T04:00:00+00:00",
          "2025-01-21T05:00:00+00:00",
          "2025-01-21T06:00:00+00:00",
          "2025-01-21T07:00:00+00:00",
          "2025-01-21T08:00:00+00:00",
          "2025-01-21T09:00:00+00:00",
          "2025-01-21T10:00:00+00:00",
          "2025-01-21T11:00:00+00:00",
          "2025-01-21T12:00:00+00:00",
          "2025-01-21T13:00:00+00:00",
          "2025-01-21T14:00:00+00:00",
          "2025-01-21T15:00:00+00:00",
          "2025-01-21T16:00:00+00:00",
          "2025-01-21T17:00:00+00:00",
          "2025-01-21T18:00:00+00:00",
          "2025-01-21T19:00:00+00:00",
          "2025-01-21T20:00:00+00:00",
          "2025-01-21T21:00:00+00:00",
          "2025-01-21T22:00:00+00:00",
          "2025-01-21T23:00:00+00:00",
          "2025-01-22T00:00:00+00:00",
          "2025-01-22T01:00:00+00:00",
          "2025-01-22T02:00:00+00:00",
          "2025-01-22T03:00:00+00:00",
          "2025-01-22T04:00:00+00:00",
          "2025-01-22T05:00:00+00:00",
          "2025-01-22T06:00:00+00:00",
          "2025-01-22T07:00:00+00:00",
          "2025-01-22T08:00:00+00:00",
          "2025-01-22T09:00:00+00:00",
          "2025-01-22T10:00:00+00:00",
          "2025-01-22T11:00:00+00:00",
          "2025-01-22T12:00:00+00:00",
          "2025-01-22T13:00:00+00:00",
          "2025-01-22T14:00:00+00:00",
          "2025-01-22T15:00:00+00:00",
          "2025-01-22T16:00:00+00:00",
          "2025-01-22T17:00:00+00:00",
          "2025-01-22T18:00:00+00:00",
          "2025-01-22T19:00:00+00:00",
          "2025-01-22T20:00:00+00:00",
          "2025-01-22T21:00:00+00:00",
          "2025-01-22T22:00:00+00:00",
          "2025-01-22T23:00:00+00:00",
          "2025-01-23T00:00:00+00:00",
          "2025-01-23T01:00:00+00:00",
          "2025-01-23T02:00:00+00:00",
          "2025-01-23T03:00:00+00:00",
          "2025-01-23T04:00:00+00:00",
          "2025-01-23T05:00:00+00:00",
          "2025-01-23T06:00:00+00:00",
          "2025-01-23T07:00:00+00:00",
          "2025-01-23T08:00:00+00:00",
          "2025-01-23T09:00:00+00:00",
          "2025-01-23T10:00:00+00:00",
          "2025-01-23T11:00:00+00:00",
          "2025-01-23T12:00:00+00:00",
          "2025-01-23T13:00:00+00:00",
          "2025-01-23T14:00:00+00:00",
          "2025-01-23T15:00:00+00:00",
          "2025-01-23T16:00:00+00:00",
          "2025-01-23T17:00:00+00:00",
          "2025-01-23T18:00:00+00:00",
          "2025-01-23T19:00:00+00:00",
          "2025-01-23T20:00:00+00:00",
          "2025-01-23T21:00:00+00:00",
          "2025-01-23T22:00:00+00:00",
          "2025-01-23T23:00:00+00:00",
          "2025-01-24T00:00:00+00:00",
          "2025-01-24T01:00:00+00:00",
          "2025-01-24T02:00:00+00:00",
          "2025-01-24T03:00:00+00:00",
          "2025-01-24T04:00:00+00:00",
          "2025-01-24T05:00:00+00:00",
          "2025-01-24T06:00:00+00:00",
          "2025-01-24T07:00:00+00:00",
          "2025-01-24T08:00:00+00:00",
          "2025-01-24T09:00:00+00:00",
          "2025-01-24T10:00:00+00:00",
          "2025-01-24T11:00:00+00:00",
          "2025-01-24T12:00:00+00:00",
          "2025-01-24T13:00:00+00:00",
          "2025-01-24T14:00:00+00:00",
          "2025-01-24T15:00:00+00:00",
          "2025-01-24T16:00:00+00:00",
          "2025-01-24T17:00:00+00:00",
          "2025-01-24T18:00:00+00:00",
          "2025-01-24T19:00:00+00:00",
          "2025-01-24T20:00:00+00:00",
          "2025-01-24T21:00:00+00:00",
          "2025-01-24T22:00:00+00:00",
          "2025-01-24T23:00:00+00:00",
          "2025-01-25T00:00:00+00:00",
          "2025-01-25T01:00:00+00:00",
          "2025-01-25T02:00:00+00:00",
          "2025-01-25T03:00:00+00:00",
          "2025-01-25T04:00:00+00:00",
          "2025-01-25T05:00:00+00:00",
          "2025-01-25T06:00:00+00:00",
          "2025-01-25T07:00:00+00:00",
          "2025-01-25T08:00:00+00:00",
          "2025-01-25T09:00:00+00:00",
          "2025-01-25T10:00:00+00:00",
          "2025-01-25T11:00:00+00:00",
          "2025-01-25T12:00:00+00:00",
          "2025-01-25T13:00:00+00:00",
          "2025-01-25T14:00:00+00:00",
          "2025-01-25T15:00:00+00:00",
          "2025-01-25T16:00:00+00:00",
          "2025-01-25T17:00:00+00:00",
          "2025-01-25T18:00:00+00:00",
          "2025-01-25T19:00:00+00:00",
          "2025-01-25T20:00:00+00:00",
          "2025-01-25T21:00:00+00:00",
          "2025-01-25T22:00:00+00:00",
          "2025-01-25T23:00:00+00:00",
          "2025-01-26T00:00:00+00:00",
          "2025-01-26T01:00:00+00:00",
          "2025-01-26T02:00:00+00:00",
          "2025-01-26T03:00:00+00:00",
          "2025-01-26T04:00:00+00:00",
          "2025-01-26T05:00:00+00:00",
          "2025-01-26T06:00:00+00:00",
          "2025-01-26T07:00:00+00:00",
          "2025-01-26T08:00:00+00:00",
          "2025-01-26T09:00:00+00:00",
          "2025-01-26T10:00:00+00:00",
          "2025-01-26T11:00:00+00:00",
          "2025-01-26T12:00:00+00:00",
          "2025-01-26T13:00:00+00:00",
          "2025-01-26T14:00:00+00:00",
          "2025-01-26T15:00:00+00:00",
          "2025-01-26T16:00:00+00:00",
          "2025-01-26T17:00:00+00:00",
          "2025-01-26T18:00:00+00:00",
          "2025-01-26T19:00:00+00:00",
          "2025-01-26T20:00:00+00:00",
          "2025-01-26T21:00:00+00:00",
          "2025-01-26T22:00:00+00:00",
          "2025-01-26T23:00:00+00:00",
          "2025-01-27T00:00:00+00:00",
          "2025-01-27T01:00:00+00:00",
          "2025-01-27T02:00:00+00:00",
          "2025-01-27T03:00:00+00:00",
          "2025-01-27T04:00:00+00:00",
          "2025-01-27T05:00:00+00:00",
          "2025-01-27T06:00:00+00:00",
          "2025-01-27T07:00:00+00:00",
          "2025-01-27T08:00:00+00:00",
          "2025-01-27T09:00:00+00:00",
          "2025-01-27T10:00:00+00:00",
          "2025-01-27T11:00:00+00:00",
          "2025-01-27T12:00:00+00:00",
          "2025-01-27T13:00:00+00:00",
          "2025-01-27T14:00:00+00:00",
          "2025-01-27T15:00:00+00:00",
          "2025-01-27T16:00:00+00:00",
          "2025-01-27T17:00:00+00:00",
          "2025-01-27T18:00:00+00:00",
          "2025-01-27T19:00:00+00:00",
          "2025-01-27T20:00:00+00:00",
          "2025-01-27T21:00:00+00:00",
          "2025-01-27T22:00:00+00:00",
          "2025-01-27T23:00:00+00:00",
          "2025-01-28T00:00:00+00:00",
          "2025-01-28T01:00:00+00:00",
          "2025-01-28T02:00:00+00:00",
          "2025-01-28T03:00:00+00:00",
          "2025-01-28T04:00:00+00:00",
          "2025-01-28T05:00:00+00:00",
          "2025-01-28T06:00:00+00:00",
          "2025-01-28T07:00:00+00:00",
          "2025-01-28T08:00:00+00:00",
          "2025-01-28T09:00:00+00:00",
          "2025-01-28T10:00:00+00:00",
          "2025-01-28T11:00:00+00:00",
          "2025-01-28T12:00:00+00:00",
          "2025-01-28T13:00:00+00:00",
          "2025-01-28T14:00:00+00:00",
          "2025-01-28T15:00:00+00:00",
          "2025-01-28T16:00:00+00:00",
          "2025-01-28T17:00:00+00:00",
          "2025-01-28T18:00:00+00:00",
          "2025-01-28T19:00:00+00:00",
          "2025-01-28T20:00:00+00:00",
          "2025-01-28T21:00:00+00:00",
          "2025-01-28T22:00:00+00:00",
          "2025-01-28T23:00:00+00:00",
          "2025-01-29T00:00:00+00:00",
          "2025-01-29T01:00:00+00:00",
          "2025-01-29T02:00:00+00:00",
          "2025-01-29T03:00:00+00:00",
          "2025-01-29T04:00:00+00:00",
          "2025-01-29T05:00:00+00:00",
          "2025-01-29T06:00:00+00:00",
          "2025-01-29T07:00:00+00:00",
          "2025-01-29T08:00:00+00:00",
          "2025-01-29T09:00:00+00:00",
          "2025-01-29T10:00:00+00:00",
          "2025-01-29T11:00:00+00:00",
          "2025-01-29T12:00:00+00:00",
          "2025-01-29T13:00:00+00:00",
          "2025-01-29T14:00:00+00:00",
          "2025-01-29T15:00:00+00:00",
          "2025-01-29T16:00:00+00:00",
          "2025-01-29T17:00:00+00:00",
          "2025-01-29T18:00:00+00:00",
          "2025-01-29T19:00:00+00:00",
          "2025-01-29T20:00:00+00:00",
          "2025-01-29T21:00:00+00:00",
          "2025-01-29T22:00:00+00:00",
          "2025-01-29T23:00:00+00:00",
          "2025-01-30T00:00:00+00:00",
          "2025-01-30T01:00:00+00:00",
          "2025-01-30T02:00:00+00:00",
          "2025-01-30T03:00:00+00:00",
          "2025-01-30T04:00:00+00:00",
          "2025-01-30T05:00:00+00:00",
          "2025-01-30T06:00:00+00:00",
          "2025-01-30T07:00:00+00:00",
          "2025-01-30T08:00:00+00:00",
          "2025-01-30T09:00:00+00:00",
          "2025-01-30T10:00:00+00:00",
          "2025-01-30T11:00:00+00:00",
          "2025-01-30T12:00:00+00:00",
          "2025-01-30T13:00:00+00:00",
          "2025-01-30T14:00:00+00:00",
          "2025-01-30T15:00:00+00:00",
          "2025-01-30T16:00:00+00:00",
          "2025-01-30T17:00:00+00:00",
          "2025-01-30T18:00:00+00:00",
          "2025-01-30T19:00:00+00:00",
          "2025-01-30T20:00:00+00:00",
          "2025-01-30T21:00:00+00:00",
          "2025-01-30T22:00:00+00:00",
          "2025-01-30T23:00:00+00:00",
          "2025-01-31T00:00:00+00:00",
          "2025-01-31T01:00:00+00:00",
          "2025-01-31T02:00:00+00:00",
          "2025-01-31T03:00:00+00:00",
          "2025-01-31T04:00:00+00:00",
          "2025-01-31T05:00:00+00:00",
          "2025-01-31T06:00:00+00:00",
          "2025-01-31T07:00:00+00:00",
          "2025-01-31T08:00:00+00:00",
          "2025-01-31T09:00:00+00:00",
          "2025-01-31T10:00:00+00:00",
          "2025-01-31T11:00:00+00:00",
          "2025-01-31T12:00:00+00:00",
          "2025-01-31T13:00:00+00:00",
          "2025-01-31T14:00:00+00:00",
          "2025-01-31T15:00:00+00:00",
          "2025-01-31T16:00:00+00:00",
          "2025-01-31T17:00:00+00:00",
          "2025-01-31T18:00:00+00:00",
          "2025-01-31T19:00:00+00:00",
          "2025-01-31T20:00:00+00:00",
          "2025-01-31T21:00:00+00:00",
          "2025-01-31T22:00:00+00:00",
          "2025-01-31T23:00:00+00:00",
          "2025-02-01T00:00:00+00:00",
          "2025-02-01T01:00:00+00:00",
          "2025-02-01T02:00:00+00:00",
          "2025-02-01T03:00:00+00:00",
          "2025-02-01T04:00:00+00:00",
          "2025-02-01T05:00:00+00:00",
          "2025-02-01T06:00:00+00:00",
          "2025-02-01T07:00:00+00:00",
          "2025-02-01T08:00:00+00:00",
          "2025-02-01T09:00:00+00:00",
          "2025-02-01T10:00:00+00:00",
          "2025-02-01T11:00:00+00:00",
          "2025-02-01T12:00:00+00:00",
          "2025-02-01T13:00:00+00:00",
          "2025-02-01T14:00:00+00:00",
          "2025-02-01T15:00:00+00:00",
          "2025-02-01T16:00:00+00:00",
          "2025-02-01T17:00:00+00:00",
          "2025-02-01T18:00:00+00:00",
          "2025-02-01T19:00:00+00:00",
          "2025-02-01T20:00:00+00:00",
          "2025-02-01T21:00:00+00:00",
          "2025-02-01T22:00:00+00:00",
          "2025-02-01T23:00:00+00:00",
          "2025-02-02T00:00:00+00:00",
          "2025-02-02T01:00:00+00:00",
          "2025-02-02T02:00:00+00:00",
          "2025-02-02T03:00:00+00:00",
          "2025-02-02T04:00:00+00:00",
          "2025-02-02T05:00:00+00:00",
          "2025-02-02T06:00:00+00:00",
          "2025-02-02T07:00:00+00:00",
          "2025-02-02T08:00:00+00:00",
          "2025-02-02T09:00:00+00:00",
          "2025-02-02T10:00:00+00:00",
          "2025-02-02T11:00:00+00:00",
          "2025-02-02T12:00:00+00:00",
          "2025-02-02T13:00:00+00:00",
          "2025-02-02T14:00:00+00:00",
          "2025-02-02T15:00:00+00:00",
          "2025-02-02T16:00:00+00:00",
          "2025-02-02T17:00:00+00:00",
          "2025-02-02T18:00:00+00:00",
          "2025-02-02T19:00:00+00:00",
          "2025-02-02T20:00:00+00:00",
          "2025-02-02T21:00:00+00:00",
          "2025-02-02T22:00:00+00:00",
          "2025-02-02T23:00:00+00:00",
          "2025-02-03T00:00:00+00:00",
          "2025-02-03T01:00:00+00:00",
          "2025-02-03T02:00:00+00:00",
          "2025-02-03T03:00:00+00:00",
          "2025-02-03T04:00:00+00:00",
          "2025-02-03T05:00:00+00:00",
          "2025-02-03T06:00:00+00:00",
          "2025-02-03T07:00:00+00:00",
          "2025-02-03T08:00:00+00:00",
          "2025-02-03T09:00:00+00:00",
          "2025-02-03T10:00:00+00:00",
          "2025-02-03T11:00:00+00:00",
          "2025-02-03T12:00:00+00:00",
          "2025-02-03T13:00:00+00:00",
          "2025-02-03T14:00:00+00:00",
          "2025-02-03T15:00:00+00:00",
          "2025-02-03T16:00:00+00:00",
          "2025-02-03T17:00:00+00:00",
          "2025-02-03T18:00:00+00:00",
          "2025-02-03T19:00:00+00:00",
          "2025-02-03T20:00:00+00:00",
          "2025-02-03T21:00:00+00:00",
          "2025-02-03T22:00:00+00:00",
          "2025-02-03T23:00:00+00:00",
          "2025-02-04T00:00:00+00:00",
          "2025-02-04T01:00:00+00:00",
          "2025-02-04T02:00:00+00:00",
          "2025-02-04T03:00:00+00:00",
          "2025-02-04T04:00:00+00:00",
          "2025-02-04T05:00:00+00:00",
          "2025-02-04T06:00:00+00:00",
          "2025-02-04T07:00:00+00:00",
          "2025-02-04T08:00:00+00:00",
          "2025-02-04T09:00:00+00:00",
          "2025-02-04T10:00:00+00:00",
          "2025-02-04T11:00:00+00:00",
          "2025-02-04T12:00:00+00:00",
          "2025-02-04T13:00:00+00:00",
          "2025-02-04T14:00:00+00:00",
          "2025-02-04T15:00:00+00:00",
          "2025-02-04T16:00:00+00:00",
          "2025-02-04T17:00:00+00:00",
          "2025-02-04T18:00:00+00:00",
          "2025-02-04T19:00:00+00:00",
          "2025-02-04T20:00:00+00:00",
          "2025-02-04T21:00:00+00:00",
          "2025-02-04T22:00:00+00:00",
          "2025-02-04T23:00:00+00:00",
          "2025-02-05T00:00:00+00:00",
          "2025-02-05T01:00:00+00:00",
          "2025-02-05T02:00:00+00:00",
          "2025-02-05T03:00:00+00:00",
          "2025-02-05T04:00:00+00:00",
          "2025-02-05T05:00:00+00:00",
          "2025-02-05T06:00:00+00:00",
          "2025-02-05T07:00:00+00:00",
          "2025-02-05T08:00:00+00:00",
          "2025-02-05T09:00:00+00:00",
          "2025-02-05T10:00:00+00:00",
          "2025-02-05T11:00:00+00:00",
          "2025-02-05T12:00:00+00:00",
          "2025-02-05T13:00:00+00:00",
          "2025-02-05T14:00:00+00:00",
          "2025-02-05T15:00:00+00:00",
          "2025-02-05T16:00:00+00:00",
          "2025-02-05T17:00:00+00:00",
          "2025-02-05T18:00:00+00:00",
          "2025-02-05T19:00:00+00:00",
          "2025-02-05T20:00:00+00:00",
          "2025-02-05T21:00:00+00:00",
          "2025-02-05T22:00:00+00:00",
          "2025-02-05T23:00:00+00:00",
          "2025-02-06T00:00:00+00:00",
          "2025-02-06T01:00:00+00:00",
          "2025-02-06T02:00:00+00:00",
          "2025-02-06T03:00:00+00:00",
          "2025-02-06T04:00:00+00:00",
          "2025-02-06T05:00:00+00:00",
          "2025-02-06T06:00:00+00:00",
          "2025-02-06T07:00:00+00:00",
          "2025-02-06T08:00:00+00:00",
          "2025-02-06T09:00:00+00:00",
          "2025-02-06T10:00:00+00:00",
          "2025-02-06T11:00:00+00:00",
          "2025-02-06T12:00:00+00:00",
          "2025-02-06T13:00:00+00:00",
          "2025-02-06T14:00:00+00:00",
          "2025-02-06T15:00:00+00:00",
          "2025-02-06T16:00:00+00:00",
          "2025-02-06T17:00:00+00:00",
          "2025-02-06T18:00:00+00:00",
          "2025-02-06T19:00:00+00:00",
          "2025-02-06T20:00:00+00:00",
          "2025-02-06T21:00:00+00:00",
          "2025-02-06T22:00:00+00:00",
          "2025-02-06T23:00:00+00:00",
          "2025-02-07T00:00:00+00:00",
          "2025-02-07T01:00:00+00:00",
          "2025-02-07T02:00:00+00:00",
          "2025-02-07T03:00:00+00:00",
          "2025-02-07T04:00:00+00:00",
          "2025-02-07T05:00:00+00:00",
          "2025-02-07T06:00:00+00:00",
          "2025-02-07T07:00:00+00:00",
          "2025-02-07T08:00:00+00:00",
          "2025-02-07T09:00:00+00:00",
          "2025-02-07T10:00:00+00:00",
          "2025-02-07T11:00:00+00:00",
          "2025-02-07T12:00:00+00:00",
          "2025-02-07T13:00:00+00:00",
          "2025-02-07T14:00:00+00:00",
          "2025-02-07T15:00:00+00:00",
          "2025-02-07T16:00:00+00:00",
          "2025-02-07T17:00:00+00:00",
          "2025-02-07T18:00:00+00:00",
          "2025-02-07T19:00:00+00:00",
          "2025-02-07T20:00:00+00:00",
          "2025-02-07T21:00:00+00:00",
          "2025-02-07T22:00:00+00:00",
          "2025-02-07T23:00:00+00:00",
          "2025-02-08T00:00:00+00:00",
          "2025-02-08T01:00:00+00:00",
          "2025-02-08T02:00:00+00:00",
          "2025-02-08T03:00:00+00:00",
          "2025-02-08T04:00:00+00:00",
          "2025-02-08T05:00:00+00:00",
          "2025-02-08T06:00:00+00:00",
          "2025-02-08T07:00:00+00:00",
          "2025-02-08T08:00:00+00:00",
          "2025-02-08T09:00:00+00:00",
          "2025-02-08T10:00:00+00:00",
          "2025-02-08T11:00:00+00:00",
          "2025-02-08T12:00:00+00:00",
          "2025-02-08T13:00:00+00:00",
          "2025-02-08T14:00:00+00:00",
          "2025-02-08T15:00:00+00:00",
          "2025-02-08T16:00:00+00:00",
          "2025-02-08T17:00:00+00:00",
          "2025-02-08T18:00:00+00:00",
          "2025-02-08T19:00:00+00:00",
          "2025-02-08T20:00:00+00:00",
          "2025-02-08T21:00:00+00:00",
          "2025-02-08T22:00:00+00:00",
          "2025-02-08T23:00:00+00:00",
          "2025-02-09T00:00:00+00:00",
          "2025-02-09T01:00:00+00:00",
          "2025-02-09T02:00:00+00:00",
          "2025-02-09T03:00:00+00:00",
          "2025-02-09T04:00:00+00:00",
          "2025-02-09T05:00:00+00:00",
          "2025-02-09T06:00:00+00:00",
          "2025-02-09T07:00:00+00:00",
          "2025-02-09T08:00:00+00:00",
          "2025-02-09T09:00:00+00:00",
          "2025-02-09T10:00:00+00:00",
          "2025-02-09T11:00:00+00:00",
          "2025-02-09T12:00:00+00:00",
          "2025-02-09T13:00:00+00:00",
          "2025-02-09T14:00:00+00:00",
          "2025-02-09T15:00:00+00:00",
          "2025-02-09T16:00:00+00:00",
          "2025-02-09T17:00:00+00:00",
          "2025-02-09T18:00:00+00:00",
          "2025-02-09T19:00:00+00:00",
          "2025-02-09T20:00:00+00:00",
          "2025-02-09T21:00:00+00:00",
          "2025-02-09T22:00:00+00:00",
          "2025-02-09T23:00:00+00:00",
          "2025-02-10T00:00:00+00:00",
          "2025-02-10T01:00:00+00:00",
          "2025-02-10T02:00:00+00:00",
          "2025-02-10T03:00:00+00:00",
          "2025-02-10T04:00:00+00:00",
          "2025-02-10T05:00:00+00:00",
          "2025-02-10T06:00:00+00:00",
          "2025-02-10T07:00:00+00:00",
          "2025-02-10T08:00:00+00:00",
          "2025-02-10T09:00:00+00:00",
          "2025-02-10T10:00:00+00:00",
          "2025-02-10T11:00:00+00:00",
          "2025-02-10T12:00:00+00:00",
          "2025-02-10T13:00:00+00:00",
          "2025-02-10T14:00:00+00:00",
          "2025-02-10T15:00:00+00:00",
          "2025-02-10T16:00:00+00:00",
          "2025-02-10T17:00:00+00:00",
          "2025-02-10T18:00:00+00:00",
          "2025-02-10T19:00:00+00:00",
          "2025-02-10T20:00:00+00:00",
          "2025-02-10T21:00:00+00:00",
          "2025-02-10T22:00:00+00:00",
          "2025-02-10T23:00:00+00:00",
          "2025-02-11T00:00:00+00:00",
          "2025-02-11T01:00:00+00:00",
          "2025-02-11T02:00:00+00:00",
          "2025-02-11T03:00:00+00:00",
          "2025-02-11T04:00:00+00:00",
          "2025-02-11T05:00:00+00:00",
          "2025-02-11T06:00:00+00:00",
          "2025-02-11T07:00:00+00:00",
          "2025-02-11T08:00:00+00:00",
          "2025-02-11T09:00:00+00:00",
          "2025-02-11T10:00:00+00:00",
          "2025-02-11T11:00:00+00:00",
          "2025-02-11T12:00:00+00:00",
          "2025-02-11T13:00:00+00:00",
          "2025-02-11T14:00:00+00:00",
          "2025-02-11T15:00:00+00:00",
          "2025-02-11T16:00:00+00:00",
          "2025-02-11T17:00:00+00:00",
          "2025-02-11T18:00:00+00:00",
          "2025-02-11T19:00:00+00:00",
          "2025-02-11T20:00:00+00:00",
          "2025-02-11T21:00:00+00:00",
          "2025-02-11T22:00:00+00:00",
          "2025-02-11T23:00:00+00:00",
          "2025-02-12T00:00:00+00:00",
          "2025-02-12T01:00:00+00:00",
          "2025-02-12T02:00:00+00:00",
          "2025-02-12T03:00:00+00:00",
          "2025-02-12T04:00:00+00:00",
          "2025-02-12T05:00:00+00:00",
          "2025-02-12T06:00:00+00:00",
          "2025-02-12T07:00:00+00:00",
          "2025-02-12T08:00:00+00:00",
          "2025-02-12T09:00:00+00:00",
          "2025-02-12T10:00:00+00:00",
          "2025-02-12T11:00:00+00:00",
          "2025-02-12T12:00:00+00:00",
          "2025-02-12T13:00:00+00:00",
          "2025-02-12T14:00:00+00:00",
          "2025-02-12T15:00:00+00:00",
          "2025-02-12T16:00:00+00:00",
          "2025-02-12T17:00:00+00:00",
          "2025-02-12T18:00:00+00:00",
          "2025-02-12T19:00:00+00:00",
          "2025-02-12T20:00:00+00:00",
          "2025-02-12T21:00:00+00:00",
          "2025-02-12T22:00:00+00:00",
          "2025-02-12T23:00:00+00:00",
          "2025-02-13T00:00:00+00:00",
          "2025-02-13T01:00:00+00:00",
          "2025-02-13T02:00:00+00:00",
          "2025-02-13T03:00:00+00:00",
          "2025-02-13T04:00:00+00:00",
          "2025-02-13T05:00:00+00:00",
          "2025-02-13T06:00:00+00:00",
          "2025-02-13T07:00:00+00:00",
          "2025-02-13T08:00:00+00:00",
          "2025-02-13T09:00:00+00:00",
          "2025-02-13T10:00:00+00:00",
          "2025-02-13T11:00:00+00:00",
          "2025-02-13T12:00:00+00:00",
          "2025-02-13T13:00:00+00:00",
          "2025-02-13T14:00:00+00:00",
          "2025-02-13T15:00:00+00:00",
          "2025-02-13T16:00:00+00:00",
          "2025-02-13T17:00:00+00:00",
          "2025-02-13T18:00:00+00:00",
          "2025-02-13T19:00:00+00:00",
          "2025-02-13T20:00:00+00:00",
          "2025-02-13T21:00:00+00:00",
          "2025-02-13T22:00:00+00:00",
          "2025-02-13T23:00:00+00:00",
          "2025-02-14T00:00:00+00:00",
          "2025-02-14T01:00:00+00:00",
          "2025-02-14T02:00:00+00:00",
          "2025-02-14T03:00:00+00:00",
          "2025-02-14T04:00:00+00:00",
          "2025-02-14T05:00:00+00:00",
          "2025-02-14T06:00:00+00:00",
          "2025-02-14T07:00:00+00:00",
          "2025-02-14T08:00:00+00:00",
          "2025-02-14T09:00:00+00:00",
          "2025-02-14T10:00:00+00:00",
          "2025-02-14T11:00:00+00:00",
          "2025-02-14T12:00:00+00:00",
          "2025-02-14T13:00:00+00:00",
          "2025-02-14T14:00:00+00:00",
          "2025-02-14T15:00:00+00:00",
          "2025-02-14T16:00:00+00:00",
          "2025-02-14T17:00:00+00:00",
          "2025-02-14T18:00:00+00:00",
          "2025-02-14T19:00:00+00:00",
          "2025-02-14T20:00:00+00:00",
          "2025-02-14T21:00:00+00:00",
          "2025-02-14T22:00:00+00:00",
          "2025-02-14T23:00:00+00:00",
          "2025-02-15T00:00:00+00:00",
          "2025-02-15T01:00:00+00:00",
          "2025-02-15T02:00:00+00:00",
          "2025-02-15T03:00:00+00:00",
          "2025-02-15T04:00:00+00:00",
          "2025-02-15T05:00:00+00:00",
          "2025-02-15T06:00:00+00:00",
          "2025-02-15T07:00:00+00:00",
          "2025-02-15T08:00:00+00:00",
          "2025-02-15T09:00:00+00:00",
          "2025-02-15T10:00:00+00:00",
          "2025-02-15T11:00:00+00:00",
          "2025-02-15T12:00:00+00:00",
          "2025-02-15T13:00:00+00:00",
          "2025-02-15T14:00:00+00:00",
          "2025-02-15T15:00:00+00:00",
          "2025-02-15T16:00:00+00:00",
          "2025-02-15T17:00:00+00:00",
          "2025-02-15T18:00:00+00:00",
          "2025-02-15T19:00:00+00:00",
          "2025-02-15T20:00:00+00:00",
          "2025-02-15T21:00:00+00:00",
          "2025-02-15T22:00:00+00:00",
          "2025-02-15T23:00:00+00:00",
          "2025-02-16T00:00:00+00:00",
          "2025-02-16T01:00:00+00:00",
          "2025-02-16T02:00:00+00:00",
          "2025-02-16T03:00:00+00:00",
          "2025-02-16T04:00:00+00:00",
          "2025-02-16T05:00:00+00:00",
          "2025-02-16T06:00:00+00:00",
          "2025-02-16T07:00:00+00:00",
          "2025-02-16T08:00:00+00:00",
          "2025-02-16T09:00:00+00:00",
          "2025-02-16T10:00:00+00:00",
          "2025-02-16T11:00:00+00:00",
          "2025-02-16T12:00:00+00:00",
          "2025-02-16T13:00:00+00:00",
          "2025-02-16T14:00:00+00:00",
          "2025-02-16T15:00:00+00:00",
          "2025-02-16T16:00:00+00:00",
          "2025-02-16T17:00:00+00:00",
          "2025-02-16T18:00:00+00:00",
          "2025-02-16T19:00:00+00:00",
          "2025-02-16T20:00:00+00:00",
          "2025-02-16T21:00:00+00:00",
          "2025-02-16T22:00:00+00:00",
          "2025-02-16T23:00:00+00:00",
          "2025-02-17T00:00:00+00:00",
          "2025-02-17T01:00:00+00:00",
          "2025-02-17T02:00:00+00:00",
          "2025-02-17T03:00:00+00:00",
          "2025-02-17T04:00:00+00:00",
          "2025-02-17T05:00:00+00:00",
          "2025-02-17T06:00:00+00:00",
          "2025-02-17T07:00:00+00:00",
          "2025-02-17T08:00:00+00:00",
          "2025-02-17T09:00:00+00:00",
          "2025-02-17T10:00:00+00:00",
          "2025-02-17T11:00:00+00:00",
          "2025-02-17T12:00:00+00:00",
          "2025-02-17T13:00:00+00:00",
          "2025-02-17T14:00:00+00:00",
          "2025-02-17T15:00:00+00:00",
          "2025-02-17T16:00:00+00:00",
          "2025-02-17T17:00:00+00:00",
          "2025-02-17T18:00:00+00:00",
          "2025-02-17T19:00:00+00:00",
          "2025-02-17T20:00:00+00:00",
          "2025-02-17T21:00:00+00:00",
          "2025-02-17T22:00:00+00:00",
          "2025-02-17T23:00:00+00:00",
          "2025-02-18T00:00:00+00:00",
          "2025-02-18T01:00:00+00:00",
          "2025-02-18T02:00:00+00:00",
          "2025-02-18T03:00:00+00:00",
          "2025-02-18T04:00:00+00:00",
          "2025-02-18T05:00:00+00:00",
          "2025-02-18T06:00:00+00:00",
          "2025-02-18T07:00:00+00:00",
          "2025-02-18T08:00:00+00:00",
          "2025-02-18T09:00:00+00:00",
          "2025-02-18T10:00:00+00:00",
          "2025-02-18T11:00:00+00:00",
          "2025-02-18T12:00:00+00:00",
          "2025-02-18T13:00:00+00:00",
          "2025-02-18T14:00:00+00:00",
          "2025-02-18T15:00:00+00:00",
          "2025-02-18T16:00:00+00:00",
          "2025-02-18T17:00:00+00:00",
          "2025-02-18T18:00:00+00:00",
          "2025-02-18T19:00:00+00:00",
          "2025-02-18T20:00:00+00:00",
          "2025-02-18T21:00:00+00:00",
          "2025-02-18T22:00:00+00:00",
          "2025-02-18T23:00:00+00:00",
          "2025-02-19T00:00:00+00:00",
          "2025-02-19T01:00:00+00:00",
          "2025-02-19T02:00:00+00:00",
          "2025-02-19T03:00:00+00:00",
          "2025-02-19T04:00:00+00:00",
          "2025-02-19T05:00:00+00:00",
          "2025-02-19T06:00:00+00:00",
          "2025-02-19T07:00:00+00:00",
          "2025-02-19T08:00:00+00:00",
          "2025-02-19T09:00:00+00:00",
          "2025-02-19T10:00:00+00:00",
          "2025-02-19T11:00:00+00:00",
          "2025-02-19T12:00:00+00:00",
          "2025-02-19T13:00:00+00:00",
          "2025-02-19T14:00:00+00:00",
          "2025-02-19T15:00:00+00:00",
          "2025-02-19T16:00:00+00:00",
          "2025-02-19T17:00:00+00:00",
          "2025-02-19T18:00:00+00:00",
          "2025-02-19T19:00:00+00:00",
          "2025-02-19T20:00:00+00:00",
          "2025-02-19T21:00:00+00:00",
          "2025-02-19T22:00:00+00:00",
          "2025-02-19T23:00:00+00:00",
          "2025-02-20T00:00:00+00:00",
          "2025-02-20T01:00:00+00:00",
          "2025-02-20T02:00:00+00:00",
          "2025-02-20T03:00:00+00:00",
          "2025-02-20T04:00:00+00:00",
          "2025-02-20T05:00:00+00:00",
          "2025-02-20T06:00:00+00:00",
          "2025-02-20T07:00:00+00:00",
          "2025-02-20T08:00:00+00:00",
          "2025-02-20T09:00:00+00:00",
          "2025-02-20T10:00:00+00:00",
          "2025-02-20T11:00:00+00:00",
          "2025-02-20T12:00:00+00:00",
          "2025-02-20T13:00:00+00:00",
          "2025-02-20T14:00:00+00:00",
          "2025-02-20T15:00:00+00:00",
          "2025-02-20T16:00:00+00:00",
          "2025-02-20T17:00:00+00:00",
          "2025-02-20T18:00:00+00:00",
          "2025-02-20T19:00:00+00:00",
          "2025-02-20T20:00:00+00:00",
          "2025-02-20T21:00:00+00:00",
          "2025-02-20T22:00:00+00:00",
          "2025-02-20T23:00:00+00:00",
          "2025-02-21T00:00:00+00:00",
          "2025-02-21T01:00:00+00:00",
          "2025-02-21T02:00:00+00:00",
          "2025-02-21T03:00:00+00:00",
          "2025-02-21T04:00:00+00:00",
          "2025-02-21T05:00:00+00:00",
          "2025-02-21T06:00:00+00:00",
          "2025-02-21T07:00:00+00:00",
          "2025-02-21T08:00:00+00:00",
          "2025-02-21T09:00:00+00:00",
          "2025-02-21T10:00:00+00:00",
          "2025-02-21T11:00:00+00:00",
          "2025-02-21T12:00:00+00:00",
          "2025-02-21T13:00:00+00:00",
          "2025-02-21T14:00:00+00:00",
          "2025-02-21T15:00:00+00:00",
          "2025-02-21T16:00:00+00:00",
          "2025-02-21T17:00:00+00:00",
          "2025-02-21T18:00:00+00:00",
          "2025-02-21T19:00:00+00:00",
          "2025-02-21T20:00:00+00:00",
          "2025-02-21T21:00:00+00:00",
          "2025-02-21T22:00:00+00:00",
          "2025-02-21T23:00:00+00:00",
          "2025-02-22T00:00:00+00:00",
          "2025-02-22T01:00:00+00:00",
          "2025-02-22T02:00:00+00:00",
          "2025-02-22T03:00:00+00:00",
          "2025-02-22T04:00:00+00:00",
          "2025-02-22T05:00:00+00:00",
          "2025-02-22T06:00:00+00:00",
          "2025-02-22T07:00:00+00:00",
          "2025-02-22T08:00:00+00:00",
          "2025-02-22T09:00:00+00:00",
          "2025-02-22T10:00:00+00:00",
          "2025-02-22T11:00:00+00:00",
          "2025-02-22T12:00:00+00:00",
          "2025-02-22T13:00:00+00:00",
          "2025-02-22T14:00:00+00:00",
          "2025-02-22T15:00:00+00:00",
          "2025-02-22T16:00:00+00:00",
          "2025-02-22T17:00:00+00:00",
          "2025-02-22T18:00:00+00:00",
          "2025-02-22T19:00:00+00:00",
          "2025-02-22T20:00:00+00:00",
          "2025-02-22T21:00:00+00:00",
          "2025-02-22T22:00:00+00:00",
          "2025-02-22T23:00:00+00:00",
          "2025-02-23T00:00:00+00:00",
          "2025-02-23T01:00:00+00:00",
          "2025-02-23T02:00:00+00:00",
          "2025-02-23T03:00:00+00:00",
          "2025-02-23T04:00:00+00:00",
          "2025-02-23T05:00:00+00:00",
          "2025-02-23T06:00:00+00:00",
          "2025-02-23T07:00:00+00:00",
          "2025-02-23T08:00:00+00:00",
          "2025-02-23T09:00:00+00:00",
          "2025-02-23T10:00:00+00:00",
          "2025-02-23T11:00:00+00:00",
          "2025-02-23T12:00:00+00:00",
          "2025-02-23T13:00:00+00:00",
          "2025-02-23T14:00:00+00:00",
          "2025-02-23T15:00:00+00:00",
          "2025-02-23T16:00:00+00:00",
          "2025-02-23T17:00:00+00:00",
          "2025-02-23T18:00:00+00:00",
          "2025-02-23T19:00:00+00:00",
          "2025-02-23T20:00:00+00:00",
          "2025-02-23T21:00:00+00:00",
          "2025-02-23T22:00:00+00:00",
          "2025-02-23T23:00:00+00:00",
          "2025-02-24T00:00:00+00:00",
          "2025-02-24T01:00:00+00:00",
          "2025-02-24T02:00:00+00:00",
          "2025-02-24T03:00:00+00:00",
          "2025-02-24T04:00:00+00:00",
          "2025-02-24T05:00:00+00:00",
          "2025-02-24T06:00:00+00:00",
          "2025-02-24T07:00:00+00:00",
          "2025-02-24T08:00:00+00:00",
          "2025-02-24T09:00:00+00:00",
          "2025-02-24T10:00:00+00:00",
          "2025-02-24T11:00:00+00:00",
          "2025-02-24T12:00:00+00:00",
          "2025-02-24T13:00:00+00:00",
          "2025-02-24T14:00:00+00:00",
          "2025-02-24T15:00:00+00:00",
          "2025-02-24T16:00:00+00:00",
          "2025-02-24T17:00:00+00:00",
          "2025-02-24T18:00:00+00:00",
          "2025-02-24T19:00:00+00:00",
          "2025-02-24T20:00:00+00:00",
          "2025-02-24T21:00:00+00:00",
          "2025-02-24T22:00:00+00:00"
         ],
         "xaxis": "x",
         "y": {
          "bdata": "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",
          "dtype": "f8"
         },
         "yaxis": "y"
        }
       ],
       "layout": {
        "annotations": [
         {
          "arrowcolor": "black",
          "arrowhead": 2,
          "arrowsize": 1.5,
          "arrowwidth": 1.5,
          "ax": -100,
          "ay": -50,
          "font": {
           "color": "black",
           "family": "IBM Plex Mono",
           "size": 14
          },
          "showarrow": true,
          "text": "Feb. 24, 2025: $10.6M",
          "x": "2025-02-24T22:00:00+00:00",
          "xref": "x",
          "y": 10576242.310014796,
          "yref": "y"
         },
         {
          "arrowcolor": "black",
          "arrowhead": 2,
          "arrowsize": 1.5,
          "arrowwidth": 1.5,
          "ax": 100,
          "ay": -50,
          "font": {
           "color": "black",
           "family": "IBM Plex Mono",
           "size": 14
          },
          "showarrow": true,
          "text": "Jan. 16, 2025: $9.9K",
          "x": "2025-01-16T14:00:00+00:00",
          "xref": "x",
          "y": 9873.169983001,
          "yref": "y"
         },
         {
          "arrowcolor": "black",
          "arrowhead": 2,
          "arrowsize": 1.5,
          "arrowwidth": 1.5,
          "ax": -10,
          "ay": -50,
          "font": {
           "color": "black",
           "family": "IBM Plex Mono",
           "size": 14
          },
          "showarrow": true,
          "text": "Feb. 24, 2025: $10.8M (ATH)",
          "x": "2025-02-24T07:00:00+00:00",
          "xref": "x",
          "y": 10767830.774566486,
          "yref": "y"
         }
        ],
        "autosize": false,
        "font": {
         "family": "IBM Plex Mono",
         "size": 16
        },
        "height": 351,
        "legend": {
         "bgcolor": "white",
         "bordercolor": "black",
         "borderwidth": 1,
         "font": {
          "color": "black",
          "family": "IBM Plex Mono",
          "size": 12
         },
         "itemsizing": "constant",
         "orientation": "v",
         "traceorder": "reversed",
         "x": 0.2,
         "xanchor": "left",
         "y": 0.9,
         "yanchor": "top"
        },
        "margin": {
         "b": 0,
         "l": 0,
         "r": 0,
         "t": 25
        },
        "paper_bgcolor": "rgba(0,0,0,0)",
        "plot_bgcolor": "rgba(0,0,0,0)",
        "template": {
         "data": {
          "bar": [
           {
            "error_x": {
             "color": "#2a3f5f"
            },
            "error_y": {
             "color": "#2a3f5f"
            },
            "marker": {
             "line": {
              "color": "#E5ECF6",
              "width": 0.5
             },
             "pattern": {
              "fillmode": "overlay",
              "size": 10,
              "solidity": 0.2
             }
            },
            "type": "bar"
           }
          ],
          "barpolar": [
           {
            "marker": {
             "line": {
              "color": "#E5ECF6",
              "width": 0.5
             },
             "pattern": {
              "fillmode": "overlay",
              "size": 10,
              "solidity": 0.2
             }
            },
            "type": "barpolar"
           }
          ],
          "carpet": [
           {
            "aaxis": {
             "endlinecolor": "#2a3f5f",
             "gridcolor": "white",
             "linecolor": "white",
             "minorgridcolor": "white",
             "startlinecolor": "#2a3f5f"
            },
            "baxis": {
             "endlinecolor": "#2a3f5f",
             "gridcolor": "white",
             "linecolor": "white",
             "minorgridcolor": "white",
             "startlinecolor": "#2a3f5f"
            },
            "type": "carpet"
           }
          ],
          "choropleth": [
           {
            "colorbar": {
             "outlinewidth": 0,
             "ticks": ""
            },
            "type": "choropleth"
           }
          ],
          "contour": [
           {
            "colorbar": {
             "outlinewidth": 0,
             "ticks": ""
            },
            "colorscale": [
             [
              0,
              "#0d0887"
             ],
             [
              0.1111111111111111,
              "#46039f"
             ],
             [
              0.2222222222222222,
              "#7201a8"
             ],
             [
              0.3333333333333333,
              "#9c179e"
             ],
             [
              0.4444444444444444,
              "#bd3786"
             ],
             [
              0.5555555555555556,
              "#d8576b"
             ],
             [
              0.6666666666666666,
              "#ed7953"
             ],
             [
              0.7777777777777778,
              "#fb9f3a"
             ],
             [
              0.8888888888888888,
              "#fdca26"
             ],
             [
              1,
              "#f0f921"
             ]
            ],
            "type": "contour"
           }
          ],
          "contourcarpet": [
           {
            "colorbar": {
             "outlinewidth": 0,
             "ticks": ""
            },
            "type": "contourcarpet"
           }
          ],
          "heatmap": [
           {
            "colorbar": {
             "outlinewidth": 0,
             "ticks": ""
            },
            "colorscale": [
             [
              0,
              "#0d0887"
             ],
             [
              0.1111111111111111,
              "#46039f"
             ],
             [
              0.2222222222222222,
              "#7201a8"
             ],
             [
              0.3333333333333333,
              "#9c179e"
             ],
             [
              0.4444444444444444,
              "#bd3786"
             ],
             [
              0.5555555555555556,
              "#d8576b"
             ],
             [
              0.6666666666666666,
              "#ed7953"
             ],
             [
              0.7777777777777778,
              "#fb9f3a"
             ],
             [
              0.8888888888888888,
              "#fdca26"
             ],
             [
              1,
              "#f0f921"
             ]
            ],
            "type": "heatmap"
           }
          ],
          "histogram": [
           {
            "marker": {
             "pattern": {
              "fillmode": "overlay",
              "size": 10,
              "solidity": 0.2
             }
            },
            "type": "histogram"
           }
          ],
          "histogram2d": [
           {
            "colorbar": {
             "outlinewidth": 0,
             "ticks": ""
            },
            "colorscale": [
             [
              0,
              "#0d0887"
             ],
             [
              0.1111111111111111,
              "#46039f"
             ],
             [
              0.2222222222222222,
              "#7201a8"
             ],
             [
              0.3333333333333333,
              "#9c179e"
             ],
             [
              0.4444444444444444,
              "#bd3786"
             ],
             [
              0.5555555555555556,
              "#d8576b"
             ],
             [
              0.6666666666666666,
              "#ed7953"
             ],
             [
              0.7777777777777778,
              "#fb9f3a"
             ],
             [
              0.8888888888888888,
              "#fdca26"
             ],
             [
              1,
              "#f0f921"
             ]
            ],
            "type": "histogram2d"
           }
          ],
          "histogram2dcontour": [
           {
            "colorbar": {
             "outlinewidth": 0,
             "ticks": ""
            },
            "colorscale": [
             [
              0,
              "#0d0887"
             ],
             [
              0.1111111111111111,
              "#46039f"
             ],
             [
              0.2222222222222222,
              "#7201a8"
             ],
             [
              0.3333333333333333,
              "#9c179e"
             ],
             [
              0.4444444444444444,
              "#bd3786"
             ],
             [
              0.5555555555555556,
              "#d8576b"
             ],
             [
              0.6666666666666666,
              "#ed7953"
             ],
             [
              0.7777777777777778,
              "#fb9f3a"
             ],
             [
              0.8888888888888888,
              "#fdca26"
             ],
             [
              1,
              "#f0f921"
             ]
            ],
            "type": "histogram2dcontour"
           }
          ],
          "mesh3d": [
           {
            "colorbar": {
             "outlinewidth": 0,
             "ticks": ""
            },
            "type": "mesh3d"
           }
          ],
          "parcoords": [
           {
            "line": {
             "colorbar": {
              "outlinewidth": 0,
              "ticks": ""
             }
            },
            "type": "parcoords"
           }
          ],
          "pie": [
           {
            "automargin": true,
            "type": "pie"
           }
          ],
          "scatter": [
           {
            "fillpattern": {
             "fillmode": "overlay",
             "size": 10,
             "solidity": 0.2
            },
            "type": "scatter"
           }
          ],
          "scatter3d": [
           {
            "line": {
             "colorbar": {
              "outlinewidth": 0,
              "ticks": ""
             }
            },
            "marker": {
             "colorbar": {
              "outlinewidth": 0,
              "ticks": ""
             }
            },
            "type": "scatter3d"
           }
          ],
          "scattercarpet": [
           {
            "marker": {
             "colorbar": {
              "outlinewidth": 0,
              "ticks": ""
             }
            },
            "type": "scattercarpet"
           }
          ],
          "scattergeo": [
           {
            "marker": {
             "colorbar": {
              "outlinewidth": 0,
              "ticks": ""
             }
            },
            "type": "scattergeo"
           }
          ],
          "scattergl": [
           {
            "marker": {
             "colorbar": {
              "outlinewidth": 0,
              "ticks": ""
             }
            },
            "type": "scattergl"
           }
          ],
          "scattermap": [
           {
            "marker": {
             "colorbar": {
              "outlinewidth": 0,
              "ticks": ""
             }
            },
            "type": "scattermap"
           }
          ],
          "scattermapbox": [
           {
            "marker": {
             "colorbar": {
              "outlinewidth": 0,
              "ticks": ""
             }
            },
            "type": "scattermapbox"
           }
          ],
          "scatterpolar": [
           {
            "marker": {
             "colorbar": {
              "outlinewidth": 0,
              "ticks": ""
             }
            },
            "type": "scatterpolar"
           }
          ],
          "scatterpolargl": [
           {
            "marker": {
             "colorbar": {
              "outlinewidth": 0,
              "ticks": ""
             }
            },
            "type": "scatterpolargl"
           }
          ],
          "scatterternary": [
           {
            "marker": {
             "colorbar": {
              "outlinewidth": 0,
              "ticks": ""
             }
            },
            "type": "scatterternary"
           }
          ],
          "surface": [
           {
            "colorbar": {
             "outlinewidth": 0,
             "ticks": ""
            },
            "colorscale": [
             [
              0,
              "#0d0887"
             ],
             [
              0.1111111111111111,
              "#46039f"
             ],
             [
              0.2222222222222222,
              "#7201a8"
             ],
             [
              0.3333333333333333,
              "#9c179e"
             ],
             [
              0.4444444444444444,
              "#bd3786"
             ],
             [
              0.5555555555555556,
              "#d8576b"
             ],
             [
              0.6666666666666666,
              "#ed7953"
             ],
             [
              0.7777777777777778,
              "#fb9f3a"
             ],
             [
              0.8888888888888888,
              "#fdca26"
             ],
             [
              1,
              "#f0f921"
             ]
            ],
            "type": "surface"
           }
          ],
          "table": [
           {
            "cells": {
             "fill": {
              "color": "#EBF0F8"
             },
             "line": {
              "color": "white"
             }
            },
            "header": {
             "fill": {
              "color": "#C8D4E3"
             },
             "line": {
              "color": "white"
             }
            },
            "type": "table"
           }
          ]
         },
         "layout": {
          "annotationdefaults": {
           "arrowcolor": "#2a3f5f",
           "arrowhead": 0,
           "arrowwidth": 1
          },
          "autotypenumbers": "strict",
          "coloraxis": {
           "colorbar": {
            "outlinewidth": 0,
            "ticks": ""
           }
          },
          "colorscale": {
           "diverging": [
            [
             0,
             "#8e0152"
            ],
            [
             0.1,
             "#c51b7d"
            ],
            [
             0.2,
             "#de77ae"
            ],
            [
             0.3,
             "#f1b6da"
            ],
            [
             0.4,
             "#fde0ef"
            ],
            [
             0.5,
             "#f7f7f7"
            ],
            [
             0.6,
             "#e6f5d0"
            ],
            [
             0.7,
             "#b8e186"
            ],
            [
             0.8,
             "#7fbc41"
            ],
            [
             0.9,
             "#4d9221"
            ],
            [
             1,
             "#276419"
            ]
           ],
           "sequential": [
            [
             0,
             "#0d0887"
            ],
            [
             0.1111111111111111,
             "#46039f"
            ],
            [
             0.2222222222222222,
             "#7201a8"
            ],
            [
             0.3333333333333333,
             "#9c179e"
            ],
            [
             0.4444444444444444,
             "#bd3786"
            ],
            [
             0.5555555555555556,
             "#d8576b"
            ],
            [
             0.6666666666666666,
             "#ed7953"
            ],
            [
             0.7777777777777778,
             "#fb9f3a"
            ],
            [
             0.8888888888888888,
             "#fdca26"
            ],
            [
             1,
             "#f0f921"
            ]
           ],
           "sequentialminus": [
            [
             0,
             "#0d0887"
            ],
            [
             0.1111111111111111,
             "#46039f"
            ],
            [
             0.2222222222222222,
             "#7201a8"
            ],
            [
             0.3333333333333333,
             "#9c179e"
            ],
            [
             0.4444444444444444,
             "#bd3786"
            ],
            [
             0.5555555555555556,
             "#d8576b"
            ],
            [
             0.6666666666666666,
             "#ed7953"
            ],
            [
             0.7777777777777778,
             "#fb9f3a"
            ],
            [
             0.8888888888888888,
             "#fdca26"
            ],
            [
             1,
             "#f0f921"
            ]
           ]
          },
          "colorway": [
           "#636efa",
           "#EF553B",
           "#00cc96",
           "#ab63fa",
           "#FFA15A",
           "#19d3f3",
           "#FF6692",
           "#B6E880",
           "#FF97FF",
           "#FECB52"
          ],
          "font": {
           "color": "#2a3f5f",
           "family": "IBM Plex Mono"
          },
          "geo": {
           "bgcolor": "white",
           "lakecolor": "white",
           "landcolor": "#E5ECF6",
           "showlakes": true,
           "showland": true,
           "subunitcolor": "white"
          },
          "hoverlabel": {
           "align": "left"
          },
          "hovermode": "closest",
          "mapbox": {
           "style": "light"
          },
          "paper_bgcolor": "white",
          "plot_bgcolor": "#E5ECF6",
          "polar": {
           "angularaxis": {
            "gridcolor": "white",
            "linecolor": "white",
            "ticks": ""
           },
           "bgcolor": "#E5ECF6",
           "radialaxis": {
            "gridcolor": "white",
            "linecolor": "white",
            "ticks": ""
           }
          },
          "scene": {
           "xaxis": {
            "backgroundcolor": "#E5ECF6",
            "gridcolor": "white",
            "gridwidth": 2,
            "linecolor": "white",
            "showbackground": true,
            "ticks": "",
            "zerolinecolor": "white"
           },
           "yaxis": {
            "backgroundcolor": "#E5ECF6",
            "gridcolor": "white",
            "gridwidth": 2,
            "linecolor": "white",
            "showbackground": true,
            "ticks": "",
            "zerolinecolor": "white"
           },
           "zaxis": {
            "backgroundcolor": "#E5ECF6",
            "gridcolor": "white",
            "gridwidth": 2,
            "linecolor": "white",
            "showbackground": true,
            "ticks": "",
            "zerolinecolor": "white"
           }
          },
          "shapedefaults": {
           "line": {
            "color": "#2a3f5f"
           }
          },
          "ternary": {
           "aaxis": {
            "gridcolor": "white",
            "linecolor": "white",
            "ticks": ""
           },
           "baxis": {
            "gridcolor": "white",
            "linecolor": "white",
            "ticks": ""
           },
           "bgcolor": "#E5ECF6",
           "caxis": {
            "gridcolor": "white",
            "linecolor": "white",
            "ticks": ""
           }
          },
          "title": {
           "x": 0.05
          },
          "xaxis": {
           "automargin": true,
           "gridcolor": "white",
           "linecolor": "white",
           "ticks": "",
           "title": {
            "standoff": 15
           },
           "zerolinecolor": "white",
           "zerolinewidth": 2
          },
          "yaxis": {
           "automargin": true,
           "gridcolor": "white",
           "linecolor": "white",
           "ticks": "",
           "title": {
            "standoff": 15
           },
           "zerolinecolor": "white",
           "zerolinewidth": 2
          }
         }
        },
        "title": {
         "font": {
          "color": "black",
          "family": "IBM Plex Mono",
          "size": 27
         },
         "text": "<span style='color: black; font-weight: normal;'></span><br><sub style='font-size: 18px; color: black; font-weight: normal;'></sub>",
         "x": 0.1,
         "xanchor": "left",
         "y": 0.9,
         "yanchor": "top"
        },
        "uniformtext": {
         "minsize": 15,
         "mode": "show"
        },
        "width": 730,
        "xaxis": {
         "anchor": "y",
         "domain": [
          0,
          0.94
         ],
         "range": [
          "2025-01-16T08:00:00+00:00",
          "2025-02-25T04:00:00+00:00"
         ],
         "tick0": "2025-01-16T14:00:00+00:00",
         "tickangle": 0,
         "tickfont": {
          "color": "black",
          "family": "IBM Plex Mono",
          "size": 16
         },
         "tickformat": "%b %d <br>%y",
         "tickvals": [
          "2025-01-16T14:00:00+00:00",
          "2025-01-26T10:00:00+00:00",
          "2025-02-05T06:00:00+00:00",
          "2025-02-15T02:00:00+00:00",
          "2025-02-24T22:00:00+00:00"
         ],
         "title": {
          "font": {
           "color": "black",
           "family": "IBM Plex Mono",
           "size": 16
          }
         }
        },
        "yaxis": {
         "anchor": "x",
         "domain": [
          0,
          1
         ],
         "tickfont": {
          "color": "black",
          "family": "IBM Plex Mono",
          "size": 16
         },
         "tickprefix": "$",
         "title": {
          "font": {
           "color": "black",
           "family": "IBM Plex Mono",
           "size": 16
          }
         }
        },
        "yaxis2": {
         "anchor": "x",
         "overlaying": "y",
         "side": "right",
         "tickfont": {
          "color": "black",
          "family": "IBM Plex Mono",
          "size": 16
         },
         "title": {
          "font": {
           "color": "black",
           "family": "IBM Plex Mono",
           "size": 16
          }
         }
        }
       }
      }
     },
     "metadata": {},
     "output_type": "display_data"
    }
   ],
   "source": [
    "chartBuilder(\n",
    "    fig=fig2,\n",
    "    add_the_date=False,\n",
    "    clean_columns=True,\n",
    "    date_xy=dict(x=0.05,y=1.02),\n",
    "    keep_top_n=False,\n",
    "    # groupby=True,\n",
    "    other=True,\n",
    "    save=False,\n",
    "    topn=4,\n",
    "    # dashed_line=True,\n",
    "    # date='2023-04-12',\n",
    "    # annotation_text='Staked ETH <br> Withdrawl Activated'\n",
    ")"
   ]
  },
  {
   "cell_type": "code",
   "execution_count": 54,
   "metadata": {},
   "outputs": [
    {
     "name": "stdout",
     "output_type": "stream",
     "text": [
      "Initialized axes_data: {'y1': 'All', 'y2': []}\n",
      "tick0: 2025-01-16 14:00:00+00:00\n",
      "turn_to_time: True\n",
      "df sort order at init: ['RLUSD' 'USDC']\n"
     ]
    }
   ],
   "source": [
    "fig3 = visualization_pipeline(\n",
    "df=eth_rlusd_pool,\n",
    "    title='rlusd_fig3',\n",
    "    # start_date='2024-01-01',\n",
    "    # end_date='2024-12-31',\n",
    "    # end_date='2024-10-01',\n",
    "    chart_type='line',\n",
    "    dimensions=dict(height=351, width=730),\n",
    "    groupby = 'symbol',\n",
    "    num_col='tvl',\n",
    "    # cols_to_plot=['total_tvl'],\n",
    "    # line_col=['cumulative_freq'],\n",
    "    # bar_col=['freg'],\n",
    "    tickangle=0,\n",
    "    dropna=True,\n",
    "    area=True,\n",
    "    colors=combined_colors,\n",
    "    # axes_data=dict(y1=['total_tvl'],y2=[]),\n",
    "    # tickformat=dict(x='%b<br>`%y',y1=None,y2=None),\n",
    "    legend_font_size=12,\n",
    "    font_family=font_family,\n",
    "    cumulative_sort=True,\n",
    "    normalize=False,\n",
    "    decimals=True,\n",
    "    decimal_places=1,\n",
    "    y2=True,\n",
    "    # min_tick_spacing=50,\n",
    "    # buffer=3,\n",
    "    barmode='group',\n",
    "    mode='lines',\n",
    "    # font_size=14,\n",
    "    # line_width=3,\n",
    "    marker_size=3,\n",
    "    tickprefix=dict(y1='$',y2=None),\n",
    "    ticksuffix=dict(y1=None,y2=None),\n",
    "    axes_titles=dict(y1=None,y2=None),\n",
    "    show_legend=True,\n",
    "    hole_size=0,\n",
    "    # line_width=1,\n",
    "    descending=False,\n",
    "    buffer = 0.25,\n",
    "    annotations=False,\n",
    "    text=True,\n",
    "    orientation='h',\n",
    "    sort_list=True,\n",
    "    autosize=False,\n",
    "    max_annotation=False,\n",
    "    annotation_prefix=\"$\",\n",
    "    auto_title=False,\n",
    "    axes_font_colors='auto',\n",
    "    to_reverse=False,\n",
    "    line_color='black',\n",
    "    use_single_color=False,\n",
    "    custom_annotation = ['2022-10-31'],\n",
    "    # axes_font_colors='auto',\n",
    ")"
   ]
  },
  {
   "cell_type": "code",
   "execution_count": null,
   "metadata": {},
   "outputs": [
    {
     "name": "stdout",
     "output_type": "stream",
     "text": [
      "save:False\n",
      "capwords: []\n",
      "y1_list: All \n",
      "y2_list: []\n",
      "'symbol' does not match capword. Converting to title case: Symbol\n",
      "Cleaned string: 'Symbol'\n",
      "'tvl' does not match capword. Converting to title case: Tvl\n",
      "Cleaned string: 'Tvl'\n",
      "'A' does not match capword. Converting to title case: A\n",
      "Cleaned string: 'A'\n",
      "'l' does not match capword. Converting to title case: L\n",
      "Cleaned string: 'L'\n",
      "'l' does not match capword. Converting to title case: L\n",
      "Cleaned string: 'L'\n",
      "'symbol' does not match capword. Converting to title case: Symbol\n",
      "Cleaned string: 'Symbol'\n",
      "Cleaned groupby: Symbol\n",
      "'tvl' does not match capword. Converting to title case: Tvl\n",
      "Cleaned string: 'Tvl'\n",
      "Cleaned num_col: Tvl\n",
      "Cleaned DataFrame columns: ['Symbol', 'Tvl']\n",
      "Cleaned cols_to_plot: ['Symbol', 'Tvl']\n",
      "Cleaned bar_col: []\n",
      "Cleaned line_col: []\n",
      "Cleaned y1_list: ['A', 'L', 'L']\n",
      "Cleaned y2_list: []\n",
      "Cleaned groupby: Symbol\n",
      "Cleaned num_col: Tvl\n",
      "logo path: ../img/Logos/None\n",
      "Generating line plot...\n",
      "axes titles at viz pipeline: {'y1': None, 'y2': None}\n",
      "GroupBy Col: Symbol\n",
      "tick0: 2025-01-16 14:00:00+00:00\n",
      "df @ rank_by_col:                           Symbol           Tvl  marker_size\n",
      "dt                                                         \n",
      "2025-02-23 20:00:00+00:00  RLUSD  4.768549e+06            3\n",
      "2025-02-23 20:00:00+00:00   USDC  4.971215e+06            3\n",
      "2025-02-23 19:00:00+00:00  RLUSD  4.768833e+06            3\n",
      "2025-02-23 19:00:00+00:00   USDC  4.971146e+06            3\n",
      "2025-02-23 18:00:00+00:00   USDC  4.971298e+06            3\n",
      "...                          ...           ...          ...\n",
      "2025-01-16 16:00:00+00:00   USDC  4.940201e+03            3\n",
      "2025-01-16 15:00:00+00:00   USDC  4.940137e+03            3\n",
      "2025-01-16 15:00:00+00:00  RLUSD  4.932929e+03            3\n",
      "2025-01-16 14:00:00+00:00   USDC  4.940266e+03            3\n",
      "2025-01-16 14:00:00+00:00  RLUSD  4.932904e+03            3\n",
      "\n",
      "[1838 rows x 3 columns]\n",
      "df:                           Symbol           Tvl  marker_size\n",
      "dt                                                         \n",
      "2025-01-16 14:00:00+00:00  RLUSD  4.932904e+03            3\n",
      "2025-01-16 14:00:00+00:00   USDC  4.940266e+03            3\n",
      "2025-01-16 15:00:00+00:00   USDC  4.940137e+03            3\n",
      "2025-01-16 15:00:00+00:00  RLUSD  4.932929e+03            3\n",
      "2025-01-16 16:00:00+00:00  RLUSD  4.931809e+03            3\n",
      "...                          ...           ...          ...\n",
      "2025-02-23 18:00:00+00:00   USDC  4.971298e+06            3\n",
      "2025-02-23 19:00:00+00:00   USDC  4.971146e+06            3\n",
      "2025-02-23 19:00:00+00:00  RLUSD  4.768833e+06            3\n",
      "2025-02-23 20:00:00+00:00   USDC  4.971215e+06            3\n",
      "2025-02-23 20:00:00+00:00  RLUSD  4.768549e+06            3\n",
      "\n",
      "[1838 rows x 3 columns]\n",
      "Available columns in df: Index(['Symbol', 'Tvl', 'marker_size'], dtype='object')\n",
      "sort_col: Symbol\n",
      "num_col: Tvl\n",
      "sort_list: ['RLUSD', 'USDC']\n",
      "color_map: {'USDC': '#00CC96', 'RLUSD': '#67D8FE'}\n",
      "x:4768548.76212249M\n",
      "idx: 0\n",
      "custom_annotation: ['2022-10-31']\n",
      "i_df index:                           Symbol           Tvl  marker_size\n",
      "dt                                                         \n",
      "2025-01-16 14:00:00+00:00  RLUSD  4.932904e+03            3\n",
      "2025-01-16 15:00:00+00:00  RLUSD  4.932929e+03            3\n",
      "2025-01-16 16:00:00+00:00  RLUSD  4.931809e+03            3\n",
      "2025-01-16 17:00:00+00:00  RLUSD  4.949317e+03            3\n",
      "2025-01-16 18:00:00+00:00  RLUSD  4.932658e+03            3\n",
      "...                          ...           ...          ...\n",
      "2025-02-23 16:00:00+00:00  RLUSD  4.752328e+06            3\n",
      "2025-02-23 17:00:00+00:00  RLUSD  4.762673e+06            3\n",
      "2025-02-23 18:00:00+00:00  RLUSD  4.768873e+06            3\n",
      "2025-02-23 19:00:00+00:00  RLUSD  4.768833e+06            3\n",
      "2025-02-23 20:00:00+00:00  RLUSD  4.768549e+06            3\n",
      "\n",
      "[919 rows x 3 columns]\n",
      "custom_annotation: 2022-10-31\n",
      "x:4971214.96923691M\n",
      "idx: 1\n",
      "custom_annotation: ['2022-10-31']\n",
      "Columns: Index(['Symbol', 'Tvl', 'marker_size'], dtype='object') \n",
      "Index: DatetimeIndex(['2025-01-16 14:00:00+00:00', '2025-01-16 14:00:00+00:00',\n",
      "               '2025-01-16 15:00:00+00:00', '2025-01-16 15:00:00+00:00',\n",
      "               '2025-01-16 16:00:00+00:00', '2025-01-16 16:00:00+00:00',\n",
      "               '2025-01-16 17:00:00+00:00', '2025-01-16 17:00:00+00:00',\n",
      "               '2025-01-16 18:00:00+00:00', '2025-01-16 18:00:00+00:00',\n",
      "               ...\n",
      "               '2025-02-23 16:00:00+00:00', '2025-02-23 16:00:00+00:00',\n",
      "               '2025-02-23 17:00:00+00:00', '2025-02-23 17:00:00+00:00',\n",
      "               '2025-02-23 18:00:00+00:00', '2025-02-23 18:00:00+00:00',\n",
      "               '2025-02-23 19:00:00+00:00', '2025-02-23 19:00:00+00:00',\n",
      "               '2025-02-23 20:00:00+00:00', '2025-02-23 20:00:00+00:00'],\n",
      "              dtype='datetime64[ns, UTC]', name='dt', length=1838, freq=None)\n"
     ]
    },
    {
     "data": {
      "application/vnd.plotly.v1+json": {
       "config": {
        "linkText": "Export to plot.ly",
        "plotlyServerURL": "https://plot.ly",
        "showLink": false
       },
       "data": [
        {
         "connectgaps": true,
         "line": {
          "color": "#67D8FE",
          "width": 4
         },
         "marker": {
          "color": "#67D8FE",
          "size": [
           3,
           3,
           3,
           3,
           3,
           3,
           3,
           3,
           3,
           3,
           3,
           3,
           3,
           3,
           3,
           3,
           3,
           3,
           3,
           3,
           3,
           3,
           3,
           3,
           3,
           3,
           3,
           3,
           3,
           3,
           3,
           3,
           3,
           3,
           3,
           3,
           3,
           3,
           3,
           3,
           3,
           3,
           3,
           3,
           3,
           3,
           3,
           3,
           3,
           3,
           3,
           3,
           3,
           3,
           3,
           3,
           3,
           3,
           3,
           3,
           3,
           3,
           3,
           3,
           3,
           3,
           3,
           3,
           3,
           3,
           3,
           3,
           3,
           3,
           3,
           3,
           3,
           3,
           3,
           3,
           3,
           3,
           3,
           3,
           3,
           3,
           3,
           3,
           3,
           3,
           3,
           3,
           3,
           3,
           3,
           3,
           3,
           3,
           3,
           3,
           3,
           3,
           3,
           3,
           3,
           3,
           3,
           3,
           3,
           3,
           3,
           3,
           3,
           3,
           3,
           3,
           3,
           3,
           3,
           3,
           3,
           3,
           3,
           3,
           3,
           3,
           3,
           3,
           3,
           3,
           3,
           3,
           3,
           3,
           3,
           3,
           3,
           3,
           3,
           3,
           3,
           3,
           3,
           3,
           3,
           3,
           3,
           3,
           3,
           3,
           3,
           3,
           3,
           3,
           3,
           3,
           3,
           3,
           3,
           3,
           3,
           3,
           3,
           3,
           3,
           3,
           3,
           3,
           3,
           3,
           3,
           3,
           3,
           3,
           3,
           3,
           3,
           3,
           3,
           3,
           3,
           3,
           3,
           3,
           3,
           3,
           3,
           3,
           3,
           3,
           3,
           3,
           3,
           3,
           3,
           3,
           3,
           3,
           3,
           3,
           3,
           3,
           3,
           3,
           3,
           3,
           3,
           3,
           3,
           3,
           3,
           3,
           3,
           3,
           3,
           3,
           3,
           3,
           3,
           3,
           3,
           3,
           3,
           3,
           3,
           3,
           3,
           3,
           3,
           3,
           3,
           3,
           3,
           3,
           3,
           3,
           3,
           3,
           3,
           3,
           3,
           3,
           3,
           3,
           3,
           3,
           3,
           3,
           3,
           3,
           3,
           3,
           3,
           3,
           3,
           3,
           3,
           3,
           3,
           3,
           3,
           3,
           3,
           3,
           3,
           3,
           3,
           3,
           3,
           3,
           3,
           3,
           3,
           3,
           3,
           3,
           3,
           3,
           3,
           3,
           3,
           3,
           3,
           3,
           3,
           3,
           3,
           3,
           3,
           3,
           3,
           3,
           3,
           3,
           3,
           3,
           3,
           3,
           3,
           3,
           3,
           3,
           3,
           3,
           3,
           3,
           3,
           3,
           3,
           3,
           3,
           3,
           3,
           3,
           3,
           3,
           3,
           3,
           3,
           3,
           3,
           3,
           3,
           3,
           3,
           3,
           3,
           3,
           3,
           3,
           3,
           3,
           3,
           3,
           3,
           3,
           3,
           3,
           3,
           3,
           3,
           3,
           3,
           3,
           3,
           3,
           3,
           3,
           3,
           3,
           3,
           3,
           3,
           3,
           3,
           3,
           3,
           3,
           3,
           3,
           3,
           3,
           3,
           3,
           3,
           3,
           3,
           3,
           3,
           3,
           3,
           3,
           3,
           3,
           3,
           3,
           3,
           3,
           3,
           3,
           3,
           3,
           3,
           3,
           3,
           3,
           3,
           3,
           3,
           3,
           3,
           3,
           3,
           3,
           3,
           3,
           3,
           3,
           3,
           3,
           3,
           3,
           3,
           3,
           3,
           3,
           3,
           3,
           3,
           3,
           3,
           3,
           3,
           3,
           3,
           3,
           3,
           3,
           3,
           3,
           3,
           3,
           3,
           3,
           3,
           3,
           3,
           3,
           3,
           3,
           3,
           3,
           3,
           3,
           3,
           3,
           3,
           3,
           3,
           3,
           3,
           3,
           3,
           3,
           3,
           3,
           3,
           3,
           3,
           3,
           3,
           3,
           3,
           3,
           3,
           3,
           3,
           3,
           3,
           3,
           3,
           3,
           3,
           3,
           3,
           3,
           3,
           3,
           3,
           3,
           3,
           3,
           3,
           3,
           3,
           3,
           3,
           3,
           3,
           3,
           3,
           3,
           3,
           3,
           3,
           3,
           3,
           3,
           3,
           3,
           3,
           3,
           3,
           3,
           3,
           3,
           3,
           3,
           3,
           3,
           3,
           3,
           3,
           3,
           3,
           3,
           3,
           3,
           3,
           3,
           3,
           3,
           3,
           3,
           3,
           3,
           3,
           3,
           3,
           3,
           3,
           3,
           3,
           3,
           3,
           3,
           3,
           3,
           3,
           3,
           3,
           3,
           3,
           3,
           3,
           3,
           3,
           3,
           3,
           3,
           3,
           3,
           3,
           3,
           3,
           3,
           3,
           3,
           3,
           3,
           3,
           3,
           3,
           3,
           3,
           3,
           3,
           3,
           3,
           3,
           3,
           3,
           3,
           3,
           3,
           3,
           3,
           3,
           3,
           3,
           3,
           3,
           3,
           3,
           3,
           3,
           3,
           3,
           3,
           3,
           3,
           3,
           3,
           3,
           3,
           3,
           3,
           3,
           3,
           3,
           3,
           3,
           3,
           3,
           3,
           3,
           3,
           3,
           3,
           3,
           3,
           3,
           3,
           3,
           3,
           3,
           3,
           3,
           3,
           3,
           3,
           3,
           3,
           3,
           3,
           3,
           3,
           3,
           3,
           3,
           3,
           3,
           3,
           3,
           3,
           3,
           3,
           3,
           3,
           3,
           3,
           3,
           3,
           3,
           3,
           3,
           3,
           3,
           3,
           3,
           3,
           3,
           3,
           3,
           3,
           3,
           3,
           3,
           3,
           3,
           3,
           3,
           3,
           3,
           3,
           3,
           3,
           3,
           3,
           3,
           3,
           3,
           3,
           3,
           3,
           3,
           3,
           3,
           3,
           3,
           3,
           3,
           3,
           3,
           3,
           3,
           3,
           3,
           3,
           3,
           3,
           3,
           3,
           3,
           3,
           3,
           3,
           3,
           3,
           3,
           3,
           3,
           3,
           3,
           3,
           3,
           3,
           3,
           3,
           3,
           3,
           3,
           3,
           3,
           3,
           3,
           3,
           3,
           3,
           3,
           3,
           3,
           3,
           3,
           3,
           3,
           3,
           3,
           3,
           3,
           3,
           3,
           3,
           3,
           3,
           3,
           3,
           3,
           3,
           3,
           3,
           3,
           3,
           3,
           3,
           3,
           3,
           3,
           3,
           3,
           3,
           3,
           3,
           3,
           3,
           3,
           3,
           3,
           3,
           3,
           3,
           3,
           3,
           3,
           3,
           3,
           3,
           3,
           3,
           3,
           3,
           3,
           3,
           3,
           3,
           3,
           3,
           3,
           3,
           3,
           3,
           3,
           3,
           3,
           3,
           3,
           3,
           3,
           3,
           3,
           3,
           3,
           3,
           3,
           3,
           3,
           3,
           3,
           3,
           3,
           3,
           3,
           3,
           3,
           3,
           3,
           3,
           3,
           3,
           3,
           3,
           3,
           3,
           3,
           3,
           3,
           3,
           3,
           3,
           3,
           3,
           3,
           3,
           3,
           3,
           3,
           3,
           3,
           3,
           3,
           3,
           3,
           3,
           3,
           3,
           3,
           3,
           3,
           3,
           3,
           3,
           3,
           3,
           3,
           3,
           3,
           3,
           3,
           3,
           3,
           3,
           3,
           3,
           3,
           3,
           3,
           3,
           3,
           3,
           3,
           3,
           3,
           3,
           3,
           3,
           3,
           3,
           3,
           3,
           3,
           3,
           3,
           3,
           3,
           3,
           3,
           3,
           3,
           3,
           3,
           3,
           3,
           3,
           3,
           3,
           3,
           3,
           3,
           3,
           3,
           3,
           3,
           3,
           3,
           3,
           3,
           3,
           3,
           3,
           3,
           3,
           3,
           3,
           3,
           3,
           3,
           3,
           3,
           3,
           3,
           3,
           3,
           3,
           3,
           3,
           3,
           3,
           3,
           3,
           3,
           3,
           3,
           3,
           3,
           3,
           3,
           3,
           3,
           3
          ]
         },
         "mode": "lines",
         "name": "RLUSD ($4.8M)     ",
         "showlegend": true,
         "stackgroup": "one",
         "type": "scatter",
         "x": [
          "2025-01-16T14:00:00+00:00",
          "2025-01-16T15:00:00+00:00",
          "2025-01-16T16:00:00+00:00",
          "2025-01-16T17:00:00+00:00",
          "2025-01-16T18:00:00+00:00",
          "2025-01-16T19:00:00+00:00",
          "2025-01-16T20:00:00+00:00",
          "2025-01-16T21:00:00+00:00",
          "2025-01-16T22:00:00+00:00",
          "2025-01-16T23:00:00+00:00",
          "2025-01-17T00:00:00+00:00",
          "2025-01-17T01:00:00+00:00",
          "2025-01-17T02:00:00+00:00",
          "2025-01-17T03:00:00+00:00",
          "2025-01-17T04:00:00+00:00",
          "2025-01-17T05:00:00+00:00",
          "2025-01-17T06:00:00+00:00",
          "2025-01-17T07:00:00+00:00",
          "2025-01-17T08:00:00+00:00",
          "2025-01-17T09:00:00+00:00",
          "2025-01-17T10:00:00+00:00",
          "2025-01-17T11:00:00+00:00",
          "2025-01-17T12:00:00+00:00",
          "2025-01-17T13:00:00+00:00",
          "2025-01-17T14:00:00+00:00",
          "2025-01-17T15:00:00+00:00",
          "2025-01-17T16:00:00+00:00",
          "2025-01-17T17:00:00+00:00",
          "2025-01-17T18:00:00+00:00",
          "2025-01-17T19:00:00+00:00",
          "2025-01-17T20:00:00+00:00",
          "2025-01-17T21:00:00+00:00",
          "2025-01-17T22:00:00+00:00",
          "2025-01-17T23:00:00+00:00",
          "2025-01-18T00:00:00+00:00",
          "2025-01-18T01:00:00+00:00",
          "2025-01-18T02:00:00+00:00",
          "2025-01-18T03:00:00+00:00",
          "2025-01-18T04:00:00+00:00",
          "2025-01-18T05:00:00+00:00",
          "2025-01-18T06:00:00+00:00",
          "2025-01-18T07:00:00+00:00",
          "2025-01-18T08:00:00+00:00",
          "2025-01-18T09:00:00+00:00",
          "2025-01-18T10:00:00+00:00",
          "2025-01-18T11:00:00+00:00",
          "2025-01-18T12:00:00+00:00",
          "2025-01-18T13:00:00+00:00",
          "2025-01-18T14:00:00+00:00",
          "2025-01-18T15:00:00+00:00",
          "2025-01-18T16:00:00+00:00",
          "2025-01-18T17:00:00+00:00",
          "2025-01-18T18:00:00+00:00",
          "2025-01-18T19:00:00+00:00",
          "2025-01-18T20:00:00+00:00",
          "2025-01-18T21:00:00+00:00",
          "2025-01-18T22:00:00+00:00",
          "2025-01-18T23:00:00+00:00",
          "2025-01-19T00:00:00+00:00",
          "2025-01-19T01:00:00+00:00",
          "2025-01-19T02:00:00+00:00",
          "2025-01-19T03:00:00+00:00",
          "2025-01-19T04:00:00+00:00",
          "2025-01-19T05:00:00+00:00",
          "2025-01-19T06:00:00+00:00",
          "2025-01-19T07:00:00+00:00",
          "2025-01-19T08:00:00+00:00",
          "2025-01-19T09:00:00+00:00",
          "2025-01-19T10:00:00+00:00",
          "2025-01-19T11:00:00+00:00",
          "2025-01-19T12:00:00+00:00",
          "2025-01-19T13:00:00+00:00",
          "2025-01-19T14:00:00+00:00",
          "2025-01-19T15:00:00+00:00",
          "2025-01-19T16:00:00+00:00",
          "2025-01-19T17:00:00+00:00",
          "2025-01-19T18:00:00+00:00",
          "2025-01-19T19:00:00+00:00",
          "2025-01-19T20:00:00+00:00",
          "2025-01-19T21:00:00+00:00",
          "2025-01-19T22:00:00+00:00",
          "2025-01-19T23:00:00+00:00",
          "2025-01-20T00:00:00+00:00",
          "2025-01-20T01:00:00+00:00",
          "2025-01-20T02:00:00+00:00",
          "2025-01-20T03:00:00+00:00",
          "2025-01-20T04:00:00+00:00",
          "2025-01-20T05:00:00+00:00",
          "2025-01-20T06:00:00+00:00",
          "2025-01-20T07:00:00+00:00",
          "2025-01-20T08:00:00+00:00",
          "2025-01-20T09:00:00+00:00",
          "2025-01-20T10:00:00+00:00",
          "2025-01-20T11:00:00+00:00",
          "2025-01-20T12:00:00+00:00",
          "2025-01-20T13:00:00+00:00",
          "2025-01-20T14:00:00+00:00",
          "2025-01-20T15:00:00+00:00",
          "2025-01-20T16:00:00+00:00",
          "2025-01-20T17:00:00+00:00",
          "2025-01-20T18:00:00+00:00",
          "2025-01-20T19:00:00+00:00",
          "2025-01-20T20:00:00+00:00",
          "2025-01-20T21:00:00+00:00",
          "2025-01-20T22:00:00+00:00",
          "2025-01-20T23:00:00+00:00",
          "2025-01-21T00:00:00+00:00",
          "2025-01-21T01:00:00+00:00",
          "2025-01-21T02:00:00+00:00",
          "2025-01-21T03:00:00+00:00",
          "2025-01-21T04:00:00+00:00",
          "2025-01-21T05:00:00+00:00",
          "2025-01-21T06:00:00+00:00",
          "2025-01-21T07:00:00+00:00",
          "2025-01-21T08:00:00+00:00",
          "2025-01-21T09:00:00+00:00",
          "2025-01-21T10:00:00+00:00",
          "2025-01-21T11:00:00+00:00",
          "2025-01-21T12:00:00+00:00",
          "2025-01-21T13:00:00+00:00",
          "2025-01-21T14:00:00+00:00",
          "2025-01-21T15:00:00+00:00",
          "2025-01-21T16:00:00+00:00",
          "2025-01-21T17:00:00+00:00",
          "2025-01-21T18:00:00+00:00",
          "2025-01-21T19:00:00+00:00",
          "2025-01-21T20:00:00+00:00",
          "2025-01-21T21:00:00+00:00",
          "2025-01-21T22:00:00+00:00",
          "2025-01-21T23:00:00+00:00",
          "2025-01-22T00:00:00+00:00",
          "2025-01-22T01:00:00+00:00",
          "2025-01-22T02:00:00+00:00",
          "2025-01-22T03:00:00+00:00",
          "2025-01-22T04:00:00+00:00",
          "2025-01-22T05:00:00+00:00",
          "2025-01-22T06:00:00+00:00",
          "2025-01-22T07:00:00+00:00",
          "2025-01-22T08:00:00+00:00",
          "2025-01-22T09:00:00+00:00",
          "2025-01-22T10:00:00+00:00",
          "2025-01-22T11:00:00+00:00",
          "2025-01-22T12:00:00+00:00",
          "2025-01-22T13:00:00+00:00",
          "2025-01-22T14:00:00+00:00",
          "2025-01-22T15:00:00+00:00",
          "2025-01-22T16:00:00+00:00",
          "2025-01-22T17:00:00+00:00",
          "2025-01-22T18:00:00+00:00",
          "2025-01-22T19:00:00+00:00",
          "2025-01-22T20:00:00+00:00",
          "2025-01-22T21:00:00+00:00",
          "2025-01-22T22:00:00+00:00",
          "2025-01-22T23:00:00+00:00",
          "2025-01-23T00:00:00+00:00",
          "2025-01-23T01:00:00+00:00",
          "2025-01-23T02:00:00+00:00",
          "2025-01-23T03:00:00+00:00",
          "2025-01-23T04:00:00+00:00",
          "2025-01-23T05:00:00+00:00",
          "2025-01-23T06:00:00+00:00",
          "2025-01-23T07:00:00+00:00",
          "2025-01-23T08:00:00+00:00",
          "2025-01-23T09:00:00+00:00",
          "2025-01-23T10:00:00+00:00",
          "2025-01-23T11:00:00+00:00",
          "2025-01-23T12:00:00+00:00",
          "2025-01-23T13:00:00+00:00",
          "2025-01-23T14:00:00+00:00",
          "2025-01-23T15:00:00+00:00",
          "2025-01-23T16:00:00+00:00",
          "2025-01-23T17:00:00+00:00",
          "2025-01-23T18:00:00+00:00",
          "2025-01-23T19:00:00+00:00",
          "2025-01-23T20:00:00+00:00",
          "2025-01-23T21:00:00+00:00",
          "2025-01-23T22:00:00+00:00",
          "2025-01-23T23:00:00+00:00",
          "2025-01-24T00:00:00+00:00",
          "2025-01-24T01:00:00+00:00",
          "2025-01-24T02:00:00+00:00",
          "2025-01-24T03:00:00+00:00",
          "2025-01-24T04:00:00+00:00",
          "2025-01-24T05:00:00+00:00",
          "2025-01-24T06:00:00+00:00",
          "2025-01-24T07:00:00+00:00",
          "2025-01-24T08:00:00+00:00",
          "2025-01-24T09:00:00+00:00",
          "2025-01-24T10:00:00+00:00",
          "2025-01-24T11:00:00+00:00",
          "2025-01-24T12:00:00+00:00",
          "2025-01-24T13:00:00+00:00",
          "2025-01-24T14:00:00+00:00",
          "2025-01-24T15:00:00+00:00",
          "2025-01-24T16:00:00+00:00",
          "2025-01-24T17:00:00+00:00",
          "2025-01-24T18:00:00+00:00",
          "2025-01-24T19:00:00+00:00",
          "2025-01-24T20:00:00+00:00",
          "2025-01-24T21:00:00+00:00",
          "2025-01-24T22:00:00+00:00",
          "2025-01-24T23:00:00+00:00",
          "2025-01-25T00:00:00+00:00",
          "2025-01-25T01:00:00+00:00",
          "2025-01-25T02:00:00+00:00",
          "2025-01-25T03:00:00+00:00",
          "2025-01-25T04:00:00+00:00",
          "2025-01-25T05:00:00+00:00",
          "2025-01-25T06:00:00+00:00",
          "2025-01-25T07:00:00+00:00",
          "2025-01-25T08:00:00+00:00",
          "2025-01-25T09:00:00+00:00",
          "2025-01-25T10:00:00+00:00",
          "2025-01-25T11:00:00+00:00",
          "2025-01-25T12:00:00+00:00",
          "2025-01-25T13:00:00+00:00",
          "2025-01-25T14:00:00+00:00",
          "2025-01-25T15:00:00+00:00",
          "2025-01-25T16:00:00+00:00",
          "2025-01-25T17:00:00+00:00",
          "2025-01-25T18:00:00+00:00",
          "2025-01-25T19:00:00+00:00",
          "2025-01-25T20:00:00+00:00",
          "2025-01-25T21:00:00+00:00",
          "2025-01-25T22:00:00+00:00",
          "2025-01-25T23:00:00+00:00",
          "2025-01-26T00:00:00+00:00",
          "2025-01-26T01:00:00+00:00",
          "2025-01-26T02:00:00+00:00",
          "2025-01-26T03:00:00+00:00",
          "2025-01-26T04:00:00+00:00",
          "2025-01-26T05:00:00+00:00",
          "2025-01-26T06:00:00+00:00",
          "2025-01-26T07:00:00+00:00",
          "2025-01-26T08:00:00+00:00",
          "2025-01-26T09:00:00+00:00",
          "2025-01-26T10:00:00+00:00",
          "2025-01-26T11:00:00+00:00",
          "2025-01-26T12:00:00+00:00",
          "2025-01-26T13:00:00+00:00",
          "2025-01-26T14:00:00+00:00",
          "2025-01-26T15:00:00+00:00",
          "2025-01-26T16:00:00+00:00",
          "2025-01-26T17:00:00+00:00",
          "2025-01-26T18:00:00+00:00",
          "2025-01-26T19:00:00+00:00",
          "2025-01-26T20:00:00+00:00",
          "2025-01-26T21:00:00+00:00",
          "2025-01-26T22:00:00+00:00",
          "2025-01-26T23:00:00+00:00",
          "2025-01-27T00:00:00+00:00",
          "2025-01-27T01:00:00+00:00",
          "2025-01-27T02:00:00+00:00",
          "2025-01-27T03:00:00+00:00",
          "2025-01-27T04:00:00+00:00",
          "2025-01-27T05:00:00+00:00",
          "2025-01-27T06:00:00+00:00",
          "2025-01-27T07:00:00+00:00",
          "2025-01-27T08:00:00+00:00",
          "2025-01-27T09:00:00+00:00",
          "2025-01-27T10:00:00+00:00",
          "2025-01-27T11:00:00+00:00",
          "2025-01-27T12:00:00+00:00",
          "2025-01-27T13:00:00+00:00",
          "2025-01-27T14:00:00+00:00",
          "2025-01-27T15:00:00+00:00",
          "2025-01-27T16:00:00+00:00",
          "2025-01-27T17:00:00+00:00",
          "2025-01-27T18:00:00+00:00",
          "2025-01-27T19:00:00+00:00",
          "2025-01-27T20:00:00+00:00",
          "2025-01-27T21:00:00+00:00",
          "2025-01-27T22:00:00+00:00",
          "2025-01-27T23:00:00+00:00",
          "2025-01-28T00:00:00+00:00",
          "2025-01-28T01:00:00+00:00",
          "2025-01-28T02:00:00+00:00",
          "2025-01-28T03:00:00+00:00",
          "2025-01-28T04:00:00+00:00",
          "2025-01-28T05:00:00+00:00",
          "2025-01-28T06:00:00+00:00",
          "2025-01-28T07:00:00+00:00",
          "2025-01-28T08:00:00+00:00",
          "2025-01-28T09:00:00+00:00",
          "2025-01-28T10:00:00+00:00",
          "2025-01-28T11:00:00+00:00",
          "2025-01-28T12:00:00+00:00",
          "2025-01-28T13:00:00+00:00",
          "2025-01-28T14:00:00+00:00",
          "2025-01-28T15:00:00+00:00",
          "2025-01-28T16:00:00+00:00",
          "2025-01-28T17:00:00+00:00",
          "2025-01-28T18:00:00+00:00",
          "2025-01-28T19:00:00+00:00",
          "2025-01-28T20:00:00+00:00",
          "2025-01-28T21:00:00+00:00",
          "2025-01-28T22:00:00+00:00",
          "2025-01-28T23:00:00+00:00",
          "2025-01-29T00:00:00+00:00",
          "2025-01-29T01:00:00+00:00",
          "2025-01-29T02:00:00+00:00",
          "2025-01-29T03:00:00+00:00",
          "2025-01-29T04:00:00+00:00",
          "2025-01-29T05:00:00+00:00",
          "2025-01-29T06:00:00+00:00",
          "2025-01-29T07:00:00+00:00",
          "2025-01-29T08:00:00+00:00",
          "2025-01-29T09:00:00+00:00",
          "2025-01-29T10:00:00+00:00",
          "2025-01-29T11:00:00+00:00",
          "2025-01-29T12:00:00+00:00",
          "2025-01-29T13:00:00+00:00",
          "2025-01-29T14:00:00+00:00",
          "2025-01-29T15:00:00+00:00",
          "2025-01-29T16:00:00+00:00",
          "2025-01-29T17:00:00+00:00",
          "2025-01-29T18:00:00+00:00",
          "2025-01-29T19:00:00+00:00",
          "2025-01-29T20:00:00+00:00",
          "2025-01-29T21:00:00+00:00",
          "2025-01-29T22:00:00+00:00",
          "2025-01-29T23:00:00+00:00",
          "2025-01-30T00:00:00+00:00",
          "2025-01-30T01:00:00+00:00",
          "2025-01-30T02:00:00+00:00",
          "2025-01-30T03:00:00+00:00",
          "2025-01-30T04:00:00+00:00",
          "2025-01-30T05:00:00+00:00",
          "2025-01-30T06:00:00+00:00",
          "2025-01-30T07:00:00+00:00",
          "2025-01-30T08:00:00+00:00",
          "2025-01-30T09:00:00+00:00",
          "2025-01-30T10:00:00+00:00",
          "2025-01-30T11:00:00+00:00",
          "2025-01-30T12:00:00+00:00",
          "2025-01-30T13:00:00+00:00",
          "2025-01-30T14:00:00+00:00",
          "2025-01-30T15:00:00+00:00",
          "2025-01-30T16:00:00+00:00",
          "2025-01-30T17:00:00+00:00",
          "2025-01-30T18:00:00+00:00",
          "2025-01-30T19:00:00+00:00",
          "2025-01-30T20:00:00+00:00",
          "2025-01-30T21:00:00+00:00",
          "2025-01-30T22:00:00+00:00",
          "2025-01-30T23:00:00+00:00",
          "2025-01-31T00:00:00+00:00",
          "2025-01-31T01:00:00+00:00",
          "2025-01-31T02:00:00+00:00",
          "2025-01-31T03:00:00+00:00",
          "2025-01-31T04:00:00+00:00",
          "2025-01-31T05:00:00+00:00",
          "2025-01-31T06:00:00+00:00",
          "2025-01-31T07:00:00+00:00",
          "2025-01-31T08:00:00+00:00",
          "2025-01-31T09:00:00+00:00",
          "2025-01-31T10:00:00+00:00",
          "2025-01-31T11:00:00+00:00",
          "2025-01-31T12:00:00+00:00",
          "2025-01-31T13:00:00+00:00",
          "2025-01-31T14:00:00+00:00",
          "2025-01-31T15:00:00+00:00",
          "2025-01-31T16:00:00+00:00",
          "2025-01-31T17:00:00+00:00",
          "2025-01-31T18:00:00+00:00",
          "2025-01-31T19:00:00+00:00",
          "2025-01-31T20:00:00+00:00",
          "2025-01-31T21:00:00+00:00",
          "2025-01-31T22:00:00+00:00",
          "2025-01-31T23:00:00+00:00",
          "2025-02-01T00:00:00+00:00",
          "2025-02-01T01:00:00+00:00",
          "2025-02-01T02:00:00+00:00",
          "2025-02-01T03:00:00+00:00",
          "2025-02-01T04:00:00+00:00",
          "2025-02-01T05:00:00+00:00",
          "2025-02-01T06:00:00+00:00",
          "2025-02-01T07:00:00+00:00",
          "2025-02-01T08:00:00+00:00",
          "2025-02-01T09:00:00+00:00",
          "2025-02-01T10:00:00+00:00",
          "2025-02-01T11:00:00+00:00",
          "2025-02-01T12:00:00+00:00",
          "2025-02-01T13:00:00+00:00",
          "2025-02-01T14:00:00+00:00",
          "2025-02-01T15:00:00+00:00",
          "2025-02-01T16:00:00+00:00",
          "2025-02-01T17:00:00+00:00",
          "2025-02-01T18:00:00+00:00",
          "2025-02-01T19:00:00+00:00",
          "2025-02-01T20:00:00+00:00",
          "2025-02-01T21:00:00+00:00",
          "2025-02-01T22:00:00+00:00",
          "2025-02-01T23:00:00+00:00",
          "2025-02-02T00:00:00+00:00",
          "2025-02-02T01:00:00+00:00",
          "2025-02-02T02:00:00+00:00",
          "2025-02-02T03:00:00+00:00",
          "2025-02-02T04:00:00+00:00",
          "2025-02-02T05:00:00+00:00",
          "2025-02-02T06:00:00+00:00",
          "2025-02-02T07:00:00+00:00",
          "2025-02-02T08:00:00+00:00",
          "2025-02-02T09:00:00+00:00",
          "2025-02-02T10:00:00+00:00",
          "2025-02-02T11:00:00+00:00",
          "2025-02-02T12:00:00+00:00",
          "2025-02-02T13:00:00+00:00",
          "2025-02-02T14:00:00+00:00",
          "2025-02-02T15:00:00+00:00",
          "2025-02-02T16:00:00+00:00",
          "2025-02-02T17:00:00+00:00",
          "2025-02-02T18:00:00+00:00",
          "2025-02-02T19:00:00+00:00",
          "2025-02-02T20:00:00+00:00",
          "2025-02-02T21:00:00+00:00",
          "2025-02-02T22:00:00+00:00",
          "2025-02-02T23:00:00+00:00",
          "2025-02-03T00:00:00+00:00",
          "2025-02-03T01:00:00+00:00",
          "2025-02-03T02:00:00+00:00",
          "2025-02-03T03:00:00+00:00",
          "2025-02-03T04:00:00+00:00",
          "2025-02-03T05:00:00+00:00",
          "2025-02-03T06:00:00+00:00",
          "2025-02-03T07:00:00+00:00",
          "2025-02-03T08:00:00+00:00",
          "2025-02-03T09:00:00+00:00",
          "2025-02-03T10:00:00+00:00",
          "2025-02-03T11:00:00+00:00",
          "2025-02-03T12:00:00+00:00",
          "2025-02-03T13:00:00+00:00",
          "2025-02-03T14:00:00+00:00",
          "2025-02-03T15:00:00+00:00",
          "2025-02-03T16:00:00+00:00",
          "2025-02-03T17:00:00+00:00",
          "2025-02-03T18:00:00+00:00",
          "2025-02-03T19:00:00+00:00",
          "2025-02-03T20:00:00+00:00",
          "2025-02-03T21:00:00+00:00",
          "2025-02-03T22:00:00+00:00",
          "2025-02-03T23:00:00+00:00",
          "2025-02-04T00:00:00+00:00",
          "2025-02-04T01:00:00+00:00",
          "2025-02-04T02:00:00+00:00",
          "2025-02-04T03:00:00+00:00",
          "2025-02-04T04:00:00+00:00",
          "2025-02-04T05:00:00+00:00",
          "2025-02-04T06:00:00+00:00",
          "2025-02-04T07:00:00+00:00",
          "2025-02-04T08:00:00+00:00",
          "2025-02-04T09:00:00+00:00",
          "2025-02-04T10:00:00+00:00",
          "2025-02-04T11:00:00+00:00",
          "2025-02-04T12:00:00+00:00",
          "2025-02-04T13:00:00+00:00",
          "2025-02-04T14:00:00+00:00",
          "2025-02-04T15:00:00+00:00",
          "2025-02-04T16:00:00+00:00",
          "2025-02-04T17:00:00+00:00",
          "2025-02-04T18:00:00+00:00",
          "2025-02-04T19:00:00+00:00",
          "2025-02-04T20:00:00+00:00",
          "2025-02-04T21:00:00+00:00",
          "2025-02-04T22:00:00+00:00",
          "2025-02-04T23:00:00+00:00",
          "2025-02-05T00:00:00+00:00",
          "2025-02-05T01:00:00+00:00",
          "2025-02-05T02:00:00+00:00",
          "2025-02-05T03:00:00+00:00",
          "2025-02-05T04:00:00+00:00",
          "2025-02-05T05:00:00+00:00",
          "2025-02-05T06:00:00+00:00",
          "2025-02-05T07:00:00+00:00",
          "2025-02-05T08:00:00+00:00",
          "2025-02-05T09:00:00+00:00",
          "2025-02-05T10:00:00+00:00",
          "2025-02-05T11:00:00+00:00",
          "2025-02-05T12:00:00+00:00",
          "2025-02-05T13:00:00+00:00",
          "2025-02-05T14:00:00+00:00",
          "2025-02-05T15:00:00+00:00",
          "2025-02-05T16:00:00+00:00",
          "2025-02-05T17:00:00+00:00",
          "2025-02-05T18:00:00+00:00",
          "2025-02-05T19:00:00+00:00",
          "2025-02-05T20:00:00+00:00",
          "2025-02-05T21:00:00+00:00",
          "2025-02-05T22:00:00+00:00",
          "2025-02-05T23:00:00+00:00",
          "2025-02-06T00:00:00+00:00",
          "2025-02-06T01:00:00+00:00",
          "2025-02-06T02:00:00+00:00",
          "2025-02-06T03:00:00+00:00",
          "2025-02-06T04:00:00+00:00",
          "2025-02-06T05:00:00+00:00",
          "2025-02-06T06:00:00+00:00",
          "2025-02-06T07:00:00+00:00",
          "2025-02-06T08:00:00+00:00",
          "2025-02-06T09:00:00+00:00",
          "2025-02-06T10:00:00+00:00",
          "2025-02-06T11:00:00+00:00",
          "2025-02-06T12:00:00+00:00",
          "2025-02-06T13:00:00+00:00",
          "2025-02-06T14:00:00+00:00",
          "2025-02-06T15:00:00+00:00",
          "2025-02-06T16:00:00+00:00",
          "2025-02-06T17:00:00+00:00",
          "2025-02-06T18:00:00+00:00",
          "2025-02-06T19:00:00+00:00",
          "2025-02-06T20:00:00+00:00",
          "2025-02-06T21:00:00+00:00",
          "2025-02-06T22:00:00+00:00",
          "2025-02-06T23:00:00+00:00",
          "2025-02-07T00:00:00+00:00",
          "2025-02-07T01:00:00+00:00",
          "2025-02-07T02:00:00+00:00",
          "2025-02-07T03:00:00+00:00",
          "2025-02-07T04:00:00+00:00",
          "2025-02-07T05:00:00+00:00",
          "2025-02-07T06:00:00+00:00",
          "2025-02-07T07:00:00+00:00",
          "2025-02-07T08:00:00+00:00",
          "2025-02-07T09:00:00+00:00",
          "2025-02-07T10:00:00+00:00",
          "2025-02-07T11:00:00+00:00",
          "2025-02-07T12:00:00+00:00",
          "2025-02-07T13:00:00+00:00",
          "2025-02-07T14:00:00+00:00",
          "2025-02-07T15:00:00+00:00",
          "2025-02-07T16:00:00+00:00",
          "2025-02-07T17:00:00+00:00",
          "2025-02-07T18:00:00+00:00",
          "2025-02-07T19:00:00+00:00",
          "2025-02-07T20:00:00+00:00",
          "2025-02-07T21:00:00+00:00",
          "2025-02-07T22:00:00+00:00",
          "2025-02-07T23:00:00+00:00",
          "2025-02-08T00:00:00+00:00",
          "2025-02-08T01:00:00+00:00",
          "2025-02-08T02:00:00+00:00",
          "2025-02-08T03:00:00+00:00",
          "2025-02-08T04:00:00+00:00",
          "2025-02-08T05:00:00+00:00",
          "2025-02-08T06:00:00+00:00",
          "2025-02-08T07:00:00+00:00",
          "2025-02-08T08:00:00+00:00",
          "2025-02-08T09:00:00+00:00",
          "2025-02-08T10:00:00+00:00",
          "2025-02-08T11:00:00+00:00",
          "2025-02-08T12:00:00+00:00",
          "2025-02-08T13:00:00+00:00",
          "2025-02-08T14:00:00+00:00",
          "2025-02-08T15:00:00+00:00",
          "2025-02-08T16:00:00+00:00",
          "2025-02-08T17:00:00+00:00",
          "2025-02-08T18:00:00+00:00",
          "2025-02-08T19:00:00+00:00",
          "2025-02-08T20:00:00+00:00",
          "2025-02-08T21:00:00+00:00",
          "2025-02-08T22:00:00+00:00",
          "2025-02-08T23:00:00+00:00",
          "2025-02-09T00:00:00+00:00",
          "2025-02-09T01:00:00+00:00",
          "2025-02-09T02:00:00+00:00",
          "2025-02-09T03:00:00+00:00",
          "2025-02-09T04:00:00+00:00",
          "2025-02-09T05:00:00+00:00",
          "2025-02-09T06:00:00+00:00",
          "2025-02-09T07:00:00+00:00",
          "2025-02-09T08:00:00+00:00",
          "2025-02-09T09:00:00+00:00",
          "2025-02-09T10:00:00+00:00",
          "2025-02-09T11:00:00+00:00",
          "2025-02-09T12:00:00+00:00",
          "2025-02-09T13:00:00+00:00",
          "2025-02-09T14:00:00+00:00",
          "2025-02-09T15:00:00+00:00",
          "2025-02-09T16:00:00+00:00",
          "2025-02-09T17:00:00+00:00",
          "2025-02-09T18:00:00+00:00",
          "2025-02-09T19:00:00+00:00",
          "2025-02-09T20:00:00+00:00",
          "2025-02-09T21:00:00+00:00",
          "2025-02-09T22:00:00+00:00",
          "2025-02-09T23:00:00+00:00",
          "2025-02-10T00:00:00+00:00",
          "2025-02-10T01:00:00+00:00",
          "2025-02-10T02:00:00+00:00",
          "2025-02-10T03:00:00+00:00",
          "2025-02-10T04:00:00+00:00",
          "2025-02-10T05:00:00+00:00",
          "2025-02-10T06:00:00+00:00",
          "2025-02-10T07:00:00+00:00",
          "2025-02-10T08:00:00+00:00",
          "2025-02-10T09:00:00+00:00",
          "2025-02-10T10:00:00+00:00",
          "2025-02-10T11:00:00+00:00",
          "2025-02-10T12:00:00+00:00",
          "2025-02-10T13:00:00+00:00",
          "2025-02-10T14:00:00+00:00",
          "2025-02-10T15:00:00+00:00",
          "2025-02-10T16:00:00+00:00",
          "2025-02-10T17:00:00+00:00",
          "2025-02-10T18:00:00+00:00",
          "2025-02-10T19:00:00+00:00",
          "2025-02-10T20:00:00+00:00",
          "2025-02-10T21:00:00+00:00",
          "2025-02-10T22:00:00+00:00",
          "2025-02-10T23:00:00+00:00",
          "2025-02-11T00:00:00+00:00",
          "2025-02-11T01:00:00+00:00",
          "2025-02-11T02:00:00+00:00",
          "2025-02-11T03:00:00+00:00",
          "2025-02-11T04:00:00+00:00",
          "2025-02-11T05:00:00+00:00",
          "2025-02-11T06:00:00+00:00",
          "2025-02-11T07:00:00+00:00",
          "2025-02-11T08:00:00+00:00",
          "2025-02-11T09:00:00+00:00",
          "2025-02-11T10:00:00+00:00",
          "2025-02-11T11:00:00+00:00",
          "2025-02-11T12:00:00+00:00",
          "2025-02-11T13:00:00+00:00",
          "2025-02-11T14:00:00+00:00",
          "2025-02-11T15:00:00+00:00",
          "2025-02-11T16:00:00+00:00",
          "2025-02-11T17:00:00+00:00",
          "2025-02-11T18:00:00+00:00",
          "2025-02-11T19:00:00+00:00",
          "2025-02-11T20:00:00+00:00",
          "2025-02-11T21:00:00+00:00",
          "2025-02-11T22:00:00+00:00",
          "2025-02-11T23:00:00+00:00",
          "2025-02-12T00:00:00+00:00",
          "2025-02-12T01:00:00+00:00",
          "2025-02-12T02:00:00+00:00",
          "2025-02-12T03:00:00+00:00",
          "2025-02-12T04:00:00+00:00",
          "2025-02-12T05:00:00+00:00",
          "2025-02-12T06:00:00+00:00",
          "2025-02-12T07:00:00+00:00",
          "2025-02-12T08:00:00+00:00",
          "2025-02-12T09:00:00+00:00",
          "2025-02-12T10:00:00+00:00",
          "2025-02-12T11:00:00+00:00",
          "2025-02-12T12:00:00+00:00",
          "2025-02-12T13:00:00+00:00",
          "2025-02-12T14:00:00+00:00",
          "2025-02-12T15:00:00+00:00",
          "2025-02-12T16:00:00+00:00",
          "2025-02-12T17:00:00+00:00",
          "2025-02-12T18:00:00+00:00",
          "2025-02-12T19:00:00+00:00",
          "2025-02-12T20:00:00+00:00",
          "2025-02-12T21:00:00+00:00",
          "2025-02-12T22:00:00+00:00",
          "2025-02-12T23:00:00+00:00",
          "2025-02-13T00:00:00+00:00",
          "2025-02-13T01:00:00+00:00",
          "2025-02-13T02:00:00+00:00",
          "2025-02-13T03:00:00+00:00",
          "2025-02-13T04:00:00+00:00",
          "2025-02-13T05:00:00+00:00",
          "2025-02-13T06:00:00+00:00",
          "2025-02-13T07:00:00+00:00",
          "2025-02-13T08:00:00+00:00",
          "2025-02-13T09:00:00+00:00",
          "2025-02-13T10:00:00+00:00",
          "2025-02-13T11:00:00+00:00",
          "2025-02-13T12:00:00+00:00",
          "2025-02-13T13:00:00+00:00",
          "2025-02-13T14:00:00+00:00",
          "2025-02-13T15:00:00+00:00",
          "2025-02-13T16:00:00+00:00",
          "2025-02-13T17:00:00+00:00",
          "2025-02-13T18:00:00+00:00",
          "2025-02-13T19:00:00+00:00",
          "2025-02-13T20:00:00+00:00",
          "2025-02-13T21:00:00+00:00",
          "2025-02-13T22:00:00+00:00",
          "2025-02-13T23:00:00+00:00",
          "2025-02-14T00:00:00+00:00",
          "2025-02-14T01:00:00+00:00",
          "2025-02-14T02:00:00+00:00",
          "2025-02-14T03:00:00+00:00",
          "2025-02-14T04:00:00+00:00",
          "2025-02-14T05:00:00+00:00",
          "2025-02-14T06:00:00+00:00",
          "2025-02-14T07:00:00+00:00",
          "2025-02-14T08:00:00+00:00",
          "2025-02-14T09:00:00+00:00",
          "2025-02-14T10:00:00+00:00",
          "2025-02-14T11:00:00+00:00",
          "2025-02-14T12:00:00+00:00",
          "2025-02-14T13:00:00+00:00",
          "2025-02-14T14:00:00+00:00",
          "2025-02-14T15:00:00+00:00",
          "2025-02-14T16:00:00+00:00",
          "2025-02-14T17:00:00+00:00",
          "2025-02-14T18:00:00+00:00",
          "2025-02-14T19:00:00+00:00",
          "2025-02-14T20:00:00+00:00",
          "2025-02-14T21:00:00+00:00",
          "2025-02-14T22:00:00+00:00",
          "2025-02-14T23:00:00+00:00",
          "2025-02-15T00:00:00+00:00",
          "2025-02-15T01:00:00+00:00",
          "2025-02-15T02:00:00+00:00",
          "2025-02-15T03:00:00+00:00",
          "2025-02-15T04:00:00+00:00",
          "2025-02-15T05:00:00+00:00",
          "2025-02-15T06:00:00+00:00",
          "2025-02-15T07:00:00+00:00",
          "2025-02-15T08:00:00+00:00",
          "2025-02-15T09:00:00+00:00",
          "2025-02-15T10:00:00+00:00",
          "2025-02-15T11:00:00+00:00",
          "2025-02-15T12:00:00+00:00",
          "2025-02-15T13:00:00+00:00",
          "2025-02-15T14:00:00+00:00",
          "2025-02-15T15:00:00+00:00",
          "2025-02-15T16:00:00+00:00",
          "2025-02-15T17:00:00+00:00",
          "2025-02-15T18:00:00+00:00",
          "2025-02-15T19:00:00+00:00",
          "2025-02-15T20:00:00+00:00",
          "2025-02-15T21:00:00+00:00",
          "2025-02-15T22:00:00+00:00",
          "2025-02-15T23:00:00+00:00",
          "2025-02-16T00:00:00+00:00",
          "2025-02-16T01:00:00+00:00",
          "2025-02-16T02:00:00+00:00",
          "2025-02-16T03:00:00+00:00",
          "2025-02-16T04:00:00+00:00",
          "2025-02-16T05:00:00+00:00",
          "2025-02-16T06:00:00+00:00",
          "2025-02-16T07:00:00+00:00",
          "2025-02-16T08:00:00+00:00",
          "2025-02-16T09:00:00+00:00",
          "2025-02-16T10:00:00+00:00",
          "2025-02-16T11:00:00+00:00",
          "2025-02-16T12:00:00+00:00",
          "2025-02-16T13:00:00+00:00",
          "2025-02-16T14:00:00+00:00",
          "2025-02-16T15:00:00+00:00",
          "2025-02-16T16:00:00+00:00",
          "2025-02-16T17:00:00+00:00",
          "2025-02-16T18:00:00+00:00",
          "2025-02-16T19:00:00+00:00",
          "2025-02-16T20:00:00+00:00",
          "2025-02-16T21:00:00+00:00",
          "2025-02-16T22:00:00+00:00",
          "2025-02-16T23:00:00+00:00",
          "2025-02-17T00:00:00+00:00",
          "2025-02-17T01:00:00+00:00",
          "2025-02-17T02:00:00+00:00",
          "2025-02-17T03:00:00+00:00",
          "2025-02-17T04:00:00+00:00",
          "2025-02-17T05:00:00+00:00",
          "2025-02-17T06:00:00+00:00",
          "2025-02-17T07:00:00+00:00",
          "2025-02-17T08:00:00+00:00",
          "2025-02-17T09:00:00+00:00",
          "2025-02-17T10:00:00+00:00",
          "2025-02-17T11:00:00+00:00",
          "2025-02-17T12:00:00+00:00",
          "2025-02-17T13:00:00+00:00",
          "2025-02-17T14:00:00+00:00",
          "2025-02-17T15:00:00+00:00",
          "2025-02-17T16:00:00+00:00",
          "2025-02-17T17:00:00+00:00",
          "2025-02-17T18:00:00+00:00",
          "2025-02-17T19:00:00+00:00",
          "2025-02-17T20:00:00+00:00",
          "2025-02-17T21:00:00+00:00",
          "2025-02-17T22:00:00+00:00",
          "2025-02-17T23:00:00+00:00",
          "2025-02-18T00:00:00+00:00",
          "2025-02-18T01:00:00+00:00",
          "2025-02-18T02:00:00+00:00",
          "2025-02-18T03:00:00+00:00",
          "2025-02-18T04:00:00+00:00",
          "2025-02-18T05:00:00+00:00",
          "2025-02-18T06:00:00+00:00",
          "2025-02-18T07:00:00+00:00",
          "2025-02-18T08:00:00+00:00",
          "2025-02-18T09:00:00+00:00",
          "2025-02-18T10:00:00+00:00",
          "2025-02-18T11:00:00+00:00",
          "2025-02-18T12:00:00+00:00",
          "2025-02-18T13:00:00+00:00",
          "2025-02-18T14:00:00+00:00",
          "2025-02-18T15:00:00+00:00",
          "2025-02-18T16:00:00+00:00",
          "2025-02-18T17:00:00+00:00",
          "2025-02-18T18:00:00+00:00",
          "2025-02-18T19:00:00+00:00",
          "2025-02-18T20:00:00+00:00",
          "2025-02-18T21:00:00+00:00",
          "2025-02-18T22:00:00+00:00",
          "2025-02-18T23:00:00+00:00",
          "2025-02-19T00:00:00+00:00",
          "2025-02-19T01:00:00+00:00",
          "2025-02-19T02:00:00+00:00",
          "2025-02-19T03:00:00+00:00",
          "2025-02-19T04:00:00+00:00",
          "2025-02-19T05:00:00+00:00",
          "2025-02-19T06:00:00+00:00",
          "2025-02-19T07:00:00+00:00",
          "2025-02-19T08:00:00+00:00",
          "2025-02-19T09:00:00+00:00",
          "2025-02-19T10:00:00+00:00",
          "2025-02-19T11:00:00+00:00",
          "2025-02-19T12:00:00+00:00",
          "2025-02-19T13:00:00+00:00",
          "2025-02-19T14:00:00+00:00",
          "2025-02-19T15:00:00+00:00",
          "2025-02-19T16:00:00+00:00",
          "2025-02-19T17:00:00+00:00",
          "2025-02-19T18:00:00+00:00",
          "2025-02-19T19:00:00+00:00",
          "2025-02-19T20:00:00+00:00",
          "2025-02-19T21:00:00+00:00",
          "2025-02-19T22:00:00+00:00",
          "2025-02-19T23:00:00+00:00",
          "2025-02-20T00:00:00+00:00",
          "2025-02-20T01:00:00+00:00",
          "2025-02-20T02:00:00+00:00",
          "2025-02-20T03:00:00+00:00",
          "2025-02-20T04:00:00+00:00",
          "2025-02-20T05:00:00+00:00",
          "2025-02-20T06:00:00+00:00",
          "2025-02-20T07:00:00+00:00",
          "2025-02-20T08:00:00+00:00",
          "2025-02-20T09:00:00+00:00",
          "2025-02-20T10:00:00+00:00",
          "2025-02-20T11:00:00+00:00",
          "2025-02-20T12:00:00+00:00",
          "2025-02-20T13:00:00+00:00",
          "2025-02-20T14:00:00+00:00",
          "2025-02-20T15:00:00+00:00",
          "2025-02-20T16:00:00+00:00",
          "2025-02-20T17:00:00+00:00",
          "2025-02-20T18:00:00+00:00",
          "2025-02-20T19:00:00+00:00",
          "2025-02-20T20:00:00+00:00",
          "2025-02-20T21:00:00+00:00",
          "2025-02-20T22:00:00+00:00",
          "2025-02-20T23:00:00+00:00",
          "2025-02-21T00:00:00+00:00",
          "2025-02-21T01:00:00+00:00",
          "2025-02-21T02:00:00+00:00",
          "2025-02-21T03:00:00+00:00",
          "2025-02-21T04:00:00+00:00",
          "2025-02-21T05:00:00+00:00",
          "2025-02-21T06:00:00+00:00",
          "2025-02-21T07:00:00+00:00",
          "2025-02-21T08:00:00+00:00",
          "2025-02-21T09:00:00+00:00",
          "2025-02-21T10:00:00+00:00",
          "2025-02-21T11:00:00+00:00",
          "2025-02-21T12:00:00+00:00",
          "2025-02-21T13:00:00+00:00",
          "2025-02-21T14:00:00+00:00",
          "2025-02-21T15:00:00+00:00",
          "2025-02-21T16:00:00+00:00",
          "2025-02-21T17:00:00+00:00",
          "2025-02-21T18:00:00+00:00",
          "2025-02-21T19:00:00+00:00",
          "2025-02-21T20:00:00+00:00",
          "2025-02-21T21:00:00+00:00",
          "2025-02-21T22:00:00+00:00",
          "2025-02-21T23:00:00+00:00",
          "2025-02-22T00:00:00+00:00",
          "2025-02-22T01:00:00+00:00",
          "2025-02-22T02:00:00+00:00",
          "2025-02-22T03:00:00+00:00",
          "2025-02-22T04:00:00+00:00",
          "2025-02-22T05:00:00+00:00",
          "2025-02-22T06:00:00+00:00",
          "2025-02-22T07:00:00+00:00",
          "2025-02-22T08:00:00+00:00",
          "2025-02-22T09:00:00+00:00",
          "2025-02-22T10:00:00+00:00",
          "2025-02-22T11:00:00+00:00",
          "2025-02-22T12:00:00+00:00",
          "2025-02-22T13:00:00+00:00",
          "2025-02-22T14:00:00+00:00",
          "2025-02-22T15:00:00+00:00",
          "2025-02-22T16:00:00+00:00",
          "2025-02-22T17:00:00+00:00",
          "2025-02-22T18:00:00+00:00",
          "2025-02-22T19:00:00+00:00",
          "2025-02-22T20:00:00+00:00",
          "2025-02-22T21:00:00+00:00",
          "2025-02-22T22:00:00+00:00",
          "2025-02-22T23:00:00+00:00",
          "2025-02-23T00:00:00+00:00",
          "2025-02-23T01:00:00+00:00",
          "2025-02-23T02:00:00+00:00",
          "2025-02-23T03:00:00+00:00",
          "2025-02-23T04:00:00+00:00",
          "2025-02-23T05:00:00+00:00",
          "2025-02-23T06:00:00+00:00",
          "2025-02-23T07:00:00+00:00",
          "2025-02-23T08:00:00+00:00",
          "2025-02-23T09:00:00+00:00",
          "2025-02-23T10:00:00+00:00",
          "2025-02-23T11:00:00+00:00",
          "2025-02-23T12:00:00+00:00",
          "2025-02-23T13:00:00+00:00",
          "2025-02-23T14:00:00+00:00",
          "2025-02-23T15:00:00+00:00",
          "2025-02-23T16:00:00+00:00",
          "2025-02-23T17:00:00+00:00",
          "2025-02-23T18:00:00+00:00",
          "2025-02-23T19:00:00+00:00",
          "2025-02-23T20:00:00+00:00"
         ],
         "xaxis": "x",
         "y": {
          "bdata": "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",
          "dtype": "f8"
         },
         "yaxis": "y"
        },
        {
         "connectgaps": true,
         "line": {
          "color": "#00CC96",
          "width": 4
         },
         "marker": {
          "color": "#00CC96",
          "size": [
           3,
           3,
           3,
           3,
           3,
           3,
           3,
           3,
           3,
           3,
           3,
           3,
           3,
           3,
           3,
           3,
           3,
           3,
           3,
           3,
           3,
           3,
           3,
           3,
           3,
           3,
           3,
           3,
           3,
           3,
           3,
           3,
           3,
           3,
           3,
           3,
           3,
           3,
           3,
           3,
           3,
           3,
           3,
           3,
           3,
           3,
           3,
           3,
           3,
           3,
           3,
           3,
           3,
           3,
           3,
           3,
           3,
           3,
           3,
           3,
           3,
           3,
           3,
           3,
           3,
           3,
           3,
           3,
           3,
           3,
           3,
           3,
           3,
           3,
           3,
           3,
           3,
           3,
           3,
           3,
           3,
           3,
           3,
           3,
           3,
           3,
           3,
           3,
           3,
           3,
           3,
           3,
           3,
           3,
           3,
           3,
           3,
           3,
           3,
           3,
           3,
           3,
           3,
           3,
           3,
           3,
           3,
           3,
           3,
           3,
           3,
           3,
           3,
           3,
           3,
           3,
           3,
           3,
           3,
           3,
           3,
           3,
           3,
           3,
           3,
           3,
           3,
           3,
           3,
           3,
           3,
           3,
           3,
           3,
           3,
           3,
           3,
           3,
           3,
           3,
           3,
           3,
           3,
           3,
           3,
           3,
           3,
           3,
           3,
           3,
           3,
           3,
           3,
           3,
           3,
           3,
           3,
           3,
           3,
           3,
           3,
           3,
           3,
           3,
           3,
           3,
           3,
           3,
           3,
           3,
           3,
           3,
           3,
           3,
           3,
           3,
           3,
           3,
           3,
           3,
           3,
           3,
           3,
           3,
           3,
           3,
           3,
           3,
           3,
           3,
           3,
           3,
           3,
           3,
           3,
           3,
           3,
           3,
           3,
           3,
           3,
           3,
           3,
           3,
           3,
           3,
           3,
           3,
           3,
           3,
           3,
           3,
           3,
           3,
           3,
           3,
           3,
           3,
           3,
           3,
           3,
           3,
           3,
           3,
           3,
           3,
           3,
           3,
           3,
           3,
           3,
           3,
           3,
           3,
           3,
           3,
           3,
           3,
           3,
           3,
           3,
           3,
           3,
           3,
           3,
           3,
           3,
           3,
           3,
           3,
           3,
           3,
           3,
           3,
           3,
           3,
           3,
           3,
           3,
           3,
           3,
           3,
           3,
           3,
           3,
           3,
           3,
           3,
           3,
           3,
           3,
           3,
           3,
           3,
           3,
           3,
           3,
           3,
           3,
           3,
           3,
           3,
           3,
           3,
           3,
           3,
           3,
           3,
           3,
           3,
           3,
           3,
           3,
           3,
           3,
           3,
           3,
           3,
           3,
           3,
           3,
           3,
           3,
           3,
           3,
           3,
           3,
           3,
           3,
           3,
           3,
           3,
           3,
           3,
           3,
           3,
           3,
           3,
           3,
           3,
           3,
           3,
           3,
           3,
           3,
           3,
           3,
           3,
           3,
           3,
           3,
           3,
           3,
           3,
           3,
           3,
           3,
           3,
           3,
           3,
           3,
           3,
           3,
           3,
           3,
           3,
           3,
           3,
           3,
           3,
           3,
           3,
           3,
           3,
           3,
           3,
           3,
           3,
           3,
           3,
           3,
           3,
           3,
           3,
           3,
           3,
           3,
           3,
           3,
           3,
           3,
           3,
           3,
           3,
           3,
           3,
           3,
           3,
           3,
           3,
           3,
           3,
           3,
           3,
           3,
           3,
           3,
           3,
           3,
           3,
           3,
           3,
           3,
           3,
           3,
           3,
           3,
           3,
           3,
           3,
           3,
           3,
           3,
           3,
           3,
           3,
           3,
           3,
           3,
           3,
           3,
           3,
           3,
           3,
           3,
           3,
           3,
           3,
           3,
           3,
           3,
           3,
           3,
           3,
           3,
           3,
           3,
           3,
           3,
           3,
           3,
           3,
           3,
           3,
           3,
           3,
           3,
           3,
           3,
           3,
           3,
           3,
           3,
           3,
           3,
           3,
           3,
           3,
           3,
           3,
           3,
           3,
           3,
           3,
           3,
           3,
           3,
           3,
           3,
           3,
           3,
           3,
           3,
           3,
           3,
           3,
           3,
           3,
           3,
           3,
           3,
           3,
           3,
           3,
           3,
           3,
           3,
           3,
           3,
           3,
           3,
           3,
           3,
           3,
           3,
           3,
           3,
           3,
           3,
           3,
           3,
           3,
           3,
           3,
           3,
           3,
           3,
           3,
           3,
           3,
           3,
           3,
           3,
           3,
           3,
           3,
           3,
           3,
           3,
           3,
           3,
           3,
           3,
           3,
           3,
           3,
           3,
           3,
           3,
           3,
           3,
           3,
           3,
           3,
           3,
           3,
           3,
           3,
           3,
           3,
           3,
           3,
           3,
           3,
           3,
           3,
           3,
           3,
           3,
           3,
           3,
           3,
           3,
           3,
           3,
           3,
           3,
           3,
           3,
           3,
           3,
           3,
           3,
           3,
           3,
           3,
           3,
           3,
           3,
           3,
           3,
           3,
           3,
           3,
           3,
           3,
           3,
           3,
           3,
           3,
           3,
           3,
           3,
           3,
           3,
           3,
           3,
           3,
           3,
           3,
           3,
           3,
           3,
           3,
           3,
           3,
           3,
           3,
           3,
           3,
           3,
           3,
           3,
           3,
           3,
           3,
           3,
           3,
           3,
           3,
           3,
           3,
           3,
           3,
           3,
           3,
           3,
           3,
           3,
           3,
           3,
           3,
           3,
           3,
           3,
           3,
           3,
           3,
           3,
           3,
           3,
           3,
           3,
           3,
           3,
           3,
           3,
           3,
           3,
           3,
           3,
           3,
           3,
           3,
           3,
           3,
           3,
           3,
           3,
           3,
           3,
           3,
           3,
           3,
           3,
           3,
           3,
           3,
           3,
           3,
           3,
           3,
           3,
           3,
           3,
           3,
           3,
           3,
           3,
           3,
           3,
           3,
           3,
           3,
           3,
           3,
           3,
           3,
           3,
           3,
           3,
           3,
           3,
           3,
           3,
           3,
           3,
           3,
           3,
           3,
           3,
           3,
           3,
           3,
           3,
           3,
           3,
           3,
           3,
           3,
           3,
           3,
           3,
           3,
           3,
           3,
           3,
           3,
           3,
           3,
           3,
           3,
           3,
           3,
           3,
           3,
           3,
           3,
           3,
           3,
           3,
           3,
           3,
           3,
           3,
           3,
           3,
           3,
           3,
           3,
           3,
           3,
           3,
           3,
           3,
           3,
           3,
           3,
           3,
           3,
           3,
           3,
           3,
           3,
           3,
           3,
           3,
           3,
           3,
           3,
           3,
           3,
           3,
           3,
           3,
           3,
           3,
           3,
           3,
           3,
           3,
           3,
           3,
           3,
           3,
           3,
           3,
           3,
           3,
           3,
           3,
           3,
           3,
           3,
           3,
           3,
           3,
           3,
           3,
           3,
           3,
           3,
           3,
           3,
           3,
           3,
           3,
           3,
           3,
           3,
           3,
           3,
           3,
           3,
           3,
           3,
           3,
           3,
           3,
           3,
           3,
           3,
           3,
           3,
           3,
           3,
           3,
           3,
           3,
           3,
           3,
           3,
           3,
           3,
           3,
           3,
           3,
           3,
           3,
           3,
           3,
           3,
           3,
           3,
           3,
           3,
           3,
           3,
           3,
           3,
           3,
           3,
           3,
           3,
           3,
           3,
           3,
           3,
           3,
           3,
           3,
           3,
           3,
           3,
           3,
           3,
           3,
           3,
           3,
           3,
           3,
           3,
           3,
           3,
           3,
           3,
           3,
           3,
           3,
           3,
           3,
           3,
           3,
           3,
           3,
           3,
           3,
           3,
           3,
           3,
           3,
           3,
           3,
           3,
           3,
           3,
           3,
           3,
           3,
           3,
           3,
           3,
           3,
           3,
           3,
           3,
           3,
           3,
           3,
           3,
           3,
           3,
           3,
           3,
           3,
           3,
           3,
           3,
           3,
           3,
           3,
           3,
           3,
           3,
           3,
           3,
           3,
           3,
           3,
           3,
           3,
           3,
           3,
           3,
           3,
           3,
           3,
           3,
           3,
           3,
           3,
           3,
           3,
           3,
           3,
           3,
           3,
           3,
           3
          ]
         },
         "mode": "lines",
         "name": "USDC ($5.0M)     ",
         "showlegend": true,
         "stackgroup": "one",
         "type": "scatter",
         "x": [
          "2025-01-16T14:00:00+00:00",
          "2025-01-16T15:00:00+00:00",
          "2025-01-16T16:00:00+00:00",
          "2025-01-16T17:00:00+00:00",
          "2025-01-16T18:00:00+00:00",
          "2025-01-16T19:00:00+00:00",
          "2025-01-16T20:00:00+00:00",
          "2025-01-16T21:00:00+00:00",
          "2025-01-16T22:00:00+00:00",
          "2025-01-16T23:00:00+00:00",
          "2025-01-17T00:00:00+00:00",
          "2025-01-17T01:00:00+00:00",
          "2025-01-17T02:00:00+00:00",
          "2025-01-17T03:00:00+00:00",
          "2025-01-17T04:00:00+00:00",
          "2025-01-17T05:00:00+00:00",
          "2025-01-17T06:00:00+00:00",
          "2025-01-17T07:00:00+00:00",
          "2025-01-17T08:00:00+00:00",
          "2025-01-17T09:00:00+00:00",
          "2025-01-17T10:00:00+00:00",
          "2025-01-17T11:00:00+00:00",
          "2025-01-17T12:00:00+00:00",
          "2025-01-17T13:00:00+00:00",
          "2025-01-17T14:00:00+00:00",
          "2025-01-17T15:00:00+00:00",
          "2025-01-17T16:00:00+00:00",
          "2025-01-17T17:00:00+00:00",
          "2025-01-17T18:00:00+00:00",
          "2025-01-17T19:00:00+00:00",
          "2025-01-17T20:00:00+00:00",
          "2025-01-17T21:00:00+00:00",
          "2025-01-17T22:00:00+00:00",
          "2025-01-17T23:00:00+00:00",
          "2025-01-18T00:00:00+00:00",
          "2025-01-18T01:00:00+00:00",
          "2025-01-18T02:00:00+00:00",
          "2025-01-18T03:00:00+00:00",
          "2025-01-18T04:00:00+00:00",
          "2025-01-18T05:00:00+00:00",
          "2025-01-18T06:00:00+00:00",
          "2025-01-18T07:00:00+00:00",
          "2025-01-18T08:00:00+00:00",
          "2025-01-18T09:00:00+00:00",
          "2025-01-18T10:00:00+00:00",
          "2025-01-18T11:00:00+00:00",
          "2025-01-18T12:00:00+00:00",
          "2025-01-18T13:00:00+00:00",
          "2025-01-18T14:00:00+00:00",
          "2025-01-18T15:00:00+00:00",
          "2025-01-18T16:00:00+00:00",
          "2025-01-18T17:00:00+00:00",
          "2025-01-18T18:00:00+00:00",
          "2025-01-18T19:00:00+00:00",
          "2025-01-18T20:00:00+00:00",
          "2025-01-18T21:00:00+00:00",
          "2025-01-18T22:00:00+00:00",
          "2025-01-18T23:00:00+00:00",
          "2025-01-19T00:00:00+00:00",
          "2025-01-19T01:00:00+00:00",
          "2025-01-19T02:00:00+00:00",
          "2025-01-19T03:00:00+00:00",
          "2025-01-19T04:00:00+00:00",
          "2025-01-19T05:00:00+00:00",
          "2025-01-19T06:00:00+00:00",
          "2025-01-19T07:00:00+00:00",
          "2025-01-19T08:00:00+00:00",
          "2025-01-19T09:00:00+00:00",
          "2025-01-19T10:00:00+00:00",
          "2025-01-19T11:00:00+00:00",
          "2025-01-19T12:00:00+00:00",
          "2025-01-19T13:00:00+00:00",
          "2025-01-19T14:00:00+00:00",
          "2025-01-19T15:00:00+00:00",
          "2025-01-19T16:00:00+00:00",
          "2025-01-19T17:00:00+00:00",
          "2025-01-19T18:00:00+00:00",
          "2025-01-19T19:00:00+00:00",
          "2025-01-19T20:00:00+00:00",
          "2025-01-19T21:00:00+00:00",
          "2025-01-19T22:00:00+00:00",
          "2025-01-19T23:00:00+00:00",
          "2025-01-20T00:00:00+00:00",
          "2025-01-20T01:00:00+00:00",
          "2025-01-20T02:00:00+00:00",
          "2025-01-20T03:00:00+00:00",
          "2025-01-20T04:00:00+00:00",
          "2025-01-20T05:00:00+00:00",
          "2025-01-20T06:00:00+00:00",
          "2025-01-20T07:00:00+00:00",
          "2025-01-20T08:00:00+00:00",
          "2025-01-20T09:00:00+00:00",
          "2025-01-20T10:00:00+00:00",
          "2025-01-20T11:00:00+00:00",
          "2025-01-20T12:00:00+00:00",
          "2025-01-20T13:00:00+00:00",
          "2025-01-20T14:00:00+00:00",
          "2025-01-20T15:00:00+00:00",
          "2025-01-20T16:00:00+00:00",
          "2025-01-20T17:00:00+00:00",
          "2025-01-20T18:00:00+00:00",
          "2025-01-20T19:00:00+00:00",
          "2025-01-20T20:00:00+00:00",
          "2025-01-20T21:00:00+00:00",
          "2025-01-20T22:00:00+00:00",
          "2025-01-20T23:00:00+00:00",
          "2025-01-21T00:00:00+00:00",
          "2025-01-21T01:00:00+00:00",
          "2025-01-21T02:00:00+00:00",
          "2025-01-21T03:00:00+00:00",
          "2025-01-21T04:00:00+00:00",
          "2025-01-21T05:00:00+00:00",
          "2025-01-21T06:00:00+00:00",
          "2025-01-21T07:00:00+00:00",
          "2025-01-21T08:00:00+00:00",
          "2025-01-21T09:00:00+00:00",
          "2025-01-21T10:00:00+00:00",
          "2025-01-21T11:00:00+00:00",
          "2025-01-21T12:00:00+00:00",
          "2025-01-21T13:00:00+00:00",
          "2025-01-21T14:00:00+00:00",
          "2025-01-21T15:00:00+00:00",
          "2025-01-21T16:00:00+00:00",
          "2025-01-21T17:00:00+00:00",
          "2025-01-21T18:00:00+00:00",
          "2025-01-21T19:00:00+00:00",
          "2025-01-21T20:00:00+00:00",
          "2025-01-21T21:00:00+00:00",
          "2025-01-21T22:00:00+00:00",
          "2025-01-21T23:00:00+00:00",
          "2025-01-22T00:00:00+00:00",
          "2025-01-22T01:00:00+00:00",
          "2025-01-22T02:00:00+00:00",
          "2025-01-22T03:00:00+00:00",
          "2025-01-22T04:00:00+00:00",
          "2025-01-22T05:00:00+00:00",
          "2025-01-22T06:00:00+00:00",
          "2025-01-22T07:00:00+00:00",
          "2025-01-22T08:00:00+00:00",
          "2025-01-22T09:00:00+00:00",
          "2025-01-22T10:00:00+00:00",
          "2025-01-22T11:00:00+00:00",
          "2025-01-22T12:00:00+00:00",
          "2025-01-22T13:00:00+00:00",
          "2025-01-22T14:00:00+00:00",
          "2025-01-22T15:00:00+00:00",
          "2025-01-22T16:00:00+00:00",
          "2025-01-22T17:00:00+00:00",
          "2025-01-22T18:00:00+00:00",
          "2025-01-22T19:00:00+00:00",
          "2025-01-22T20:00:00+00:00",
          "2025-01-22T21:00:00+00:00",
          "2025-01-22T22:00:00+00:00",
          "2025-01-22T23:00:00+00:00",
          "2025-01-23T00:00:00+00:00",
          "2025-01-23T01:00:00+00:00",
          "2025-01-23T02:00:00+00:00",
          "2025-01-23T03:00:00+00:00",
          "2025-01-23T04:00:00+00:00",
          "2025-01-23T05:00:00+00:00",
          "2025-01-23T06:00:00+00:00",
          "2025-01-23T07:00:00+00:00",
          "2025-01-23T08:00:00+00:00",
          "2025-01-23T09:00:00+00:00",
          "2025-01-23T10:00:00+00:00",
          "2025-01-23T11:00:00+00:00",
          "2025-01-23T12:00:00+00:00",
          "2025-01-23T13:00:00+00:00",
          "2025-01-23T14:00:00+00:00",
          "2025-01-23T15:00:00+00:00",
          "2025-01-23T16:00:00+00:00",
          "2025-01-23T17:00:00+00:00",
          "2025-01-23T18:00:00+00:00",
          "2025-01-23T19:00:00+00:00",
          "2025-01-23T20:00:00+00:00",
          "2025-01-23T21:00:00+00:00",
          "2025-01-23T22:00:00+00:00",
          "2025-01-23T23:00:00+00:00",
          "2025-01-24T00:00:00+00:00",
          "2025-01-24T01:00:00+00:00",
          "2025-01-24T02:00:00+00:00",
          "2025-01-24T03:00:00+00:00",
          "2025-01-24T04:00:00+00:00",
          "2025-01-24T05:00:00+00:00",
          "2025-01-24T06:00:00+00:00",
          "2025-01-24T07:00:00+00:00",
          "2025-01-24T08:00:00+00:00",
          "2025-01-24T09:00:00+00:00",
          "2025-01-24T10:00:00+00:00",
          "2025-01-24T11:00:00+00:00",
          "2025-01-24T12:00:00+00:00",
          "2025-01-24T13:00:00+00:00",
          "2025-01-24T14:00:00+00:00",
          "2025-01-24T15:00:00+00:00",
          "2025-01-24T16:00:00+00:00",
          "2025-01-24T17:00:00+00:00",
          "2025-01-24T18:00:00+00:00",
          "2025-01-24T19:00:00+00:00",
          "2025-01-24T20:00:00+00:00",
          "2025-01-24T21:00:00+00:00",
          "2025-01-24T22:00:00+00:00",
          "2025-01-24T23:00:00+00:00",
          "2025-01-25T00:00:00+00:00",
          "2025-01-25T01:00:00+00:00",
          "2025-01-25T02:00:00+00:00",
          "2025-01-25T03:00:00+00:00",
          "2025-01-25T04:00:00+00:00",
          "2025-01-25T05:00:00+00:00",
          "2025-01-25T06:00:00+00:00",
          "2025-01-25T07:00:00+00:00",
          "2025-01-25T08:00:00+00:00",
          "2025-01-25T09:00:00+00:00",
          "2025-01-25T10:00:00+00:00",
          "2025-01-25T11:00:00+00:00",
          "2025-01-25T12:00:00+00:00",
          "2025-01-25T13:00:00+00:00",
          "2025-01-25T14:00:00+00:00",
          "2025-01-25T15:00:00+00:00",
          "2025-01-25T16:00:00+00:00",
          "2025-01-25T17:00:00+00:00",
          "2025-01-25T18:00:00+00:00",
          "2025-01-25T19:00:00+00:00",
          "2025-01-25T20:00:00+00:00",
          "2025-01-25T21:00:00+00:00",
          "2025-01-25T22:00:00+00:00",
          "2025-01-25T23:00:00+00:00",
          "2025-01-26T00:00:00+00:00",
          "2025-01-26T01:00:00+00:00",
          "2025-01-26T02:00:00+00:00",
          "2025-01-26T03:00:00+00:00",
          "2025-01-26T04:00:00+00:00",
          "2025-01-26T05:00:00+00:00",
          "2025-01-26T06:00:00+00:00",
          "2025-01-26T07:00:00+00:00",
          "2025-01-26T08:00:00+00:00",
          "2025-01-26T09:00:00+00:00",
          "2025-01-26T10:00:00+00:00",
          "2025-01-26T11:00:00+00:00",
          "2025-01-26T12:00:00+00:00",
          "2025-01-26T13:00:00+00:00",
          "2025-01-26T14:00:00+00:00",
          "2025-01-26T15:00:00+00:00",
          "2025-01-26T16:00:00+00:00",
          "2025-01-26T17:00:00+00:00",
          "2025-01-26T18:00:00+00:00",
          "2025-01-26T19:00:00+00:00",
          "2025-01-26T20:00:00+00:00",
          "2025-01-26T21:00:00+00:00",
          "2025-01-26T22:00:00+00:00",
          "2025-01-26T23:00:00+00:00",
          "2025-01-27T00:00:00+00:00",
          "2025-01-27T01:00:00+00:00",
          "2025-01-27T02:00:00+00:00",
          "2025-01-27T03:00:00+00:00",
          "2025-01-27T04:00:00+00:00",
          "2025-01-27T05:00:00+00:00",
          "2025-01-27T06:00:00+00:00",
          "2025-01-27T07:00:00+00:00",
          "2025-01-27T08:00:00+00:00",
          "2025-01-27T09:00:00+00:00",
          "2025-01-27T10:00:00+00:00",
          "2025-01-27T11:00:00+00:00",
          "2025-01-27T12:00:00+00:00",
          "2025-01-27T13:00:00+00:00",
          "2025-01-27T14:00:00+00:00",
          "2025-01-27T15:00:00+00:00",
          "2025-01-27T16:00:00+00:00",
          "2025-01-27T17:00:00+00:00",
          "2025-01-27T18:00:00+00:00",
          "2025-01-27T19:00:00+00:00",
          "2025-01-27T20:00:00+00:00",
          "2025-01-27T21:00:00+00:00",
          "2025-01-27T22:00:00+00:00",
          "2025-01-27T23:00:00+00:00",
          "2025-01-28T00:00:00+00:00",
          "2025-01-28T01:00:00+00:00",
          "2025-01-28T02:00:00+00:00",
          "2025-01-28T03:00:00+00:00",
          "2025-01-28T04:00:00+00:00",
          "2025-01-28T05:00:00+00:00",
          "2025-01-28T06:00:00+00:00",
          "2025-01-28T07:00:00+00:00",
          "2025-01-28T08:00:00+00:00",
          "2025-01-28T09:00:00+00:00",
          "2025-01-28T10:00:00+00:00",
          "2025-01-28T11:00:00+00:00",
          "2025-01-28T12:00:00+00:00",
          "2025-01-28T13:00:00+00:00",
          "2025-01-28T14:00:00+00:00",
          "2025-01-28T15:00:00+00:00",
          "2025-01-28T16:00:00+00:00",
          "2025-01-28T17:00:00+00:00",
          "2025-01-28T18:00:00+00:00",
          "2025-01-28T19:00:00+00:00",
          "2025-01-28T20:00:00+00:00",
          "2025-01-28T21:00:00+00:00",
          "2025-01-28T22:00:00+00:00",
          "2025-01-28T23:00:00+00:00",
          "2025-01-29T00:00:00+00:00",
          "2025-01-29T01:00:00+00:00",
          "2025-01-29T02:00:00+00:00",
          "2025-01-29T03:00:00+00:00",
          "2025-01-29T04:00:00+00:00",
          "2025-01-29T05:00:00+00:00",
          "2025-01-29T06:00:00+00:00",
          "2025-01-29T07:00:00+00:00",
          "2025-01-29T08:00:00+00:00",
          "2025-01-29T09:00:00+00:00",
          "2025-01-29T10:00:00+00:00",
          "2025-01-29T11:00:00+00:00",
          "2025-01-29T12:00:00+00:00",
          "2025-01-29T13:00:00+00:00",
          "2025-01-29T14:00:00+00:00",
          "2025-01-29T15:00:00+00:00",
          "2025-01-29T16:00:00+00:00",
          "2025-01-29T17:00:00+00:00",
          "2025-01-29T18:00:00+00:00",
          "2025-01-29T19:00:00+00:00",
          "2025-01-29T20:00:00+00:00",
          "2025-01-29T21:00:00+00:00",
          "2025-01-29T22:00:00+00:00",
          "2025-01-29T23:00:00+00:00",
          "2025-01-30T00:00:00+00:00",
          "2025-01-30T01:00:00+00:00",
          "2025-01-30T02:00:00+00:00",
          "2025-01-30T03:00:00+00:00",
          "2025-01-30T04:00:00+00:00",
          "2025-01-30T05:00:00+00:00",
          "2025-01-30T06:00:00+00:00",
          "2025-01-30T07:00:00+00:00",
          "2025-01-30T08:00:00+00:00",
          "2025-01-30T09:00:00+00:00",
          "2025-01-30T10:00:00+00:00",
          "2025-01-30T11:00:00+00:00",
          "2025-01-30T12:00:00+00:00",
          "2025-01-30T13:00:00+00:00",
          "2025-01-30T14:00:00+00:00",
          "2025-01-30T15:00:00+00:00",
          "2025-01-30T16:00:00+00:00",
          "2025-01-30T17:00:00+00:00",
          "2025-01-30T18:00:00+00:00",
          "2025-01-30T19:00:00+00:00",
          "2025-01-30T20:00:00+00:00",
          "2025-01-30T21:00:00+00:00",
          "2025-01-30T22:00:00+00:00",
          "2025-01-30T23:00:00+00:00",
          "2025-01-31T00:00:00+00:00",
          "2025-01-31T01:00:00+00:00",
          "2025-01-31T02:00:00+00:00",
          "2025-01-31T03:00:00+00:00",
          "2025-01-31T04:00:00+00:00",
          "2025-01-31T05:00:00+00:00",
          "2025-01-31T06:00:00+00:00",
          "2025-01-31T07:00:00+00:00",
          "2025-01-31T08:00:00+00:00",
          "2025-01-31T09:00:00+00:00",
          "2025-01-31T10:00:00+00:00",
          "2025-01-31T11:00:00+00:00",
          "2025-01-31T12:00:00+00:00",
          "2025-01-31T13:00:00+00:00",
          "2025-01-31T14:00:00+00:00",
          "2025-01-31T15:00:00+00:00",
          "2025-01-31T16:00:00+00:00",
          "2025-01-31T17:00:00+00:00",
          "2025-01-31T18:00:00+00:00",
          "2025-01-31T19:00:00+00:00",
          "2025-01-31T20:00:00+00:00",
          "2025-01-31T21:00:00+00:00",
          "2025-01-31T22:00:00+00:00",
          "2025-01-31T23:00:00+00:00",
          "2025-02-01T00:00:00+00:00",
          "2025-02-01T01:00:00+00:00",
          "2025-02-01T02:00:00+00:00",
          "2025-02-01T03:00:00+00:00",
          "2025-02-01T04:00:00+00:00",
          "2025-02-01T05:00:00+00:00",
          "2025-02-01T06:00:00+00:00",
          "2025-02-01T07:00:00+00:00",
          "2025-02-01T08:00:00+00:00",
          "2025-02-01T09:00:00+00:00",
          "2025-02-01T10:00:00+00:00",
          "2025-02-01T11:00:00+00:00",
          "2025-02-01T12:00:00+00:00",
          "2025-02-01T13:00:00+00:00",
          "2025-02-01T14:00:00+00:00",
          "2025-02-01T15:00:00+00:00",
          "2025-02-01T16:00:00+00:00",
          "2025-02-01T17:00:00+00:00",
          "2025-02-01T18:00:00+00:00",
          "2025-02-01T19:00:00+00:00",
          "2025-02-01T20:00:00+00:00",
          "2025-02-01T21:00:00+00:00",
          "2025-02-01T22:00:00+00:00",
          "2025-02-01T23:00:00+00:00",
          "2025-02-02T00:00:00+00:00",
          "2025-02-02T01:00:00+00:00",
          "2025-02-02T02:00:00+00:00",
          "2025-02-02T03:00:00+00:00",
          "2025-02-02T04:00:00+00:00",
          "2025-02-02T05:00:00+00:00",
          "2025-02-02T06:00:00+00:00",
          "2025-02-02T07:00:00+00:00",
          "2025-02-02T08:00:00+00:00",
          "2025-02-02T09:00:00+00:00",
          "2025-02-02T10:00:00+00:00",
          "2025-02-02T11:00:00+00:00",
          "2025-02-02T12:00:00+00:00",
          "2025-02-02T13:00:00+00:00",
          "2025-02-02T14:00:00+00:00",
          "2025-02-02T15:00:00+00:00",
          "2025-02-02T16:00:00+00:00",
          "2025-02-02T17:00:00+00:00",
          "2025-02-02T18:00:00+00:00",
          "2025-02-02T19:00:00+00:00",
          "2025-02-02T20:00:00+00:00",
          "2025-02-02T21:00:00+00:00",
          "2025-02-02T22:00:00+00:00",
          "2025-02-02T23:00:00+00:00",
          "2025-02-03T00:00:00+00:00",
          "2025-02-03T01:00:00+00:00",
          "2025-02-03T02:00:00+00:00",
          "2025-02-03T03:00:00+00:00",
          "2025-02-03T04:00:00+00:00",
          "2025-02-03T05:00:00+00:00",
          "2025-02-03T06:00:00+00:00",
          "2025-02-03T07:00:00+00:00",
          "2025-02-03T08:00:00+00:00",
          "2025-02-03T09:00:00+00:00",
          "2025-02-03T10:00:00+00:00",
          "2025-02-03T11:00:00+00:00",
          "2025-02-03T12:00:00+00:00",
          "2025-02-03T13:00:00+00:00",
          "2025-02-03T14:00:00+00:00",
          "2025-02-03T15:00:00+00:00",
          "2025-02-03T16:00:00+00:00",
          "2025-02-03T17:00:00+00:00",
          "2025-02-03T18:00:00+00:00",
          "2025-02-03T19:00:00+00:00",
          "2025-02-03T20:00:00+00:00",
          "2025-02-03T21:00:00+00:00",
          "2025-02-03T22:00:00+00:00",
          "2025-02-03T23:00:00+00:00",
          "2025-02-04T00:00:00+00:00",
          "2025-02-04T01:00:00+00:00",
          "2025-02-04T02:00:00+00:00",
          "2025-02-04T03:00:00+00:00",
          "2025-02-04T04:00:00+00:00",
          "2025-02-04T05:00:00+00:00",
          "2025-02-04T06:00:00+00:00",
          "2025-02-04T07:00:00+00:00",
          "2025-02-04T08:00:00+00:00",
          "2025-02-04T09:00:00+00:00",
          "2025-02-04T10:00:00+00:00",
          "2025-02-04T11:00:00+00:00",
          "2025-02-04T12:00:00+00:00",
          "2025-02-04T13:00:00+00:00",
          "2025-02-04T14:00:00+00:00",
          "2025-02-04T15:00:00+00:00",
          "2025-02-04T16:00:00+00:00",
          "2025-02-04T17:00:00+00:00",
          "2025-02-04T18:00:00+00:00",
          "2025-02-04T19:00:00+00:00",
          "2025-02-04T20:00:00+00:00",
          "2025-02-04T21:00:00+00:00",
          "2025-02-04T22:00:00+00:00",
          "2025-02-04T23:00:00+00:00",
          "2025-02-05T00:00:00+00:00",
          "2025-02-05T01:00:00+00:00",
          "2025-02-05T02:00:00+00:00",
          "2025-02-05T03:00:00+00:00",
          "2025-02-05T04:00:00+00:00",
          "2025-02-05T05:00:00+00:00",
          "2025-02-05T06:00:00+00:00",
          "2025-02-05T07:00:00+00:00",
          "2025-02-05T08:00:00+00:00",
          "2025-02-05T09:00:00+00:00",
          "2025-02-05T10:00:00+00:00",
          "2025-02-05T11:00:00+00:00",
          "2025-02-05T12:00:00+00:00",
          "2025-02-05T13:00:00+00:00",
          "2025-02-05T14:00:00+00:00",
          "2025-02-05T15:00:00+00:00",
          "2025-02-05T16:00:00+00:00",
          "2025-02-05T17:00:00+00:00",
          "2025-02-05T18:00:00+00:00",
          "2025-02-05T19:00:00+00:00",
          "2025-02-05T20:00:00+00:00",
          "2025-02-05T21:00:00+00:00",
          "2025-02-05T22:00:00+00:00",
          "2025-02-05T23:00:00+00:00",
          "2025-02-06T00:00:00+00:00",
          "2025-02-06T01:00:00+00:00",
          "2025-02-06T02:00:00+00:00",
          "2025-02-06T03:00:00+00:00",
          "2025-02-06T04:00:00+00:00",
          "2025-02-06T05:00:00+00:00",
          "2025-02-06T06:00:00+00:00",
          "2025-02-06T07:00:00+00:00",
          "2025-02-06T08:00:00+00:00",
          "2025-02-06T09:00:00+00:00",
          "2025-02-06T10:00:00+00:00",
          "2025-02-06T11:00:00+00:00",
          "2025-02-06T12:00:00+00:00",
          "2025-02-06T13:00:00+00:00",
          "2025-02-06T14:00:00+00:00",
          "2025-02-06T15:00:00+00:00",
          "2025-02-06T16:00:00+00:00",
          "2025-02-06T17:00:00+00:00",
          "2025-02-06T18:00:00+00:00",
          "2025-02-06T19:00:00+00:00",
          "2025-02-06T20:00:00+00:00",
          "2025-02-06T21:00:00+00:00",
          "2025-02-06T22:00:00+00:00",
          "2025-02-06T23:00:00+00:00",
          "2025-02-07T00:00:00+00:00",
          "2025-02-07T01:00:00+00:00",
          "2025-02-07T02:00:00+00:00",
          "2025-02-07T03:00:00+00:00",
          "2025-02-07T04:00:00+00:00",
          "2025-02-07T05:00:00+00:00",
          "2025-02-07T06:00:00+00:00",
          "2025-02-07T07:00:00+00:00",
          "2025-02-07T08:00:00+00:00",
          "2025-02-07T09:00:00+00:00",
          "2025-02-07T10:00:00+00:00",
          "2025-02-07T11:00:00+00:00",
          "2025-02-07T12:00:00+00:00",
          "2025-02-07T13:00:00+00:00",
          "2025-02-07T14:00:00+00:00",
          "2025-02-07T15:00:00+00:00",
          "2025-02-07T16:00:00+00:00",
          "2025-02-07T17:00:00+00:00",
          "2025-02-07T18:00:00+00:00",
          "2025-02-07T19:00:00+00:00",
          "2025-02-07T20:00:00+00:00",
          "2025-02-07T21:00:00+00:00",
          "2025-02-07T22:00:00+00:00",
          "2025-02-07T23:00:00+00:00",
          "2025-02-08T00:00:00+00:00",
          "2025-02-08T01:00:00+00:00",
          "2025-02-08T02:00:00+00:00",
          "2025-02-08T03:00:00+00:00",
          "2025-02-08T04:00:00+00:00",
          "2025-02-08T05:00:00+00:00",
          "2025-02-08T06:00:00+00:00",
          "2025-02-08T07:00:00+00:00",
          "2025-02-08T08:00:00+00:00",
          "2025-02-08T09:00:00+00:00",
          "2025-02-08T10:00:00+00:00",
          "2025-02-08T11:00:00+00:00",
          "2025-02-08T12:00:00+00:00",
          "2025-02-08T13:00:00+00:00",
          "2025-02-08T14:00:00+00:00",
          "2025-02-08T15:00:00+00:00",
          "2025-02-08T16:00:00+00:00",
          "2025-02-08T17:00:00+00:00",
          "2025-02-08T18:00:00+00:00",
          "2025-02-08T19:00:00+00:00",
          "2025-02-08T20:00:00+00:00",
          "2025-02-08T21:00:00+00:00",
          "2025-02-08T22:00:00+00:00",
          "2025-02-08T23:00:00+00:00",
          "2025-02-09T00:00:00+00:00",
          "2025-02-09T01:00:00+00:00",
          "2025-02-09T02:00:00+00:00",
          "2025-02-09T03:00:00+00:00",
          "2025-02-09T04:00:00+00:00",
          "2025-02-09T05:00:00+00:00",
          "2025-02-09T06:00:00+00:00",
          "2025-02-09T07:00:00+00:00",
          "2025-02-09T08:00:00+00:00",
          "2025-02-09T09:00:00+00:00",
          "2025-02-09T10:00:00+00:00",
          "2025-02-09T11:00:00+00:00",
          "2025-02-09T12:00:00+00:00",
          "2025-02-09T13:00:00+00:00",
          "2025-02-09T14:00:00+00:00",
          "2025-02-09T15:00:00+00:00",
          "2025-02-09T16:00:00+00:00",
          "2025-02-09T17:00:00+00:00",
          "2025-02-09T18:00:00+00:00",
          "2025-02-09T19:00:00+00:00",
          "2025-02-09T20:00:00+00:00",
          "2025-02-09T21:00:00+00:00",
          "2025-02-09T22:00:00+00:00",
          "2025-02-09T23:00:00+00:00",
          "2025-02-10T00:00:00+00:00",
          "2025-02-10T01:00:00+00:00",
          "2025-02-10T02:00:00+00:00",
          "2025-02-10T03:00:00+00:00",
          "2025-02-10T04:00:00+00:00",
          "2025-02-10T05:00:00+00:00",
          "2025-02-10T06:00:00+00:00",
          "2025-02-10T07:00:00+00:00",
          "2025-02-10T08:00:00+00:00",
          "2025-02-10T09:00:00+00:00",
          "2025-02-10T10:00:00+00:00",
          "2025-02-10T11:00:00+00:00",
          "2025-02-10T12:00:00+00:00",
          "2025-02-10T13:00:00+00:00",
          "2025-02-10T14:00:00+00:00",
          "2025-02-10T15:00:00+00:00",
          "2025-02-10T16:00:00+00:00",
          "2025-02-10T17:00:00+00:00",
          "2025-02-10T18:00:00+00:00",
          "2025-02-10T19:00:00+00:00",
          "2025-02-10T20:00:00+00:00",
          "2025-02-10T21:00:00+00:00",
          "2025-02-10T22:00:00+00:00",
          "2025-02-10T23:00:00+00:00",
          "2025-02-11T00:00:00+00:00",
          "2025-02-11T01:00:00+00:00",
          "2025-02-11T02:00:00+00:00",
          "2025-02-11T03:00:00+00:00",
          "2025-02-11T04:00:00+00:00",
          "2025-02-11T05:00:00+00:00",
          "2025-02-11T06:00:00+00:00",
          "2025-02-11T07:00:00+00:00",
          "2025-02-11T08:00:00+00:00",
          "2025-02-11T09:00:00+00:00",
          "2025-02-11T10:00:00+00:00",
          "2025-02-11T11:00:00+00:00",
          "2025-02-11T12:00:00+00:00",
          "2025-02-11T13:00:00+00:00",
          "2025-02-11T14:00:00+00:00",
          "2025-02-11T15:00:00+00:00",
          "2025-02-11T16:00:00+00:00",
          "2025-02-11T17:00:00+00:00",
          "2025-02-11T18:00:00+00:00",
          "2025-02-11T19:00:00+00:00",
          "2025-02-11T20:00:00+00:00",
          "2025-02-11T21:00:00+00:00",
          "2025-02-11T22:00:00+00:00",
          "2025-02-11T23:00:00+00:00",
          "2025-02-12T00:00:00+00:00",
          "2025-02-12T01:00:00+00:00",
          "2025-02-12T02:00:00+00:00",
          "2025-02-12T03:00:00+00:00",
          "2025-02-12T04:00:00+00:00",
          "2025-02-12T05:00:00+00:00",
          "2025-02-12T06:00:00+00:00",
          "2025-02-12T07:00:00+00:00",
          "2025-02-12T08:00:00+00:00",
          "2025-02-12T09:00:00+00:00",
          "2025-02-12T10:00:00+00:00",
          "2025-02-12T11:00:00+00:00",
          "2025-02-12T12:00:00+00:00",
          "2025-02-12T13:00:00+00:00",
          "2025-02-12T14:00:00+00:00",
          "2025-02-12T15:00:00+00:00",
          "2025-02-12T16:00:00+00:00",
          "2025-02-12T17:00:00+00:00",
          "2025-02-12T18:00:00+00:00",
          "2025-02-12T19:00:00+00:00",
          "2025-02-12T20:00:00+00:00",
          "2025-02-12T21:00:00+00:00",
          "2025-02-12T22:00:00+00:00",
          "2025-02-12T23:00:00+00:00",
          "2025-02-13T00:00:00+00:00",
          "2025-02-13T01:00:00+00:00",
          "2025-02-13T02:00:00+00:00",
          "2025-02-13T03:00:00+00:00",
          "2025-02-13T04:00:00+00:00",
          "2025-02-13T05:00:00+00:00",
          "2025-02-13T06:00:00+00:00",
          "2025-02-13T07:00:00+00:00",
          "2025-02-13T08:00:00+00:00",
          "2025-02-13T09:00:00+00:00",
          "2025-02-13T10:00:00+00:00",
          "2025-02-13T11:00:00+00:00",
          "2025-02-13T12:00:00+00:00",
          "2025-02-13T13:00:00+00:00",
          "2025-02-13T14:00:00+00:00",
          "2025-02-13T15:00:00+00:00",
          "2025-02-13T16:00:00+00:00",
          "2025-02-13T17:00:00+00:00",
          "2025-02-13T18:00:00+00:00",
          "2025-02-13T19:00:00+00:00",
          "2025-02-13T20:00:00+00:00",
          "2025-02-13T21:00:00+00:00",
          "2025-02-13T22:00:00+00:00",
          "2025-02-13T23:00:00+00:00",
          "2025-02-14T00:00:00+00:00",
          "2025-02-14T01:00:00+00:00",
          "2025-02-14T02:00:00+00:00",
          "2025-02-14T03:00:00+00:00",
          "2025-02-14T04:00:00+00:00",
          "2025-02-14T05:00:00+00:00",
          "2025-02-14T06:00:00+00:00",
          "2025-02-14T07:00:00+00:00",
          "2025-02-14T08:00:00+00:00",
          "2025-02-14T09:00:00+00:00",
          "2025-02-14T10:00:00+00:00",
          "2025-02-14T11:00:00+00:00",
          "2025-02-14T12:00:00+00:00",
          "2025-02-14T13:00:00+00:00",
          "2025-02-14T14:00:00+00:00",
          "2025-02-14T15:00:00+00:00",
          "2025-02-14T16:00:00+00:00",
          "2025-02-14T17:00:00+00:00",
          "2025-02-14T18:00:00+00:00",
          "2025-02-14T19:00:00+00:00",
          "2025-02-14T20:00:00+00:00",
          "2025-02-14T21:00:00+00:00",
          "2025-02-14T22:00:00+00:00",
          "2025-02-14T23:00:00+00:00",
          "2025-02-15T00:00:00+00:00",
          "2025-02-15T01:00:00+00:00",
          "2025-02-15T02:00:00+00:00",
          "2025-02-15T03:00:00+00:00",
          "2025-02-15T04:00:00+00:00",
          "2025-02-15T05:00:00+00:00",
          "2025-02-15T06:00:00+00:00",
          "2025-02-15T07:00:00+00:00",
          "2025-02-15T08:00:00+00:00",
          "2025-02-15T09:00:00+00:00",
          "2025-02-15T10:00:00+00:00",
          "2025-02-15T11:00:00+00:00",
          "2025-02-15T12:00:00+00:00",
          "2025-02-15T13:00:00+00:00",
          "2025-02-15T14:00:00+00:00",
          "2025-02-15T15:00:00+00:00",
          "2025-02-15T16:00:00+00:00",
          "2025-02-15T17:00:00+00:00",
          "2025-02-15T18:00:00+00:00",
          "2025-02-15T19:00:00+00:00",
          "2025-02-15T20:00:00+00:00",
          "2025-02-15T21:00:00+00:00",
          "2025-02-15T22:00:00+00:00",
          "2025-02-15T23:00:00+00:00",
          "2025-02-16T00:00:00+00:00",
          "2025-02-16T01:00:00+00:00",
          "2025-02-16T02:00:00+00:00",
          "2025-02-16T03:00:00+00:00",
          "2025-02-16T04:00:00+00:00",
          "2025-02-16T05:00:00+00:00",
          "2025-02-16T06:00:00+00:00",
          "2025-02-16T07:00:00+00:00",
          "2025-02-16T08:00:00+00:00",
          "2025-02-16T09:00:00+00:00",
          "2025-02-16T10:00:00+00:00",
          "2025-02-16T11:00:00+00:00",
          "2025-02-16T12:00:00+00:00",
          "2025-02-16T13:00:00+00:00",
          "2025-02-16T14:00:00+00:00",
          "2025-02-16T15:00:00+00:00",
          "2025-02-16T16:00:00+00:00",
          "2025-02-16T17:00:00+00:00",
          "2025-02-16T18:00:00+00:00",
          "2025-02-16T19:00:00+00:00",
          "2025-02-16T20:00:00+00:00",
          "2025-02-16T21:00:00+00:00",
          "2025-02-16T22:00:00+00:00",
          "2025-02-16T23:00:00+00:00",
          "2025-02-17T00:00:00+00:00",
          "2025-02-17T01:00:00+00:00",
          "2025-02-17T02:00:00+00:00",
          "2025-02-17T03:00:00+00:00",
          "2025-02-17T04:00:00+00:00",
          "2025-02-17T05:00:00+00:00",
          "2025-02-17T06:00:00+00:00",
          "2025-02-17T07:00:00+00:00",
          "2025-02-17T08:00:00+00:00",
          "2025-02-17T09:00:00+00:00",
          "2025-02-17T10:00:00+00:00",
          "2025-02-17T11:00:00+00:00",
          "2025-02-17T12:00:00+00:00",
          "2025-02-17T13:00:00+00:00",
          "2025-02-17T14:00:00+00:00",
          "2025-02-17T15:00:00+00:00",
          "2025-02-17T16:00:00+00:00",
          "2025-02-17T17:00:00+00:00",
          "2025-02-17T18:00:00+00:00",
          "2025-02-17T19:00:00+00:00",
          "2025-02-17T20:00:00+00:00",
          "2025-02-17T21:00:00+00:00",
          "2025-02-17T22:00:00+00:00",
          "2025-02-17T23:00:00+00:00",
          "2025-02-18T00:00:00+00:00",
          "2025-02-18T01:00:00+00:00",
          "2025-02-18T02:00:00+00:00",
          "2025-02-18T03:00:00+00:00",
          "2025-02-18T04:00:00+00:00",
          "2025-02-18T05:00:00+00:00",
          "2025-02-18T06:00:00+00:00",
          "2025-02-18T07:00:00+00:00",
          "2025-02-18T08:00:00+00:00",
          "2025-02-18T09:00:00+00:00",
          "2025-02-18T10:00:00+00:00",
          "2025-02-18T11:00:00+00:00",
          "2025-02-18T12:00:00+00:00",
          "2025-02-18T13:00:00+00:00",
          "2025-02-18T14:00:00+00:00",
          "2025-02-18T15:00:00+00:00",
          "2025-02-18T16:00:00+00:00",
          "2025-02-18T17:00:00+00:00",
          "2025-02-18T18:00:00+00:00",
          "2025-02-18T19:00:00+00:00",
          "2025-02-18T20:00:00+00:00",
          "2025-02-18T21:00:00+00:00",
          "2025-02-18T22:00:00+00:00",
          "2025-02-18T23:00:00+00:00",
          "2025-02-19T00:00:00+00:00",
          "2025-02-19T01:00:00+00:00",
          "2025-02-19T02:00:00+00:00",
          "2025-02-19T03:00:00+00:00",
          "2025-02-19T04:00:00+00:00",
          "2025-02-19T05:00:00+00:00",
          "2025-02-19T06:00:00+00:00",
          "2025-02-19T07:00:00+00:00",
          "2025-02-19T08:00:00+00:00",
          "2025-02-19T09:00:00+00:00",
          "2025-02-19T10:00:00+00:00",
          "2025-02-19T11:00:00+00:00",
          "2025-02-19T12:00:00+00:00",
          "2025-02-19T13:00:00+00:00",
          "2025-02-19T14:00:00+00:00",
          "2025-02-19T15:00:00+00:00",
          "2025-02-19T16:00:00+00:00",
          "2025-02-19T17:00:00+00:00",
          "2025-02-19T18:00:00+00:00",
          "2025-02-19T19:00:00+00:00",
          "2025-02-19T20:00:00+00:00",
          "2025-02-19T21:00:00+00:00",
          "2025-02-19T22:00:00+00:00",
          "2025-02-19T23:00:00+00:00",
          "2025-02-20T00:00:00+00:00",
          "2025-02-20T01:00:00+00:00",
          "2025-02-20T02:00:00+00:00",
          "2025-02-20T03:00:00+00:00",
          "2025-02-20T04:00:00+00:00",
          "2025-02-20T05:00:00+00:00",
          "2025-02-20T06:00:00+00:00",
          "2025-02-20T07:00:00+00:00",
          "2025-02-20T08:00:00+00:00",
          "2025-02-20T09:00:00+00:00",
          "2025-02-20T10:00:00+00:00",
          "2025-02-20T11:00:00+00:00",
          "2025-02-20T12:00:00+00:00",
          "2025-02-20T13:00:00+00:00",
          "2025-02-20T14:00:00+00:00",
          "2025-02-20T15:00:00+00:00",
          "2025-02-20T16:00:00+00:00",
          "2025-02-20T17:00:00+00:00",
          "2025-02-20T18:00:00+00:00",
          "2025-02-20T19:00:00+00:00",
          "2025-02-20T20:00:00+00:00",
          "2025-02-20T21:00:00+00:00",
          "2025-02-20T22:00:00+00:00",
          "2025-02-20T23:00:00+00:00",
          "2025-02-21T00:00:00+00:00",
          "2025-02-21T01:00:00+00:00",
          "2025-02-21T02:00:00+00:00",
          "2025-02-21T03:00:00+00:00",
          "2025-02-21T04:00:00+00:00",
          "2025-02-21T05:00:00+00:00",
          "2025-02-21T06:00:00+00:00",
          "2025-02-21T07:00:00+00:00",
          "2025-02-21T08:00:00+00:00",
          "2025-02-21T09:00:00+00:00",
          "2025-02-21T10:00:00+00:00",
          "2025-02-21T11:00:00+00:00",
          "2025-02-21T12:00:00+00:00",
          "2025-02-21T13:00:00+00:00",
          "2025-02-21T14:00:00+00:00",
          "2025-02-21T15:00:00+00:00",
          "2025-02-21T16:00:00+00:00",
          "2025-02-21T17:00:00+00:00",
          "2025-02-21T18:00:00+00:00",
          "2025-02-21T19:00:00+00:00",
          "2025-02-21T20:00:00+00:00",
          "2025-02-21T21:00:00+00:00",
          "2025-02-21T22:00:00+00:00",
          "2025-02-21T23:00:00+00:00",
          "2025-02-22T00:00:00+00:00",
          "2025-02-22T01:00:00+00:00",
          "2025-02-22T02:00:00+00:00",
          "2025-02-22T03:00:00+00:00",
          "2025-02-22T04:00:00+00:00",
          "2025-02-22T05:00:00+00:00",
          "2025-02-22T06:00:00+00:00",
          "2025-02-22T07:00:00+00:00",
          "2025-02-22T08:00:00+00:00",
          "2025-02-22T09:00:00+00:00",
          "2025-02-22T10:00:00+00:00",
          "2025-02-22T11:00:00+00:00",
          "2025-02-22T12:00:00+00:00",
          "2025-02-22T13:00:00+00:00",
          "2025-02-22T14:00:00+00:00",
          "2025-02-22T15:00:00+00:00",
          "2025-02-22T16:00:00+00:00",
          "2025-02-22T17:00:00+00:00",
          "2025-02-22T18:00:00+00:00",
          "2025-02-22T19:00:00+00:00",
          "2025-02-22T20:00:00+00:00",
          "2025-02-22T21:00:00+00:00",
          "2025-02-22T22:00:00+00:00",
          "2025-02-22T23:00:00+00:00",
          "2025-02-23T00:00:00+00:00",
          "2025-02-23T01:00:00+00:00",
          "2025-02-23T02:00:00+00:00",
          "2025-02-23T03:00:00+00:00",
          "2025-02-23T04:00:00+00:00",
          "2025-02-23T05:00:00+00:00",
          "2025-02-23T06:00:00+00:00",
          "2025-02-23T07:00:00+00:00",
          "2025-02-23T08:00:00+00:00",
          "2025-02-23T09:00:00+00:00",
          "2025-02-23T10:00:00+00:00",
          "2025-02-23T11:00:00+00:00",
          "2025-02-23T12:00:00+00:00",
          "2025-02-23T13:00:00+00:00",
          "2025-02-23T14:00:00+00:00",
          "2025-02-23T15:00:00+00:00",
          "2025-02-23T16:00:00+00:00",
          "2025-02-23T17:00:00+00:00",
          "2025-02-23T18:00:00+00:00",
          "2025-02-23T19:00:00+00:00",
          "2025-02-23T20:00:00+00:00"
         ],
         "xaxis": "x",
         "y": {
          "bdata": "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",
          "dtype": "f8"
         },
         "yaxis": "y"
        }
       ],
       "layout": {
        "annotations": [
         {
          "align": "center",
          "font": {
           "color": "black",
           "size": 12
          },
          "showarrow": false,
          "text": "Feb. 23, 2025",
          "x": 0.05,
          "xref": "paper",
          "y": 1.02,
          "yref": "paper"
         }
        ],
        "autosize": true,
        "font": {
         "color": "black",
         "family": "IBM Plex Mono",
         "size": 16
        },
        "height": 351,
        "legend": {
         "bgcolor": "white",
         "bordercolor": "black",
         "borderwidth": 1,
         "font": {
          "color": "black",
          "family": "IBM Plex Mono",
          "size": 12
         },
         "itemsizing": "constant",
         "orientation": "v",
         "traceorder": "reversed",
         "x": 0.2,
         "xanchor": "center",
         "y": 0.9,
         "yanchor": "top"
        },
        "margin": {
         "b": 0,
         "l": 0,
         "r": 0,
         "t": 25
        },
        "paper_bgcolor": "rgba(0,0,0,0)",
        "plot_bgcolor": "rgba(0,0,0,0)",
        "template": {
         "data": {
          "bar": [
           {
            "error_x": {
             "color": "#2a3f5f"
            },
            "error_y": {
             "color": "#2a3f5f"
            },
            "marker": {
             "line": {
              "color": "#E5ECF6",
              "width": 0.5
             },
             "pattern": {
              "fillmode": "overlay",
              "size": 10,
              "solidity": 0.2
             }
            },
            "type": "bar"
           }
          ],
          "barpolar": [
           {
            "marker": {
             "line": {
              "color": "#E5ECF6",
              "width": 0.5
             },
             "pattern": {
              "fillmode": "overlay",
              "size": 10,
              "solidity": 0.2
             }
            },
            "type": "barpolar"
           }
          ],
          "carpet": [
           {
            "aaxis": {
             "endlinecolor": "#2a3f5f",
             "gridcolor": "white",
             "linecolor": "white",
             "minorgridcolor": "white",
             "startlinecolor": "#2a3f5f"
            },
            "baxis": {
             "endlinecolor": "#2a3f5f",
             "gridcolor": "white",
             "linecolor": "white",
             "minorgridcolor": "white",
             "startlinecolor": "#2a3f5f"
            },
            "type": "carpet"
           }
          ],
          "choropleth": [
           {
            "colorbar": {
             "outlinewidth": 0,
             "ticks": ""
            },
            "type": "choropleth"
           }
          ],
          "contour": [
           {
            "colorbar": {
             "outlinewidth": 0,
             "ticks": ""
            },
            "colorscale": [
             [
              0,
              "#0d0887"
             ],
             [
              0.1111111111111111,
              "#46039f"
             ],
             [
              0.2222222222222222,
              "#7201a8"
             ],
             [
              0.3333333333333333,
              "#9c179e"
             ],
             [
              0.4444444444444444,
              "#bd3786"
             ],
             [
              0.5555555555555556,
              "#d8576b"
             ],
             [
              0.6666666666666666,
              "#ed7953"
             ],
             [
              0.7777777777777778,
              "#fb9f3a"
             ],
             [
              0.8888888888888888,
              "#fdca26"
             ],
             [
              1,
              "#f0f921"
             ]
            ],
            "type": "contour"
           }
          ],
          "contourcarpet": [
           {
            "colorbar": {
             "outlinewidth": 0,
             "ticks": ""
            },
            "type": "contourcarpet"
           }
          ],
          "heatmap": [
           {
            "colorbar": {
             "outlinewidth": 0,
             "ticks": ""
            },
            "colorscale": [
             [
              0,
              "#0d0887"
             ],
             [
              0.1111111111111111,
              "#46039f"
             ],
             [
              0.2222222222222222,
              "#7201a8"
             ],
             [
              0.3333333333333333,
              "#9c179e"
             ],
             [
              0.4444444444444444,
              "#bd3786"
             ],
             [
              0.5555555555555556,
              "#d8576b"
             ],
             [
              0.6666666666666666,
              "#ed7953"
             ],
             [
              0.7777777777777778,
              "#fb9f3a"
             ],
             [
              0.8888888888888888,
              "#fdca26"
             ],
             [
              1,
              "#f0f921"
             ]
            ],
            "type": "heatmap"
           }
          ],
          "histogram": [
           {
            "marker": {
             "pattern": {
              "fillmode": "overlay",
              "size": 10,
              "solidity": 0.2
             }
            },
            "type": "histogram"
           }
          ],
          "histogram2d": [
           {
            "colorbar": {
             "outlinewidth": 0,
             "ticks": ""
            },
            "colorscale": [
             [
              0,
              "#0d0887"
             ],
             [
              0.1111111111111111,
              "#46039f"
             ],
             [
              0.2222222222222222,
              "#7201a8"
             ],
             [
              0.3333333333333333,
              "#9c179e"
             ],
             [
              0.4444444444444444,
              "#bd3786"
             ],
             [
              0.5555555555555556,
              "#d8576b"
             ],
             [
              0.6666666666666666,
              "#ed7953"
             ],
             [
              0.7777777777777778,
              "#fb9f3a"
             ],
             [
              0.8888888888888888,
              "#fdca26"
             ],
             [
              1,
              "#f0f921"
             ]
            ],
            "type": "histogram2d"
           }
          ],
          "histogram2dcontour": [
           {
            "colorbar": {
             "outlinewidth": 0,
             "ticks": ""
            },
            "colorscale": [
             [
              0,
              "#0d0887"
             ],
             [
              0.1111111111111111,
              "#46039f"
             ],
             [
              0.2222222222222222,
              "#7201a8"
             ],
             [
              0.3333333333333333,
              "#9c179e"
             ],
             [
              0.4444444444444444,
              "#bd3786"
             ],
             [
              0.5555555555555556,
              "#d8576b"
             ],
             [
              0.6666666666666666,
              "#ed7953"
             ],
             [
              0.7777777777777778,
              "#fb9f3a"
             ],
             [
              0.8888888888888888,
              "#fdca26"
             ],
             [
              1,
              "#f0f921"
             ]
            ],
            "type": "histogram2dcontour"
           }
          ],
          "mesh3d": [
           {
            "colorbar": {
             "outlinewidth": 0,
             "ticks": ""
            },
            "type": "mesh3d"
           }
          ],
          "parcoords": [
           {
            "line": {
             "colorbar": {
              "outlinewidth": 0,
              "ticks": ""
             }
            },
            "type": "parcoords"
           }
          ],
          "pie": [
           {
            "automargin": true,
            "type": "pie"
           }
          ],
          "scatter": [
           {
            "fillpattern": {
             "fillmode": "overlay",
             "size": 10,
             "solidity": 0.2
            },
            "type": "scatter"
           }
          ],
          "scatter3d": [
           {
            "line": {
             "colorbar": {
              "outlinewidth": 0,
              "ticks": ""
             }
            },
            "marker": {
             "colorbar": {
              "outlinewidth": 0,
              "ticks": ""
             }
            },
            "type": "scatter3d"
           }
          ],
          "scattercarpet": [
           {
            "marker": {
             "colorbar": {
              "outlinewidth": 0,
              "ticks": ""
             }
            },
            "type": "scattercarpet"
           }
          ],
          "scattergeo": [
           {
            "marker": {
             "colorbar": {
              "outlinewidth": 0,
              "ticks": ""
             }
            },
            "type": "scattergeo"
           }
          ],
          "scattergl": [
           {
            "marker": {
             "colorbar": {
              "outlinewidth": 0,
              "ticks": ""
             }
            },
            "type": "scattergl"
           }
          ],
          "scattermap": [
           {
            "marker": {
             "colorbar": {
              "outlinewidth": 0,
              "ticks": ""
             }
            },
            "type": "scattermap"
           }
          ],
          "scattermapbox": [
           {
            "marker": {
             "colorbar": {
              "outlinewidth": 0,
              "ticks": ""
             }
            },
            "type": "scattermapbox"
           }
          ],
          "scatterpolar": [
           {
            "marker": {
             "colorbar": {
              "outlinewidth": 0,
              "ticks": ""
             }
            },
            "type": "scatterpolar"
           }
          ],
          "scatterpolargl": [
           {
            "marker": {
             "colorbar": {
              "outlinewidth": 0,
              "ticks": ""
             }
            },
            "type": "scatterpolargl"
           }
          ],
          "scatterternary": [
           {
            "marker": {
             "colorbar": {
              "outlinewidth": 0,
              "ticks": ""
             }
            },
            "type": "scatterternary"
           }
          ],
          "surface": [
           {
            "colorbar": {
             "outlinewidth": 0,
             "ticks": ""
            },
            "colorscale": [
             [
              0,
              "#0d0887"
             ],
             [
              0.1111111111111111,
              "#46039f"
             ],
             [
              0.2222222222222222,
              "#7201a8"
             ],
             [
              0.3333333333333333,
              "#9c179e"
             ],
             [
              0.4444444444444444,
              "#bd3786"
             ],
             [
              0.5555555555555556,
              "#d8576b"
             ],
             [
              0.6666666666666666,
              "#ed7953"
             ],
             [
              0.7777777777777778,
              "#fb9f3a"
             ],
             [
              0.8888888888888888,
              "#fdca26"
             ],
             [
              1,
              "#f0f921"
             ]
            ],
            "type": "surface"
           }
          ],
          "table": [
           {
            "cells": {
             "fill": {
              "color": "#EBF0F8"
             },
             "line": {
              "color": "white"
             }
            },
            "header": {
             "fill": {
              "color": "#C8D4E3"
             },
             "line": {
              "color": "white"
             }
            },
            "type": "table"
           }
          ]
         },
         "layout": {
          "annotationdefaults": {
           "arrowcolor": "#2a3f5f",
           "arrowhead": 0,
           "arrowwidth": 1
          },
          "autotypenumbers": "strict",
          "coloraxis": {
           "colorbar": {
            "outlinewidth": 0,
            "ticks": ""
           }
          },
          "colorscale": {
           "diverging": [
            [
             0,
             "#8e0152"
            ],
            [
             0.1,
             "#c51b7d"
            ],
            [
             0.2,
             "#de77ae"
            ],
            [
             0.3,
             "#f1b6da"
            ],
            [
             0.4,
             "#fde0ef"
            ],
            [
             0.5,
             "#f7f7f7"
            ],
            [
             0.6,
             "#e6f5d0"
            ],
            [
             0.7,
             "#b8e186"
            ],
            [
             0.8,
             "#7fbc41"
            ],
            [
             0.9,
             "#4d9221"
            ],
            [
             1,
             "#276419"
            ]
           ],
           "sequential": [
            [
             0,
             "#0d0887"
            ],
            [
             0.1111111111111111,
             "#46039f"
            ],
            [
             0.2222222222222222,
             "#7201a8"
            ],
            [
             0.3333333333333333,
             "#9c179e"
            ],
            [
             0.4444444444444444,
             "#bd3786"
            ],
            [
             0.5555555555555556,
             "#d8576b"
            ],
            [
             0.6666666666666666,
             "#ed7953"
            ],
            [
             0.7777777777777778,
             "#fb9f3a"
            ],
            [
             0.8888888888888888,
             "#fdca26"
            ],
            [
             1,
             "#f0f921"
            ]
           ],
           "sequentialminus": [
            [
             0,
             "#0d0887"
            ],
            [
             0.1111111111111111,
             "#46039f"
            ],
            [
             0.2222222222222222,
             "#7201a8"
            ],
            [
             0.3333333333333333,
             "#9c179e"
            ],
            [
             0.4444444444444444,
             "#bd3786"
            ],
            [
             0.5555555555555556,
             "#d8576b"
            ],
            [
             0.6666666666666666,
             "#ed7953"
            ],
            [
             0.7777777777777778,
             "#fb9f3a"
            ],
            [
             0.8888888888888888,
             "#fdca26"
            ],
            [
             1,
             "#f0f921"
            ]
           ]
          },
          "colorway": [
           "#636efa",
           "#EF553B",
           "#00cc96",
           "#ab63fa",
           "#FFA15A",
           "#19d3f3",
           "#FF6692",
           "#B6E880",
           "#FF97FF",
           "#FECB52"
          ],
          "font": {
           "color": "#2a3f5f",
           "family": "IBM Plex Mono"
          },
          "geo": {
           "bgcolor": "white",
           "lakecolor": "white",
           "landcolor": "#E5ECF6",
           "showlakes": true,
           "showland": true,
           "subunitcolor": "white"
          },
          "hoverlabel": {
           "align": "left"
          },
          "hovermode": "closest",
          "mapbox": {
           "style": "light"
          },
          "paper_bgcolor": "white",
          "plot_bgcolor": "#E5ECF6",
          "polar": {
           "angularaxis": {
            "gridcolor": "white",
            "linecolor": "white",
            "ticks": ""
           },
           "bgcolor": "#E5ECF6",
           "radialaxis": {
            "gridcolor": "white",
            "linecolor": "white",
            "ticks": ""
           }
          },
          "scene": {
           "xaxis": {
            "backgroundcolor": "#E5ECF6",
            "gridcolor": "white",
            "gridwidth": 2,
            "linecolor": "white",
            "showbackground": true,
            "ticks": "",
            "zerolinecolor": "white"
           },
           "yaxis": {
            "backgroundcolor": "#E5ECF6",
            "gridcolor": "white",
            "gridwidth": 2,
            "linecolor": "white",
            "showbackground": true,
            "ticks": "",
            "zerolinecolor": "white"
           },
           "zaxis": {
            "backgroundcolor": "#E5ECF6",
            "gridcolor": "white",
            "gridwidth": 2,
            "linecolor": "white",
            "showbackground": true,
            "ticks": "",
            "zerolinecolor": "white"
           }
          },
          "shapedefaults": {
           "line": {
            "color": "#2a3f5f"
           }
          },
          "ternary": {
           "aaxis": {
            "gridcolor": "white",
            "linecolor": "white",
            "ticks": ""
           },
           "baxis": {
            "gridcolor": "white",
            "linecolor": "white",
            "ticks": ""
           },
           "bgcolor": "#E5ECF6",
           "caxis": {
            "gridcolor": "white",
            "linecolor": "white",
            "ticks": ""
           }
          },
          "title": {
           "x": 0.05
          },
          "xaxis": {
           "automargin": true,
           "gridcolor": "white",
           "linecolor": "white",
           "ticks": "",
           "title": {
            "standoff": 15
           },
           "zerolinecolor": "white",
           "zerolinewidth": 2
          },
          "yaxis": {
           "automargin": true,
           "gridcolor": "white",
           "linecolor": "white",
           "ticks": "",
           "title": {
            "standoff": 15
           },
           "zerolinecolor": "white",
           "zerolinewidth": 2
          }
         }
        },
        "title": {
         "font": {
          "color": "black",
          "family": "IBM Plex Mono",
          "size": 27
         },
         "text": "<span style='color: black; font-weight: normal;'></span><br><sub style='font-size: 18px; color: black; font-weight: normal;'></sub>",
         "x": 0.1,
         "xanchor": "left",
         "y": 0.9,
         "yanchor": "top"
        },
        "uniformtext": {
         "minsize": 15,
         "mode": "show"
        },
        "width": 730,
        "xaxis": {
         "anchor": "y",
         "domain": [
          0,
          0.94
         ],
         "range": [
          "2025-01-16T14:00:00+00:00",
          "2025-02-23T20:00:00+00:00"
         ],
         "tick0": "2025-01-16T14:00:00+00:00",
         "tickangle": 0,
         "tickfont": {
          "color": "black",
          "family": "IBM Plex Mono",
          "size": 16
         },
         "tickformat": "%b %d <br>%y",
         "tickvals": [
          "2025-01-16T14:00:00+00:00",
          "2025-01-26T03:00:00+00:00",
          "2025-02-04T17:00:00+00:00",
          "2025-02-14T06:00:00+00:00",
          "2025-02-23T20:00:00+00:00"
         ]
        },
        "yaxis": {
         "anchor": "x",
         "domain": [
          0,
          1
         ],
         "tickfont": {
          "color": "black",
          "family": "IBM Plex Mono",
          "size": 16
         },
         "tickprefix": "$",
         "title": {
          "font": {
           "color": "black",
           "family": "IBM Plex Mono",
           "size": 16
          }
         }
        },
        "yaxis2": {
         "anchor": "x",
         "overlaying": "y",
         "side": "right"
        }
       }
      }
     },
     "metadata": {},
     "output_type": "display_data"
    }
   ],
   "source": [
    "chartBuilder(\n",
    "    fig=fig3,\n",
    "    add_the_date=True,\n",
    "    clean_columns=True,\n",
    "    date_xy=dict(x=0.05,y=1.02),\n",
    "    keep_top_n=False,\n",
    "    # groupby=True,\n",
    "    other=True,\n",
    "    save=False,\n",
    "    title='RLUSD-USDC Pool on Ethereum',\n",
    "    topn=4,\n",
    "    # dashed_line=True,\n",
    "    # date='2023-04-12',\n",
    "    # annotation_text='Staked ETH <br> Withdrawl Activated'\n",
    ")"
   ]
  },
  {
   "cell_type": "code",
   "execution_count": 74,
   "metadata": {},
   "outputs": [
    {
     "data": {
      "text/plain": [
       "symbol               RLUSD\n",
       "current_bal    4934.513133\n",
       "tvl            4932.904482\n",
       "total_tvl      9873.169983\n",
       "Name: 2025-01-16 14:00:00+00:00, dtype: object"
      ]
     },
     "execution_count": 74,
     "metadata": {},
     "output_type": "execute_result"
    }
   ],
   "source": [
    "eth_rlusd_pool[eth_rlusd_pool['symbol']=='RLUSD'].iloc[0]"
   ]
  },
  {
   "cell_type": "code",
   "execution_count": null,
   "metadata": {},
   "outputs": [],
   "source": [
    "rlusd_in_eth_lp = eth_rlusd_pool[eth_rlusd_pool['symbol']=='RLUSD'].iloc[0][['current_bal']].values[0]"
   ]
  },
  {
   "cell_type": "code",
   "execution_count": 57,
   "metadata": {},
   "outputs": [
    {
     "data": {
      "text/plain": [
       "np.float64(4769374.05912583)"
      ]
     },
     "execution_count": 57,
     "metadata": {},
     "output_type": "execute_result"
    }
   ],
   "source": [
    "rlusd_in_eth_lp"
   ]
  },
  {
   "cell_type": "code",
   "execution_count": 58,
   "metadata": {},
   "outputs": [
    {
     "data": {
      "text/plain": [
       "np.float64(1614553.902805907)"
      ]
     },
     "execution_count": 58,
     "metadata": {},
     "output_type": "execute_result"
    }
   ],
   "source": [
    "rlusd_in_xrp_lp"
   ]
  },
  {
   "cell_type": "code",
   "execution_count": 59,
   "metadata": {},
   "outputs": [],
   "source": [
    "total_rlusd_in_lp = rlusd_in_eth_lp + rlusd_in_xrp_lp"
   ]
  },
  {
   "cell_type": "code",
   "execution_count": 60,
   "metadata": {},
   "outputs": [
    {
     "data": {
      "text/plain": [
       "np.float64(6383927.961931737)"
      ]
     },
     "execution_count": 60,
     "metadata": {},
     "output_type": "execute_result"
    }
   ],
   "source": [
    "total_rlusd_in_lp"
   ]
  },
  {
   "cell_type": "code",
   "execution_count": 61,
   "metadata": {},
   "outputs": [
    {
     "data": {
      "text/plain": [
       "'5.20%'"
      ]
     },
     "execution_count": 61,
     "metadata": {},
     "output_type": "execute_result"
    }
   ],
   "source": [
    "percent_rlusd_in_lp = (total_rlusd_in_lp / total_rlusd_supply)*100\n",
    "f'{percent_rlusd_in_lp:.2f}%'"
   ]
  },
  {
   "cell_type": "code",
   "execution_count": 62,
   "metadata": {},
   "outputs": [
    {
     "data": {
      "text/html": [
       "<div>\n",
       "<style scoped>\n",
       "    .dataframe tbody tr th:only-of-type {\n",
       "        vertical-align: middle;\n",
       "    }\n",
       "\n",
       "    .dataframe tbody tr th {\n",
       "        vertical-align: top;\n",
       "    }\n",
       "\n",
       "    .dataframe thead th {\n",
       "        text-align: right;\n",
       "    }\n",
       "</style>\n",
       "<table border=\"1\" class=\"dataframe\">\n",
       "  <thead>\n",
       "    <tr style=\"text-align: right;\">\n",
       "      <th></th>\n",
       "      <th>Status</th>\n",
       "      <th>Amount</th>\n",
       "    </tr>\n",
       "  </thead>\n",
       "  <tbody>\n",
       "    <tr>\n",
       "      <th>0</th>\n",
       "      <td>In-Liquidity</td>\n",
       "      <td>6.383928e+06</td>\n",
       "    </tr>\n",
       "    <tr>\n",
       "      <th>1</th>\n",
       "      <td>Out-Liquidity</td>\n",
       "      <td>1.164328e+08</td>\n",
       "    </tr>\n",
       "  </tbody>\n",
       "</table>\n",
       "</div>"
      ],
      "text/plain": [
       "          Status        Amount\n",
       "0   In-Liquidity  6.383928e+06\n",
       "1  Out-Liquidity  1.164328e+08"
      ]
     },
     "execution_count": 62,
     "metadata": {},
     "output_type": "execute_result"
    }
   ],
   "source": [
    "supply_comp = {\n",
    "    \"Status\":[\"In-Liquidity\",\"Out-Liquidity\"],\n",
    "    \"Amount\":[total_rlusd_in_lp, (total_rlusd_supply-total_rlusd_in_lp)]\n",
    "}\n",
    "\n",
    "supply_comp_df = pd.DataFrame(supply_comp)\n",
    "\n",
    "supply_comp_df"
   ]
  },
  {
   "cell_type": "code",
   "execution_count": 204,
   "metadata": {},
   "outputs": [
    {
     "name": "stdout",
     "output_type": "stream",
     "text": [
      "Initialized axes_data: {'y1': 'All', 'y2': []}\n",
      "tick0: min\n",
      "turn_to_time: False\n",
      "df sort order at init: ['In-Liquidity' 'Out-Liquidity']\n"
     ]
    }
   ],
   "source": [
    "fig3 = visualization_pipeline(\n",
    "df=supply_comp_df,\n",
    "    title='rlusd_fig3',\n",
    "    # start_date='2024-01-01',\n",
    "    # end_date='2024-12-31',\n",
    "    # end_date='2024-10-01',\n",
    "    chart_type='pie',\n",
    "    dimensions=dict(height=351, width=730),\n",
    "    groupby = 'Status',\n",
    "    num_col='Amount',\n",
    "    # cols_to_plot='All',\n",
    "    # line_col=['cumulative_freq'],\n",
    "    # bar_col=['freg'],\n",
    "    tickangle=0,\n",
    "    dropna=True,\n",
    "    area=True,\n",
    "    colors=combined_colors,\n",
    "    # axes_data=dict(y1=['UAW'],y2=[]),\n",
    "    tickformat=dict(x='%b<br>`%y',y1=None,y2=None),\n",
    "    legend_font_size=12,\n",
    "    font_family=font_family,\n",
    "    cumulative_sort=True,\n",
    "    normalize=False,\n",
    "    decimals=True,\n",
    "    decimal_places=0,\n",
    "    y2=True,\n",
    "    # min_tick_spacing=50,\n",
    "    # buffer=3,\n",
    "    barmode='group',\n",
    "    mode='lines+markers',\n",
    "    # font_size=14,\n",
    "    # line_width=3,\n",
    "    marker_size=3,\n",
    "    tickprefix=dict(y1='$',y2=None),\n",
    "    ticksuffix=dict(y1=None,y2=None),\n",
    "    axes_titles=dict(y1=None,y2=None),\n",
    "    show_legend=False,\n",
    "    hole_size=0,\n",
    "    line_width=0,\n",
    "    descending=False,\n",
    "    buffer = 0.25,\n",
    "    annotations=True,\n",
    "    text=True,\n",
    "    orientation='h',\n",
    "    sort_list=True,\n",
    "    margin=dict(l=0, r=0, t=100, b=0),\n",
    "    autosize=False,\n",
    "    max_annotation=True,\n",
    "    annotation_prefix=None,\n",
    "    auto_title=False,\n",
    "    axes_font_colors='auto',\n",
    "    to_reverse=False,\n",
    "    line_color='black',\n",
    "    use_single_color=False,\n",
    "    custom_annotation = ['2022-10-31'],\n",
    "    # axes_font_colors='auto',\n",
    ")"
   ]
  },
  {
   "cell_type": "code",
   "execution_count": 206,
   "metadata": {},
   "outputs": [
    {
     "name": "stdout",
     "output_type": "stream",
     "text": [
      "save:False\n",
      "capwords: []\n",
      "y1_list: ['A', 'L', 'L'] \n",
      "y2_list: []\n",
      "'Amount' does not match capword. Converting to title case: Amount\n",
      "Cleaned string: 'Amount'\n",
      "'Status' does not match capword. Converting to title case: Status\n",
      "Cleaned string: 'Status'\n",
      "'A' does not match capword. Converting to title case: A\n",
      "Cleaned string: 'A'\n",
      "'L' does not match capword. Converting to title case: L\n",
      "Cleaned string: 'L'\n",
      "'L' does not match capword. Converting to title case: L\n",
      "Cleaned string: 'L'\n",
      "'Status' does not match capword. Converting to title case: Status\n",
      "Cleaned string: 'Status'\n",
      "Cleaned groupby: Status\n",
      "'Amount' does not match capword. Converting to title case: Amount\n",
      "Cleaned string: 'Amount'\n",
      "Cleaned num_col: Amount\n",
      "Cleaned DataFrame columns: ['Amount', 'Status']\n",
      "Cleaned cols_to_plot: ['Amount', 'Status']\n",
      "Cleaned bar_col: []\n",
      "Cleaned line_col: []\n",
      "Cleaned y1_list: ['A', 'L', 'L']\n",
      "Cleaned y2_list: []\n",
      "Cleaned groupby: Status\n",
      "Cleaned num_col: Amount\n",
      "logo path: ../img/Logos/None\n",
      "Generating pie chart...\n",
      "self.textinfo: percent+label\n",
      "original_labels: ['In-Liquidity' 'Out-Liquidity']\n",
      "df_copy:                      Amount\n",
      "Status                     \n",
      "In-Liquidity   6.383928e+06\n",
      "Out-Liquidity  1.164328e+08\n",
      "percent+label, ['Out-Liquidity    ', 'In-Liquidity    ']\n",
      "textinfo: percent+label\n",
      "x:122816736.84000012M\n",
      "Columns: Index(['Amount', 'Status'], dtype='object') \n",
      "Index: RangeIndex(start=0, stop=2, step=1)\n"
     ]
    },
    {
     "data": {
      "application/vnd.plotly.v1+json": {
       "config": {
        "linkText": "Export to plot.ly",
        "plotlyServerURL": "https://plot.ly",
        "showLink": false
       },
       "data": [
        {
         "hole": 0,
         "labels": [
          "Out-Liquidity    ",
          "In-Liquidity    "
         ],
         "marker": {
          "colors": [
           "#00CC96",
           "#67D8FE",
           "#FF7EBE",
           "#FFBC36",
           "#E6FF59",
           "#2E91E5",
           "#E15F99",
           "#1CA71C",
           "#FB0D0D",
           "#DA16FF",
           "#222A2A",
           "#B68100",
           "#750D86",
           "#EB663B",
           "#511CFB",
           "#00A08B",
           "#FB00D1",
           "#FC0080",
           "#B2828D",
           "#6C7C32",
           "#778AAE",
           "#862A16",
           "#A777F1",
           "#620042",
           "#1616A7",
           "#DA60CA",
           "#6C4516",
           "#0D2A63",
           "#AF0038",
           "rgb(141,211,199)",
           "rgb(255,255,179)",
           "rgb(190,186,218)",
           "rgb(251,128,114)",
           "rgb(128,177,211)",
           "rgb(253,180,98)",
           "rgb(179,222,105)",
           "rgb(252,205,229)",
           "rgb(217,217,217)",
           "rgb(188,128,189)",
           "rgb(204,235,197)",
           "rgb(255,237,111)",
           "#FECB52",
           "#FF97FF",
           "#B6E880",
           "#FF6692",
           "#19D3F3",
           "#FFA15A",
           "#AB63FA",
           "#00CC96",
           "#EF553B",
           "#636EFA"
          ],
          "line": {
           "color": "white",
           "width": 0
          }
         },
         "showlegend": false,
         "textfont": {
          "color": "black",
          "family": "IBM Plex Mono",
          "size": 14
         },
         "textinfo": "percent+label",
         "texttemplate": "%{label}<br>%{percent}",
         "type": "pie",
         "values": {
          "bdata": "XCSDo37Cm0EiSpD9TVpYQQ==",
          "dtype": "f8"
         }
        }
       ],
       "layout": {
        "annotations": [
         {
          "align": "center",
          "font": {
           "color": "black",
           "family": "IBM Plex Mono",
           "size": 25
          },
          "showarrow": false,
          "text": "Total: 123M",
          "x": 0.5,
          "xref": "paper",
          "y": 0.5,
          "yref": "paper"
         }
        ],
        "autosize": true,
        "font": {
         "family": "IBM Plex Mono",
         "size": 16
        },
        "height": 351,
        "legend": {
         "bgcolor": "rgba(0,0,0,0)",
         "font": {
          "color": "black",
          "family": "IBM Plex Mono",
          "size": 12
         },
         "itemsizing": "constant",
         "orientation": "v",
         "x": 0.2,
         "xanchor": "left",
         "y": 0.9,
         "yanchor": "top"
        },
        "margin": {
         "b": 0,
         "l": 0,
         "r": 0,
         "t": 100
        },
        "paper_bgcolor": "rgba(0,0,0,0)",
        "plot_bgcolor": "rgba(0,0,0,0)",
        "template": {
         "data": {
          "bar": [
           {
            "error_x": {
             "color": "#2a3f5f"
            },
            "error_y": {
             "color": "#2a3f5f"
            },
            "marker": {
             "line": {
              "color": "#E5ECF6",
              "width": 0.5
             },
             "pattern": {
              "fillmode": "overlay",
              "size": 10,
              "solidity": 0.2
             }
            },
            "type": "bar"
           }
          ],
          "barpolar": [
           {
            "marker": {
             "line": {
              "color": "#E5ECF6",
              "width": 0.5
             },
             "pattern": {
              "fillmode": "overlay",
              "size": 10,
              "solidity": 0.2
             }
            },
            "type": "barpolar"
           }
          ],
          "carpet": [
           {
            "aaxis": {
             "endlinecolor": "#2a3f5f",
             "gridcolor": "white",
             "linecolor": "white",
             "minorgridcolor": "white",
             "startlinecolor": "#2a3f5f"
            },
            "baxis": {
             "endlinecolor": "#2a3f5f",
             "gridcolor": "white",
             "linecolor": "white",
             "minorgridcolor": "white",
             "startlinecolor": "#2a3f5f"
            },
            "type": "carpet"
           }
          ],
          "choropleth": [
           {
            "colorbar": {
             "outlinewidth": 0,
             "ticks": ""
            },
            "type": "choropleth"
           }
          ],
          "contour": [
           {
            "colorbar": {
             "outlinewidth": 0,
             "ticks": ""
            },
            "colorscale": [
             [
              0,
              "#0d0887"
             ],
             [
              0.1111111111111111,
              "#46039f"
             ],
             [
              0.2222222222222222,
              "#7201a8"
             ],
             [
              0.3333333333333333,
              "#9c179e"
             ],
             [
              0.4444444444444444,
              "#bd3786"
             ],
             [
              0.5555555555555556,
              "#d8576b"
             ],
             [
              0.6666666666666666,
              "#ed7953"
             ],
             [
              0.7777777777777778,
              "#fb9f3a"
             ],
             [
              0.8888888888888888,
              "#fdca26"
             ],
             [
              1,
              "#f0f921"
             ]
            ],
            "type": "contour"
           }
          ],
          "contourcarpet": [
           {
            "colorbar": {
             "outlinewidth": 0,
             "ticks": ""
            },
            "type": "contourcarpet"
           }
          ],
          "heatmap": [
           {
            "colorbar": {
             "outlinewidth": 0,
             "ticks": ""
            },
            "colorscale": [
             [
              0,
              "#0d0887"
             ],
             [
              0.1111111111111111,
              "#46039f"
             ],
             [
              0.2222222222222222,
              "#7201a8"
             ],
             [
              0.3333333333333333,
              "#9c179e"
             ],
             [
              0.4444444444444444,
              "#bd3786"
             ],
             [
              0.5555555555555556,
              "#d8576b"
             ],
             [
              0.6666666666666666,
              "#ed7953"
             ],
             [
              0.7777777777777778,
              "#fb9f3a"
             ],
             [
              0.8888888888888888,
              "#fdca26"
             ],
             [
              1,
              "#f0f921"
             ]
            ],
            "type": "heatmap"
           }
          ],
          "histogram": [
           {
            "marker": {
             "pattern": {
              "fillmode": "overlay",
              "size": 10,
              "solidity": 0.2
             }
            },
            "type": "histogram"
           }
          ],
          "histogram2d": [
           {
            "colorbar": {
             "outlinewidth": 0,
             "ticks": ""
            },
            "colorscale": [
             [
              0,
              "#0d0887"
             ],
             [
              0.1111111111111111,
              "#46039f"
             ],
             [
              0.2222222222222222,
              "#7201a8"
             ],
             [
              0.3333333333333333,
              "#9c179e"
             ],
             [
              0.4444444444444444,
              "#bd3786"
             ],
             [
              0.5555555555555556,
              "#d8576b"
             ],
             [
              0.6666666666666666,
              "#ed7953"
             ],
             [
              0.7777777777777778,
              "#fb9f3a"
             ],
             [
              0.8888888888888888,
              "#fdca26"
             ],
             [
              1,
              "#f0f921"
             ]
            ],
            "type": "histogram2d"
           }
          ],
          "histogram2dcontour": [
           {
            "colorbar": {
             "outlinewidth": 0,
             "ticks": ""
            },
            "colorscale": [
             [
              0,
              "#0d0887"
             ],
             [
              0.1111111111111111,
              "#46039f"
             ],
             [
              0.2222222222222222,
              "#7201a8"
             ],
             [
              0.3333333333333333,
              "#9c179e"
             ],
             [
              0.4444444444444444,
              "#bd3786"
             ],
             [
              0.5555555555555556,
              "#d8576b"
             ],
             [
              0.6666666666666666,
              "#ed7953"
             ],
             [
              0.7777777777777778,
              "#fb9f3a"
             ],
             [
              0.8888888888888888,
              "#fdca26"
             ],
             [
              1,
              "#f0f921"
             ]
            ],
            "type": "histogram2dcontour"
           }
          ],
          "mesh3d": [
           {
            "colorbar": {
             "outlinewidth": 0,
             "ticks": ""
            },
            "type": "mesh3d"
           }
          ],
          "parcoords": [
           {
            "line": {
             "colorbar": {
              "outlinewidth": 0,
              "ticks": ""
             }
            },
            "type": "parcoords"
           }
          ],
          "pie": [
           {
            "automargin": true,
            "type": "pie"
           }
          ],
          "scatter": [
           {
            "fillpattern": {
             "fillmode": "overlay",
             "size": 10,
             "solidity": 0.2
            },
            "type": "scatter"
           }
          ],
          "scatter3d": [
           {
            "line": {
             "colorbar": {
              "outlinewidth": 0,
              "ticks": ""
             }
            },
            "marker": {
             "colorbar": {
              "outlinewidth": 0,
              "ticks": ""
             }
            },
            "type": "scatter3d"
           }
          ],
          "scattercarpet": [
           {
            "marker": {
             "colorbar": {
              "outlinewidth": 0,
              "ticks": ""
             }
            },
            "type": "scattercarpet"
           }
          ],
          "scattergeo": [
           {
            "marker": {
             "colorbar": {
              "outlinewidth": 0,
              "ticks": ""
             }
            },
            "type": "scattergeo"
           }
          ],
          "scattergl": [
           {
            "marker": {
             "colorbar": {
              "outlinewidth": 0,
              "ticks": ""
             }
            },
            "type": "scattergl"
           }
          ],
          "scattermap": [
           {
            "marker": {
             "colorbar": {
              "outlinewidth": 0,
              "ticks": ""
             }
            },
            "type": "scattermap"
           }
          ],
          "scattermapbox": [
           {
            "marker": {
             "colorbar": {
              "outlinewidth": 0,
              "ticks": ""
             }
            },
            "type": "scattermapbox"
           }
          ],
          "scatterpolar": [
           {
            "marker": {
             "colorbar": {
              "outlinewidth": 0,
              "ticks": ""
             }
            },
            "type": "scatterpolar"
           }
          ],
          "scatterpolargl": [
           {
            "marker": {
             "colorbar": {
              "outlinewidth": 0,
              "ticks": ""
             }
            },
            "type": "scatterpolargl"
           }
          ],
          "scatterternary": [
           {
            "marker": {
             "colorbar": {
              "outlinewidth": 0,
              "ticks": ""
             }
            },
            "type": "scatterternary"
           }
          ],
          "surface": [
           {
            "colorbar": {
             "outlinewidth": 0,
             "ticks": ""
            },
            "colorscale": [
             [
              0,
              "#0d0887"
             ],
             [
              0.1111111111111111,
              "#46039f"
             ],
             [
              0.2222222222222222,
              "#7201a8"
             ],
             [
              0.3333333333333333,
              "#9c179e"
             ],
             [
              0.4444444444444444,
              "#bd3786"
             ],
             [
              0.5555555555555556,
              "#d8576b"
             ],
             [
              0.6666666666666666,
              "#ed7953"
             ],
             [
              0.7777777777777778,
              "#fb9f3a"
             ],
             [
              0.8888888888888888,
              "#fdca26"
             ],
             [
              1,
              "#f0f921"
             ]
            ],
            "type": "surface"
           }
          ],
          "table": [
           {
            "cells": {
             "fill": {
              "color": "#EBF0F8"
             },
             "line": {
              "color": "white"
             }
            },
            "header": {
             "fill": {
              "color": "#C8D4E3"
             },
             "line": {
              "color": "white"
             }
            },
            "type": "table"
           }
          ]
         },
         "layout": {
          "annotationdefaults": {
           "arrowcolor": "#2a3f5f",
           "arrowhead": 0,
           "arrowwidth": 1
          },
          "autotypenumbers": "strict",
          "coloraxis": {
           "colorbar": {
            "outlinewidth": 0,
            "ticks": ""
           }
          },
          "colorscale": {
           "diverging": [
            [
             0,
             "#8e0152"
            ],
            [
             0.1,
             "#c51b7d"
            ],
            [
             0.2,
             "#de77ae"
            ],
            [
             0.3,
             "#f1b6da"
            ],
            [
             0.4,
             "#fde0ef"
            ],
            [
             0.5,
             "#f7f7f7"
            ],
            [
             0.6,
             "#e6f5d0"
            ],
            [
             0.7,
             "#b8e186"
            ],
            [
             0.8,
             "#7fbc41"
            ],
            [
             0.9,
             "#4d9221"
            ],
            [
             1,
             "#276419"
            ]
           ],
           "sequential": [
            [
             0,
             "#0d0887"
            ],
            [
             0.1111111111111111,
             "#46039f"
            ],
            [
             0.2222222222222222,
             "#7201a8"
            ],
            [
             0.3333333333333333,
             "#9c179e"
            ],
            [
             0.4444444444444444,
             "#bd3786"
            ],
            [
             0.5555555555555556,
             "#d8576b"
            ],
            [
             0.6666666666666666,
             "#ed7953"
            ],
            [
             0.7777777777777778,
             "#fb9f3a"
            ],
            [
             0.8888888888888888,
             "#fdca26"
            ],
            [
             1,
             "#f0f921"
            ]
           ],
           "sequentialminus": [
            [
             0,
             "#0d0887"
            ],
            [
             0.1111111111111111,
             "#46039f"
            ],
            [
             0.2222222222222222,
             "#7201a8"
            ],
            [
             0.3333333333333333,
             "#9c179e"
            ],
            [
             0.4444444444444444,
             "#bd3786"
            ],
            [
             0.5555555555555556,
             "#d8576b"
            ],
            [
             0.6666666666666666,
             "#ed7953"
            ],
            [
             0.7777777777777778,
             "#fb9f3a"
            ],
            [
             0.8888888888888888,
             "#fdca26"
            ],
            [
             1,
             "#f0f921"
            ]
           ]
          },
          "colorway": [
           "#636efa",
           "#EF553B",
           "#00cc96",
           "#ab63fa",
           "#FFA15A",
           "#19d3f3",
           "#FF6692",
           "#B6E880",
           "#FF97FF",
           "#FECB52"
          ],
          "font": {
           "color": "#2a3f5f",
           "family": "IBM Plex Mono"
          },
          "geo": {
           "bgcolor": "white",
           "lakecolor": "white",
           "landcolor": "#E5ECF6",
           "showlakes": true,
           "showland": true,
           "subunitcolor": "white"
          },
          "hoverlabel": {
           "align": "left"
          },
          "hovermode": "closest",
          "mapbox": {
           "style": "light"
          },
          "paper_bgcolor": "white",
          "plot_bgcolor": "#E5ECF6",
          "polar": {
           "angularaxis": {
            "gridcolor": "white",
            "linecolor": "white",
            "ticks": ""
           },
           "bgcolor": "#E5ECF6",
           "radialaxis": {
            "gridcolor": "white",
            "linecolor": "white",
            "ticks": ""
           }
          },
          "scene": {
           "xaxis": {
            "backgroundcolor": "#E5ECF6",
            "gridcolor": "white",
            "gridwidth": 2,
            "linecolor": "white",
            "showbackground": true,
            "ticks": "",
            "zerolinecolor": "white"
           },
           "yaxis": {
            "backgroundcolor": "#E5ECF6",
            "gridcolor": "white",
            "gridwidth": 2,
            "linecolor": "white",
            "showbackground": true,
            "ticks": "",
            "zerolinecolor": "white"
           },
           "zaxis": {
            "backgroundcolor": "#E5ECF6",
            "gridcolor": "white",
            "gridwidth": 2,
            "linecolor": "white",
            "showbackground": true,
            "ticks": "",
            "zerolinecolor": "white"
           }
          },
          "shapedefaults": {
           "line": {
            "color": "#2a3f5f"
           }
          },
          "ternary": {
           "aaxis": {
            "gridcolor": "white",
            "linecolor": "white",
            "ticks": ""
           },
           "baxis": {
            "gridcolor": "white",
            "linecolor": "white",
            "ticks": ""
           },
           "bgcolor": "#E5ECF6",
           "caxis": {
            "gridcolor": "white",
            "linecolor": "white",
            "ticks": ""
           }
          },
          "title": {
           "x": 0.05
          },
          "xaxis": {
           "automargin": true,
           "gridcolor": "white",
           "linecolor": "white",
           "ticks": "",
           "title": {
            "standoff": 15
           },
           "zerolinecolor": "white",
           "zerolinewidth": 2
          },
          "yaxis": {
           "automargin": true,
           "gridcolor": "white",
           "linecolor": "white",
           "ticks": "",
           "title": {
            "standoff": 15
           },
           "zerolinecolor": "white",
           "zerolinewidth": 2
          }
         }
        },
        "title": {
         "font": {
          "color": "black",
          "family": "IBM Plex Mono",
          "size": 27
         },
         "text": "<span style='color: black; font-weight: normal;'>Share of RLUSD Locked in Liquidity Pools</span><br><sub style='font-size: 18px; color: black; font-weight: normal;'></sub>",
         "x": 0.1,
         "xanchor": "left",
         "y": 0.9,
         "yanchor": "top"
        },
        "width": 730
       }
      }
     },
     "metadata": {},
     "output_type": "display_data"
    }
   ],
   "source": [
    "chartBuilder(\n",
    "    fig=fig3,\n",
    "    add_the_date=False,\n",
    "    clean_columns=True,\n",
    "    date_xy=dict(x=0.05,y=1.02),\n",
    "    keep_top_n=False,\n",
    "    # groupby=True,\n",
    "    other=True,\n",
    "    save=False,\n",
    "    title_xy=dict(x=0.1,y=0.9),\n",
    "    topn=4,\n",
    "    title='Share of RLUSD Locked in Liquidity Pools'\n",
    "    # dashed_line=True,\n",
    "    # date='2023-04-12',\n",
    "    # annotation_text='Staked ETH <br> Withdrawl Activated'\n",
    ")"
   ]
  },
  {
   "cell_type": "code",
   "execution_count": 65,
   "metadata": {},
   "outputs": [],
   "source": [
    "from diskcache import Cache"
   ]
  },
  {
   "cell_type": "code",
   "execution_count": 66,
   "metadata": {},
   "outputs": [],
   "source": [
    "cache = Cache('data_collection')"
   ]
  },
  {
   "cell_type": "code",
   "execution_count": 67,
   "metadata": {},
   "outputs": [],
   "source": [
    "xrpl_lp_timeseries = cache.get('timeseries')"
   ]
  },
  {
   "cell_type": "code",
   "execution_count": 68,
   "metadata": {},
   "outputs": [],
   "source": [
    "xrpl_lp_timeseries['dt'] = pd.to_datetime(xrpl_lp_timeseries['dt'])\n",
    "xrpl_lp_timeseries['dt'] = pd.to_datetime(xrpl_lp_timeseries['dt'].dt.strftime('%Y-%m-%d %H:00:00'))"
   ]
  },
  {
   "cell_type": "code",
   "execution_count": 69,
   "metadata": {},
   "outputs": [],
   "source": [
    "xrpl_lp_timeseries.set_index('dt',inplace=True)"
   ]
  },
  {
   "cell_type": "code",
   "execution_count": 70,
   "metadata": {},
   "outputs": [
    {
     "data": {
      "text/plain": [
       "DatetimeIndex(['2025-02-17 21:00:00', '2025-02-17 22:00:00',\n",
       "               '2025-02-17 23:00:00', '2025-02-18 00:00:00',\n",
       "               '2025-02-18 01:00:00', '2025-02-18 02:00:00',\n",
       "               '2025-02-18 03:00:00', '2025-02-18 04:00:00',\n",
       "               '2025-02-18 05:00:00', '2025-02-18 06:00:00',\n",
       "               ...\n",
       "               '2025-02-23 11:00:00', '2025-02-23 12:00:00',\n",
       "               '2025-02-23 14:00:00', '2025-02-23 15:00:00',\n",
       "               '2025-02-23 16:00:00', '2025-02-23 17:00:00',\n",
       "               '2025-02-23 18:00:00', '2025-02-23 19:00:00',\n",
       "               '2025-02-23 20:00:00', '2025-02-23 21:00:00'],\n",
       "              dtype='datetime64[ns]', name='dt', length=139, freq=None)"
      ]
     },
     "execution_count": 70,
     "metadata": {},
     "output_type": "execute_result"
    }
   ],
   "source": [
    "xrpl_lp_timeseries.index"
   ]
  },
  {
   "cell_type": "code",
   "execution_count": 71,
   "metadata": {},
   "outputs": [
    {
     "data": {
      "text/html": [
       "<div>\n",
       "<style scoped>\n",
       "    .dataframe tbody tr th:only-of-type {\n",
       "        vertical-align: middle;\n",
       "    }\n",
       "\n",
       "    .dataframe tbody tr th {\n",
       "        vertical-align: top;\n",
       "    }\n",
       "\n",
       "    .dataframe thead th {\n",
       "        text-align: right;\n",
       "    }\n",
       "</style>\n",
       "<table border=\"1\" class=\"dataframe\">\n",
       "  <thead>\n",
       "    <tr style=\"text-align: right;\">\n",
       "      <th></th>\n",
       "      <th>current_bal</th>\n",
       "      <th>blockchain</th>\n",
       "    </tr>\n",
       "    <tr>\n",
       "      <th>dt</th>\n",
       "      <th></th>\n",
       "      <th></th>\n",
       "    </tr>\n",
       "  </thead>\n",
       "  <tbody>\n",
       "    <tr>\n",
       "      <th>2025-02-17 21:00:00</th>\n",
       "      <td>1.614909e+06</td>\n",
       "      <td>XRP Ledger</td>\n",
       "    </tr>\n",
       "    <tr>\n",
       "      <th>2025-02-17 22:00:00</th>\n",
       "      <td>1.617292e+06</td>\n",
       "      <td>XRP Ledger</td>\n",
       "    </tr>\n",
       "    <tr>\n",
       "      <th>2025-02-17 23:00:00</th>\n",
       "      <td>1.611439e+06</td>\n",
       "      <td>XRP Ledger</td>\n",
       "    </tr>\n",
       "    <tr>\n",
       "      <th>2025-02-18 00:00:00</th>\n",
       "      <td>1.610191e+06</td>\n",
       "      <td>XRP Ledger</td>\n",
       "    </tr>\n",
       "    <tr>\n",
       "      <th>2025-02-18 01:00:00</th>\n",
       "      <td>1.607343e+06</td>\n",
       "      <td>XRP Ledger</td>\n",
       "    </tr>\n",
       "    <tr>\n",
       "      <th>...</th>\n",
       "      <td>...</td>\n",
       "      <td>...</td>\n",
       "    </tr>\n",
       "    <tr>\n",
       "      <th>2025-02-23 17:00:00</th>\n",
       "      <td>1.415431e+06</td>\n",
       "      <td>XRP Ledger</td>\n",
       "    </tr>\n",
       "    <tr>\n",
       "      <th>2025-02-23 18:00:00</th>\n",
       "      <td>1.418911e+06</td>\n",
       "      <td>XRP Ledger</td>\n",
       "    </tr>\n",
       "    <tr>\n",
       "      <th>2025-02-23 19:00:00</th>\n",
       "      <td>1.419123e+06</td>\n",
       "      <td>XRP Ledger</td>\n",
       "    </tr>\n",
       "    <tr>\n",
       "      <th>2025-02-23 20:00:00</th>\n",
       "      <td>1.419351e+06</td>\n",
       "      <td>XRP Ledger</td>\n",
       "    </tr>\n",
       "    <tr>\n",
       "      <th>2025-02-23 21:00:00</th>\n",
       "      <td>1.418783e+06</td>\n",
       "      <td>XRP Ledger</td>\n",
       "    </tr>\n",
       "  </tbody>\n",
       "</table>\n",
       "<p>139 rows × 2 columns</p>\n",
       "</div>"
      ],
      "text/plain": [
       "                      current_bal  blockchain\n",
       "dt                                           \n",
       "2025-02-17 21:00:00  1.614909e+06  XRP Ledger\n",
       "2025-02-17 22:00:00  1.617292e+06  XRP Ledger\n",
       "2025-02-17 23:00:00  1.611439e+06  XRP Ledger\n",
       "2025-02-18 00:00:00  1.610191e+06  XRP Ledger\n",
       "2025-02-18 01:00:00  1.607343e+06  XRP Ledger\n",
       "...                           ...         ...\n",
       "2025-02-23 17:00:00  1.415431e+06  XRP Ledger\n",
       "2025-02-23 18:00:00  1.418911e+06  XRP Ledger\n",
       "2025-02-23 19:00:00  1.419123e+06  XRP Ledger\n",
       "2025-02-23 20:00:00  1.419351e+06  XRP Ledger\n",
       "2025-02-23 21:00:00  1.418783e+06  XRP Ledger\n",
       "\n",
       "[139 rows x 2 columns]"
      ]
     },
     "execution_count": 71,
     "metadata": {},
     "output_type": "execute_result"
    }
   ],
   "source": [
    "rlusd_xrp_df = xrpl_lp_timeseries[['rlusd_bal']]\n",
    "rlusd_xrp_df['blockchain'] = 'XRP Ledger'\n",
    "rlusd_xrp_df.rename(columns={\"rlusd_bal\":\"current_bal\"},inplace=True)\n",
    "rlusd_xrp_df"
   ]
  },
  {
   "cell_type": "code",
   "execution_count": 72,
   "metadata": {},
   "outputs": [],
   "source": [
    "eth_rlusd_bal_timeseries.index = eth_rlusd_bal_timeseries.index.strftime('%Y-%m-%d %H:00:00')"
   ]
  },
  {
   "cell_type": "code",
   "execution_count": 73,
   "metadata": {},
   "outputs": [
    {
     "name": "stderr",
     "output_type": "stream",
     "text": [
      "C:\\Users\\brandyns pc\\AppData\\Local\\Temp\\ipykernel_13872\\3381202216.py:2: SettingWithCopyWarning:\n",
      "\n",
      "\n",
      "A value is trying to be set on a copy of a slice from a DataFrame.\n",
      "Try using .loc[row_indexer,col_indexer] = value instead\n",
      "\n",
      "See the caveats in the documentation: https://pandas.pydata.org/pandas-docs/stable/user_guide/indexing.html#returning-a-view-versus-a-copy\n",
      "\n"
     ]
    },
    {
     "data": {
      "text/html": [
       "<div>\n",
       "<style scoped>\n",
       "    .dataframe tbody tr th:only-of-type {\n",
       "        vertical-align: middle;\n",
       "    }\n",
       "\n",
       "    .dataframe tbody tr th {\n",
       "        vertical-align: top;\n",
       "    }\n",
       "\n",
       "    .dataframe thead th {\n",
       "        text-align: right;\n",
       "    }\n",
       "</style>\n",
       "<table border=\"1\" class=\"dataframe\">\n",
       "  <thead>\n",
       "    <tr style=\"text-align: right;\">\n",
       "      <th></th>\n",
       "      <th>current_bal</th>\n",
       "      <th>blockchain</th>\n",
       "    </tr>\n",
       "    <tr>\n",
       "      <th>dt</th>\n",
       "      <th></th>\n",
       "      <th></th>\n",
       "    </tr>\n",
       "  </thead>\n",
       "  <tbody>\n",
       "    <tr>\n",
       "      <th>2025-02-23 20:00:00</th>\n",
       "      <td>4.769374e+06</td>\n",
       "      <td>Ethereum</td>\n",
       "    </tr>\n",
       "    <tr>\n",
       "      <th>2025-02-23 19:00:00</th>\n",
       "      <td>4.769374e+06</td>\n",
       "      <td>Ethereum</td>\n",
       "    </tr>\n",
       "    <tr>\n",
       "      <th>2025-02-23 18:00:00</th>\n",
       "      <td>4.769374e+06</td>\n",
       "      <td>Ethereum</td>\n",
       "    </tr>\n",
       "    <tr>\n",
       "      <th>2025-02-23 17:00:00</th>\n",
       "      <td>4.769374e+06</td>\n",
       "      <td>Ethereum</td>\n",
       "    </tr>\n",
       "    <tr>\n",
       "      <th>2025-02-23 16:00:00</th>\n",
       "      <td>4.769374e+06</td>\n",
       "      <td>Ethereum</td>\n",
       "    </tr>\n",
       "    <tr>\n",
       "      <th>...</th>\n",
       "      <td>...</td>\n",
       "      <td>...</td>\n",
       "    </tr>\n",
       "    <tr>\n",
       "      <th>2025-01-16 18:00:00</th>\n",
       "      <td>4.934513e+03</td>\n",
       "      <td>Ethereum</td>\n",
       "    </tr>\n",
       "    <tr>\n",
       "      <th>2025-01-16 17:00:00</th>\n",
       "      <td>4.934513e+03</td>\n",
       "      <td>Ethereum</td>\n",
       "    </tr>\n",
       "    <tr>\n",
       "      <th>2025-01-16 16:00:00</th>\n",
       "      <td>4.934513e+03</td>\n",
       "      <td>Ethereum</td>\n",
       "    </tr>\n",
       "    <tr>\n",
       "      <th>2025-01-16 15:00:00</th>\n",
       "      <td>4.934513e+03</td>\n",
       "      <td>Ethereum</td>\n",
       "    </tr>\n",
       "    <tr>\n",
       "      <th>2025-01-16 14:00:00</th>\n",
       "      <td>4.934513e+03</td>\n",
       "      <td>Ethereum</td>\n",
       "    </tr>\n",
       "  </tbody>\n",
       "</table>\n",
       "<p>919 rows × 2 columns</p>\n",
       "</div>"
      ],
      "text/plain": [
       "                      current_bal blockchain\n",
       "dt                                          \n",
       "2025-02-23 20:00:00  4.769374e+06   Ethereum\n",
       "2025-02-23 19:00:00  4.769374e+06   Ethereum\n",
       "2025-02-23 18:00:00  4.769374e+06   Ethereum\n",
       "2025-02-23 17:00:00  4.769374e+06   Ethereum\n",
       "2025-02-23 16:00:00  4.769374e+06   Ethereum\n",
       "...                           ...        ...\n",
       "2025-01-16 18:00:00  4.934513e+03   Ethereum\n",
       "2025-01-16 17:00:00  4.934513e+03   Ethereum\n",
       "2025-01-16 16:00:00  4.934513e+03   Ethereum\n",
       "2025-01-16 15:00:00  4.934513e+03   Ethereum\n",
       "2025-01-16 14:00:00  4.934513e+03   Ethereum\n",
       "\n",
       "[919 rows x 2 columns]"
      ]
     },
     "execution_count": 73,
     "metadata": {},
     "output_type": "execute_result"
    }
   ],
   "source": [
    "rlusd_eth_df = eth_rlusd_bal_timeseries[['current_bal']]\n",
    "rlusd_eth_df['blockchain'] = 'Ethereum'\n",
    "rlusd_eth_df"
   ]
  },
  {
   "cell_type": "code",
   "execution_count": 74,
   "metadata": {},
   "outputs": [],
   "source": [
    "rlusd_eth_df.index = pd.to_datetime(rlusd_eth_df.index)"
   ]
  },
  {
   "cell_type": "code",
   "execution_count": 75,
   "metadata": {},
   "outputs": [
    {
     "data": {
      "text/plain": [
       "DatetimeIndex(['2025-02-17 21:00:00', '2025-02-17 22:00:00',\n",
       "               '2025-02-17 23:00:00', '2025-02-18 00:00:00',\n",
       "               '2025-02-18 01:00:00', '2025-02-18 02:00:00',\n",
       "               '2025-02-18 03:00:00', '2025-02-18 04:00:00',\n",
       "               '2025-02-18 05:00:00', '2025-02-18 06:00:00',\n",
       "               ...\n",
       "               '2025-02-23 11:00:00', '2025-02-23 12:00:00',\n",
       "               '2025-02-23 14:00:00', '2025-02-23 15:00:00',\n",
       "               '2025-02-23 16:00:00', '2025-02-23 17:00:00',\n",
       "               '2025-02-23 18:00:00', '2025-02-23 19:00:00',\n",
       "               '2025-02-23 20:00:00', '2025-02-23 21:00:00'],\n",
       "              dtype='datetime64[ns]', name='dt', length=139, freq=None)"
      ]
     },
     "execution_count": 75,
     "metadata": {},
     "output_type": "execute_result"
    }
   ],
   "source": [
    "rlusd_xrp_df.index"
   ]
  },
  {
   "cell_type": "code",
   "execution_count": 76,
   "metadata": {},
   "outputs": [],
   "source": [
    "merged_df = pd.merge(\n",
    "    rlusd_eth_df[['current_bal']].rename(columns={\"current_bal\":\"RLUSD_ETH_LP\"}),\n",
    "    rlusd_xrp_df[['current_bal']].rename(columns={\"current_bal\":\"RLUSD_XRP_LP\"}),\n",
    "    left_index=True,\n",
    "    right_index=True,\n",
    "    how='right'\n",
    ").ffill()"
   ]
  },
  {
   "cell_type": "code",
   "execution_count": 77,
   "metadata": {},
   "outputs": [],
   "source": [
    "def prepare_data_for_simulation(price_timeseries, start_date, end_date):\n",
    "    \"\"\"\n",
    "    Ensure price_timeseries has entries for start_date and end_date.\n",
    "    If not, fill in these dates using the last available data.\n",
    "    \"\"\"\n",
    "    # Ensure 'ds' is in datetime format\n",
    "    # price_timeseries['hour'] = pd.to_datetime(price_timeseries['hour'])\n",
    "    \n",
    "    # Set the index to 'ds' for easier manipulation\n",
    "    # if price_timeseries.index.name != 'hour':\n",
    "    #     price_timeseries.set_index('hour', inplace=True)\n",
    "\n",
    "    print(f'price index: {price_timeseries.index}')\n",
    "\n",
    "    price_timeseries.index = price_timeseries.index.tz_localize(None)\n",
    "    \n",
    "    # Check if start_date and end_date exist in the data\n",
    "    required_dates = pd.date_range(start=start_date, end=end_date, freq='H')\n",
    "    all_dates = price_timeseries.index.union(required_dates)\n",
    "    \n",
    "    # Reindex the dataframe to ensure all dates from start to end are present\n",
    "    price_timeseries = price_timeseries.reindex(all_dates)\n",
    "    \n",
    "    # Forward fill to handle NaN values if any dates were missing\n",
    "    price_timeseries.fillna(method='ffill', inplace=True)\n",
    "\n",
    "    # Reset index if necessary or keep the datetime index based on further needs\n",
    "    # price_timeseries.reset_index(inplace=True, drop=False)\n",
    "    # price_timeseries.rename(columns={'index': 'hour'}, inplace=True)\n",
    "    # price_timeseries.set_index('hour',inplace=True)\n",
    "    \n",
    "    return price_timeseries"
   ]
  },
  {
   "cell_type": "code",
   "execution_count": 78,
   "metadata": {},
   "outputs": [
    {
     "data": {
      "text/plain": [
       "DatetimeIndex(['2025-02-23 20:00:00', '2025-02-23 19:00:00',\n",
       "               '2025-02-23 18:00:00', '2025-02-23 17:00:00',\n",
       "               '2025-02-23 16:00:00', '2025-02-23 15:00:00',\n",
       "               '2025-02-23 14:00:00', '2025-02-23 13:00:00',\n",
       "               '2025-02-23 12:00:00', '2025-02-23 11:00:00',\n",
       "               ...\n",
       "               '2025-01-16 23:00:00', '2025-01-16 22:00:00',\n",
       "               '2025-01-16 21:00:00', '2025-01-16 20:00:00',\n",
       "               '2025-01-16 19:00:00', '2025-01-16 18:00:00',\n",
       "               '2025-01-16 17:00:00', '2025-01-16 16:00:00',\n",
       "               '2025-01-16 15:00:00', '2025-01-16 14:00:00'],\n",
       "              dtype='datetime64[ns]', name='dt', length=919, freq=None)"
      ]
     },
     "execution_count": 78,
     "metadata": {},
     "output_type": "execute_result"
    }
   ],
   "source": [
    "rlusd_eth_df.index"
   ]
  },
  {
   "cell_type": "code",
   "execution_count": 79,
   "metadata": {},
   "outputs": [
    {
     "name": "stdout",
     "output_type": "stream",
     "text": [
      "price index: DatetimeIndex(['2025-02-23 20:00:00', '2025-02-23 19:00:00',\n",
      "               '2025-02-23 18:00:00', '2025-02-23 17:00:00',\n",
      "               '2025-02-23 16:00:00', '2025-02-23 15:00:00',\n",
      "               '2025-02-23 14:00:00', '2025-02-23 13:00:00',\n",
      "               '2025-02-23 12:00:00', '2025-02-23 11:00:00',\n",
      "               ...\n",
      "               '2025-01-16 23:00:00', '2025-01-16 22:00:00',\n",
      "               '2025-01-16 21:00:00', '2025-01-16 20:00:00',\n",
      "               '2025-01-16 19:00:00', '2025-01-16 18:00:00',\n",
      "               '2025-01-16 17:00:00', '2025-01-16 16:00:00',\n",
      "               '2025-01-16 15:00:00', '2025-01-16 14:00:00'],\n",
      "              dtype='datetime64[ns]', name='dt', length=919, freq=None)\n"
     ]
    },
    {
     "name": "stderr",
     "output_type": "stream",
     "text": [
      "C:\\Users\\brandyns pc\\AppData\\Local\\Temp\\ipykernel_13872\\1186389551.py:18: FutureWarning:\n",
      "\n",
      "'H' is deprecated and will be removed in a future version, please use 'h' instead.\n",
      "\n",
      "C:\\Users\\brandyns pc\\AppData\\Local\\Temp\\ipykernel_13872\\1186389551.py:25: FutureWarning:\n",
      "\n",
      "DataFrame.fillna with 'method' is deprecated and will raise in a future version. Use obj.ffill() or obj.bfill() instead.\n",
      "\n"
     ]
    }
   ],
   "source": [
    "rlusd_eth_df = prepare_data_for_simulation(rlusd_eth_df,rlusd_xrp_df.index.min(),rlusd_xrp_df.index.max())"
   ]
  },
  {
   "cell_type": "code",
   "execution_count": 80,
   "metadata": {},
   "outputs": [
    {
     "data": {
      "text/html": [
       "<div>\n",
       "<style scoped>\n",
       "    .dataframe tbody tr th:only-of-type {\n",
       "        vertical-align: middle;\n",
       "    }\n",
       "\n",
       "    .dataframe tbody tr th {\n",
       "        vertical-align: top;\n",
       "    }\n",
       "\n",
       "    .dataframe thead th {\n",
       "        text-align: right;\n",
       "    }\n",
       "</style>\n",
       "<table border=\"1\" class=\"dataframe\">\n",
       "  <thead>\n",
       "    <tr style=\"text-align: right;\">\n",
       "      <th></th>\n",
       "      <th>current_bal</th>\n",
       "      <th>blockchain</th>\n",
       "    </tr>\n",
       "  </thead>\n",
       "  <tbody>\n",
       "    <tr>\n",
       "      <th>2025-01-16 14:00:00</th>\n",
       "      <td>4.934513e+03</td>\n",
       "      <td>Ethereum</td>\n",
       "    </tr>\n",
       "    <tr>\n",
       "      <th>2025-01-16 15:00:00</th>\n",
       "      <td>4.934513e+03</td>\n",
       "      <td>Ethereum</td>\n",
       "    </tr>\n",
       "    <tr>\n",
       "      <th>2025-01-16 16:00:00</th>\n",
       "      <td>4.934513e+03</td>\n",
       "      <td>Ethereum</td>\n",
       "    </tr>\n",
       "    <tr>\n",
       "      <th>2025-01-16 17:00:00</th>\n",
       "      <td>4.934513e+03</td>\n",
       "      <td>Ethereum</td>\n",
       "    </tr>\n",
       "    <tr>\n",
       "      <th>2025-01-16 18:00:00</th>\n",
       "      <td>4.934513e+03</td>\n",
       "      <td>Ethereum</td>\n",
       "    </tr>\n",
       "    <tr>\n",
       "      <th>...</th>\n",
       "      <td>...</td>\n",
       "      <td>...</td>\n",
       "    </tr>\n",
       "    <tr>\n",
       "      <th>2025-02-23 17:00:00</th>\n",
       "      <td>4.769374e+06</td>\n",
       "      <td>Ethereum</td>\n",
       "    </tr>\n",
       "    <tr>\n",
       "      <th>2025-02-23 18:00:00</th>\n",
       "      <td>4.769374e+06</td>\n",
       "      <td>Ethereum</td>\n",
       "    </tr>\n",
       "    <tr>\n",
       "      <th>2025-02-23 19:00:00</th>\n",
       "      <td>4.769374e+06</td>\n",
       "      <td>Ethereum</td>\n",
       "    </tr>\n",
       "    <tr>\n",
       "      <th>2025-02-23 20:00:00</th>\n",
       "      <td>4.769374e+06</td>\n",
       "      <td>Ethereum</td>\n",
       "    </tr>\n",
       "    <tr>\n",
       "      <th>2025-02-23 21:00:00</th>\n",
       "      <td>4.769374e+06</td>\n",
       "      <td>Ethereum</td>\n",
       "    </tr>\n",
       "  </tbody>\n",
       "</table>\n",
       "<p>920 rows × 2 columns</p>\n",
       "</div>"
      ],
      "text/plain": [
       "                      current_bal blockchain\n",
       "2025-01-16 14:00:00  4.934513e+03   Ethereum\n",
       "2025-01-16 15:00:00  4.934513e+03   Ethereum\n",
       "2025-01-16 16:00:00  4.934513e+03   Ethereum\n",
       "2025-01-16 17:00:00  4.934513e+03   Ethereum\n",
       "2025-01-16 18:00:00  4.934513e+03   Ethereum\n",
       "...                           ...        ...\n",
       "2025-02-23 17:00:00  4.769374e+06   Ethereum\n",
       "2025-02-23 18:00:00  4.769374e+06   Ethereum\n",
       "2025-02-23 19:00:00  4.769374e+06   Ethereum\n",
       "2025-02-23 20:00:00  4.769374e+06   Ethereum\n",
       "2025-02-23 21:00:00  4.769374e+06   Ethereum\n",
       "\n",
       "[920 rows x 2 columns]"
      ]
     },
     "execution_count": 80,
     "metadata": {},
     "output_type": "execute_result"
    }
   ],
   "source": [
    "rlusd_eth_df"
   ]
  },
  {
   "cell_type": "code",
   "execution_count": 81,
   "metadata": {},
   "outputs": [],
   "source": [
    "rlusd_xrp_df.ffill(inplace=True)"
   ]
  },
  {
   "cell_type": "code",
   "execution_count": 82,
   "metadata": {},
   "outputs": [],
   "source": [
    "daily_eth_lp = rlusd_eth_df.resample('D').last()"
   ]
  },
  {
   "cell_type": "code",
   "execution_count": 83,
   "metadata": {},
   "outputs": [],
   "source": [
    "daily_xrpl_lp = rlusd_xrp_df.resample('D').last()"
   ]
  },
  {
   "cell_type": "code",
   "execution_count": 84,
   "metadata": {},
   "outputs": [],
   "source": [
    "combined_rlusd_lp = pd.concat([daily_eth_lp,daily_xrpl_lp])"
   ]
  },
  {
   "cell_type": "code",
   "execution_count": 85,
   "metadata": {},
   "outputs": [
    {
     "data": {
      "text/html": [
       "<div>\n",
       "<style scoped>\n",
       "    .dataframe tbody tr th:only-of-type {\n",
       "        vertical-align: middle;\n",
       "    }\n",
       "\n",
       "    .dataframe tbody tr th {\n",
       "        vertical-align: top;\n",
       "    }\n",
       "\n",
       "    .dataframe thead th {\n",
       "        text-align: right;\n",
       "    }\n",
       "</style>\n",
       "<table border=\"1\" class=\"dataframe\">\n",
       "  <thead>\n",
       "    <tr style=\"text-align: right;\">\n",
       "      <th></th>\n",
       "      <th>current_bal</th>\n",
       "      <th>blockchain</th>\n",
       "    </tr>\n",
       "  </thead>\n",
       "  <tbody>\n",
       "    <tr>\n",
       "      <th>2025-01-16</th>\n",
       "      <td>4.617377e+03</td>\n",
       "      <td>Ethereum</td>\n",
       "    </tr>\n",
       "    <tr>\n",
       "      <th>2025-01-17</th>\n",
       "      <td>9.287613e+02</td>\n",
       "      <td>Ethereum</td>\n",
       "    </tr>\n",
       "    <tr>\n",
       "      <th>2025-01-18</th>\n",
       "      <td>9.140881e+02</td>\n",
       "      <td>Ethereum</td>\n",
       "    </tr>\n",
       "    <tr>\n",
       "      <th>2025-01-19</th>\n",
       "      <td>8.146444e+02</td>\n",
       "      <td>Ethereum</td>\n",
       "    </tr>\n",
       "    <tr>\n",
       "      <th>2025-01-20</th>\n",
       "      <td>4.978103e+02</td>\n",
       "      <td>Ethereum</td>\n",
       "    </tr>\n",
       "    <tr>\n",
       "      <th>2025-01-21</th>\n",
       "      <td>4.356485e+02</td>\n",
       "      <td>Ethereum</td>\n",
       "    </tr>\n",
       "    <tr>\n",
       "      <th>2025-01-22</th>\n",
       "      <td>5.377521e+02</td>\n",
       "      <td>Ethereum</td>\n",
       "    </tr>\n",
       "    <tr>\n",
       "      <th>2025-01-23</th>\n",
       "      <td>4.180613e+03</td>\n",
       "      <td>Ethereum</td>\n",
       "    </tr>\n",
       "    <tr>\n",
       "      <th>2025-01-24</th>\n",
       "      <td>5.278855e+03</td>\n",
       "      <td>Ethereum</td>\n",
       "    </tr>\n",
       "    <tr>\n",
       "      <th>2025-01-25</th>\n",
       "      <td>4.212158e+03</td>\n",
       "      <td>Ethereum</td>\n",
       "    </tr>\n",
       "    <tr>\n",
       "      <th>2025-01-26</th>\n",
       "      <td>3.982519e+03</td>\n",
       "      <td>Ethereum</td>\n",
       "    </tr>\n",
       "    <tr>\n",
       "      <th>2025-01-27</th>\n",
       "      <td>4.734479e+03</td>\n",
       "      <td>Ethereum</td>\n",
       "    </tr>\n",
       "    <tr>\n",
       "      <th>2025-01-28</th>\n",
       "      <td>8.668978e+05</td>\n",
       "      <td>Ethereum</td>\n",
       "    </tr>\n",
       "    <tr>\n",
       "      <th>2025-01-29</th>\n",
       "      <td>4.869176e+06</td>\n",
       "      <td>Ethereum</td>\n",
       "    </tr>\n",
       "    <tr>\n",
       "      <th>2025-01-30</th>\n",
       "      <td>4.866818e+06</td>\n",
       "      <td>Ethereum</td>\n",
       "    </tr>\n",
       "    <tr>\n",
       "      <th>2025-01-31</th>\n",
       "      <td>4.883328e+06</td>\n",
       "      <td>Ethereum</td>\n",
       "    </tr>\n",
       "    <tr>\n",
       "      <th>2025-02-01</th>\n",
       "      <td>4.874172e+06</td>\n",
       "      <td>Ethereum</td>\n",
       "    </tr>\n",
       "    <tr>\n",
       "      <th>2025-02-02</th>\n",
       "      <td>4.886764e+06</td>\n",
       "      <td>Ethereum</td>\n",
       "    </tr>\n",
       "    <tr>\n",
       "      <th>2025-02-03</th>\n",
       "      <td>4.871739e+06</td>\n",
       "      <td>Ethereum</td>\n",
       "    </tr>\n",
       "    <tr>\n",
       "      <th>2025-02-04</th>\n",
       "      <td>4.841330e+06</td>\n",
       "      <td>Ethereum</td>\n",
       "    </tr>\n",
       "    <tr>\n",
       "      <th>2025-02-05</th>\n",
       "      <td>4.787588e+06</td>\n",
       "      <td>Ethereum</td>\n",
       "    </tr>\n",
       "    <tr>\n",
       "      <th>2025-02-06</th>\n",
       "      <td>4.787012e+06</td>\n",
       "      <td>Ethereum</td>\n",
       "    </tr>\n",
       "    <tr>\n",
       "      <th>2025-02-07</th>\n",
       "      <td>4.785627e+06</td>\n",
       "      <td>Ethereum</td>\n",
       "    </tr>\n",
       "    <tr>\n",
       "      <th>2025-02-08</th>\n",
       "      <td>4.778034e+06</td>\n",
       "      <td>Ethereum</td>\n",
       "    </tr>\n",
       "    <tr>\n",
       "      <th>2025-02-09</th>\n",
       "      <td>4.765112e+06</td>\n",
       "      <td>Ethereum</td>\n",
       "    </tr>\n",
       "    <tr>\n",
       "      <th>2025-02-10</th>\n",
       "      <td>4.753127e+06</td>\n",
       "      <td>Ethereum</td>\n",
       "    </tr>\n",
       "    <tr>\n",
       "      <th>2025-02-11</th>\n",
       "      <td>4.783950e+06</td>\n",
       "      <td>Ethereum</td>\n",
       "    </tr>\n",
       "    <tr>\n",
       "      <th>2025-02-12</th>\n",
       "      <td>4.774008e+06</td>\n",
       "      <td>Ethereum</td>\n",
       "    </tr>\n",
       "    <tr>\n",
       "      <th>2025-02-13</th>\n",
       "      <td>4.754386e+06</td>\n",
       "      <td>Ethereum</td>\n",
       "    </tr>\n",
       "    <tr>\n",
       "      <th>2025-02-14</th>\n",
       "      <td>4.753790e+06</td>\n",
       "      <td>Ethereum</td>\n",
       "    </tr>\n",
       "    <tr>\n",
       "      <th>2025-02-15</th>\n",
       "      <td>4.758177e+06</td>\n",
       "      <td>Ethereum</td>\n",
       "    </tr>\n",
       "    <tr>\n",
       "      <th>2025-02-16</th>\n",
       "      <td>4.755934e+06</td>\n",
       "      <td>Ethereum</td>\n",
       "    </tr>\n",
       "    <tr>\n",
       "      <th>2025-02-17</th>\n",
       "      <td>4.755652e+06</td>\n",
       "      <td>Ethereum</td>\n",
       "    </tr>\n",
       "    <tr>\n",
       "      <th>2025-02-18</th>\n",
       "      <td>4.755673e+06</td>\n",
       "      <td>Ethereum</td>\n",
       "    </tr>\n",
       "    <tr>\n",
       "      <th>2025-02-19</th>\n",
       "      <td>4.755673e+06</td>\n",
       "      <td>Ethereum</td>\n",
       "    </tr>\n",
       "    <tr>\n",
       "      <th>2025-02-20</th>\n",
       "      <td>4.755946e+06</td>\n",
       "      <td>Ethereum</td>\n",
       "    </tr>\n",
       "    <tr>\n",
       "      <th>2025-02-21</th>\n",
       "      <td>4.769301e+06</td>\n",
       "      <td>Ethereum</td>\n",
       "    </tr>\n",
       "    <tr>\n",
       "      <th>2025-02-22</th>\n",
       "      <td>4.769315e+06</td>\n",
       "      <td>Ethereum</td>\n",
       "    </tr>\n",
       "    <tr>\n",
       "      <th>2025-02-23</th>\n",
       "      <td>4.769374e+06</td>\n",
       "      <td>Ethereum</td>\n",
       "    </tr>\n",
       "    <tr>\n",
       "      <th>2025-02-17</th>\n",
       "      <td>1.611439e+06</td>\n",
       "      <td>XRP Ledger</td>\n",
       "    </tr>\n",
       "    <tr>\n",
       "      <th>2025-02-18</th>\n",
       "      <td>1.394979e+06</td>\n",
       "      <td>XRP Ledger</td>\n",
       "    </tr>\n",
       "    <tr>\n",
       "      <th>2025-02-19</th>\n",
       "      <td>1.445532e+06</td>\n",
       "      <td>XRP Ledger</td>\n",
       "    </tr>\n",
       "    <tr>\n",
       "      <th>2025-02-20</th>\n",
       "      <td>1.425331e+06</td>\n",
       "      <td>XRP Ledger</td>\n",
       "    </tr>\n",
       "    <tr>\n",
       "      <th>2025-02-21</th>\n",
       "      <td>1.411162e+06</td>\n",
       "      <td>XRP Ledger</td>\n",
       "    </tr>\n",
       "    <tr>\n",
       "      <th>2025-02-22</th>\n",
       "      <td>1.408027e+06</td>\n",
       "      <td>XRP Ledger</td>\n",
       "    </tr>\n",
       "    <tr>\n",
       "      <th>2025-02-23</th>\n",
       "      <td>1.418783e+06</td>\n",
       "      <td>XRP Ledger</td>\n",
       "    </tr>\n",
       "  </tbody>\n",
       "</table>\n",
       "</div>"
      ],
      "text/plain": [
       "             current_bal  blockchain\n",
       "2025-01-16  4.617377e+03    Ethereum\n",
       "2025-01-17  9.287613e+02    Ethereum\n",
       "2025-01-18  9.140881e+02    Ethereum\n",
       "2025-01-19  8.146444e+02    Ethereum\n",
       "2025-01-20  4.978103e+02    Ethereum\n",
       "2025-01-21  4.356485e+02    Ethereum\n",
       "2025-01-22  5.377521e+02    Ethereum\n",
       "2025-01-23  4.180613e+03    Ethereum\n",
       "2025-01-24  5.278855e+03    Ethereum\n",
       "2025-01-25  4.212158e+03    Ethereum\n",
       "2025-01-26  3.982519e+03    Ethereum\n",
       "2025-01-27  4.734479e+03    Ethereum\n",
       "2025-01-28  8.668978e+05    Ethereum\n",
       "2025-01-29  4.869176e+06    Ethereum\n",
       "2025-01-30  4.866818e+06    Ethereum\n",
       "2025-01-31  4.883328e+06    Ethereum\n",
       "2025-02-01  4.874172e+06    Ethereum\n",
       "2025-02-02  4.886764e+06    Ethereum\n",
       "2025-02-03  4.871739e+06    Ethereum\n",
       "2025-02-04  4.841330e+06    Ethereum\n",
       "2025-02-05  4.787588e+06    Ethereum\n",
       "2025-02-06  4.787012e+06    Ethereum\n",
       "2025-02-07  4.785627e+06    Ethereum\n",
       "2025-02-08  4.778034e+06    Ethereum\n",
       "2025-02-09  4.765112e+06    Ethereum\n",
       "2025-02-10  4.753127e+06    Ethereum\n",
       "2025-02-11  4.783950e+06    Ethereum\n",
       "2025-02-12  4.774008e+06    Ethereum\n",
       "2025-02-13  4.754386e+06    Ethereum\n",
       "2025-02-14  4.753790e+06    Ethereum\n",
       "2025-02-15  4.758177e+06    Ethereum\n",
       "2025-02-16  4.755934e+06    Ethereum\n",
       "2025-02-17  4.755652e+06    Ethereum\n",
       "2025-02-18  4.755673e+06    Ethereum\n",
       "2025-02-19  4.755673e+06    Ethereum\n",
       "2025-02-20  4.755946e+06    Ethereum\n",
       "2025-02-21  4.769301e+06    Ethereum\n",
       "2025-02-22  4.769315e+06    Ethereum\n",
       "2025-02-23  4.769374e+06    Ethereum\n",
       "2025-02-17  1.611439e+06  XRP Ledger\n",
       "2025-02-18  1.394979e+06  XRP Ledger\n",
       "2025-02-19  1.445532e+06  XRP Ledger\n",
       "2025-02-20  1.425331e+06  XRP Ledger\n",
       "2025-02-21  1.411162e+06  XRP Ledger\n",
       "2025-02-22  1.408027e+06  XRP Ledger\n",
       "2025-02-23  1.418783e+06  XRP Ledger"
      ]
     },
     "execution_count": 85,
     "metadata": {},
     "output_type": "execute_result"
    }
   ],
   "source": [
    "combined_rlusd_lp"
   ]
  },
  {
   "cell_type": "code",
   "execution_count": 86,
   "metadata": {},
   "outputs": [],
   "source": [
    "combined_rlusd_lp.index = pd.to_datetime(combined_rlusd_lp.index)\n",
    "combined_rlusd_lp.sort_index(inplace=True)"
   ]
  },
  {
   "cell_type": "code",
   "execution_count": 199,
   "metadata": {},
   "outputs": [
    {
     "name": "stdout",
     "output_type": "stream",
     "text": [
      "Initialized axes_data: {'y1': 'All', 'y2': []}\n",
      "tick0: 2025-02-18 00:00:00\n",
      "turn_to_time: True\n",
      "df sort order at init: ['Ethereum' 'XRP Ledger']\n"
     ]
    }
   ],
   "source": [
    "fig4 = visualization_pipeline(\n",
    "df=combined_rlusd_lp[combined_rlusd_lp.index >= rlusd_xrp_df.index.min()],\n",
    "    title='rlusd_fig4',\n",
    "    start_date=str(rlusd_xrp_df.index.min()),\n",
    "    # end_date='2024-12-31',\n",
    "    # end_date='2024-10-01',\n",
    "    chart_type='line',\n",
    "    dimensions=dict(height=351, width=730),\n",
    "    groupby = 'blockchain',\n",
    "    num_col='current_bal',\n",
    "    # cols_to_plot=[\"RLUSD_ETH_LP\",\"RLUSD_XRP_LP\"],\n",
    "    # line_col=['cumulative_freq'],\n",
    "    # bar_col=['freg'],\n",
    "    tickangle=0,\n",
    "    dropna=True,\n",
    "    area=True,\n",
    "    colors=combined_colors,\n",
    "    # axes_data=dict(y1=['total_tvl'],y2=[]),\n",
    "    # tickformat=dict(x='%b<br>`%y',y1=None,y2=None),\n",
    "    legend_font_size=12,\n",
    "    font_family=font_family,\n",
    "    cumulative_sort=True,\n",
    "    normalize=False,\n",
    "    decimals=True,\n",
    "    decimal_places=1,\n",
    "    y2=True,\n",
    "    min_tick_spacing=50,\n",
    "    # buffer=3,\n",
    "    barmode='group',\n",
    "    mode='lines',\n",
    "    # font_size=14,\n",
    "    # line_width=3,\n",
    "    marker_size=3,\n",
    "    tickprefix=dict(y1='$',y2=None),\n",
    "    ticksuffix=dict(y1=None,y2=None),\n",
    "    axes_titles=dict(y1=None,y2=None),\n",
    "    show_legend=True,\n",
    "    hole_size=0,\n",
    "    # line_width=1,\n",
    "    descending=False,\n",
    "    margin=dict(l=0, r=0, t=100, b=0),\n",
    "    legend_background=dict(bgcolor='white',bordercolor='black',\n",
    "                                                                                                    borderwidth=1, itemsizing='constant',\n",
    "                                                                                                    yanchor=\"top\",xanchor=\"center\",buffer=8),\n",
    "    # buffer = 0.25,\n",
    "    annotations=False,\n",
    "    legend_placement=dict(x=0.75,y=0.9),\n",
    "    text=True,\n",
    "    orientation='h',\n",
    "    sort_list=True,\n",
    "    autosize=False,\n",
    "    max_annotation=False,\n",
    "    annotation_prefix=\"$\",\n",
    "    auto_title=False,\n",
    "    axes_font_colors='auto',\n",
    "    to_reverse=False,\n",
    "    line_color='black',\n",
    "    use_single_color=False,\n",
    "    custom_annotation = ['2022-10-31'],\n",
    "    # axes_font_colors='auto',\n",
    ")"
   ]
  },
  {
   "cell_type": "code",
   "execution_count": null,
   "metadata": {},
   "outputs": [
    {
     "name": "stdout",
     "output_type": "stream",
     "text": [
      "save:False\n",
      "logo path: ../img/Logos/None\n",
      "Generating line plot...\n",
      "axes titles at viz pipeline: {'y1': None, 'y2': None}\n",
      "GroupBy Col: blockchain\n",
      "tick0: 2025-02-18 00:00:00\n",
      "df @ rank_by_col:              current_bal  blockchain  marker_size\n",
      "2025-02-18  4.755673e+06    Ethereum            3\n",
      "2025-02-18  1.394979e+06  XRP Ledger            3\n",
      "2025-02-19  1.445532e+06  XRP Ledger            3\n",
      "2025-02-19  4.755673e+06    Ethereum            3\n",
      "2025-02-20  4.755946e+06    Ethereum            3\n",
      "2025-02-20  1.425331e+06  XRP Ledger            3\n",
      "2025-02-21  4.769301e+06    Ethereum            3\n",
      "2025-02-21  1.411162e+06  XRP Ledger            3\n",
      "2025-02-22  1.408027e+06  XRP Ledger            3\n",
      "2025-02-22  4.769315e+06    Ethereum            3\n",
      "2025-02-23  4.769374e+06    Ethereum            3\n",
      "2025-02-23  1.418783e+06  XRP Ledger            3\n",
      "df:              current_bal  blockchain  marker_size\n",
      "2025-02-18  4.755673e+06    Ethereum            3\n",
      "2025-02-18  1.394979e+06  XRP Ledger            3\n",
      "2025-02-19  1.445532e+06  XRP Ledger            3\n",
      "2025-02-19  4.755673e+06    Ethereum            3\n",
      "2025-02-20  4.755946e+06    Ethereum            3\n",
      "2025-02-20  1.425331e+06  XRP Ledger            3\n",
      "2025-02-21  4.769301e+06    Ethereum            3\n",
      "2025-02-21  1.411162e+06  XRP Ledger            3\n",
      "2025-02-22  1.408027e+06  XRP Ledger            3\n",
      "2025-02-22  4.769315e+06    Ethereum            3\n",
      "2025-02-23  4.769374e+06    Ethereum            3\n",
      "2025-02-23  1.418783e+06  XRP Ledger            3\n",
      "Available columns in df: Index(['current_bal', 'blockchain', 'marker_size'], dtype='object')\n",
      "sort_col: blockchain\n",
      "num_col: current_bal\n",
      "sort_list: ['XRP Ledger', 'Ethereum']\n",
      "color_map: {'Ethereum': '#00CC96', 'XRP Ledger': '#67D8FE'}\n",
      "x:1418783.412744309M\n",
      "idx: 0\n",
      "custom_annotation: ['2022-10-31']\n",
      "i_df index:              current_bal  blockchain  marker_size\n",
      "2025-02-18  1.394979e+06  XRP Ledger            3\n",
      "2025-02-19  1.445532e+06  XRP Ledger            3\n",
      "2025-02-20  1.425331e+06  XRP Ledger            3\n",
      "2025-02-21  1.411162e+06  XRP Ledger            3\n",
      "2025-02-22  1.408027e+06  XRP Ledger            3\n",
      "2025-02-23  1.418783e+06  XRP Ledger            3\n",
      "custom_annotation: 2022-10-31\n",
      "x:4769374.05912583M\n",
      "idx: 1\n",
      "custom_annotation: ['2022-10-31']\n",
      "Columns: Index(['current_bal', 'blockchain', 'marker_size'], dtype='object') \n",
      "Index: DatetimeIndex(['2025-02-18', '2025-02-18', '2025-02-19', '2025-02-19',\n",
      "               '2025-02-20', '2025-02-20', '2025-02-21', '2025-02-21',\n",
      "               '2025-02-22', '2025-02-22', '2025-02-23', '2025-02-23'],\n",
      "              dtype='datetime64[ns]', freq=None)\n"
     ]
    },
    {
     "data": {
      "application/vnd.plotly.v1+json": {
       "config": {
        "linkText": "Export to plot.ly",
        "plotlyServerURL": "https://plot.ly",
        "showLink": false
       },
       "data": [
        {
         "connectgaps": true,
         "line": {
          "color": "#67D8FE",
          "width": 4
         },
         "marker": {
          "color": "#67D8FE",
          "size": [
           3,
           3,
           3,
           3,
           3,
           3
          ]
         },
         "mode": "lines",
         "name": "XRP Ledger ($1.4M)        ",
         "showlegend": true,
         "stackgroup": "one",
         "type": "scatter",
         "x": [
          "2025-02-18T00:00:00.000000000",
          "2025-02-19T00:00:00.000000000",
          "2025-02-20T00:00:00.000000000",
          "2025-02-21T00:00:00.000000000",
          "2025-02-22T00:00:00.000000000",
          "2025-02-23T00:00:00.000000000"
         ],
         "xaxis": "x",
         "y": {
          "bdata": "+1lqdyNJNUHHRoOUmw42QfGaOvCyvzVB4oFYVVqINUHaHRAqG3w1QW2cqWkfpjVB",
          "dtype": "f8"
         },
         "yaxis": "y"
        },
        {
         "connectgaps": true,
         "line": {
          "color": "#00CC96",
          "width": 4
         },
         "marker": {
          "color": "#00CC96",
          "size": [
           3,
           3,
           3,
           3,
           3,
           3
          ]
         },
         "mode": "lines",
         "name": "Ethereum ($4.8M)        ",
         "showlegend": true,
         "stackgroup": "one",
         "type": "scatter",
         "x": [
          "2025-02-18T00:00:00.000000000",
          "2025-02-19T00:00:00.000000000",
          "2025-02-20T00:00:00.000000000",
          "2025-02-21T00:00:00.000000000",
          "2025-02-22T00:00:00.000000000",
          "2025-02-23T00:00:00.000000000"
         ],
         "xaxis": "x",
         "y": {
          "bdata": "GsGnIzYkUkEawacjNiRSQZ0u6JZ6JFJBIJc6MYUxUkEZ86fDiDFSQbW3yIOXMVJB",
          "dtype": "f8"
         },
         "yaxis": "y"
        }
       ],
       "layout": {
        "annotations": [
         {
          "align": "center",
          "font": {
           "color": "black",
           "size": 12
          },
          "showarrow": false,
          "text": "Feb. 23, 2025",
          "x": 0.93,
          "xref": "paper",
          "y": 1.05,
          "yref": "paper"
         }
        ],
        "autosize": true,
        "font": {
         "color": "black",
         "family": "IBM Plex Mono",
         "size": 16
        },
        "height": 351,
        "legend": {
         "bgcolor": "white",
         "bordercolor": "black",
         "borderwidth": 1,
         "font": {
          "color": "black",
          "family": "IBM Plex Mono",
          "size": 12
         },
         "itemsizing": "constant",
         "orientation": "v",
         "traceorder": "reversed",
         "x": 0.75,
         "xanchor": "center",
         "y": 0.9,
         "yanchor": "top"
        },
        "margin": {
         "b": 0,
         "l": 0,
         "r": 0,
         "t": 100
        },
        "paper_bgcolor": "rgba(0,0,0,0)",
        "plot_bgcolor": "rgba(0,0,0,0)",
        "template": {
         "data": {
          "bar": [
           {
            "error_x": {
             "color": "#2a3f5f"
            },
            "error_y": {
             "color": "#2a3f5f"
            },
            "marker": {
             "line": {
              "color": "#E5ECF6",
              "width": 0.5
             },
             "pattern": {
              "fillmode": "overlay",
              "size": 10,
              "solidity": 0.2
             }
            },
            "type": "bar"
           }
          ],
          "barpolar": [
           {
            "marker": {
             "line": {
              "color": "#E5ECF6",
              "width": 0.5
             },
             "pattern": {
              "fillmode": "overlay",
              "size": 10,
              "solidity": 0.2
             }
            },
            "type": "barpolar"
           }
          ],
          "carpet": [
           {
            "aaxis": {
             "endlinecolor": "#2a3f5f",
             "gridcolor": "white",
             "linecolor": "white",
             "minorgridcolor": "white",
             "startlinecolor": "#2a3f5f"
            },
            "baxis": {
             "endlinecolor": "#2a3f5f",
             "gridcolor": "white",
             "linecolor": "white",
             "minorgridcolor": "white",
             "startlinecolor": "#2a3f5f"
            },
            "type": "carpet"
           }
          ],
          "choropleth": [
           {
            "colorbar": {
             "outlinewidth": 0,
             "ticks": ""
            },
            "type": "choropleth"
           }
          ],
          "contour": [
           {
            "colorbar": {
             "outlinewidth": 0,
             "ticks": ""
            },
            "colorscale": [
             [
              0,
              "#0d0887"
             ],
             [
              0.1111111111111111,
              "#46039f"
             ],
             [
              0.2222222222222222,
              "#7201a8"
             ],
             [
              0.3333333333333333,
              "#9c179e"
             ],
             [
              0.4444444444444444,
              "#bd3786"
             ],
             [
              0.5555555555555556,
              "#d8576b"
             ],
             [
              0.6666666666666666,
              "#ed7953"
             ],
             [
              0.7777777777777778,
              "#fb9f3a"
             ],
             [
              0.8888888888888888,
              "#fdca26"
             ],
             [
              1,
              "#f0f921"
             ]
            ],
            "type": "contour"
           }
          ],
          "contourcarpet": [
           {
            "colorbar": {
             "outlinewidth": 0,
             "ticks": ""
            },
            "type": "contourcarpet"
           }
          ],
          "heatmap": [
           {
            "colorbar": {
             "outlinewidth": 0,
             "ticks": ""
            },
            "colorscale": [
             [
              0,
              "#0d0887"
             ],
             [
              0.1111111111111111,
              "#46039f"
             ],
             [
              0.2222222222222222,
              "#7201a8"
             ],
             [
              0.3333333333333333,
              "#9c179e"
             ],
             [
              0.4444444444444444,
              "#bd3786"
             ],
             [
              0.5555555555555556,
              "#d8576b"
             ],
             [
              0.6666666666666666,
              "#ed7953"
             ],
             [
              0.7777777777777778,
              "#fb9f3a"
             ],
             [
              0.8888888888888888,
              "#fdca26"
             ],
             [
              1,
              "#f0f921"
             ]
            ],
            "type": "heatmap"
           }
          ],
          "histogram": [
           {
            "marker": {
             "pattern": {
              "fillmode": "overlay",
              "size": 10,
              "solidity": 0.2
             }
            },
            "type": "histogram"
           }
          ],
          "histogram2d": [
           {
            "colorbar": {
             "outlinewidth": 0,
             "ticks": ""
            },
            "colorscale": [
             [
              0,
              "#0d0887"
             ],
             [
              0.1111111111111111,
              "#46039f"
             ],
             [
              0.2222222222222222,
              "#7201a8"
             ],
             [
              0.3333333333333333,
              "#9c179e"
             ],
             [
              0.4444444444444444,
              "#bd3786"
             ],
             [
              0.5555555555555556,
              "#d8576b"
             ],
             [
              0.6666666666666666,
              "#ed7953"
             ],
             [
              0.7777777777777778,
              "#fb9f3a"
             ],
             [
              0.8888888888888888,
              "#fdca26"
             ],
             [
              1,
              "#f0f921"
             ]
            ],
            "type": "histogram2d"
           }
          ],
          "histogram2dcontour": [
           {
            "colorbar": {
             "outlinewidth": 0,
             "ticks": ""
            },
            "colorscale": [
             [
              0,
              "#0d0887"
             ],
             [
              0.1111111111111111,
              "#46039f"
             ],
             [
              0.2222222222222222,
              "#7201a8"
             ],
             [
              0.3333333333333333,
              "#9c179e"
             ],
             [
              0.4444444444444444,
              "#bd3786"
             ],
             [
              0.5555555555555556,
              "#d8576b"
             ],
             [
              0.6666666666666666,
              "#ed7953"
             ],
             [
              0.7777777777777778,
              "#fb9f3a"
             ],
             [
              0.8888888888888888,
              "#fdca26"
             ],
             [
              1,
              "#f0f921"
             ]
            ],
            "type": "histogram2dcontour"
           }
          ],
          "mesh3d": [
           {
            "colorbar": {
             "outlinewidth": 0,
             "ticks": ""
            },
            "type": "mesh3d"
           }
          ],
          "parcoords": [
           {
            "line": {
             "colorbar": {
              "outlinewidth": 0,
              "ticks": ""
             }
            },
            "type": "parcoords"
           }
          ],
          "pie": [
           {
            "automargin": true,
            "type": "pie"
           }
          ],
          "scatter": [
           {
            "fillpattern": {
             "fillmode": "overlay",
             "size": 10,
             "solidity": 0.2
            },
            "type": "scatter"
           }
          ],
          "scatter3d": [
           {
            "line": {
             "colorbar": {
              "outlinewidth": 0,
              "ticks": ""
             }
            },
            "marker": {
             "colorbar": {
              "outlinewidth": 0,
              "ticks": ""
             }
            },
            "type": "scatter3d"
           }
          ],
          "scattercarpet": [
           {
            "marker": {
             "colorbar": {
              "outlinewidth": 0,
              "ticks": ""
             }
            },
            "type": "scattercarpet"
           }
          ],
          "scattergeo": [
           {
            "marker": {
             "colorbar": {
              "outlinewidth": 0,
              "ticks": ""
             }
            },
            "type": "scattergeo"
           }
          ],
          "scattergl": [
           {
            "marker": {
             "colorbar": {
              "outlinewidth": 0,
              "ticks": ""
             }
            },
            "type": "scattergl"
           }
          ],
          "scattermap": [
           {
            "marker": {
             "colorbar": {
              "outlinewidth": 0,
              "ticks": ""
             }
            },
            "type": "scattermap"
           }
          ],
          "scattermapbox": [
           {
            "marker": {
             "colorbar": {
              "outlinewidth": 0,
              "ticks": ""
             }
            },
            "type": "scattermapbox"
           }
          ],
          "scatterpolar": [
           {
            "marker": {
             "colorbar": {
              "outlinewidth": 0,
              "ticks": ""
             }
            },
            "type": "scatterpolar"
           }
          ],
          "scatterpolargl": [
           {
            "marker": {
             "colorbar": {
              "outlinewidth": 0,
              "ticks": ""
             }
            },
            "type": "scatterpolargl"
           }
          ],
          "scatterternary": [
           {
            "marker": {
             "colorbar": {
              "outlinewidth": 0,
              "ticks": ""
             }
            },
            "type": "scatterternary"
           }
          ],
          "surface": [
           {
            "colorbar": {
             "outlinewidth": 0,
             "ticks": ""
            },
            "colorscale": [
             [
              0,
              "#0d0887"
             ],
             [
              0.1111111111111111,
              "#46039f"
             ],
             [
              0.2222222222222222,
              "#7201a8"
             ],
             [
              0.3333333333333333,
              "#9c179e"
             ],
             [
              0.4444444444444444,
              "#bd3786"
             ],
             [
              0.5555555555555556,
              "#d8576b"
             ],
             [
              0.6666666666666666,
              "#ed7953"
             ],
             [
              0.7777777777777778,
              "#fb9f3a"
             ],
             [
              0.8888888888888888,
              "#fdca26"
             ],
             [
              1,
              "#f0f921"
             ]
            ],
            "type": "surface"
           }
          ],
          "table": [
           {
            "cells": {
             "fill": {
              "color": "#EBF0F8"
             },
             "line": {
              "color": "white"
             }
            },
            "header": {
             "fill": {
              "color": "#C8D4E3"
             },
             "line": {
              "color": "white"
             }
            },
            "type": "table"
           }
          ]
         },
         "layout": {
          "annotationdefaults": {
           "arrowcolor": "#2a3f5f",
           "arrowhead": 0,
           "arrowwidth": 1
          },
          "autotypenumbers": "strict",
          "coloraxis": {
           "colorbar": {
            "outlinewidth": 0,
            "ticks": ""
           }
          },
          "colorscale": {
           "diverging": [
            [
             0,
             "#8e0152"
            ],
            [
             0.1,
             "#c51b7d"
            ],
            [
             0.2,
             "#de77ae"
            ],
            [
             0.3,
             "#f1b6da"
            ],
            [
             0.4,
             "#fde0ef"
            ],
            [
             0.5,
             "#f7f7f7"
            ],
            [
             0.6,
             "#e6f5d0"
            ],
            [
             0.7,
             "#b8e186"
            ],
            [
             0.8,
             "#7fbc41"
            ],
            [
             0.9,
             "#4d9221"
            ],
            [
             1,
             "#276419"
            ]
           ],
           "sequential": [
            [
             0,
             "#0d0887"
            ],
            [
             0.1111111111111111,
             "#46039f"
            ],
            [
             0.2222222222222222,
             "#7201a8"
            ],
            [
             0.3333333333333333,
             "#9c179e"
            ],
            [
             0.4444444444444444,
             "#bd3786"
            ],
            [
             0.5555555555555556,
             "#d8576b"
            ],
            [
             0.6666666666666666,
             "#ed7953"
            ],
            [
             0.7777777777777778,
             "#fb9f3a"
            ],
            [
             0.8888888888888888,
             "#fdca26"
            ],
            [
             1,
             "#f0f921"
            ]
           ],
           "sequentialminus": [
            [
             0,
             "#0d0887"
            ],
            [
             0.1111111111111111,
             "#46039f"
            ],
            [
             0.2222222222222222,
             "#7201a8"
            ],
            [
             0.3333333333333333,
             "#9c179e"
            ],
            [
             0.4444444444444444,
             "#bd3786"
            ],
            [
             0.5555555555555556,
             "#d8576b"
            ],
            [
             0.6666666666666666,
             "#ed7953"
            ],
            [
             0.7777777777777778,
             "#fb9f3a"
            ],
            [
             0.8888888888888888,
             "#fdca26"
            ],
            [
             1,
             "#f0f921"
            ]
           ]
          },
          "colorway": [
           "#636efa",
           "#EF553B",
           "#00cc96",
           "#ab63fa",
           "#FFA15A",
           "#19d3f3",
           "#FF6692",
           "#B6E880",
           "#FF97FF",
           "#FECB52"
          ],
          "font": {
           "color": "#2a3f5f",
           "family": "IBM Plex Mono"
          },
          "geo": {
           "bgcolor": "white",
           "lakecolor": "white",
           "landcolor": "#E5ECF6",
           "showlakes": true,
           "showland": true,
           "subunitcolor": "white"
          },
          "hoverlabel": {
           "align": "left"
          },
          "hovermode": "closest",
          "mapbox": {
           "style": "light"
          },
          "paper_bgcolor": "white",
          "plot_bgcolor": "#E5ECF6",
          "polar": {
           "angularaxis": {
            "gridcolor": "white",
            "linecolor": "white",
            "ticks": ""
           },
           "bgcolor": "#E5ECF6",
           "radialaxis": {
            "gridcolor": "white",
            "linecolor": "white",
            "ticks": ""
           }
          },
          "scene": {
           "xaxis": {
            "backgroundcolor": "#E5ECF6",
            "gridcolor": "white",
            "gridwidth": 2,
            "linecolor": "white",
            "showbackground": true,
            "ticks": "",
            "zerolinecolor": "white"
           },
           "yaxis": {
            "backgroundcolor": "#E5ECF6",
            "gridcolor": "white",
            "gridwidth": 2,
            "linecolor": "white",
            "showbackground": true,
            "ticks": "",
            "zerolinecolor": "white"
           },
           "zaxis": {
            "backgroundcolor": "#E5ECF6",
            "gridcolor": "white",
            "gridwidth": 2,
            "linecolor": "white",
            "showbackground": true,
            "ticks": "",
            "zerolinecolor": "white"
           }
          },
          "shapedefaults": {
           "line": {
            "color": "#2a3f5f"
           }
          },
          "ternary": {
           "aaxis": {
            "gridcolor": "white",
            "linecolor": "white",
            "ticks": ""
           },
           "baxis": {
            "gridcolor": "white",
            "linecolor": "white",
            "ticks": ""
           },
           "bgcolor": "#E5ECF6",
           "caxis": {
            "gridcolor": "white",
            "linecolor": "white",
            "ticks": ""
           }
          },
          "title": {
           "x": 0.05
          },
          "xaxis": {
           "automargin": true,
           "gridcolor": "white",
           "linecolor": "white",
           "ticks": "",
           "title": {
            "standoff": 15
           },
           "zerolinecolor": "white",
           "zerolinewidth": 2
          },
          "yaxis": {
           "automargin": true,
           "gridcolor": "white",
           "linecolor": "white",
           "ticks": "",
           "title": {
            "standoff": 15
           },
           "zerolinecolor": "white",
           "zerolinewidth": 2
          }
         }
        },
        "title": {
         "font": {
          "color": "black",
          "family": "IBM Plex Mono",
          "size": 27
         },
         "text": "<span style='color: black; font-weight: normal;'>RLUSD Locked in Liquidity Pools <br>by Chain</span><br><sub style='font-size: 18px; color: black; font-weight: normal;'></sub>",
         "x": 0.1,
         "xanchor": "left",
         "y": 0.9,
         "yanchor": "top"
        },
        "uniformtext": {
         "minsize": 15,
         "mode": "show"
        },
        "width": 730,
        "xaxis": {
         "anchor": "y",
         "domain": [
          0,
          0.94
         ],
         "range": [
          "2025-02-18T00:00:00",
          "2025-02-23T00:00:00"
         ],
         "tick0": "2025-02-18T00:00:00",
         "tickangle": 0,
         "tickfont": {
          "color": "black",
          "family": "IBM Plex Mono",
          "size": 16
         },
         "tickformat": "%b %d <br>%y",
         "tickvals": [
          "2025-02-18T00:00:00",
          "2025-02-18T00:00:00",
          "2025-02-19T00:00:00",
          "2025-02-19T00:00:00",
          "2025-02-20T00:00:00",
          "2025-02-20T00:00:00",
          "2025-02-21T00:00:00",
          "2025-02-21T00:00:00",
          "2025-02-22T00:00:00",
          "2025-02-22T00:00:00",
          "2025-02-23T00:00:00",
          "2025-02-23T00:00:00"
         ]
        },
        "yaxis": {
         "anchor": "x",
         "domain": [
          0,
          1
         ],
         "tickfont": {
          "color": "black",
          "family": "IBM Plex Mono",
          "size": 16
         },
         "tickprefix": "$",
         "title": {
          "font": {
           "color": "black",
           "family": "IBM Plex Mono",
           "size": 16
          }
         }
        },
        "yaxis2": {
         "anchor": "x",
         "overlaying": "y",
         "side": "right"
        }
       }
      }
     },
     "metadata": {},
     "output_type": "display_data"
    }
   ],
   "source": [
    "chartBuilder(\n",
    "    fig=fig4,\n",
    "    add_the_date=True,\n",
    "    clean_columns=False,\n",
    "    # date_xy=dict(x=0.05,y=1.02),\n",
    "    keep_top_n=False,\n",
    "    # groupby=True,\n",
    "    other=True,\n",
    "    title='RLUSD Locked in Liquidity Pools <br>by Chain Over Time',\n",
    "    title_xy=dict(x=0.1,y=0.9),\n",
    "    save=False,\n",
    "    date_xy=dict(x=0.93,y=1.05),\n",
    "    # title_xy=dict(x=0.1,y=0.9),\n",
    "    topn=4,\n",
    "    # dashed_line=True,\n",
    "    # date='2023-04-12',\n",
    "    # annotation_text='Staked ETH <br> Withdrawl Activated'\n",
    ")"
   ]
  },
  {
   "cell_type": "code",
   "execution_count": 89,
   "metadata": {},
   "outputs": [],
   "source": [
    "# fig5 = visualization_pipeline(\n",
    "# df=merged_df,\n",
    "#     title='rlusd_fig5',\n",
    "#     # start_date='2024-01-01',\n",
    "#     # end_date='2024-12-31',\n",
    "#     # end_date='2024-10-01',\n",
    "#     chart_type='line',\n",
    "#     dimensions=dict(height=351, width=730),\n",
    "#     # groupby = 'blockchain',\n",
    "#     # num_col='current_bal',\n",
    "#     cols_to_plot=[\"RLUSD_ETH_LP\",\"RLUSD_XRP_LP\"],\n",
    "#     # line_col=['cumulative_freq'],\n",
    "#     # bar_col=['freg'],\n",
    "#     tickangle=0,\n",
    "#     dropna=True,\n",
    "#     area=True,\n",
    "#     colors=combined_colors,\n",
    "#     # axes_data=dict(y1=['total_tvl'],y2=[]),\n",
    "#     # tickformat=dict(x='%b<br>`%y',y1=None,y2=None),\n",
    "#     legend_font_size=12,\n",
    "#     font_family=font_family,\n",
    "#     cumulative_sort=True,\n",
    "#     normalize=False,\n",
    "#     decimals=True,\n",
    "#     decimal_places=1,\n",
    "#     y2=True,\n",
    "#     # min_tick_spacing=50,\n",
    "#     # buffer=3,\n",
    "#     barmode='group',\n",
    "#     mode='lines',\n",
    "#     # font_size=14,\n",
    "#     # line_width=3,\n",
    "#     marker_size=3,\n",
    "#     tickprefix=dict(y1='$',y2=None),\n",
    "#     ticksuffix=dict(y1=None,y2=None),\n",
    "#     axes_titles=dict(y1=None,y2=None),\n",
    "#     show_legend=True,\n",
    "#     hole_size=0,\n",
    "#     # line_width=1,\n",
    "#     descending=False,\n",
    "#     # buffer = 0.25,\n",
    "#     annotations=False,\n",
    "#     text=True,\n",
    "#     orientation='h',\n",
    "#     sort_list=True,\n",
    "#     autosize=False,\n",
    "#     max_annotation=False,\n",
    "#     annotation_prefix=\"$\",\n",
    "#     auto_title=False,\n",
    "#     axes_font_colors='auto',\n",
    "#     to_reverse=False,\n",
    "#     line_color='black',\n",
    "#     use_single_color=False,\n",
    "#     custom_annotation = ['2022-10-31'],\n",
    "#     # axes_font_colors='auto',\n",
    "# )"
   ]
  },
  {
   "cell_type": "code",
   "execution_count": 90,
   "metadata": {},
   "outputs": [],
   "source": [
    "# chartBuilder(\n",
    "#     fig=fig5,\n",
    "#     add_the_date=True,\n",
    "#     clean_columns=False,\n",
    "#     date_xy=dict(x=0.05,y=1.02),\n",
    "#     keep_top_n=False,\n",
    "#     # groupby=True,\n",
    "#     other=True,\n",
    "#     save=False,\n",
    "#     topn=4,\n",
    "#     # dashed_line=True,\n",
    "#     # date='2023-04-12',\n",
    "#     # annotation_text='Staked ETH <br> Withdrawl Activated'\n",
    "# )"
   ]
  },
  {
   "cell_type": "code",
   "execution_count": 91,
   "metadata": {},
   "outputs": [],
   "source": [
    "external_stylesheets = [\n",
    "    'https://cdnjs.cloudflare.com/ajax/libs/normalize/8.0.1/normalize.min.css', \n",
    "    '/assets/styles.css'\n",
    "]\n",
    "\n",
    "app = Dash(__name__, external_stylesheets=external_stylesheets)"
   ]
  },
  {
   "cell_type": "code",
   "execution_count": 92,
   "metadata": {},
   "outputs": [],
   "source": [
    "rlusd_eth_dex_stats = dune_api_results(4695750,True,'data/rlusd_eth_dex_stats.csv')"
   ]
  },
  {
   "cell_type": "code",
   "execution_count": 93,
   "metadata": {},
   "outputs": [],
   "source": [
    "xrpl_vol_base_url = f\"https://api.geckoterminal.com/api/v2/networks/xrpl/pools/524C555344000000000000000000000000000000.rMxCKbEDwqr76QuheSUMdEGf4B9xJ8m5De_XRP/ohlcv/day\""
   ]
  },
  {
   "cell_type": "code",
   "execution_count": 94,
   "metadata": {},
   "outputs": [
    {
     "name": "stdout",
     "output_type": "stream",
     "text": [
      "data: {'data': {'id': '921a16ca-7e6e-43f4-b3fd-829c739602a9', 'type': 'ohlcv_request_response', 'attributes': {'ohlcv_list': [[1740268800, 1.00213263, 1.00794498865852, 0.994921979825152, 1.000654172, 3126616.39533692], [1740182400, 0.999420572, 1.00421146247315, 0.994505189997869, 1.00213263, 1309473.6723128], [1740096000, 1.00027450852012, 1.01534651624015, 0.99154439999767, 0.999420572, 3566814.47727784], [1740009600, 0.999596767954252, 1.00640982231723, 0.990719471983288, 1.00027450852012, 2087276.50573632], [1739923200, 0.999730541257816, 1.00693834158677, 0.989368106525186, 0.999596767954252, 3253605.48597424], [1739836800, 1.00035349096386, 1.01407215754238, 0.861225056536475, 0.999730541257816, 3172405.20752181], [1739750400, 1.00095290436866, 1.0161970455571, 0.986277001934072, 1.00035349096386, 2923201.11584502], [1739664000, 0.999345491747336, 1.0102846593426, 0.994568217657868, 1.00095290436866, 1420950.35294398], [1739577600, 1.00066855, 1.00821047244149, 0.99314829973256, 0.999345491747336, 2021336.22975876], [1739491200, 0.99483572472235, 1.01705988583768, 0.977841578, 1.00066855, 5785919.3525478], [1739404800, 0.999190387444995, 1.04899714399905, 0.979745619, 0.99483572472235, 3452363.85855319], [1739318400, 1.00280538045894, 1.02774492936957, 0.983143745999999, 0.999190387444995, 2395290.97324729], [1739232000, 0.998597028, 1.00964231877873, 0.991056624997186, 1.00280538045894, 2758177.85973024], [1739145600, 1.00135600292062, 1.01718391424039, 0.969907578247599, 0.998597028, 3362116.40277914], [1739059200, 0.999849036733617, 1.08728891949608, 0.918114961618058, 1.00135600292062, 3263723.731472], [1738972800, 0.997749953999147, 1.00714506079415, 0.99416883999738, 0.999849036733617, 1396535.54666154], [1738886400, 0.996645389385977, 1.01174956163328, 0.985079828415384, 0.997749953999147, 4161921.91981018], [1738800000, 1.000929468, 1.02266795571429, 0.942075149959428, 0.996645389385977, 3978429.48670175], [1738713600, 1.000415383, 1.02080374395489, 0.988437066267028, 1.000929468, 4053515.28125238], [1738627200, 0.995459516988194, 1.02922124269399, 0.984409800000946, 1.000415383, 8388387.639608], [1738540800, 0.9999651075, 1.06323195200083, 0.895431350513255, 0.995459516988194, 9280023.44632332], [1738454400, 1.01006895774937, 1.21256526291139, 0.950087884664217, 0.9999651075, 9743037.3622397], [1738368000, 1.00258896, 1.1014823371175, 0.980949658332721, 1.01006895774937, 3079688.2210556], [1738281600, 1.00008269456785, 1.08540859208866, 0.992557734001578, 1.00258896, 1892750.55825869], [1738195200, 1.001291859, 1.29730488394065, 0.909508285891986, 1.00008269456785, 1203206.7272657], [1738108800, 1.00045476, 1.01539120861207, 0.979174136450236, 1.001291859, 3353842.41729218], [1738022400, 0.999105884999999, 1.04068829588468, 0.989679944063453, 1.00045476, 3758280.05099279], [1737936000, 0.998297844, 1.03692601698344, 0.98863112481384, 0.999105884999999, 6137801.84355827], [1737849600, 1.001252371, 1.00752684299349, 0.995909239379984, 0.998297844, 835542.82476624], [1737763200, 0.999083465311076, 1.00349296034572, 0.996403803043478, 1.001252371, 1155952.38996516], [1737676800, 0.997895278284528, 1.005646996, 0.989970954120882, 0.999083465311076, 1889654.59722957], [1737590400, 0.99591956781617, 5.58465587584706, 0.988064105, 0.997895278284528, 1603757.38373444], [1737504000, 1.00145605551372, 1.01113642798547, 0.977254594123281, 0.99591956781617, 1429971.70357977], [1737417600, 1.00182644556007, 1.00604572830963, 0.995418407969074, 1.00145605551372, 238316.012320198]]}}, 'meta': {'base': {'address': '524C555344000000000000000000000000000000.rMxCKbEDwqr76QuheSUMdEGf4B9xJ8m5De', 'name': 'RLUSD', 'symbol': 'RLUSD', 'coingecko_coin_id': None}, 'quote': {'address': 'XRP', 'name': 'XRP', 'symbol': 'XRP', 'coingecko_coin_id': None}}}\n"
     ]
    }
   ],
   "source": [
    "data = call_api(xrpl_vol_base_url)"
   ]
  },
  {
   "cell_type": "code",
   "execution_count": 1,
   "metadata": {},
   "outputs": [],
   "source": [
    "eth_vol_base_url = f\"https://api.geckoterminal.com/api/v2/networks/eth/pools/0xd001ae433f254283fece51d4acce8c53263aa186/ohlcv/day\""
   ]
  },
  {
   "cell_type": "code",
   "execution_count": 2,
   "metadata": {},
   "outputs": [
    {
     "ename": "NameError",
     "evalue": "name 'call_api' is not defined",
     "output_type": "error",
     "traceback": [
      "\u001b[1;31m---------------------------------------------------------------------------\u001b[0m",
      "\u001b[1;31mNameError\u001b[0m                                 Traceback (most recent call last)",
      "Cell \u001b[1;32mIn[2], line 1\u001b[0m\n\u001b[1;32m----> 1\u001b[0m data2 \u001b[38;5;241m=\u001b[39m \u001b[43mcall_api\u001b[49m(eth_vol_base_url)\n",
      "\u001b[1;31mNameError\u001b[0m: name 'call_api' is not defined"
     ]
    }
   ],
   "source": [
    "data2 = call_api(eth_vol_base_url)"
   ]
  },
  {
   "cell_type": "code",
   "execution_count": null,
   "metadata": {},
   "outputs": [
    {
     "data": {
      "text/plain": [
       "np.float64(631280.9745206372)"
      ]
     },
     "execution_count": 136,
     "metadata": {},
     "output_type": "execute_result"
    }
   ],
   "source": [
    "eth_vol = pd.DataFrame(data2['data']['attributes']['ohlcv_list'])\n",
    "\n",
    "# Rename columns for clarity (assuming standard OHLCV format)\n",
    "eth_vol.columns = ['timestamp', 'open', 'high', 'low', 'close', 'volume']\n",
    "\n",
    "# Convert timestamp to datetime for readability\n",
    "eth_vol['timestamp'] = pd.to_datetime(eth_vol['timestamp'], unit='s')\n",
    "eth_vol['volume'].sum()"
   ]
  },
  {
   "cell_type": "code",
   "execution_count": 139,
   "metadata": {},
   "outputs": [
    {
     "data": {
      "text/plain": [
       "np.float64(750893.0335480002)"
      ]
     },
     "execution_count": 139,
     "metadata": {},
     "output_type": "execute_result"
    }
   ],
   "source": [
    "rlusd_eth_dex_stats['volume'].sum()"
   ]
  },
  {
   "cell_type": "code",
   "execution_count": 99,
   "metadata": {},
   "outputs": [],
   "source": [
    "xrpl_vol = pd.DataFrame(data['data']['attributes']['ohlcv_list'])\n",
    "\n",
    "# Rename columns for clarity (assuming standard OHLCV format)\n",
    "xrpl_vol.columns = ['timestamp', 'open', 'high', 'low', 'close', 'volume']\n",
    "\n",
    "# Convert timestamp to datetime for readability\n",
    "xrpl_vol['timestamp'] = pd.to_datetime(xrpl_vol['timestamp'], unit='s')"
   ]
  },
  {
   "cell_type": "code",
   "execution_count": 100,
   "metadata": {},
   "outputs": [
    {
     "data": {
      "text/html": [
       "<div>\n",
       "<style scoped>\n",
       "    .dataframe tbody tr th:only-of-type {\n",
       "        vertical-align: middle;\n",
       "    }\n",
       "\n",
       "    .dataframe tbody tr th {\n",
       "        vertical-align: top;\n",
       "    }\n",
       "\n",
       "    .dataframe thead th {\n",
       "        text-align: right;\n",
       "    }\n",
       "</style>\n",
       "<table border=\"1\" class=\"dataframe\">\n",
       "  <thead>\n",
       "    <tr style=\"text-align: right;\">\n",
       "      <th></th>\n",
       "      <th>timestamp</th>\n",
       "      <th>open</th>\n",
       "      <th>high</th>\n",
       "      <th>low</th>\n",
       "      <th>close</th>\n",
       "      <th>volume</th>\n",
       "    </tr>\n",
       "  </thead>\n",
       "  <tbody>\n",
       "    <tr>\n",
       "      <th>0</th>\n",
       "      <td>2025-02-23</td>\n",
       "      <td>1.002133</td>\n",
       "      <td>1.007945</td>\n",
       "      <td>0.994922</td>\n",
       "      <td>1.000654</td>\n",
       "      <td>3.126616e+06</td>\n",
       "    </tr>\n",
       "    <tr>\n",
       "      <th>1</th>\n",
       "      <td>2025-02-22</td>\n",
       "      <td>0.999421</td>\n",
       "      <td>1.004211</td>\n",
       "      <td>0.994505</td>\n",
       "      <td>1.002133</td>\n",
       "      <td>1.309474e+06</td>\n",
       "    </tr>\n",
       "    <tr>\n",
       "      <th>2</th>\n",
       "      <td>2025-02-21</td>\n",
       "      <td>1.000275</td>\n",
       "      <td>1.015347</td>\n",
       "      <td>0.991544</td>\n",
       "      <td>0.999421</td>\n",
       "      <td>3.566814e+06</td>\n",
       "    </tr>\n",
       "    <tr>\n",
       "      <th>3</th>\n",
       "      <td>2025-02-20</td>\n",
       "      <td>0.999597</td>\n",
       "      <td>1.006410</td>\n",
       "      <td>0.990719</td>\n",
       "      <td>1.000275</td>\n",
       "      <td>2.087277e+06</td>\n",
       "    </tr>\n",
       "    <tr>\n",
       "      <th>4</th>\n",
       "      <td>2025-02-19</td>\n",
       "      <td>0.999731</td>\n",
       "      <td>1.006938</td>\n",
       "      <td>0.989368</td>\n",
       "      <td>0.999597</td>\n",
       "      <td>3.253605e+06</td>\n",
       "    </tr>\n",
       "    <tr>\n",
       "      <th>5</th>\n",
       "      <td>2025-02-18</td>\n",
       "      <td>1.000353</td>\n",
       "      <td>1.014072</td>\n",
       "      <td>0.861225</td>\n",
       "      <td>0.999731</td>\n",
       "      <td>3.172405e+06</td>\n",
       "    </tr>\n",
       "    <tr>\n",
       "      <th>6</th>\n",
       "      <td>2025-02-17</td>\n",
       "      <td>1.000953</td>\n",
       "      <td>1.016197</td>\n",
       "      <td>0.986277</td>\n",
       "      <td>1.000353</td>\n",
       "      <td>2.923201e+06</td>\n",
       "    </tr>\n",
       "    <tr>\n",
       "      <th>7</th>\n",
       "      <td>2025-02-16</td>\n",
       "      <td>0.999345</td>\n",
       "      <td>1.010285</td>\n",
       "      <td>0.994568</td>\n",
       "      <td>1.000953</td>\n",
       "      <td>1.420950e+06</td>\n",
       "    </tr>\n",
       "    <tr>\n",
       "      <th>8</th>\n",
       "      <td>2025-02-15</td>\n",
       "      <td>1.000669</td>\n",
       "      <td>1.008210</td>\n",
       "      <td>0.993148</td>\n",
       "      <td>0.999345</td>\n",
       "      <td>2.021336e+06</td>\n",
       "    </tr>\n",
       "    <tr>\n",
       "      <th>9</th>\n",
       "      <td>2025-02-14</td>\n",
       "      <td>0.994836</td>\n",
       "      <td>1.017060</td>\n",
       "      <td>0.977842</td>\n",
       "      <td>1.000669</td>\n",
       "      <td>5.785919e+06</td>\n",
       "    </tr>\n",
       "    <tr>\n",
       "      <th>10</th>\n",
       "      <td>2025-02-13</td>\n",
       "      <td>0.999190</td>\n",
       "      <td>1.048997</td>\n",
       "      <td>0.979746</td>\n",
       "      <td>0.994836</td>\n",
       "      <td>3.452364e+06</td>\n",
       "    </tr>\n",
       "    <tr>\n",
       "      <th>11</th>\n",
       "      <td>2025-02-12</td>\n",
       "      <td>1.002805</td>\n",
       "      <td>1.027745</td>\n",
       "      <td>0.983144</td>\n",
       "      <td>0.999190</td>\n",
       "      <td>2.395291e+06</td>\n",
       "    </tr>\n",
       "    <tr>\n",
       "      <th>12</th>\n",
       "      <td>2025-02-11</td>\n",
       "      <td>0.998597</td>\n",
       "      <td>1.009642</td>\n",
       "      <td>0.991057</td>\n",
       "      <td>1.002805</td>\n",
       "      <td>2.758178e+06</td>\n",
       "    </tr>\n",
       "    <tr>\n",
       "      <th>13</th>\n",
       "      <td>2025-02-10</td>\n",
       "      <td>1.001356</td>\n",
       "      <td>1.017184</td>\n",
       "      <td>0.969908</td>\n",
       "      <td>0.998597</td>\n",
       "      <td>3.362116e+06</td>\n",
       "    </tr>\n",
       "    <tr>\n",
       "      <th>14</th>\n",
       "      <td>2025-02-09</td>\n",
       "      <td>0.999849</td>\n",
       "      <td>1.087289</td>\n",
       "      <td>0.918115</td>\n",
       "      <td>1.001356</td>\n",
       "      <td>3.263724e+06</td>\n",
       "    </tr>\n",
       "    <tr>\n",
       "      <th>15</th>\n",
       "      <td>2025-02-08</td>\n",
       "      <td>0.997750</td>\n",
       "      <td>1.007145</td>\n",
       "      <td>0.994169</td>\n",
       "      <td>0.999849</td>\n",
       "      <td>1.396536e+06</td>\n",
       "    </tr>\n",
       "    <tr>\n",
       "      <th>16</th>\n",
       "      <td>2025-02-07</td>\n",
       "      <td>0.996645</td>\n",
       "      <td>1.011750</td>\n",
       "      <td>0.985080</td>\n",
       "      <td>0.997750</td>\n",
       "      <td>4.161922e+06</td>\n",
       "    </tr>\n",
       "    <tr>\n",
       "      <th>17</th>\n",
       "      <td>2025-02-06</td>\n",
       "      <td>1.000929</td>\n",
       "      <td>1.022668</td>\n",
       "      <td>0.942075</td>\n",
       "      <td>0.996645</td>\n",
       "      <td>3.978429e+06</td>\n",
       "    </tr>\n",
       "    <tr>\n",
       "      <th>18</th>\n",
       "      <td>2025-02-05</td>\n",
       "      <td>1.000415</td>\n",
       "      <td>1.020804</td>\n",
       "      <td>0.988437</td>\n",
       "      <td>1.000929</td>\n",
       "      <td>4.053515e+06</td>\n",
       "    </tr>\n",
       "    <tr>\n",
       "      <th>19</th>\n",
       "      <td>2025-02-04</td>\n",
       "      <td>0.995460</td>\n",
       "      <td>1.029221</td>\n",
       "      <td>0.984410</td>\n",
       "      <td>1.000415</td>\n",
       "      <td>8.388388e+06</td>\n",
       "    </tr>\n",
       "    <tr>\n",
       "      <th>20</th>\n",
       "      <td>2025-02-03</td>\n",
       "      <td>0.999965</td>\n",
       "      <td>1.063232</td>\n",
       "      <td>0.895431</td>\n",
       "      <td>0.995460</td>\n",
       "      <td>9.280023e+06</td>\n",
       "    </tr>\n",
       "    <tr>\n",
       "      <th>21</th>\n",
       "      <td>2025-02-02</td>\n",
       "      <td>1.010069</td>\n",
       "      <td>1.212565</td>\n",
       "      <td>0.950088</td>\n",
       "      <td>0.999965</td>\n",
       "      <td>9.743037e+06</td>\n",
       "    </tr>\n",
       "    <tr>\n",
       "      <th>22</th>\n",
       "      <td>2025-02-01</td>\n",
       "      <td>1.002589</td>\n",
       "      <td>1.101482</td>\n",
       "      <td>0.980950</td>\n",
       "      <td>1.010069</td>\n",
       "      <td>3.079688e+06</td>\n",
       "    </tr>\n",
       "    <tr>\n",
       "      <th>23</th>\n",
       "      <td>2025-01-31</td>\n",
       "      <td>1.000083</td>\n",
       "      <td>1.085409</td>\n",
       "      <td>0.992558</td>\n",
       "      <td>1.002589</td>\n",
       "      <td>1.892751e+06</td>\n",
       "    </tr>\n",
       "    <tr>\n",
       "      <th>24</th>\n",
       "      <td>2025-01-30</td>\n",
       "      <td>1.001292</td>\n",
       "      <td>1.297305</td>\n",
       "      <td>0.909508</td>\n",
       "      <td>1.000083</td>\n",
       "      <td>1.203207e+06</td>\n",
       "    </tr>\n",
       "    <tr>\n",
       "      <th>25</th>\n",
       "      <td>2025-01-29</td>\n",
       "      <td>1.000455</td>\n",
       "      <td>1.015391</td>\n",
       "      <td>0.979174</td>\n",
       "      <td>1.001292</td>\n",
       "      <td>3.353842e+06</td>\n",
       "    </tr>\n",
       "    <tr>\n",
       "      <th>26</th>\n",
       "      <td>2025-01-28</td>\n",
       "      <td>0.999106</td>\n",
       "      <td>1.040688</td>\n",
       "      <td>0.989680</td>\n",
       "      <td>1.000455</td>\n",
       "      <td>3.758280e+06</td>\n",
       "    </tr>\n",
       "    <tr>\n",
       "      <th>27</th>\n",
       "      <td>2025-01-27</td>\n",
       "      <td>0.998298</td>\n",
       "      <td>1.036926</td>\n",
       "      <td>0.988631</td>\n",
       "      <td>0.999106</td>\n",
       "      <td>6.137802e+06</td>\n",
       "    </tr>\n",
       "    <tr>\n",
       "      <th>28</th>\n",
       "      <td>2025-01-26</td>\n",
       "      <td>1.001252</td>\n",
       "      <td>1.007527</td>\n",
       "      <td>0.995909</td>\n",
       "      <td>0.998298</td>\n",
       "      <td>8.355428e+05</td>\n",
       "    </tr>\n",
       "    <tr>\n",
       "      <th>29</th>\n",
       "      <td>2025-01-25</td>\n",
       "      <td>0.999083</td>\n",
       "      <td>1.003493</td>\n",
       "      <td>0.996404</td>\n",
       "      <td>1.001252</td>\n",
       "      <td>1.155952e+06</td>\n",
       "    </tr>\n",
       "    <tr>\n",
       "      <th>30</th>\n",
       "      <td>2025-01-24</td>\n",
       "      <td>0.997895</td>\n",
       "      <td>1.005647</td>\n",
       "      <td>0.989971</td>\n",
       "      <td>0.999083</td>\n",
       "      <td>1.889655e+06</td>\n",
       "    </tr>\n",
       "    <tr>\n",
       "      <th>31</th>\n",
       "      <td>2025-01-23</td>\n",
       "      <td>0.995920</td>\n",
       "      <td>5.584656</td>\n",
       "      <td>0.988064</td>\n",
       "      <td>0.997895</td>\n",
       "      <td>1.603757e+06</td>\n",
       "    </tr>\n",
       "    <tr>\n",
       "      <th>32</th>\n",
       "      <td>2025-01-22</td>\n",
       "      <td>1.001456</td>\n",
       "      <td>1.011136</td>\n",
       "      <td>0.977255</td>\n",
       "      <td>0.995920</td>\n",
       "      <td>1.429972e+06</td>\n",
       "    </tr>\n",
       "    <tr>\n",
       "      <th>33</th>\n",
       "      <td>2025-01-21</td>\n",
       "      <td>1.001826</td>\n",
       "      <td>1.006046</td>\n",
       "      <td>0.995418</td>\n",
       "      <td>1.001456</td>\n",
       "      <td>2.383160e+05</td>\n",
       "    </tr>\n",
       "  </tbody>\n",
       "</table>\n",
       "</div>"
      ],
      "text/plain": [
       "    timestamp      open      high       low     close        volume\n",
       "0  2025-02-23  1.002133  1.007945  0.994922  1.000654  3.126616e+06\n",
       "1  2025-02-22  0.999421  1.004211  0.994505  1.002133  1.309474e+06\n",
       "2  2025-02-21  1.000275  1.015347  0.991544  0.999421  3.566814e+06\n",
       "3  2025-02-20  0.999597  1.006410  0.990719  1.000275  2.087277e+06\n",
       "4  2025-02-19  0.999731  1.006938  0.989368  0.999597  3.253605e+06\n",
       "5  2025-02-18  1.000353  1.014072  0.861225  0.999731  3.172405e+06\n",
       "6  2025-02-17  1.000953  1.016197  0.986277  1.000353  2.923201e+06\n",
       "7  2025-02-16  0.999345  1.010285  0.994568  1.000953  1.420950e+06\n",
       "8  2025-02-15  1.000669  1.008210  0.993148  0.999345  2.021336e+06\n",
       "9  2025-02-14  0.994836  1.017060  0.977842  1.000669  5.785919e+06\n",
       "10 2025-02-13  0.999190  1.048997  0.979746  0.994836  3.452364e+06\n",
       "11 2025-02-12  1.002805  1.027745  0.983144  0.999190  2.395291e+06\n",
       "12 2025-02-11  0.998597  1.009642  0.991057  1.002805  2.758178e+06\n",
       "13 2025-02-10  1.001356  1.017184  0.969908  0.998597  3.362116e+06\n",
       "14 2025-02-09  0.999849  1.087289  0.918115  1.001356  3.263724e+06\n",
       "15 2025-02-08  0.997750  1.007145  0.994169  0.999849  1.396536e+06\n",
       "16 2025-02-07  0.996645  1.011750  0.985080  0.997750  4.161922e+06\n",
       "17 2025-02-06  1.000929  1.022668  0.942075  0.996645  3.978429e+06\n",
       "18 2025-02-05  1.000415  1.020804  0.988437  1.000929  4.053515e+06\n",
       "19 2025-02-04  0.995460  1.029221  0.984410  1.000415  8.388388e+06\n",
       "20 2025-02-03  0.999965  1.063232  0.895431  0.995460  9.280023e+06\n",
       "21 2025-02-02  1.010069  1.212565  0.950088  0.999965  9.743037e+06\n",
       "22 2025-02-01  1.002589  1.101482  0.980950  1.010069  3.079688e+06\n",
       "23 2025-01-31  1.000083  1.085409  0.992558  1.002589  1.892751e+06\n",
       "24 2025-01-30  1.001292  1.297305  0.909508  1.000083  1.203207e+06\n",
       "25 2025-01-29  1.000455  1.015391  0.979174  1.001292  3.353842e+06\n",
       "26 2025-01-28  0.999106  1.040688  0.989680  1.000455  3.758280e+06\n",
       "27 2025-01-27  0.998298  1.036926  0.988631  0.999106  6.137802e+06\n",
       "28 2025-01-26  1.001252  1.007527  0.995909  0.998298  8.355428e+05\n",
       "29 2025-01-25  0.999083  1.003493  0.996404  1.001252  1.155952e+06\n",
       "30 2025-01-24  0.997895  1.005647  0.989971  0.999083  1.889655e+06\n",
       "31 2025-01-23  0.995920  5.584656  0.988064  0.997895  1.603757e+06\n",
       "32 2025-01-22  1.001456  1.011136  0.977255  0.995920  1.429972e+06\n",
       "33 2025-01-21  1.001826  1.006046  0.995418  1.001456  2.383160e+05"
      ]
     },
     "execution_count": 100,
     "metadata": {},
     "output_type": "execute_result"
    }
   ],
   "source": [
    "xrpl_vol"
   ]
  },
  {
   "cell_type": "code",
   "execution_count": 101,
   "metadata": {},
   "outputs": [],
   "source": [
    "rlusd_eth_dex_stats['dt'] = pd.to_datetime(rlusd_eth_dex_stats['dt'])\n",
    "rlusd_eth_dex_stats['dt'] = rlusd_eth_dex_stats['dt'].dt.strftime('%Y-%m-%d')"
   ]
  },
  {
   "cell_type": "code",
   "execution_count": 102,
   "metadata": {},
   "outputs": [
    {
     "data": {
      "text/plain": [
       "DatetimeIndex(['2025-02-23', '2025-02-22', '2025-02-21', '2025-02-20',\n",
       "               '2025-02-19', '2025-02-18', '2025-02-17', '2025-02-16',\n",
       "               '2025-02-15', '2025-02-14', '2025-02-13', '2025-02-12',\n",
       "               '2025-02-11', '2025-02-10', '2025-02-09', '2025-02-08',\n",
       "               '2025-02-07', '2025-02-06', '2025-02-05', '2025-02-04',\n",
       "               '2025-02-03', '2025-02-02', '2025-02-01', '2025-01-31',\n",
       "               '2025-01-30', '2025-01-29', '2025-01-28', '2025-01-27',\n",
       "               '2025-01-26', '2025-01-25', '2025-01-24', '2025-01-23',\n",
       "               '2025-01-22', '2025-01-21'],\n",
       "              dtype='datetime64[ns]', name='timestamp', freq=None)"
      ]
     },
     "execution_count": 102,
     "metadata": {},
     "output_type": "execute_result"
    }
   ],
   "source": [
    "\n",
    "xrpl_vol.set_index('timestamp',inplace=True)\n",
    "xrpl_vol.index"
   ]
  },
  {
   "cell_type": "code",
   "execution_count": 103,
   "metadata": {},
   "outputs": [],
   "source": [
    "xrpl_vol['blockchain'] = 'XRPL'"
   ]
  },
  {
   "cell_type": "code",
   "execution_count": 104,
   "metadata": {},
   "outputs": [],
   "source": [
    "rlusd_eth_dex_stats['blockchain'] = 'Ethereum'\n",
    "rlusd_eth_dex_stats.rename(columns={\"vol\":\"volume\"},inplace=True)\n",
    "rlusd_eth_dex_stats.set_index('dt',inplace=True)\n",
    "rlusd_eth_dex_stats.index = pd.to_datetime(rlusd_eth_dex_stats.index)"
   ]
  },
  {
   "cell_type": "code",
   "execution_count": 105,
   "metadata": {},
   "outputs": [
    {
     "data": {
      "text/html": [
       "<div>\n",
       "<style scoped>\n",
       "    .dataframe tbody tr th:only-of-type {\n",
       "        vertical-align: middle;\n",
       "    }\n",
       "\n",
       "    .dataframe tbody tr th {\n",
       "        vertical-align: top;\n",
       "    }\n",
       "\n",
       "    .dataframe thead th {\n",
       "        text-align: right;\n",
       "    }\n",
       "</style>\n",
       "<table border=\"1\" class=\"dataframe\">\n",
       "  <thead>\n",
       "    <tr style=\"text-align: right;\">\n",
       "      <th></th>\n",
       "      <th>avg_order</th>\n",
       "      <th>num_orders</th>\n",
       "      <th>volume</th>\n",
       "      <th>blockchain</th>\n",
       "    </tr>\n",
       "    <tr>\n",
       "      <th>dt</th>\n",
       "      <th></th>\n",
       "      <th></th>\n",
       "      <th></th>\n",
       "      <th></th>\n",
       "    </tr>\n",
       "  </thead>\n",
       "  <tbody>\n",
       "    <tr>\n",
       "      <th>2025-02-23</th>\n",
       "      <td>81.828212</td>\n",
       "      <td>15</td>\n",
       "      <td>1227.423182</td>\n",
       "      <td>Ethereum</td>\n",
       "    </tr>\n",
       "    <tr>\n",
       "      <th>2025-02-22</th>\n",
       "      <td>68.075258</td>\n",
       "      <td>25</td>\n",
       "      <td>1701.881450</td>\n",
       "      <td>Ethereum</td>\n",
       "    </tr>\n",
       "    <tr>\n",
       "      <th>2025-02-21</th>\n",
       "      <td>886.888864</td>\n",
       "      <td>46</td>\n",
       "      <td>40796.887742</td>\n",
       "      <td>Ethereum</td>\n",
       "    </tr>\n",
       "    <tr>\n",
       "      <th>2025-02-20</th>\n",
       "      <td>166.483999</td>\n",
       "      <td>39</td>\n",
       "      <td>6492.875964</td>\n",
       "      <td>Ethereum</td>\n",
       "    </tr>\n",
       "    <tr>\n",
       "      <th>2025-02-19</th>\n",
       "      <td>901.392684</td>\n",
       "      <td>48</td>\n",
       "      <td>43266.848816</td>\n",
       "      <td>Ethereum</td>\n",
       "    </tr>\n",
       "    <tr>\n",
       "      <th>2025-02-18</th>\n",
       "      <td>956.812360</td>\n",
       "      <td>39</td>\n",
       "      <td>39229.306753</td>\n",
       "      <td>Ethereum</td>\n",
       "    </tr>\n",
       "    <tr>\n",
       "      <th>2025-02-17</th>\n",
       "      <td>361.378263</td>\n",
       "      <td>49</td>\n",
       "      <td>17707.534876</td>\n",
       "      <td>Ethereum</td>\n",
       "    </tr>\n",
       "    <tr>\n",
       "      <th>2025-02-16</th>\n",
       "      <td>141.172223</td>\n",
       "      <td>40</td>\n",
       "      <td>5505.716712</td>\n",
       "      <td>Ethereum</td>\n",
       "    </tr>\n",
       "    <tr>\n",
       "      <th>2025-02-15</th>\n",
       "      <td>253.360802</td>\n",
       "      <td>21</td>\n",
       "      <td>5320.576840</td>\n",
       "      <td>Ethereum</td>\n",
       "    </tr>\n",
       "    <tr>\n",
       "      <th>2025-02-14</th>\n",
       "      <td>105.668865</td>\n",
       "      <td>34</td>\n",
       "      <td>3275.734830</td>\n",
       "      <td>Ethereum</td>\n",
       "    </tr>\n",
       "    <tr>\n",
       "      <th>2025-02-13</th>\n",
       "      <td>656.849620</td>\n",
       "      <td>32</td>\n",
       "      <td>21019.187843</td>\n",
       "      <td>Ethereum</td>\n",
       "    </tr>\n",
       "    <tr>\n",
       "      <th>2025-02-12</th>\n",
       "      <td>689.334486</td>\n",
       "      <td>19</td>\n",
       "      <td>13097.355225</td>\n",
       "      <td>Ethereum</td>\n",
       "    </tr>\n",
       "    <tr>\n",
       "      <th>2025-02-11</th>\n",
       "      <td>1257.298595</td>\n",
       "      <td>27</td>\n",
       "      <td>32689.763469</td>\n",
       "      <td>Ethereum</td>\n",
       "    </tr>\n",
       "    <tr>\n",
       "      <th>2025-02-10</th>\n",
       "      <td>1473.508998</td>\n",
       "      <td>40</td>\n",
       "      <td>61887.377913</td>\n",
       "      <td>Ethereum</td>\n",
       "    </tr>\n",
       "    <tr>\n",
       "      <th>2025-02-09</th>\n",
       "      <td>1236.222609</td>\n",
       "      <td>41</td>\n",
       "      <td>50685.126951</td>\n",
       "      <td>Ethereum</td>\n",
       "    </tr>\n",
       "    <tr>\n",
       "      <th>2025-02-08</th>\n",
       "      <td>338.226157</td>\n",
       "      <td>32</td>\n",
       "      <td>9808.558552</td>\n",
       "      <td>Ethereum</td>\n",
       "    </tr>\n",
       "    <tr>\n",
       "      <th>2025-02-07</th>\n",
       "      <td>117.976897</td>\n",
       "      <td>31</td>\n",
       "      <td>3657.283818</td>\n",
       "      <td>Ethereum</td>\n",
       "    </tr>\n",
       "    <tr>\n",
       "      <th>2025-02-06</th>\n",
       "      <td>132.975911</td>\n",
       "      <td>27</td>\n",
       "      <td>3590.349586</td>\n",
       "      <td>Ethereum</td>\n",
       "    </tr>\n",
       "    <tr>\n",
       "      <th>2025-02-05</th>\n",
       "      <td>1807.076708</td>\n",
       "      <td>36</td>\n",
       "      <td>63247.684764</td>\n",
       "      <td>Ethereum</td>\n",
       "    </tr>\n",
       "    <tr>\n",
       "      <th>2025-02-04</th>\n",
       "      <td>986.364527</td>\n",
       "      <td>44</td>\n",
       "      <td>35509.122977</td>\n",
       "      <td>Ethereum</td>\n",
       "    </tr>\n",
       "    <tr>\n",
       "      <th>2025-02-03</th>\n",
       "      <td>4627.892572</td>\n",
       "      <td>13</td>\n",
       "      <td>60162.603434</td>\n",
       "      <td>Ethereum</td>\n",
       "    </tr>\n",
       "    <tr>\n",
       "      <th>2025-02-02</th>\n",
       "      <td>1293.959717</td>\n",
       "      <td>16</td>\n",
       "      <td>20703.355465</td>\n",
       "      <td>Ethereum</td>\n",
       "    </tr>\n",
       "    <tr>\n",
       "      <th>2025-02-01</th>\n",
       "      <td>500.019467</td>\n",
       "      <td>49</td>\n",
       "      <td>23000.895482</td>\n",
       "      <td>Ethereum</td>\n",
       "    </tr>\n",
       "    <tr>\n",
       "      <th>2025-01-31</th>\n",
       "      <td>751.373346</td>\n",
       "      <td>33</td>\n",
       "      <td>24043.947081</td>\n",
       "      <td>Ethereum</td>\n",
       "    </tr>\n",
       "    <tr>\n",
       "      <th>2025-01-30</th>\n",
       "      <td>114.883564</td>\n",
       "      <td>33</td>\n",
       "      <td>3561.390486</td>\n",
       "      <td>Ethereum</td>\n",
       "    </tr>\n",
       "    <tr>\n",
       "      <th>2025-01-29</th>\n",
       "      <td>284.846674</td>\n",
       "      <td>35</td>\n",
       "      <td>9684.786901</td>\n",
       "      <td>Ethereum</td>\n",
       "    </tr>\n",
       "    <tr>\n",
       "      <th>2025-01-28</th>\n",
       "      <td>1000.650928</td>\n",
       "      <td>55</td>\n",
       "      <td>55035.801026</td>\n",
       "      <td>Ethereum</td>\n",
       "    </tr>\n",
       "    <tr>\n",
       "      <th>2025-01-27</th>\n",
       "      <td>428.445059</td>\n",
       "      <td>24</td>\n",
       "      <td>11139.571540</td>\n",
       "      <td>Ethereum</td>\n",
       "    </tr>\n",
       "    <tr>\n",
       "      <th>2025-01-26</th>\n",
       "      <td>555.862235</td>\n",
       "      <td>33</td>\n",
       "      <td>18899.315982</td>\n",
       "      <td>Ethereum</td>\n",
       "    </tr>\n",
       "    <tr>\n",
       "      <th>2025-01-25</th>\n",
       "      <td>951.042314</td>\n",
       "      <td>26</td>\n",
       "      <td>24727.100166</td>\n",
       "      <td>Ethereum</td>\n",
       "    </tr>\n",
       "    <tr>\n",
       "      <th>2025-01-24</th>\n",
       "      <td>428.227486</td>\n",
       "      <td>34</td>\n",
       "      <td>14559.734534</td>\n",
       "      <td>Ethereum</td>\n",
       "    </tr>\n",
       "    <tr>\n",
       "      <th>2025-01-23</th>\n",
       "      <td>284.052014</td>\n",
       "      <td>41</td>\n",
       "      <td>11646.132565</td>\n",
       "      <td>Ethereum</td>\n",
       "    </tr>\n",
       "    <tr>\n",
       "      <th>2025-01-22</th>\n",
       "      <td>273.466040</td>\n",
       "      <td>31</td>\n",
       "      <td>8477.447247</td>\n",
       "      <td>Ethereum</td>\n",
       "    </tr>\n",
       "    <tr>\n",
       "      <th>2025-01-21</th>\n",
       "      <td>32.702717</td>\n",
       "      <td>2</td>\n",
       "      <td>65.405435</td>\n",
       "      <td>Ethereum</td>\n",
       "    </tr>\n",
       "    <tr>\n",
       "      <th>2025-01-20</th>\n",
       "      <td>162.908567</td>\n",
       "      <td>2</td>\n",
       "      <td>325.817135</td>\n",
       "      <td>Ethereum</td>\n",
       "    </tr>\n",
       "    <tr>\n",
       "      <th>2025-01-19</th>\n",
       "      <td>100.990271</td>\n",
       "      <td>1</td>\n",
       "      <td>100.990271</td>\n",
       "      <td>Ethereum</td>\n",
       "    </tr>\n",
       "    <tr>\n",
       "      <th>2025-01-18</th>\n",
       "      <td>14.871709</td>\n",
       "      <td>1</td>\n",
       "      <td>14.871709</td>\n",
       "      <td>Ethereum</td>\n",
       "    </tr>\n",
       "    <tr>\n",
       "      <th>2025-01-17</th>\n",
       "      <td>487.652428</td>\n",
       "      <td>10</td>\n",
       "      <td>4876.524283</td>\n",
       "      <td>Ethereum</td>\n",
       "    </tr>\n",
       "    <tr>\n",
       "      <th>2025-01-16</th>\n",
       "      <td>50.248182</td>\n",
       "      <td>3</td>\n",
       "      <td>150.744547</td>\n",
       "      <td>Ethereum</td>\n",
       "    </tr>\n",
       "  </tbody>\n",
       "</table>\n",
       "</div>"
      ],
      "text/plain": [
       "              avg_order  num_orders        volume blockchain\n",
       "dt                                                          \n",
       "2025-02-23    81.828212          15   1227.423182   Ethereum\n",
       "2025-02-22    68.075258          25   1701.881450   Ethereum\n",
       "2025-02-21   886.888864          46  40796.887742   Ethereum\n",
       "2025-02-20   166.483999          39   6492.875964   Ethereum\n",
       "2025-02-19   901.392684          48  43266.848816   Ethereum\n",
       "2025-02-18   956.812360          39  39229.306753   Ethereum\n",
       "2025-02-17   361.378263          49  17707.534876   Ethereum\n",
       "2025-02-16   141.172223          40   5505.716712   Ethereum\n",
       "2025-02-15   253.360802          21   5320.576840   Ethereum\n",
       "2025-02-14   105.668865          34   3275.734830   Ethereum\n",
       "2025-02-13   656.849620          32  21019.187843   Ethereum\n",
       "2025-02-12   689.334486          19  13097.355225   Ethereum\n",
       "2025-02-11  1257.298595          27  32689.763469   Ethereum\n",
       "2025-02-10  1473.508998          40  61887.377913   Ethereum\n",
       "2025-02-09  1236.222609          41  50685.126951   Ethereum\n",
       "2025-02-08   338.226157          32   9808.558552   Ethereum\n",
       "2025-02-07   117.976897          31   3657.283818   Ethereum\n",
       "2025-02-06   132.975911          27   3590.349586   Ethereum\n",
       "2025-02-05  1807.076708          36  63247.684764   Ethereum\n",
       "2025-02-04   986.364527          44  35509.122977   Ethereum\n",
       "2025-02-03  4627.892572          13  60162.603434   Ethereum\n",
       "2025-02-02  1293.959717          16  20703.355465   Ethereum\n",
       "2025-02-01   500.019467          49  23000.895482   Ethereum\n",
       "2025-01-31   751.373346          33  24043.947081   Ethereum\n",
       "2025-01-30   114.883564          33   3561.390486   Ethereum\n",
       "2025-01-29   284.846674          35   9684.786901   Ethereum\n",
       "2025-01-28  1000.650928          55  55035.801026   Ethereum\n",
       "2025-01-27   428.445059          24  11139.571540   Ethereum\n",
       "2025-01-26   555.862235          33  18899.315982   Ethereum\n",
       "2025-01-25   951.042314          26  24727.100166   Ethereum\n",
       "2025-01-24   428.227486          34  14559.734534   Ethereum\n",
       "2025-01-23   284.052014          41  11646.132565   Ethereum\n",
       "2025-01-22   273.466040          31   8477.447247   Ethereum\n",
       "2025-01-21    32.702717           2     65.405435   Ethereum\n",
       "2025-01-20   162.908567           2    325.817135   Ethereum\n",
       "2025-01-19   100.990271           1    100.990271   Ethereum\n",
       "2025-01-18    14.871709           1     14.871709   Ethereum\n",
       "2025-01-17   487.652428          10   4876.524283   Ethereum\n",
       "2025-01-16    50.248182           3    150.744547   Ethereum"
      ]
     },
     "execution_count": 105,
     "metadata": {},
     "output_type": "execute_result"
    }
   ],
   "source": [
    "rlusd_eth_dex_stats"
   ]
  },
  {
   "cell_type": "code",
   "execution_count": 106,
   "metadata": {},
   "outputs": [
    {
     "data": {
      "text/html": [
       "<div>\n",
       "<style scoped>\n",
       "    .dataframe tbody tr th:only-of-type {\n",
       "        vertical-align: middle;\n",
       "    }\n",
       "\n",
       "    .dataframe tbody tr th {\n",
       "        vertical-align: top;\n",
       "    }\n",
       "\n",
       "    .dataframe thead th {\n",
       "        text-align: right;\n",
       "    }\n",
       "</style>\n",
       "<table border=\"1\" class=\"dataframe\">\n",
       "  <thead>\n",
       "    <tr style=\"text-align: right;\">\n",
       "      <th></th>\n",
       "      <th>open</th>\n",
       "      <th>high</th>\n",
       "      <th>low</th>\n",
       "      <th>close</th>\n",
       "      <th>volume</th>\n",
       "      <th>blockchain</th>\n",
       "    </tr>\n",
       "    <tr>\n",
       "      <th>timestamp</th>\n",
       "      <th></th>\n",
       "      <th></th>\n",
       "      <th></th>\n",
       "      <th></th>\n",
       "      <th></th>\n",
       "      <th></th>\n",
       "    </tr>\n",
       "  </thead>\n",
       "  <tbody>\n",
       "    <tr>\n",
       "      <th>2025-02-23</th>\n",
       "      <td>1.002133</td>\n",
       "      <td>1.007945</td>\n",
       "      <td>0.994922</td>\n",
       "      <td>1.000654</td>\n",
       "      <td>3.126616e+06</td>\n",
       "      <td>XRPL</td>\n",
       "    </tr>\n",
       "    <tr>\n",
       "      <th>2025-02-22</th>\n",
       "      <td>0.999421</td>\n",
       "      <td>1.004211</td>\n",
       "      <td>0.994505</td>\n",
       "      <td>1.002133</td>\n",
       "      <td>1.309474e+06</td>\n",
       "      <td>XRPL</td>\n",
       "    </tr>\n",
       "    <tr>\n",
       "      <th>2025-02-21</th>\n",
       "      <td>1.000275</td>\n",
       "      <td>1.015347</td>\n",
       "      <td>0.991544</td>\n",
       "      <td>0.999421</td>\n",
       "      <td>3.566814e+06</td>\n",
       "      <td>XRPL</td>\n",
       "    </tr>\n",
       "    <tr>\n",
       "      <th>2025-02-20</th>\n",
       "      <td>0.999597</td>\n",
       "      <td>1.006410</td>\n",
       "      <td>0.990719</td>\n",
       "      <td>1.000275</td>\n",
       "      <td>2.087277e+06</td>\n",
       "      <td>XRPL</td>\n",
       "    </tr>\n",
       "    <tr>\n",
       "      <th>2025-02-19</th>\n",
       "      <td>0.999731</td>\n",
       "      <td>1.006938</td>\n",
       "      <td>0.989368</td>\n",
       "      <td>0.999597</td>\n",
       "      <td>3.253605e+06</td>\n",
       "      <td>XRPL</td>\n",
       "    </tr>\n",
       "    <tr>\n",
       "      <th>2025-02-18</th>\n",
       "      <td>1.000353</td>\n",
       "      <td>1.014072</td>\n",
       "      <td>0.861225</td>\n",
       "      <td>0.999731</td>\n",
       "      <td>3.172405e+06</td>\n",
       "      <td>XRPL</td>\n",
       "    </tr>\n",
       "    <tr>\n",
       "      <th>2025-02-17</th>\n",
       "      <td>1.000953</td>\n",
       "      <td>1.016197</td>\n",
       "      <td>0.986277</td>\n",
       "      <td>1.000353</td>\n",
       "      <td>2.923201e+06</td>\n",
       "      <td>XRPL</td>\n",
       "    </tr>\n",
       "    <tr>\n",
       "      <th>2025-02-16</th>\n",
       "      <td>0.999345</td>\n",
       "      <td>1.010285</td>\n",
       "      <td>0.994568</td>\n",
       "      <td>1.000953</td>\n",
       "      <td>1.420950e+06</td>\n",
       "      <td>XRPL</td>\n",
       "    </tr>\n",
       "    <tr>\n",
       "      <th>2025-02-15</th>\n",
       "      <td>1.000669</td>\n",
       "      <td>1.008210</td>\n",
       "      <td>0.993148</td>\n",
       "      <td>0.999345</td>\n",
       "      <td>2.021336e+06</td>\n",
       "      <td>XRPL</td>\n",
       "    </tr>\n",
       "    <tr>\n",
       "      <th>2025-02-14</th>\n",
       "      <td>0.994836</td>\n",
       "      <td>1.017060</td>\n",
       "      <td>0.977842</td>\n",
       "      <td>1.000669</td>\n",
       "      <td>5.785919e+06</td>\n",
       "      <td>XRPL</td>\n",
       "    </tr>\n",
       "    <tr>\n",
       "      <th>2025-02-13</th>\n",
       "      <td>0.999190</td>\n",
       "      <td>1.048997</td>\n",
       "      <td>0.979746</td>\n",
       "      <td>0.994836</td>\n",
       "      <td>3.452364e+06</td>\n",
       "      <td>XRPL</td>\n",
       "    </tr>\n",
       "    <tr>\n",
       "      <th>2025-02-12</th>\n",
       "      <td>1.002805</td>\n",
       "      <td>1.027745</td>\n",
       "      <td>0.983144</td>\n",
       "      <td>0.999190</td>\n",
       "      <td>2.395291e+06</td>\n",
       "      <td>XRPL</td>\n",
       "    </tr>\n",
       "    <tr>\n",
       "      <th>2025-02-11</th>\n",
       "      <td>0.998597</td>\n",
       "      <td>1.009642</td>\n",
       "      <td>0.991057</td>\n",
       "      <td>1.002805</td>\n",
       "      <td>2.758178e+06</td>\n",
       "      <td>XRPL</td>\n",
       "    </tr>\n",
       "    <tr>\n",
       "      <th>2025-02-10</th>\n",
       "      <td>1.001356</td>\n",
       "      <td>1.017184</td>\n",
       "      <td>0.969908</td>\n",
       "      <td>0.998597</td>\n",
       "      <td>3.362116e+06</td>\n",
       "      <td>XRPL</td>\n",
       "    </tr>\n",
       "    <tr>\n",
       "      <th>2025-02-09</th>\n",
       "      <td>0.999849</td>\n",
       "      <td>1.087289</td>\n",
       "      <td>0.918115</td>\n",
       "      <td>1.001356</td>\n",
       "      <td>3.263724e+06</td>\n",
       "      <td>XRPL</td>\n",
       "    </tr>\n",
       "    <tr>\n",
       "      <th>2025-02-08</th>\n",
       "      <td>0.997750</td>\n",
       "      <td>1.007145</td>\n",
       "      <td>0.994169</td>\n",
       "      <td>0.999849</td>\n",
       "      <td>1.396536e+06</td>\n",
       "      <td>XRPL</td>\n",
       "    </tr>\n",
       "    <tr>\n",
       "      <th>2025-02-07</th>\n",
       "      <td>0.996645</td>\n",
       "      <td>1.011750</td>\n",
       "      <td>0.985080</td>\n",
       "      <td>0.997750</td>\n",
       "      <td>4.161922e+06</td>\n",
       "      <td>XRPL</td>\n",
       "    </tr>\n",
       "    <tr>\n",
       "      <th>2025-02-06</th>\n",
       "      <td>1.000929</td>\n",
       "      <td>1.022668</td>\n",
       "      <td>0.942075</td>\n",
       "      <td>0.996645</td>\n",
       "      <td>3.978429e+06</td>\n",
       "      <td>XRPL</td>\n",
       "    </tr>\n",
       "    <tr>\n",
       "      <th>2025-02-05</th>\n",
       "      <td>1.000415</td>\n",
       "      <td>1.020804</td>\n",
       "      <td>0.988437</td>\n",
       "      <td>1.000929</td>\n",
       "      <td>4.053515e+06</td>\n",
       "      <td>XRPL</td>\n",
       "    </tr>\n",
       "    <tr>\n",
       "      <th>2025-02-04</th>\n",
       "      <td>0.995460</td>\n",
       "      <td>1.029221</td>\n",
       "      <td>0.984410</td>\n",
       "      <td>1.000415</td>\n",
       "      <td>8.388388e+06</td>\n",
       "      <td>XRPL</td>\n",
       "    </tr>\n",
       "    <tr>\n",
       "      <th>2025-02-03</th>\n",
       "      <td>0.999965</td>\n",
       "      <td>1.063232</td>\n",
       "      <td>0.895431</td>\n",
       "      <td>0.995460</td>\n",
       "      <td>9.280023e+06</td>\n",
       "      <td>XRPL</td>\n",
       "    </tr>\n",
       "    <tr>\n",
       "      <th>2025-02-02</th>\n",
       "      <td>1.010069</td>\n",
       "      <td>1.212565</td>\n",
       "      <td>0.950088</td>\n",
       "      <td>0.999965</td>\n",
       "      <td>9.743037e+06</td>\n",
       "      <td>XRPL</td>\n",
       "    </tr>\n",
       "    <tr>\n",
       "      <th>2025-02-01</th>\n",
       "      <td>1.002589</td>\n",
       "      <td>1.101482</td>\n",
       "      <td>0.980950</td>\n",
       "      <td>1.010069</td>\n",
       "      <td>3.079688e+06</td>\n",
       "      <td>XRPL</td>\n",
       "    </tr>\n",
       "    <tr>\n",
       "      <th>2025-01-31</th>\n",
       "      <td>1.000083</td>\n",
       "      <td>1.085409</td>\n",
       "      <td>0.992558</td>\n",
       "      <td>1.002589</td>\n",
       "      <td>1.892751e+06</td>\n",
       "      <td>XRPL</td>\n",
       "    </tr>\n",
       "    <tr>\n",
       "      <th>2025-01-30</th>\n",
       "      <td>1.001292</td>\n",
       "      <td>1.297305</td>\n",
       "      <td>0.909508</td>\n",
       "      <td>1.000083</td>\n",
       "      <td>1.203207e+06</td>\n",
       "      <td>XRPL</td>\n",
       "    </tr>\n",
       "    <tr>\n",
       "      <th>2025-01-29</th>\n",
       "      <td>1.000455</td>\n",
       "      <td>1.015391</td>\n",
       "      <td>0.979174</td>\n",
       "      <td>1.001292</td>\n",
       "      <td>3.353842e+06</td>\n",
       "      <td>XRPL</td>\n",
       "    </tr>\n",
       "    <tr>\n",
       "      <th>2025-01-28</th>\n",
       "      <td>0.999106</td>\n",
       "      <td>1.040688</td>\n",
       "      <td>0.989680</td>\n",
       "      <td>1.000455</td>\n",
       "      <td>3.758280e+06</td>\n",
       "      <td>XRPL</td>\n",
       "    </tr>\n",
       "    <tr>\n",
       "      <th>2025-01-27</th>\n",
       "      <td>0.998298</td>\n",
       "      <td>1.036926</td>\n",
       "      <td>0.988631</td>\n",
       "      <td>0.999106</td>\n",
       "      <td>6.137802e+06</td>\n",
       "      <td>XRPL</td>\n",
       "    </tr>\n",
       "    <tr>\n",
       "      <th>2025-01-26</th>\n",
       "      <td>1.001252</td>\n",
       "      <td>1.007527</td>\n",
       "      <td>0.995909</td>\n",
       "      <td>0.998298</td>\n",
       "      <td>8.355428e+05</td>\n",
       "      <td>XRPL</td>\n",
       "    </tr>\n",
       "    <tr>\n",
       "      <th>2025-01-25</th>\n",
       "      <td>0.999083</td>\n",
       "      <td>1.003493</td>\n",
       "      <td>0.996404</td>\n",
       "      <td>1.001252</td>\n",
       "      <td>1.155952e+06</td>\n",
       "      <td>XRPL</td>\n",
       "    </tr>\n",
       "    <tr>\n",
       "      <th>2025-01-24</th>\n",
       "      <td>0.997895</td>\n",
       "      <td>1.005647</td>\n",
       "      <td>0.989971</td>\n",
       "      <td>0.999083</td>\n",
       "      <td>1.889655e+06</td>\n",
       "      <td>XRPL</td>\n",
       "    </tr>\n",
       "    <tr>\n",
       "      <th>2025-01-23</th>\n",
       "      <td>0.995920</td>\n",
       "      <td>5.584656</td>\n",
       "      <td>0.988064</td>\n",
       "      <td>0.997895</td>\n",
       "      <td>1.603757e+06</td>\n",
       "      <td>XRPL</td>\n",
       "    </tr>\n",
       "    <tr>\n",
       "      <th>2025-01-22</th>\n",
       "      <td>1.001456</td>\n",
       "      <td>1.011136</td>\n",
       "      <td>0.977255</td>\n",
       "      <td>0.995920</td>\n",
       "      <td>1.429972e+06</td>\n",
       "      <td>XRPL</td>\n",
       "    </tr>\n",
       "    <tr>\n",
       "      <th>2025-01-21</th>\n",
       "      <td>1.001826</td>\n",
       "      <td>1.006046</td>\n",
       "      <td>0.995418</td>\n",
       "      <td>1.001456</td>\n",
       "      <td>2.383160e+05</td>\n",
       "      <td>XRPL</td>\n",
       "    </tr>\n",
       "  </tbody>\n",
       "</table>\n",
       "</div>"
      ],
      "text/plain": [
       "                open      high       low     close        volume blockchain\n",
       "timestamp                                                                  \n",
       "2025-02-23  1.002133  1.007945  0.994922  1.000654  3.126616e+06       XRPL\n",
       "2025-02-22  0.999421  1.004211  0.994505  1.002133  1.309474e+06       XRPL\n",
       "2025-02-21  1.000275  1.015347  0.991544  0.999421  3.566814e+06       XRPL\n",
       "2025-02-20  0.999597  1.006410  0.990719  1.000275  2.087277e+06       XRPL\n",
       "2025-02-19  0.999731  1.006938  0.989368  0.999597  3.253605e+06       XRPL\n",
       "2025-02-18  1.000353  1.014072  0.861225  0.999731  3.172405e+06       XRPL\n",
       "2025-02-17  1.000953  1.016197  0.986277  1.000353  2.923201e+06       XRPL\n",
       "2025-02-16  0.999345  1.010285  0.994568  1.000953  1.420950e+06       XRPL\n",
       "2025-02-15  1.000669  1.008210  0.993148  0.999345  2.021336e+06       XRPL\n",
       "2025-02-14  0.994836  1.017060  0.977842  1.000669  5.785919e+06       XRPL\n",
       "2025-02-13  0.999190  1.048997  0.979746  0.994836  3.452364e+06       XRPL\n",
       "2025-02-12  1.002805  1.027745  0.983144  0.999190  2.395291e+06       XRPL\n",
       "2025-02-11  0.998597  1.009642  0.991057  1.002805  2.758178e+06       XRPL\n",
       "2025-02-10  1.001356  1.017184  0.969908  0.998597  3.362116e+06       XRPL\n",
       "2025-02-09  0.999849  1.087289  0.918115  1.001356  3.263724e+06       XRPL\n",
       "2025-02-08  0.997750  1.007145  0.994169  0.999849  1.396536e+06       XRPL\n",
       "2025-02-07  0.996645  1.011750  0.985080  0.997750  4.161922e+06       XRPL\n",
       "2025-02-06  1.000929  1.022668  0.942075  0.996645  3.978429e+06       XRPL\n",
       "2025-02-05  1.000415  1.020804  0.988437  1.000929  4.053515e+06       XRPL\n",
       "2025-02-04  0.995460  1.029221  0.984410  1.000415  8.388388e+06       XRPL\n",
       "2025-02-03  0.999965  1.063232  0.895431  0.995460  9.280023e+06       XRPL\n",
       "2025-02-02  1.010069  1.212565  0.950088  0.999965  9.743037e+06       XRPL\n",
       "2025-02-01  1.002589  1.101482  0.980950  1.010069  3.079688e+06       XRPL\n",
       "2025-01-31  1.000083  1.085409  0.992558  1.002589  1.892751e+06       XRPL\n",
       "2025-01-30  1.001292  1.297305  0.909508  1.000083  1.203207e+06       XRPL\n",
       "2025-01-29  1.000455  1.015391  0.979174  1.001292  3.353842e+06       XRPL\n",
       "2025-01-28  0.999106  1.040688  0.989680  1.000455  3.758280e+06       XRPL\n",
       "2025-01-27  0.998298  1.036926  0.988631  0.999106  6.137802e+06       XRPL\n",
       "2025-01-26  1.001252  1.007527  0.995909  0.998298  8.355428e+05       XRPL\n",
       "2025-01-25  0.999083  1.003493  0.996404  1.001252  1.155952e+06       XRPL\n",
       "2025-01-24  0.997895  1.005647  0.989971  0.999083  1.889655e+06       XRPL\n",
       "2025-01-23  0.995920  5.584656  0.988064  0.997895  1.603757e+06       XRPL\n",
       "2025-01-22  1.001456  1.011136  0.977255  0.995920  1.429972e+06       XRPL\n",
       "2025-01-21  1.001826  1.006046  0.995418  1.001456  2.383160e+05       XRPL"
      ]
     },
     "execution_count": 106,
     "metadata": {},
     "output_type": "execute_result"
    }
   ],
   "source": [
    "xrpl_vol"
   ]
  },
  {
   "cell_type": "code",
   "execution_count": 107,
   "metadata": {},
   "outputs": [],
   "source": [
    "filtered_rlusd_eth_dex = rlusd_eth_dex_stats[['blockchain','volume']].resample('W-SUN').agg({\n",
    "    \"blockchain\":'last',\n",
    "    \"volume\":'sum'\n",
    "})"
   ]
  },
  {
   "cell_type": "code",
   "execution_count": null,
   "metadata": {},
   "outputs": [],
   "source": [
    "filtered_rlusd_xrpl_dex = xrpl_vol[['blockchain','volume']].resample('W-SUN').agg({\n",
    "    \"blockchain\":'last',\n",
    "    \"volume\":'sum'\n",
    "})"
   ]
  },
  {
   "cell_type": "code",
   "execution_count": 129,
   "metadata": {},
   "outputs": [
    {
     "data": {
      "text/html": [
       "<div>\n",
       "<style scoped>\n",
       "    .dataframe tbody tr th:only-of-type {\n",
       "        vertical-align: middle;\n",
       "    }\n",
       "\n",
       "    .dataframe tbody tr th {\n",
       "        vertical-align: top;\n",
       "    }\n",
       "\n",
       "    .dataframe thead th {\n",
       "        text-align: right;\n",
       "    }\n",
       "</style>\n",
       "<table border=\"1\" class=\"dataframe\">\n",
       "  <thead>\n",
       "    <tr style=\"text-align: right;\">\n",
       "      <th></th>\n",
       "      <th>open</th>\n",
       "      <th>high</th>\n",
       "      <th>low</th>\n",
       "      <th>close</th>\n",
       "      <th>volume</th>\n",
       "      <th>blockchain</th>\n",
       "    </tr>\n",
       "    <tr>\n",
       "      <th>timestamp</th>\n",
       "      <th></th>\n",
       "      <th></th>\n",
       "      <th></th>\n",
       "      <th></th>\n",
       "      <th></th>\n",
       "      <th></th>\n",
       "    </tr>\n",
       "  </thead>\n",
       "  <tbody>\n",
       "    <tr>\n",
       "      <th>2025-02-23</th>\n",
       "      <td>1.002133</td>\n",
       "      <td>1.007945</td>\n",
       "      <td>0.994922</td>\n",
       "      <td>1.000654</td>\n",
       "      <td>3.126616e+06</td>\n",
       "      <td>XRPL</td>\n",
       "    </tr>\n",
       "    <tr>\n",
       "      <th>2025-02-22</th>\n",
       "      <td>0.999421</td>\n",
       "      <td>1.004211</td>\n",
       "      <td>0.994505</td>\n",
       "      <td>1.002133</td>\n",
       "      <td>1.309474e+06</td>\n",
       "      <td>XRPL</td>\n",
       "    </tr>\n",
       "    <tr>\n",
       "      <th>2025-02-21</th>\n",
       "      <td>1.000275</td>\n",
       "      <td>1.015347</td>\n",
       "      <td>0.991544</td>\n",
       "      <td>0.999421</td>\n",
       "      <td>3.566814e+06</td>\n",
       "      <td>XRPL</td>\n",
       "    </tr>\n",
       "    <tr>\n",
       "      <th>2025-02-20</th>\n",
       "      <td>0.999597</td>\n",
       "      <td>1.006410</td>\n",
       "      <td>0.990719</td>\n",
       "      <td>1.000275</td>\n",
       "      <td>2.087277e+06</td>\n",
       "      <td>XRPL</td>\n",
       "    </tr>\n",
       "    <tr>\n",
       "      <th>2025-02-19</th>\n",
       "      <td>0.999731</td>\n",
       "      <td>1.006938</td>\n",
       "      <td>0.989368</td>\n",
       "      <td>0.999597</td>\n",
       "      <td>3.253605e+06</td>\n",
       "      <td>XRPL</td>\n",
       "    </tr>\n",
       "    <tr>\n",
       "      <th>2025-02-18</th>\n",
       "      <td>1.000353</td>\n",
       "      <td>1.014072</td>\n",
       "      <td>0.861225</td>\n",
       "      <td>0.999731</td>\n",
       "      <td>3.172405e+06</td>\n",
       "      <td>XRPL</td>\n",
       "    </tr>\n",
       "    <tr>\n",
       "      <th>2025-02-17</th>\n",
       "      <td>1.000953</td>\n",
       "      <td>1.016197</td>\n",
       "      <td>0.986277</td>\n",
       "      <td>1.000353</td>\n",
       "      <td>2.923201e+06</td>\n",
       "      <td>XRPL</td>\n",
       "    </tr>\n",
       "    <tr>\n",
       "      <th>2025-02-16</th>\n",
       "      <td>0.999345</td>\n",
       "      <td>1.010285</td>\n",
       "      <td>0.994568</td>\n",
       "      <td>1.000953</td>\n",
       "      <td>1.420950e+06</td>\n",
       "      <td>XRPL</td>\n",
       "    </tr>\n",
       "    <tr>\n",
       "      <th>2025-02-15</th>\n",
       "      <td>1.000669</td>\n",
       "      <td>1.008210</td>\n",
       "      <td>0.993148</td>\n",
       "      <td>0.999345</td>\n",
       "      <td>2.021336e+06</td>\n",
       "      <td>XRPL</td>\n",
       "    </tr>\n",
       "    <tr>\n",
       "      <th>2025-02-14</th>\n",
       "      <td>0.994836</td>\n",
       "      <td>1.017060</td>\n",
       "      <td>0.977842</td>\n",
       "      <td>1.000669</td>\n",
       "      <td>5.785919e+06</td>\n",
       "      <td>XRPL</td>\n",
       "    </tr>\n",
       "    <tr>\n",
       "      <th>2025-02-13</th>\n",
       "      <td>0.999190</td>\n",
       "      <td>1.048997</td>\n",
       "      <td>0.979746</td>\n",
       "      <td>0.994836</td>\n",
       "      <td>3.452364e+06</td>\n",
       "      <td>XRPL</td>\n",
       "    </tr>\n",
       "    <tr>\n",
       "      <th>2025-02-12</th>\n",
       "      <td>1.002805</td>\n",
       "      <td>1.027745</td>\n",
       "      <td>0.983144</td>\n",
       "      <td>0.999190</td>\n",
       "      <td>2.395291e+06</td>\n",
       "      <td>XRPL</td>\n",
       "    </tr>\n",
       "    <tr>\n",
       "      <th>2025-02-11</th>\n",
       "      <td>0.998597</td>\n",
       "      <td>1.009642</td>\n",
       "      <td>0.991057</td>\n",
       "      <td>1.002805</td>\n",
       "      <td>2.758178e+06</td>\n",
       "      <td>XRPL</td>\n",
       "    </tr>\n",
       "    <tr>\n",
       "      <th>2025-02-10</th>\n",
       "      <td>1.001356</td>\n",
       "      <td>1.017184</td>\n",
       "      <td>0.969908</td>\n",
       "      <td>0.998597</td>\n",
       "      <td>3.362116e+06</td>\n",
       "      <td>XRPL</td>\n",
       "    </tr>\n",
       "    <tr>\n",
       "      <th>2025-02-09</th>\n",
       "      <td>0.999849</td>\n",
       "      <td>1.087289</td>\n",
       "      <td>0.918115</td>\n",
       "      <td>1.001356</td>\n",
       "      <td>3.263724e+06</td>\n",
       "      <td>XRPL</td>\n",
       "    </tr>\n",
       "    <tr>\n",
       "      <th>2025-02-08</th>\n",
       "      <td>0.997750</td>\n",
       "      <td>1.007145</td>\n",
       "      <td>0.994169</td>\n",
       "      <td>0.999849</td>\n",
       "      <td>1.396536e+06</td>\n",
       "      <td>XRPL</td>\n",
       "    </tr>\n",
       "    <tr>\n",
       "      <th>2025-02-07</th>\n",
       "      <td>0.996645</td>\n",
       "      <td>1.011750</td>\n",
       "      <td>0.985080</td>\n",
       "      <td>0.997750</td>\n",
       "      <td>4.161922e+06</td>\n",
       "      <td>XRPL</td>\n",
       "    </tr>\n",
       "    <tr>\n",
       "      <th>2025-02-06</th>\n",
       "      <td>1.000929</td>\n",
       "      <td>1.022668</td>\n",
       "      <td>0.942075</td>\n",
       "      <td>0.996645</td>\n",
       "      <td>3.978429e+06</td>\n",
       "      <td>XRPL</td>\n",
       "    </tr>\n",
       "    <tr>\n",
       "      <th>2025-02-05</th>\n",
       "      <td>1.000415</td>\n",
       "      <td>1.020804</td>\n",
       "      <td>0.988437</td>\n",
       "      <td>1.000929</td>\n",
       "      <td>4.053515e+06</td>\n",
       "      <td>XRPL</td>\n",
       "    </tr>\n",
       "    <tr>\n",
       "      <th>2025-02-04</th>\n",
       "      <td>0.995460</td>\n",
       "      <td>1.029221</td>\n",
       "      <td>0.984410</td>\n",
       "      <td>1.000415</td>\n",
       "      <td>8.388388e+06</td>\n",
       "      <td>XRPL</td>\n",
       "    </tr>\n",
       "    <tr>\n",
       "      <th>2025-02-03</th>\n",
       "      <td>0.999965</td>\n",
       "      <td>1.063232</td>\n",
       "      <td>0.895431</td>\n",
       "      <td>0.995460</td>\n",
       "      <td>9.280023e+06</td>\n",
       "      <td>XRPL</td>\n",
       "    </tr>\n",
       "    <tr>\n",
       "      <th>2025-02-02</th>\n",
       "      <td>1.010069</td>\n",
       "      <td>1.212565</td>\n",
       "      <td>0.950088</td>\n",
       "      <td>0.999965</td>\n",
       "      <td>9.743037e+06</td>\n",
       "      <td>XRPL</td>\n",
       "    </tr>\n",
       "    <tr>\n",
       "      <th>2025-02-01</th>\n",
       "      <td>1.002589</td>\n",
       "      <td>1.101482</td>\n",
       "      <td>0.980950</td>\n",
       "      <td>1.010069</td>\n",
       "      <td>3.079688e+06</td>\n",
       "      <td>XRPL</td>\n",
       "    </tr>\n",
       "    <tr>\n",
       "      <th>2025-01-31</th>\n",
       "      <td>1.000083</td>\n",
       "      <td>1.085409</td>\n",
       "      <td>0.992558</td>\n",
       "      <td>1.002589</td>\n",
       "      <td>1.892751e+06</td>\n",
       "      <td>XRPL</td>\n",
       "    </tr>\n",
       "    <tr>\n",
       "      <th>2025-01-30</th>\n",
       "      <td>1.001292</td>\n",
       "      <td>1.297305</td>\n",
       "      <td>0.909508</td>\n",
       "      <td>1.000083</td>\n",
       "      <td>1.203207e+06</td>\n",
       "      <td>XRPL</td>\n",
       "    </tr>\n",
       "    <tr>\n",
       "      <th>2025-01-29</th>\n",
       "      <td>1.000455</td>\n",
       "      <td>1.015391</td>\n",
       "      <td>0.979174</td>\n",
       "      <td>1.001292</td>\n",
       "      <td>3.353842e+06</td>\n",
       "      <td>XRPL</td>\n",
       "    </tr>\n",
       "    <tr>\n",
       "      <th>2025-01-28</th>\n",
       "      <td>0.999106</td>\n",
       "      <td>1.040688</td>\n",
       "      <td>0.989680</td>\n",
       "      <td>1.000455</td>\n",
       "      <td>3.758280e+06</td>\n",
       "      <td>XRPL</td>\n",
       "    </tr>\n",
       "    <tr>\n",
       "      <th>2025-01-27</th>\n",
       "      <td>0.998298</td>\n",
       "      <td>1.036926</td>\n",
       "      <td>0.988631</td>\n",
       "      <td>0.999106</td>\n",
       "      <td>6.137802e+06</td>\n",
       "      <td>XRPL</td>\n",
       "    </tr>\n",
       "    <tr>\n",
       "      <th>2025-01-26</th>\n",
       "      <td>1.001252</td>\n",
       "      <td>1.007527</td>\n",
       "      <td>0.995909</td>\n",
       "      <td>0.998298</td>\n",
       "      <td>8.355428e+05</td>\n",
       "      <td>XRPL</td>\n",
       "    </tr>\n",
       "    <tr>\n",
       "      <th>2025-01-25</th>\n",
       "      <td>0.999083</td>\n",
       "      <td>1.003493</td>\n",
       "      <td>0.996404</td>\n",
       "      <td>1.001252</td>\n",
       "      <td>1.155952e+06</td>\n",
       "      <td>XRPL</td>\n",
       "    </tr>\n",
       "    <tr>\n",
       "      <th>2025-01-24</th>\n",
       "      <td>0.997895</td>\n",
       "      <td>1.005647</td>\n",
       "      <td>0.989971</td>\n",
       "      <td>0.999083</td>\n",
       "      <td>1.889655e+06</td>\n",
       "      <td>XRPL</td>\n",
       "    </tr>\n",
       "    <tr>\n",
       "      <th>2025-01-23</th>\n",
       "      <td>0.995920</td>\n",
       "      <td>5.584656</td>\n",
       "      <td>0.988064</td>\n",
       "      <td>0.997895</td>\n",
       "      <td>1.603757e+06</td>\n",
       "      <td>XRPL</td>\n",
       "    </tr>\n",
       "    <tr>\n",
       "      <th>2025-01-22</th>\n",
       "      <td>1.001456</td>\n",
       "      <td>1.011136</td>\n",
       "      <td>0.977255</td>\n",
       "      <td>0.995920</td>\n",
       "      <td>1.429972e+06</td>\n",
       "      <td>XRPL</td>\n",
       "    </tr>\n",
       "    <tr>\n",
       "      <th>2025-01-21</th>\n",
       "      <td>1.001826</td>\n",
       "      <td>1.006046</td>\n",
       "      <td>0.995418</td>\n",
       "      <td>1.001456</td>\n",
       "      <td>2.383160e+05</td>\n",
       "      <td>XRPL</td>\n",
       "    </tr>\n",
       "  </tbody>\n",
       "</table>\n",
       "</div>"
      ],
      "text/plain": [
       "                open      high       low     close        volume blockchain\n",
       "timestamp                                                                  \n",
       "2025-02-23  1.002133  1.007945  0.994922  1.000654  3.126616e+06       XRPL\n",
       "2025-02-22  0.999421  1.004211  0.994505  1.002133  1.309474e+06       XRPL\n",
       "2025-02-21  1.000275  1.015347  0.991544  0.999421  3.566814e+06       XRPL\n",
       "2025-02-20  0.999597  1.006410  0.990719  1.000275  2.087277e+06       XRPL\n",
       "2025-02-19  0.999731  1.006938  0.989368  0.999597  3.253605e+06       XRPL\n",
       "2025-02-18  1.000353  1.014072  0.861225  0.999731  3.172405e+06       XRPL\n",
       "2025-02-17  1.000953  1.016197  0.986277  1.000353  2.923201e+06       XRPL\n",
       "2025-02-16  0.999345  1.010285  0.994568  1.000953  1.420950e+06       XRPL\n",
       "2025-02-15  1.000669  1.008210  0.993148  0.999345  2.021336e+06       XRPL\n",
       "2025-02-14  0.994836  1.017060  0.977842  1.000669  5.785919e+06       XRPL\n",
       "2025-02-13  0.999190  1.048997  0.979746  0.994836  3.452364e+06       XRPL\n",
       "2025-02-12  1.002805  1.027745  0.983144  0.999190  2.395291e+06       XRPL\n",
       "2025-02-11  0.998597  1.009642  0.991057  1.002805  2.758178e+06       XRPL\n",
       "2025-02-10  1.001356  1.017184  0.969908  0.998597  3.362116e+06       XRPL\n",
       "2025-02-09  0.999849  1.087289  0.918115  1.001356  3.263724e+06       XRPL\n",
       "2025-02-08  0.997750  1.007145  0.994169  0.999849  1.396536e+06       XRPL\n",
       "2025-02-07  0.996645  1.011750  0.985080  0.997750  4.161922e+06       XRPL\n",
       "2025-02-06  1.000929  1.022668  0.942075  0.996645  3.978429e+06       XRPL\n",
       "2025-02-05  1.000415  1.020804  0.988437  1.000929  4.053515e+06       XRPL\n",
       "2025-02-04  0.995460  1.029221  0.984410  1.000415  8.388388e+06       XRPL\n",
       "2025-02-03  0.999965  1.063232  0.895431  0.995460  9.280023e+06       XRPL\n",
       "2025-02-02  1.010069  1.212565  0.950088  0.999965  9.743037e+06       XRPL\n",
       "2025-02-01  1.002589  1.101482  0.980950  1.010069  3.079688e+06       XRPL\n",
       "2025-01-31  1.000083  1.085409  0.992558  1.002589  1.892751e+06       XRPL\n",
       "2025-01-30  1.001292  1.297305  0.909508  1.000083  1.203207e+06       XRPL\n",
       "2025-01-29  1.000455  1.015391  0.979174  1.001292  3.353842e+06       XRPL\n",
       "2025-01-28  0.999106  1.040688  0.989680  1.000455  3.758280e+06       XRPL\n",
       "2025-01-27  0.998298  1.036926  0.988631  0.999106  6.137802e+06       XRPL\n",
       "2025-01-26  1.001252  1.007527  0.995909  0.998298  8.355428e+05       XRPL\n",
       "2025-01-25  0.999083  1.003493  0.996404  1.001252  1.155952e+06       XRPL\n",
       "2025-01-24  0.997895  1.005647  0.989971  0.999083  1.889655e+06       XRPL\n",
       "2025-01-23  0.995920  5.584656  0.988064  0.997895  1.603757e+06       XRPL\n",
       "2025-01-22  1.001456  1.011136  0.977255  0.995920  1.429972e+06       XRPL\n",
       "2025-01-21  1.001826  1.006046  0.995418  1.001456  2.383160e+05       XRPL"
      ]
     },
     "execution_count": 129,
     "metadata": {},
     "output_type": "execute_result"
    }
   ],
   "source": [
    "xrpl_vol"
   ]
  },
  {
   "cell_type": "code",
   "execution_count": 130,
   "metadata": {},
   "outputs": [
    {
     "data": {
      "text/html": [
       "<div>\n",
       "<style scoped>\n",
       "    .dataframe tbody tr th:only-of-type {\n",
       "        vertical-align: middle;\n",
       "    }\n",
       "\n",
       "    .dataframe tbody tr th {\n",
       "        vertical-align: top;\n",
       "    }\n",
       "\n",
       "    .dataframe thead th {\n",
       "        text-align: right;\n",
       "    }\n",
       "</style>\n",
       "<table border=\"1\" class=\"dataframe\">\n",
       "  <thead>\n",
       "    <tr style=\"text-align: right;\">\n",
       "      <th></th>\n",
       "      <th>blockchain</th>\n",
       "      <th>volume</th>\n",
       "    </tr>\n",
       "    <tr>\n",
       "      <th>timestamp</th>\n",
       "      <th></th>\n",
       "      <th></th>\n",
       "    </tr>\n",
       "  </thead>\n",
       "  <tbody>\n",
       "    <tr>\n",
       "      <th>2025-01-26</th>\n",
       "      <td>XRPL</td>\n",
       "      <td>7.153195e+06</td>\n",
       "    </tr>\n",
       "    <tr>\n",
       "      <th>2025-02-02</th>\n",
       "      <td>XRPL</td>\n",
       "      <td>2.916861e+07</td>\n",
       "    </tr>\n",
       "    <tr>\n",
       "      <th>2025-02-09</th>\n",
       "      <td>XRPL</td>\n",
       "      <td>3.452254e+07</td>\n",
       "    </tr>\n",
       "    <tr>\n",
       "      <th>2025-02-16</th>\n",
       "      <td>XRPL</td>\n",
       "      <td>2.119616e+07</td>\n",
       "    </tr>\n",
       "    <tr>\n",
       "      <th>2025-02-23</th>\n",
       "      <td>XRPL</td>\n",
       "      <td>1.943939e+07</td>\n",
       "    </tr>\n",
       "  </tbody>\n",
       "</table>\n",
       "</div>"
      ],
      "text/plain": [
       "           blockchain        volume\n",
       "timestamp                          \n",
       "2025-01-26       XRPL  7.153195e+06\n",
       "2025-02-02       XRPL  2.916861e+07\n",
       "2025-02-09       XRPL  3.452254e+07\n",
       "2025-02-16       XRPL  2.119616e+07\n",
       "2025-02-23       XRPL  1.943939e+07"
      ]
     },
     "execution_count": 130,
     "metadata": {},
     "output_type": "execute_result"
    }
   ],
   "source": [
    "filtered_rlusd_xrpl_dex"
   ]
  },
  {
   "cell_type": "code",
   "execution_count": 109,
   "metadata": {},
   "outputs": [],
   "source": [
    "combined_vol = pd.concat([filtered_rlusd_eth_dex, filtered_rlusd_xrpl_dex])"
   ]
  },
  {
   "cell_type": "code",
   "execution_count": 110,
   "metadata": {},
   "outputs": [],
   "source": [
    "combined_vol.sort_index(inplace=True)"
   ]
  },
  {
   "cell_type": "code",
   "execution_count": 132,
   "metadata": {},
   "outputs": [
    {
     "data": {
      "text/html": [
       "<div>\n",
       "<style scoped>\n",
       "    .dataframe tbody tr th:only-of-type {\n",
       "        vertical-align: middle;\n",
       "    }\n",
       "\n",
       "    .dataframe tbody tr th {\n",
       "        vertical-align: top;\n",
       "    }\n",
       "\n",
       "    .dataframe thead th {\n",
       "        text-align: right;\n",
       "    }\n",
       "</style>\n",
       "<table border=\"1\" class=\"dataframe\">\n",
       "  <thead>\n",
       "    <tr style=\"text-align: right;\">\n",
       "      <th></th>\n",
       "      <th>volume</th>\n",
       "    </tr>\n",
       "  </thead>\n",
       "  <tbody>\n",
       "    <tr>\n",
       "      <th>2025-01-19</th>\n",
       "      <td>5.143131e+03</td>\n",
       "    </tr>\n",
       "    <tr>\n",
       "      <th>2025-01-26</th>\n",
       "      <td>7.231896e+06</td>\n",
       "    </tr>\n",
       "    <tr>\n",
       "      <th>2025-02-02</th>\n",
       "      <td>2.931578e+07</td>\n",
       "    </tr>\n",
       "    <tr>\n",
       "      <th>2025-02-09</th>\n",
       "      <td>3.474920e+07</td>\n",
       "    </tr>\n",
       "    <tr>\n",
       "      <th>2025-02-16</th>\n",
       "      <td>2.133895e+07</td>\n",
       "    </tr>\n",
       "    <tr>\n",
       "      <th>2025-02-23</th>\n",
       "      <td>1.958982e+07</td>\n",
       "    </tr>\n",
       "  </tbody>\n",
       "</table>\n",
       "</div>"
      ],
      "text/plain": [
       "                  volume\n",
       "2025-01-19  5.143131e+03\n",
       "2025-01-26  7.231896e+06\n",
       "2025-02-02  2.931578e+07\n",
       "2025-02-09  3.474920e+07\n",
       "2025-02-16  2.133895e+07\n",
       "2025-02-23  1.958982e+07"
      ]
     },
     "execution_count": 132,
     "metadata": {},
     "output_type": "execute_result"
    }
   ],
   "source": [
    "combined_vol_total = combined_vol.groupby(combined_vol.index)[['volume']].sum()\n",
    "combined_vol_total"
   ]
  },
  {
   "cell_type": "code",
   "execution_count": 112,
   "metadata": {},
   "outputs": [],
   "source": [
    "vol_by_chain = combined_vol.groupby('blockchain')[['volume']].sum().reset_index()"
   ]
  },
  {
   "cell_type": "code",
   "execution_count": 178,
   "metadata": {},
   "outputs": [
    {
     "name": "stdout",
     "output_type": "stream",
     "text": [
      "Initialized axes_data: {'y1': 'All', 'y2': []}\n",
      "tick0: min\n",
      "turn_to_time: False\n",
      "df sort order at init: ['Ethereum' 'XRPL']\n"
     ]
    }
   ],
   "source": [
    "fig7 = visualization_pipeline(\n",
    "df=vol_by_chain,\n",
    "    title='rlusd_fig7',\n",
    "    # start_date='2024-01-01',\n",
    "    # end_date='2024-12-31',\n",
    "    # end_date='2024-10-01',\n",
    "    chart_type='pie',\n",
    "    dimensions=dict(height=351, width=730),\n",
    "    groupby = 'blockchain',\n",
    "    num_col='volume',\n",
    "    # cols_to_plot='All',\n",
    "    # line_col=['cumulative_freq'],\n",
    "    # bar_col=['freg'],\n",
    "    tickangle=0,\n",
    "    dropna=True,\n",
    "    area=True,\n",
    "    colors=combined_colors,\n",
    "    # axes_data=dict(y1=['UAW'],y2=[]),\n",
    "    tickformat=dict(x='%b<br>`%y',y1=None,y2=None),\n",
    "    legend_font_size=12,\n",
    "    font_family=font_family,\n",
    "    cumulative_sort=True,\n",
    "    normalize=False,\n",
    "    decimals=True,\n",
    "    decimal_places=0,\n",
    "    y2=True,\n",
    "    # min_tick_spacing=50,\n",
    "    # buffer=3,\n",
    "    barmode='group',\n",
    "    mode='lines+markers',\n",
    "    # font_size=14,\n",
    "    # line_width=3,\n",
    "    marker_size=3,\n",
    "    tickprefix=dict(y1='$',y2=None),\n",
    "    ticksuffix=dict(y1=None,y2=None),\n",
    "    axes_titles=dict(y1=None,y2=None),\n",
    "    show_legend=False,\n",
    "    hole_size=0,\n",
    "    line_width=0,\n",
    "    descending=False,\n",
    "    buffer = 0.25,\n",
    "    margin=dict(l=0, r=0, t=100, b=0),\n",
    "    annotations=True,\n",
    "    text=True,\n",
    "    orientation='h',\n",
    "    sort_list=True,\n",
    "    autosize=False,\n",
    "    max_annotation=True,\n",
    "    annotation_prefix='$',\n",
    "    auto_title=False,\n",
    "    axes_font_colors='auto',\n",
    "    to_reverse=False,\n",
    "    line_color='black',\n",
    "    use_single_color=False,\n",
    "    custom_annotation = ['2022-10-31'],\n",
    "    # axes_font_colors='auto',\n",
    ")"
   ]
  },
  {
   "cell_type": "code",
   "execution_count": 179,
   "metadata": {},
   "outputs": [
    {
     "name": "stdout",
     "output_type": "stream",
     "text": [
      "save:False\n",
      "logo path: ../img/Logos/None\n",
      "Generating pie chart...\n",
      "self.textinfo: percent+label\n",
      "original_labels: ['Ethereum' 'XRPL']\n",
      "df_copy:                   volume\n",
      "blockchain              \n",
      "Ethereum    7.508930e+05\n",
      "XRPL        1.114799e+08\n",
      "percent+label, ['XRPL    ', 'Ethereum    ']\n",
      "textinfo: percent+label\n",
      "x:112230780.06720082M\n",
      "Columns: Index(['blockchain', 'volume'], dtype='object') \n",
      "Index: RangeIndex(start=0, stop=2, step=1)\n"
     ]
    },
    {
     "data": {
      "application/vnd.plotly.v1+json": {
       "config": {
        "linkText": "Export to plot.ly",
        "plotlyServerURL": "https://plot.ly",
        "showLink": false
       },
       "data": [
        {
         "hole": 0,
         "labels": [
          "XRPL    ",
          "Ethereum    "
         ],
         "marker": {
          "colors": [
           "#00CC96",
           "#67D8FE",
           "#FF7EBE",
           "#FFBC36",
           "#E6FF59",
           "#2E91E5",
           "#E15F99",
           "#1CA71C",
           "#FB0D0D",
           "#DA16FF",
           "#222A2A",
           "#B68100",
           "#750D86",
           "#EB663B",
           "#511CFB",
           "#00A08B",
           "#FB00D1",
           "#FC0080",
           "#B2828D",
           "#6C7C32",
           "#778AAE",
           "#862A16",
           "#A777F1",
           "#620042",
           "#1616A7",
           "#DA60CA",
           "#6C4516",
           "#0D2A63",
           "#AF0038",
           "rgb(141,211,199)",
           "rgb(255,255,179)",
           "rgb(190,186,218)",
           "rgb(251,128,114)",
           "rgb(128,177,211)",
           "rgb(253,180,98)",
           "rgb(179,222,105)",
           "rgb(252,205,229)",
           "rgb(217,217,217)",
           "rgb(188,128,189)",
           "rgb(204,235,197)",
           "rgb(255,237,111)",
           "#FECB52",
           "#FF97FF",
           "#B6E880",
           "#FF6692",
           "#19D3F3",
           "#FFA15A",
           "#AB63FA",
           "#00CC96",
           "#EF553B",
           "#636EFA"
          ],
          "line": {
           "color": "white",
           "width": 0
          }
         },
         "showlegend": false,
         "textfont": {
          "color": "black",
          "family": "IBM Plex Mono",
          "size": 14
         },
         "textinfo": "percent+label",
         "texttemplate": "%{label}<br>%{percent}",
         "type": "pie",
         "values": {
          "bdata": "43UiPDGUmkEXNC0RWuomQQ==",
          "dtype": "f8"
         }
        }
       ],
       "layout": {
        "annotations": [
         {
          "align": "center",
          "font": {
           "color": "black",
           "family": "IBM Plex Mono",
           "size": 25
          },
          "showarrow": false,
          "text": "Total: $112M",
          "x": 0.5,
          "xref": "paper",
          "y": 0.5,
          "yref": "paper"
         }
        ],
        "autosize": true,
        "font": {
         "family": "IBM Plex Mono",
         "size": 16
        },
        "height": 351,
        "legend": {
         "bgcolor": "rgba(0,0,0,0)",
         "font": {
          "color": "black",
          "family": "IBM Plex Mono",
          "size": 12
         },
         "itemsizing": "constant",
         "orientation": "v",
         "x": 0.2,
         "xanchor": "left",
         "y": 0.9,
         "yanchor": "top"
        },
        "margin": {
         "b": 0,
         "l": 0,
         "r": 0,
         "t": 100
        },
        "paper_bgcolor": "rgba(0,0,0,0)",
        "plot_bgcolor": "rgba(0,0,0,0)",
        "template": {
         "data": {
          "bar": [
           {
            "error_x": {
             "color": "#2a3f5f"
            },
            "error_y": {
             "color": "#2a3f5f"
            },
            "marker": {
             "line": {
              "color": "#E5ECF6",
              "width": 0.5
             },
             "pattern": {
              "fillmode": "overlay",
              "size": 10,
              "solidity": 0.2
             }
            },
            "type": "bar"
           }
          ],
          "barpolar": [
           {
            "marker": {
             "line": {
              "color": "#E5ECF6",
              "width": 0.5
             },
             "pattern": {
              "fillmode": "overlay",
              "size": 10,
              "solidity": 0.2
             }
            },
            "type": "barpolar"
           }
          ],
          "carpet": [
           {
            "aaxis": {
             "endlinecolor": "#2a3f5f",
             "gridcolor": "white",
             "linecolor": "white",
             "minorgridcolor": "white",
             "startlinecolor": "#2a3f5f"
            },
            "baxis": {
             "endlinecolor": "#2a3f5f",
             "gridcolor": "white",
             "linecolor": "white",
             "minorgridcolor": "white",
             "startlinecolor": "#2a3f5f"
            },
            "type": "carpet"
           }
          ],
          "choropleth": [
           {
            "colorbar": {
             "outlinewidth": 0,
             "ticks": ""
            },
            "type": "choropleth"
           }
          ],
          "contour": [
           {
            "colorbar": {
             "outlinewidth": 0,
             "ticks": ""
            },
            "colorscale": [
             [
              0,
              "#0d0887"
             ],
             [
              0.1111111111111111,
              "#46039f"
             ],
             [
              0.2222222222222222,
              "#7201a8"
             ],
             [
              0.3333333333333333,
              "#9c179e"
             ],
             [
              0.4444444444444444,
              "#bd3786"
             ],
             [
              0.5555555555555556,
              "#d8576b"
             ],
             [
              0.6666666666666666,
              "#ed7953"
             ],
             [
              0.7777777777777778,
              "#fb9f3a"
             ],
             [
              0.8888888888888888,
              "#fdca26"
             ],
             [
              1,
              "#f0f921"
             ]
            ],
            "type": "contour"
           }
          ],
          "contourcarpet": [
           {
            "colorbar": {
             "outlinewidth": 0,
             "ticks": ""
            },
            "type": "contourcarpet"
           }
          ],
          "heatmap": [
           {
            "colorbar": {
             "outlinewidth": 0,
             "ticks": ""
            },
            "colorscale": [
             [
              0,
              "#0d0887"
             ],
             [
              0.1111111111111111,
              "#46039f"
             ],
             [
              0.2222222222222222,
              "#7201a8"
             ],
             [
              0.3333333333333333,
              "#9c179e"
             ],
             [
              0.4444444444444444,
              "#bd3786"
             ],
             [
              0.5555555555555556,
              "#d8576b"
             ],
             [
              0.6666666666666666,
              "#ed7953"
             ],
             [
              0.7777777777777778,
              "#fb9f3a"
             ],
             [
              0.8888888888888888,
              "#fdca26"
             ],
             [
              1,
              "#f0f921"
             ]
            ],
            "type": "heatmap"
           }
          ],
          "histogram": [
           {
            "marker": {
             "pattern": {
              "fillmode": "overlay",
              "size": 10,
              "solidity": 0.2
             }
            },
            "type": "histogram"
           }
          ],
          "histogram2d": [
           {
            "colorbar": {
             "outlinewidth": 0,
             "ticks": ""
            },
            "colorscale": [
             [
              0,
              "#0d0887"
             ],
             [
              0.1111111111111111,
              "#46039f"
             ],
             [
              0.2222222222222222,
              "#7201a8"
             ],
             [
              0.3333333333333333,
              "#9c179e"
             ],
             [
              0.4444444444444444,
              "#bd3786"
             ],
             [
              0.5555555555555556,
              "#d8576b"
             ],
             [
              0.6666666666666666,
              "#ed7953"
             ],
             [
              0.7777777777777778,
              "#fb9f3a"
             ],
             [
              0.8888888888888888,
              "#fdca26"
             ],
             [
              1,
              "#f0f921"
             ]
            ],
            "type": "histogram2d"
           }
          ],
          "histogram2dcontour": [
           {
            "colorbar": {
             "outlinewidth": 0,
             "ticks": ""
            },
            "colorscale": [
             [
              0,
              "#0d0887"
             ],
             [
              0.1111111111111111,
              "#46039f"
             ],
             [
              0.2222222222222222,
              "#7201a8"
             ],
             [
              0.3333333333333333,
              "#9c179e"
             ],
             [
              0.4444444444444444,
              "#bd3786"
             ],
             [
              0.5555555555555556,
              "#d8576b"
             ],
             [
              0.6666666666666666,
              "#ed7953"
             ],
             [
              0.7777777777777778,
              "#fb9f3a"
             ],
             [
              0.8888888888888888,
              "#fdca26"
             ],
             [
              1,
              "#f0f921"
             ]
            ],
            "type": "histogram2dcontour"
           }
          ],
          "mesh3d": [
           {
            "colorbar": {
             "outlinewidth": 0,
             "ticks": ""
            },
            "type": "mesh3d"
           }
          ],
          "parcoords": [
           {
            "line": {
             "colorbar": {
              "outlinewidth": 0,
              "ticks": ""
             }
            },
            "type": "parcoords"
           }
          ],
          "pie": [
           {
            "automargin": true,
            "type": "pie"
           }
          ],
          "scatter": [
           {
            "fillpattern": {
             "fillmode": "overlay",
             "size": 10,
             "solidity": 0.2
            },
            "type": "scatter"
           }
          ],
          "scatter3d": [
           {
            "line": {
             "colorbar": {
              "outlinewidth": 0,
              "ticks": ""
             }
            },
            "marker": {
             "colorbar": {
              "outlinewidth": 0,
              "ticks": ""
             }
            },
            "type": "scatter3d"
           }
          ],
          "scattercarpet": [
           {
            "marker": {
             "colorbar": {
              "outlinewidth": 0,
              "ticks": ""
             }
            },
            "type": "scattercarpet"
           }
          ],
          "scattergeo": [
           {
            "marker": {
             "colorbar": {
              "outlinewidth": 0,
              "ticks": ""
             }
            },
            "type": "scattergeo"
           }
          ],
          "scattergl": [
           {
            "marker": {
             "colorbar": {
              "outlinewidth": 0,
              "ticks": ""
             }
            },
            "type": "scattergl"
           }
          ],
          "scattermap": [
           {
            "marker": {
             "colorbar": {
              "outlinewidth": 0,
              "ticks": ""
             }
            },
            "type": "scattermap"
           }
          ],
          "scattermapbox": [
           {
            "marker": {
             "colorbar": {
              "outlinewidth": 0,
              "ticks": ""
             }
            },
            "type": "scattermapbox"
           }
          ],
          "scatterpolar": [
           {
            "marker": {
             "colorbar": {
              "outlinewidth": 0,
              "ticks": ""
             }
            },
            "type": "scatterpolar"
           }
          ],
          "scatterpolargl": [
           {
            "marker": {
             "colorbar": {
              "outlinewidth": 0,
              "ticks": ""
             }
            },
            "type": "scatterpolargl"
           }
          ],
          "scatterternary": [
           {
            "marker": {
             "colorbar": {
              "outlinewidth": 0,
              "ticks": ""
             }
            },
            "type": "scatterternary"
           }
          ],
          "surface": [
           {
            "colorbar": {
             "outlinewidth": 0,
             "ticks": ""
            },
            "colorscale": [
             [
              0,
              "#0d0887"
             ],
             [
              0.1111111111111111,
              "#46039f"
             ],
             [
              0.2222222222222222,
              "#7201a8"
             ],
             [
              0.3333333333333333,
              "#9c179e"
             ],
             [
              0.4444444444444444,
              "#bd3786"
             ],
             [
              0.5555555555555556,
              "#d8576b"
             ],
             [
              0.6666666666666666,
              "#ed7953"
             ],
             [
              0.7777777777777778,
              "#fb9f3a"
             ],
             [
              0.8888888888888888,
              "#fdca26"
             ],
             [
              1,
              "#f0f921"
             ]
            ],
            "type": "surface"
           }
          ],
          "table": [
           {
            "cells": {
             "fill": {
              "color": "#EBF0F8"
             },
             "line": {
              "color": "white"
             }
            },
            "header": {
             "fill": {
              "color": "#C8D4E3"
             },
             "line": {
              "color": "white"
             }
            },
            "type": "table"
           }
          ]
         },
         "layout": {
          "annotationdefaults": {
           "arrowcolor": "#2a3f5f",
           "arrowhead": 0,
           "arrowwidth": 1
          },
          "autotypenumbers": "strict",
          "coloraxis": {
           "colorbar": {
            "outlinewidth": 0,
            "ticks": ""
           }
          },
          "colorscale": {
           "diverging": [
            [
             0,
             "#8e0152"
            ],
            [
             0.1,
             "#c51b7d"
            ],
            [
             0.2,
             "#de77ae"
            ],
            [
             0.3,
             "#f1b6da"
            ],
            [
             0.4,
             "#fde0ef"
            ],
            [
             0.5,
             "#f7f7f7"
            ],
            [
             0.6,
             "#e6f5d0"
            ],
            [
             0.7,
             "#b8e186"
            ],
            [
             0.8,
             "#7fbc41"
            ],
            [
             0.9,
             "#4d9221"
            ],
            [
             1,
             "#276419"
            ]
           ],
           "sequential": [
            [
             0,
             "#0d0887"
            ],
            [
             0.1111111111111111,
             "#46039f"
            ],
            [
             0.2222222222222222,
             "#7201a8"
            ],
            [
             0.3333333333333333,
             "#9c179e"
            ],
            [
             0.4444444444444444,
             "#bd3786"
            ],
            [
             0.5555555555555556,
             "#d8576b"
            ],
            [
             0.6666666666666666,
             "#ed7953"
            ],
            [
             0.7777777777777778,
             "#fb9f3a"
            ],
            [
             0.8888888888888888,
             "#fdca26"
            ],
            [
             1,
             "#f0f921"
            ]
           ],
           "sequentialminus": [
            [
             0,
             "#0d0887"
            ],
            [
             0.1111111111111111,
             "#46039f"
            ],
            [
             0.2222222222222222,
             "#7201a8"
            ],
            [
             0.3333333333333333,
             "#9c179e"
            ],
            [
             0.4444444444444444,
             "#bd3786"
            ],
            [
             0.5555555555555556,
             "#d8576b"
            ],
            [
             0.6666666666666666,
             "#ed7953"
            ],
            [
             0.7777777777777778,
             "#fb9f3a"
            ],
            [
             0.8888888888888888,
             "#fdca26"
            ],
            [
             1,
             "#f0f921"
            ]
           ]
          },
          "colorway": [
           "#636efa",
           "#EF553B",
           "#00cc96",
           "#ab63fa",
           "#FFA15A",
           "#19d3f3",
           "#FF6692",
           "#B6E880",
           "#FF97FF",
           "#FECB52"
          ],
          "font": {
           "color": "#2a3f5f",
           "family": "IBM Plex Mono"
          },
          "geo": {
           "bgcolor": "white",
           "lakecolor": "white",
           "landcolor": "#E5ECF6",
           "showlakes": true,
           "showland": true,
           "subunitcolor": "white"
          },
          "hoverlabel": {
           "align": "left"
          },
          "hovermode": "closest",
          "mapbox": {
           "style": "light"
          },
          "paper_bgcolor": "white",
          "plot_bgcolor": "#E5ECF6",
          "polar": {
           "angularaxis": {
            "gridcolor": "white",
            "linecolor": "white",
            "ticks": ""
           },
           "bgcolor": "#E5ECF6",
           "radialaxis": {
            "gridcolor": "white",
            "linecolor": "white",
            "ticks": ""
           }
          },
          "scene": {
           "xaxis": {
            "backgroundcolor": "#E5ECF6",
            "gridcolor": "white",
            "gridwidth": 2,
            "linecolor": "white",
            "showbackground": true,
            "ticks": "",
            "zerolinecolor": "white"
           },
           "yaxis": {
            "backgroundcolor": "#E5ECF6",
            "gridcolor": "white",
            "gridwidth": 2,
            "linecolor": "white",
            "showbackground": true,
            "ticks": "",
            "zerolinecolor": "white"
           },
           "zaxis": {
            "backgroundcolor": "#E5ECF6",
            "gridcolor": "white",
            "gridwidth": 2,
            "linecolor": "white",
            "showbackground": true,
            "ticks": "",
            "zerolinecolor": "white"
           }
          },
          "shapedefaults": {
           "line": {
            "color": "#2a3f5f"
           }
          },
          "ternary": {
           "aaxis": {
            "gridcolor": "white",
            "linecolor": "white",
            "ticks": ""
           },
           "baxis": {
            "gridcolor": "white",
            "linecolor": "white",
            "ticks": ""
           },
           "bgcolor": "#E5ECF6",
           "caxis": {
            "gridcolor": "white",
            "linecolor": "white",
            "ticks": ""
           }
          },
          "title": {
           "x": 0.05
          },
          "xaxis": {
           "automargin": true,
           "gridcolor": "white",
           "linecolor": "white",
           "ticks": "",
           "title": {
            "standoff": 15
           },
           "zerolinecolor": "white",
           "zerolinewidth": 2
          },
          "yaxis": {
           "automargin": true,
           "gridcolor": "white",
           "linecolor": "white",
           "ticks": "",
           "title": {
            "standoff": 15
           },
           "zerolinecolor": "white",
           "zerolinewidth": 2
          }
         }
        },
        "title": {
         "font": {
          "color": "black",
          "family": "IBM Plex Mono",
          "size": 27
         },
         "text": "<span style='color: black; font-weight: normal;'>RLUSD Cumulative DEX Volume <br>by Chain</span><br><sub style='font-size: 18px; color: black; font-weight: normal;'></sub>",
         "x": 0.1,
         "xanchor": "left",
         "y": 0.92,
         "yanchor": "top"
        },
        "width": 730
       }
      }
     },
     "metadata": {},
     "output_type": "display_data"
    }
   ],
   "source": [
    "chartBuilder(\n",
    "    fig=fig7,\n",
    "    add_the_date=False,\n",
    "    clean_columns=False,\n",
    "    date_xy=dict(x=0.05,y=1.02),\n",
    "    keep_top_n=False,\n",
    "    # groupby=True,\n",
    "    other=True,\n",
    "    save=False,\n",
    "    title_xy=dict(x=0.1,y=0.92),\n",
    "    title='RLUSD Cumulative DEX Volume <br>by Chain',\n",
    "    topn=4,\n",
    "    # dashed_line=True,\n",
    "    # date='2023-04-12',\n",
    "    # annotation_text='Staked ETH <br> Withdrawl Activated'\n",
    ")"
   ]
  },
  {
   "cell_type": "code",
   "execution_count": 155,
   "metadata": {},
   "outputs": [
    {
     "name": "stdout",
     "output_type": "stream",
     "text": [
      "Initialized axes_data: {'y1': 'All', 'y2': []}\n",
      "tick0: 2025-01-19 00:00:00\n",
      "turn_to_time: True\n",
      "df sort order at init: ['Ethereum' 'XRPL']\n"
     ]
    }
   ],
   "source": [
    "fig6 = visualization_pipeline(\n",
    "df=combined_vol,\n",
    "    title='rlusd_fig6',\n",
    "    start_date=str(rlusd_xrp_df.index.min()),\n",
    "    # end_date='2024-12-31',\n",
    "    # end_date='2024-10-01',\n",
    "    chart_type='bar',\n",
    "    dimensions=dict(height=351, width=730),\n",
    "    groupby = 'blockchain',\n",
    "    num_col='volume',\n",
    "    # cols_to_plot=[\"RLUSD_ETH_LP\",\"RLUSD_XRP_LP\"],\n",
    "    # line_col=['cumulative_freq'],\n",
    "    # bar_col=['freg'],\n",
    "    tickangle=0,\n",
    "    dropna=True,\n",
    "    area=True,\n",
    "    colors=combined_colors,\n",
    "    # axes_data=dict(y1=['total_tvl'],y2=[]),\n",
    "    # tickformat=dict(x='%b<br>`%y',y1=None,y2=None),\n",
    "    legend_font_size=12,\n",
    "    font_family=font_family,\n",
    "    legend_placement=dict(x=0.8,y=0.9),\n",
    "    cumulative_sort=True,\n",
    "    normalize=False,\n",
    "    decimals=True,\n",
    "    decimal_places=1,\n",
    "    y2=True,\n",
    "    min_tick_spacing=50,\n",
    "    # buffer=3,\n",
    "    # barmode='group',\n",
    "    mode='lines',\n",
    "    # font_size=14,\n",
    "    # line_width=3,\n",
    "    marker_size=3,\n",
    "    margin=dict(l=0, r=0, t=50, b=0),\n",
    "    tickprefix=dict(y1='$',y2=None),\n",
    "    ticksuffix=dict(y1=None,y2=None),\n",
    "    axes_titles=dict(y1=None,y2=None),\n",
    "    show_legend=True,\n",
    "    hole_size=0,\n",
    "    # line_width=1,\n",
    "    descending=True,\n",
    "    buffer = 3,\n",
    "    annotations=False,\n",
    "    text=False,\n",
    "    orientation='h',\n",
    "    sort_list=True,\n",
    "    autosize=False,\n",
    "    max_annotation=False,\n",
    "    annotation_prefix=\"$\",\n",
    "    auto_title=False,\n",
    "    axes_font_colors='auto',\n",
    "    to_reverse=False,\n",
    "    line_color='black',\n",
    "    use_single_color=False,\n",
    "    custom_annotation = ['2022-10-31'],\n",
    "    # axes_font_colors='auto',\n",
    ")"
   ]
  },
  {
   "cell_type": "code",
   "execution_count": 157,
   "metadata": {},
   "outputs": [
    {
     "name": "stdout",
     "output_type": "stream",
     "text": [
      "save:False\n",
      "logo path: ../img/Logos/None\n",
      "Generating bar plot...\n",
      "GroupBy Col: blockchain\n",
      "legend_orientation: v\n",
      "cumulative_sort: True\n",
      "sorted_bar_legend_orientation: v\n",
      "x_range_start:2025-01-16 00:00:00\n",
      "df @ rank_by_col:            blockchain        volume\n",
      "2025-01-19   Ethereum  5.143131e+03\n",
      "2025-01-26   Ethereum  7.870095e+04\n",
      "2025-01-26       XRPL  7.153195e+06\n",
      "2025-02-02   Ethereum  1.471697e+05\n",
      "2025-02-02       XRPL  2.916861e+07\n",
      "2025-02-09   Ethereum  2.266607e+05\n",
      "2025-02-09       XRPL  3.452254e+07\n",
      "2025-02-16   Ethereum  1.427957e+05\n",
      "2025-02-16       XRPL  2.119616e+07\n",
      "2025-02-23   Ethereum  1.504228e+05\n",
      "2025-02-23       XRPL  1.943939e+07\n",
      "df:            blockchain        volume\n",
      "2025-01-19   Ethereum  5.143131e+03\n",
      "2025-01-26   Ethereum  7.870095e+04\n",
      "2025-01-26       XRPL  7.153195e+06\n",
      "2025-02-02   Ethereum  1.471697e+05\n",
      "2025-02-02       XRPL  2.916861e+07\n",
      "2025-02-09   Ethereum  2.266607e+05\n",
      "2025-02-09       XRPL  3.452254e+07\n",
      "2025-02-16   Ethereum  1.427957e+05\n",
      "2025-02-16       XRPL  2.119616e+07\n",
      "2025-02-23   Ethereum  1.504228e+05\n",
      "2025-02-23       XRPL  1.943939e+07\n",
      "Available columns in df: Index(['blockchain', 'volume'], dtype='object')\n",
      "sort_col: blockchain\n",
      "num_col: volume\n",
      "df columns: Index(['blockchain', 'volume'], dtype='object')\n",
      "sort_col: blockchain\n",
      "sort_list: ['XRPL', 'Ethereum']\n",
      "df[sort_col]:\n",
      "['Ethereum' 'XRPL']\n",
      "Missing values in sort_list: set()\n",
      "i_df:           blockchain        volume\n",
      "2025-01-26       XRPL  7.153195e+06\n",
      "2025-02-02       XRPL  2.916861e+07\n",
      "2025-02-09       XRPL  3.452254e+07\n",
      "2025-02-16       XRPL  2.119616e+07\n",
      "2025-02-23       XRPL  1.943939e+07\n",
      "col:volume\n",
      "text font size: 14\n",
      "x:19439392.86000495M\n",
      "i_df:           blockchain         volume\n",
      "2025-01-19   Ethereum    5143.130809\n",
      "2025-01-26   Ethereum   78700.953064\n",
      "2025-02-02   Ethereum  147169.747979\n",
      "2025-02-09   Ethereum  226660.730082\n",
      "2025-02-16   Ethereum  142795.712831\n",
      "2025-02-23   Ethereum  150422.758782\n",
      "col:volume\n",
      "text font size: 14\n",
      "x:150422.75878245002K\n",
      "x_ticks:[Timestamp('2025-01-19 00:00:00'), Timestamp('2025-01-26 00:00:00'), Timestamp('2025-01-26 00:00:00'), Timestamp('2025-02-02 00:00:00'), Timestamp('2025-02-02 00:00:00'), Timestamp('2025-02-09 00:00:00'), Timestamp('2025-02-09 00:00:00'), Timestamp('2025-02-16 00:00:00'), Timestamp('2025-02-16 00:00:00'), Timestamp('2025-02-23 00:00:00'), Timestamp('2025-02-23 00:00:00')]\n",
      "Columns: Index(['blockchain', 'volume'], dtype='object') \n",
      "Index: DatetimeIndex(['2025-01-19', '2025-01-26', '2025-01-26', '2025-02-02',\n",
      "               '2025-02-02', '2025-02-09', '2025-02-09', '2025-02-16',\n",
      "               '2025-02-16', '2025-02-23', '2025-02-23'],\n",
      "              dtype='datetime64[ns]', freq=None)\n"
     ]
    },
    {
     "data": {
      "application/vnd.plotly.v1+json": {
       "config": {
        "linkText": "Export to plot.ly",
        "plotlyServerURL": "https://plot.ly",
        "showLink": false
       },
       "data": [
        {
         "marker": {
          "color": "#00CC96"
         },
         "name": "XRPL ($19.4M)     ",
         "orientation": "v",
         "showlegend": true,
         "text": "",
         "textfont": {
          "color": "black",
          "family": "IBM Plex Mono",
          "size": 14
         },
         "textposition": "outside",
         "type": "bar",
         "x": [
          "2025-01-26T00:00:00.000000000",
          "2025-02-02T00:00:00.000000000",
          "2025-02-09T00:00:00.000000000",
          "2025-02-16T00:00:00.000000000",
          "2025-02-23T00:00:00.000000000"
         ],
         "xaxis": "x",
         "y": {
          "bdata": "JJRXuopJW0HQ/uPyPdF7QWolakgtdoBBUxR5sNc2dEGNlMIN8olyQQ==",
          "dtype": "f8"
         },
         "yaxis": "y"
        },
        {
         "marker": {
          "color": "#67D8FE"
         },
         "name": "Ethereum ($150.4K)     ",
         "orientation": "v",
         "showlegend": true,
         "text": "",
         "textfont": {
          "color": "black",
          "family": "IBM Plex Mono",
          "size": 14
         },
         "textposition": "outside",
         "type": "bar",
         "x": [
          "2025-01-19T00:00:00.000000000",
          "2025-01-26T00:00:00.000000000",
          "2025-02-02T00:00:00.000000000",
          "2025-02-09T00:00:00.000000000",
          "2025-02-16T00:00:00.000000000",
          "2025-02-23T00:00:00.000000000"
         ],
         "xaxis": "x",
         "y": {
          "bdata": "TA+6fCEXtEDScsA/zzbzQB6V3PsN9wFB5wc11yWrC0H3oOCzXW4BQX2I/BG2XAJB",
          "dtype": "f8"
         },
         "yaxis": "y"
        }
       ],
       "layout": {
        "annotations": [
         {
          "align": "center",
          "font": {
           "color": "black",
           "size": 12
          },
          "showarrow": false,
          "text": "Feb. 23, 2025",
          "x": 0.87,
          "xref": "paper",
          "y": 0.98,
          "yref": "paper"
         }
        ],
        "autosize": false,
        "barmode": "stack",
        "font": {
         "color": "black",
         "family": "IBM Plex Mono",
         "size": 16
        },
        "height": 351,
        "legend": {
         "bgcolor": "white",
         "bordercolor": "black",
         "borderwidth": 1,
         "font": {
          "color": "black",
          "family": "IBM Plex Mono",
          "size": 12
         },
         "itemsizing": "constant",
         "orientation": "v",
         "traceorder": "normal",
         "x": 0.8,
         "xanchor": "center",
         "y": 0.9,
         "yanchor": "top"
        },
        "margin": {
         "b": 0,
         "l": 0,
         "r": 0,
         "t": 50
        },
        "paper_bgcolor": "rgba(0,0,0,0)",
        "plot_bgcolor": "rgba(0,0,0,0)",
        "template": {
         "data": {
          "bar": [
           {
            "error_x": {
             "color": "#2a3f5f"
            },
            "error_y": {
             "color": "#2a3f5f"
            },
            "marker": {
             "line": {
              "color": "#E5ECF6",
              "width": 0.5
             },
             "pattern": {
              "fillmode": "overlay",
              "size": 10,
              "solidity": 0.2
             }
            },
            "type": "bar"
           }
          ],
          "barpolar": [
           {
            "marker": {
             "line": {
              "color": "#E5ECF6",
              "width": 0.5
             },
             "pattern": {
              "fillmode": "overlay",
              "size": 10,
              "solidity": 0.2
             }
            },
            "type": "barpolar"
           }
          ],
          "carpet": [
           {
            "aaxis": {
             "endlinecolor": "#2a3f5f",
             "gridcolor": "white",
             "linecolor": "white",
             "minorgridcolor": "white",
             "startlinecolor": "#2a3f5f"
            },
            "baxis": {
             "endlinecolor": "#2a3f5f",
             "gridcolor": "white",
             "linecolor": "white",
             "minorgridcolor": "white",
             "startlinecolor": "#2a3f5f"
            },
            "type": "carpet"
           }
          ],
          "choropleth": [
           {
            "colorbar": {
             "outlinewidth": 0,
             "ticks": ""
            },
            "type": "choropleth"
           }
          ],
          "contour": [
           {
            "colorbar": {
             "outlinewidth": 0,
             "ticks": ""
            },
            "colorscale": [
             [
              0,
              "#0d0887"
             ],
             [
              0.1111111111111111,
              "#46039f"
             ],
             [
              0.2222222222222222,
              "#7201a8"
             ],
             [
              0.3333333333333333,
              "#9c179e"
             ],
             [
              0.4444444444444444,
              "#bd3786"
             ],
             [
              0.5555555555555556,
              "#d8576b"
             ],
             [
              0.6666666666666666,
              "#ed7953"
             ],
             [
              0.7777777777777778,
              "#fb9f3a"
             ],
             [
              0.8888888888888888,
              "#fdca26"
             ],
             [
              1,
              "#f0f921"
             ]
            ],
            "type": "contour"
           }
          ],
          "contourcarpet": [
           {
            "colorbar": {
             "outlinewidth": 0,
             "ticks": ""
            },
            "type": "contourcarpet"
           }
          ],
          "heatmap": [
           {
            "colorbar": {
             "outlinewidth": 0,
             "ticks": ""
            },
            "colorscale": [
             [
              0,
              "#0d0887"
             ],
             [
              0.1111111111111111,
              "#46039f"
             ],
             [
              0.2222222222222222,
              "#7201a8"
             ],
             [
              0.3333333333333333,
              "#9c179e"
             ],
             [
              0.4444444444444444,
              "#bd3786"
             ],
             [
              0.5555555555555556,
              "#d8576b"
             ],
             [
              0.6666666666666666,
              "#ed7953"
             ],
             [
              0.7777777777777778,
              "#fb9f3a"
             ],
             [
              0.8888888888888888,
              "#fdca26"
             ],
             [
              1,
              "#f0f921"
             ]
            ],
            "type": "heatmap"
           }
          ],
          "histogram": [
           {
            "marker": {
             "pattern": {
              "fillmode": "overlay",
              "size": 10,
              "solidity": 0.2
             }
            },
            "type": "histogram"
           }
          ],
          "histogram2d": [
           {
            "colorbar": {
             "outlinewidth": 0,
             "ticks": ""
            },
            "colorscale": [
             [
              0,
              "#0d0887"
             ],
             [
              0.1111111111111111,
              "#46039f"
             ],
             [
              0.2222222222222222,
              "#7201a8"
             ],
             [
              0.3333333333333333,
              "#9c179e"
             ],
             [
              0.4444444444444444,
              "#bd3786"
             ],
             [
              0.5555555555555556,
              "#d8576b"
             ],
             [
              0.6666666666666666,
              "#ed7953"
             ],
             [
              0.7777777777777778,
              "#fb9f3a"
             ],
             [
              0.8888888888888888,
              "#fdca26"
             ],
             [
              1,
              "#f0f921"
             ]
            ],
            "type": "histogram2d"
           }
          ],
          "histogram2dcontour": [
           {
            "colorbar": {
             "outlinewidth": 0,
             "ticks": ""
            },
            "colorscale": [
             [
              0,
              "#0d0887"
             ],
             [
              0.1111111111111111,
              "#46039f"
             ],
             [
              0.2222222222222222,
              "#7201a8"
             ],
             [
              0.3333333333333333,
              "#9c179e"
             ],
             [
              0.4444444444444444,
              "#bd3786"
             ],
             [
              0.5555555555555556,
              "#d8576b"
             ],
             [
              0.6666666666666666,
              "#ed7953"
             ],
             [
              0.7777777777777778,
              "#fb9f3a"
             ],
             [
              0.8888888888888888,
              "#fdca26"
             ],
             [
              1,
              "#f0f921"
             ]
            ],
            "type": "histogram2dcontour"
           }
          ],
          "mesh3d": [
           {
            "colorbar": {
             "outlinewidth": 0,
             "ticks": ""
            },
            "type": "mesh3d"
           }
          ],
          "parcoords": [
           {
            "line": {
             "colorbar": {
              "outlinewidth": 0,
              "ticks": ""
             }
            },
            "type": "parcoords"
           }
          ],
          "pie": [
           {
            "automargin": true,
            "type": "pie"
           }
          ],
          "scatter": [
           {
            "fillpattern": {
             "fillmode": "overlay",
             "size": 10,
             "solidity": 0.2
            },
            "type": "scatter"
           }
          ],
          "scatter3d": [
           {
            "line": {
             "colorbar": {
              "outlinewidth": 0,
              "ticks": ""
             }
            },
            "marker": {
             "colorbar": {
              "outlinewidth": 0,
              "ticks": ""
             }
            },
            "type": "scatter3d"
           }
          ],
          "scattercarpet": [
           {
            "marker": {
             "colorbar": {
              "outlinewidth": 0,
              "ticks": ""
             }
            },
            "type": "scattercarpet"
           }
          ],
          "scattergeo": [
           {
            "marker": {
             "colorbar": {
              "outlinewidth": 0,
              "ticks": ""
             }
            },
            "type": "scattergeo"
           }
          ],
          "scattergl": [
           {
            "marker": {
             "colorbar": {
              "outlinewidth": 0,
              "ticks": ""
             }
            },
            "type": "scattergl"
           }
          ],
          "scattermap": [
           {
            "marker": {
             "colorbar": {
              "outlinewidth": 0,
              "ticks": ""
             }
            },
            "type": "scattermap"
           }
          ],
          "scattermapbox": [
           {
            "marker": {
             "colorbar": {
              "outlinewidth": 0,
              "ticks": ""
             }
            },
            "type": "scattermapbox"
           }
          ],
          "scatterpolar": [
           {
            "marker": {
             "colorbar": {
              "outlinewidth": 0,
              "ticks": ""
             }
            },
            "type": "scatterpolar"
           }
          ],
          "scatterpolargl": [
           {
            "marker": {
             "colorbar": {
              "outlinewidth": 0,
              "ticks": ""
             }
            },
            "type": "scatterpolargl"
           }
          ],
          "scatterternary": [
           {
            "marker": {
             "colorbar": {
              "outlinewidth": 0,
              "ticks": ""
             }
            },
            "type": "scatterternary"
           }
          ],
          "surface": [
           {
            "colorbar": {
             "outlinewidth": 0,
             "ticks": ""
            },
            "colorscale": [
             [
              0,
              "#0d0887"
             ],
             [
              0.1111111111111111,
              "#46039f"
             ],
             [
              0.2222222222222222,
              "#7201a8"
             ],
             [
              0.3333333333333333,
              "#9c179e"
             ],
             [
              0.4444444444444444,
              "#bd3786"
             ],
             [
              0.5555555555555556,
              "#d8576b"
             ],
             [
              0.6666666666666666,
              "#ed7953"
             ],
             [
              0.7777777777777778,
              "#fb9f3a"
             ],
             [
              0.8888888888888888,
              "#fdca26"
             ],
             [
              1,
              "#f0f921"
             ]
            ],
            "type": "surface"
           }
          ],
          "table": [
           {
            "cells": {
             "fill": {
              "color": "#EBF0F8"
             },
             "line": {
              "color": "white"
             }
            },
            "header": {
             "fill": {
              "color": "#C8D4E3"
             },
             "line": {
              "color": "white"
             }
            },
            "type": "table"
           }
          ]
         },
         "layout": {
          "annotationdefaults": {
           "arrowcolor": "#2a3f5f",
           "arrowhead": 0,
           "arrowwidth": 1
          },
          "autotypenumbers": "strict",
          "coloraxis": {
           "colorbar": {
            "outlinewidth": 0,
            "ticks": ""
           }
          },
          "colorscale": {
           "diverging": [
            [
             0,
             "#8e0152"
            ],
            [
             0.1,
             "#c51b7d"
            ],
            [
             0.2,
             "#de77ae"
            ],
            [
             0.3,
             "#f1b6da"
            ],
            [
             0.4,
             "#fde0ef"
            ],
            [
             0.5,
             "#f7f7f7"
            ],
            [
             0.6,
             "#e6f5d0"
            ],
            [
             0.7,
             "#b8e186"
            ],
            [
             0.8,
             "#7fbc41"
            ],
            [
             0.9,
             "#4d9221"
            ],
            [
             1,
             "#276419"
            ]
           ],
           "sequential": [
            [
             0,
             "#0d0887"
            ],
            [
             0.1111111111111111,
             "#46039f"
            ],
            [
             0.2222222222222222,
             "#7201a8"
            ],
            [
             0.3333333333333333,
             "#9c179e"
            ],
            [
             0.4444444444444444,
             "#bd3786"
            ],
            [
             0.5555555555555556,
             "#d8576b"
            ],
            [
             0.6666666666666666,
             "#ed7953"
            ],
            [
             0.7777777777777778,
             "#fb9f3a"
            ],
            [
             0.8888888888888888,
             "#fdca26"
            ],
            [
             1,
             "#f0f921"
            ]
           ],
           "sequentialminus": [
            [
             0,
             "#0d0887"
            ],
            [
             0.1111111111111111,
             "#46039f"
            ],
            [
             0.2222222222222222,
             "#7201a8"
            ],
            [
             0.3333333333333333,
             "#9c179e"
            ],
            [
             0.4444444444444444,
             "#bd3786"
            ],
            [
             0.5555555555555556,
             "#d8576b"
            ],
            [
             0.6666666666666666,
             "#ed7953"
            ],
            [
             0.7777777777777778,
             "#fb9f3a"
            ],
            [
             0.8888888888888888,
             "#fdca26"
            ],
            [
             1,
             "#f0f921"
            ]
           ]
          },
          "colorway": [
           "#636efa",
           "#EF553B",
           "#00cc96",
           "#ab63fa",
           "#FFA15A",
           "#19d3f3",
           "#FF6692",
           "#B6E880",
           "#FF97FF",
           "#FECB52"
          ],
          "font": {
           "color": "#2a3f5f",
           "family": "IBM Plex Mono"
          },
          "geo": {
           "bgcolor": "white",
           "lakecolor": "white",
           "landcolor": "#E5ECF6",
           "showlakes": true,
           "showland": true,
           "subunitcolor": "white"
          },
          "hoverlabel": {
           "align": "left"
          },
          "hovermode": "closest",
          "mapbox": {
           "style": "light"
          },
          "paper_bgcolor": "white",
          "plot_bgcolor": "#E5ECF6",
          "polar": {
           "angularaxis": {
            "gridcolor": "white",
            "linecolor": "white",
            "ticks": ""
           },
           "bgcolor": "#E5ECF6",
           "radialaxis": {
            "gridcolor": "white",
            "linecolor": "white",
            "ticks": ""
           }
          },
          "scene": {
           "xaxis": {
            "backgroundcolor": "#E5ECF6",
            "gridcolor": "white",
            "gridwidth": 2,
            "linecolor": "white",
            "showbackground": true,
            "ticks": "",
            "zerolinecolor": "white"
           },
           "yaxis": {
            "backgroundcolor": "#E5ECF6",
            "gridcolor": "white",
            "gridwidth": 2,
            "linecolor": "white",
            "showbackground": true,
            "ticks": "",
            "zerolinecolor": "white"
           },
           "zaxis": {
            "backgroundcolor": "#E5ECF6",
            "gridcolor": "white",
            "gridwidth": 2,
            "linecolor": "white",
            "showbackground": true,
            "ticks": "",
            "zerolinecolor": "white"
           }
          },
          "shapedefaults": {
           "line": {
            "color": "#2a3f5f"
           }
          },
          "ternary": {
           "aaxis": {
            "gridcolor": "white",
            "linecolor": "white",
            "ticks": ""
           },
           "baxis": {
            "gridcolor": "white",
            "linecolor": "white",
            "ticks": ""
           },
           "bgcolor": "#E5ECF6",
           "caxis": {
            "gridcolor": "white",
            "linecolor": "white",
            "ticks": ""
           }
          },
          "title": {
           "x": 0.05
          },
          "xaxis": {
           "automargin": true,
           "gridcolor": "white",
           "linecolor": "white",
           "ticks": "",
           "title": {
            "standoff": 15
           },
           "zerolinecolor": "white",
           "zerolinewidth": 2
          },
          "yaxis": {
           "automargin": true,
           "gridcolor": "white",
           "linecolor": "white",
           "ticks": "",
           "title": {
            "standoff": 15
           },
           "zerolinecolor": "white",
           "zerolinewidth": 2
          }
         }
        },
        "title": {
         "font": {
          "color": "black",
          "family": "IBM Plex Mono",
          "size": 27
         },
         "text": "<span style='color: black; font-weight: normal;'>RLUSD DEX Volume By Chain</span><br><sub style='font-size: 18px; color: black; font-weight: normal;'></sub>",
         "x": 0.1,
         "xanchor": "left",
         "y": 0.9,
         "yanchor": "top"
        },
        "uniformtext": {
         "minsize": 15,
         "mode": "show"
        },
        "width": 730,
        "xaxis": {
         "anchor": "y",
         "domain": [
          0,
          0.94
         ],
         "range": [
          "2025-01-16T00:00:00",
          "2025-02-26T00:00:00"
         ],
         "tick0": "2025-01-19T00:00:00",
         "tickangle": 0,
         "tickfont": {
          "color": "black",
          "family": "IBM Plex Mono",
          "size": 16
         },
         "tickformat": "%b %d <br>%y",
         "tickvals": [
          "2025-01-19T00:00:00",
          "2025-01-26T00:00:00",
          "2025-01-26T00:00:00",
          "2025-02-02T00:00:00",
          "2025-02-02T00:00:00",
          "2025-02-09T00:00:00",
          "2025-02-09T00:00:00",
          "2025-02-16T00:00:00",
          "2025-02-16T00:00:00",
          "2025-02-23T00:00:00",
          "2025-02-23T00:00:00"
         ],
         "title": {
          "font": {
           "color": "black",
           "family": "IBM Plex Mono",
           "size": 16
          }
         }
        },
        "yaxis": {
         "anchor": "x",
         "domain": [
          0,
          1
         ],
         "tickfont": {
          "color": "black",
          "family": "IBM Plex Mono",
          "size": 16
         },
         "tickprefix": "$"
        },
        "yaxis2": {
         "anchor": "x",
         "overlaying": "y",
         "side": "right"
        }
       }
      }
     },
     "metadata": {},
     "output_type": "display_data"
    }
   ],
   "source": [
    "chartBuilder(\n",
    "    fig=fig6,\n",
    "    add_the_date=True,\n",
    "    clean_columns=False,\n",
    "    date_xy=dict(x=0.87,y=.98),\n",
    "    title_xy=dict(x=0.1,y=0.9),\n",
    "    keep_top_n=False,\n",
    "    # groupby=True,\n",
    "    other=True,\n",
    "    title='RLUSD DEX Volume By Chain',\n",
    "    save=False,\n",
    "    topn=4,\n",
    "    # dashed_line=True,\n",
    "    # date='2023-04-12',\n",
    "    # annotation_text='Staked ETH <br> Withdrawl Activated'\n",
    ")"
   ]
  },
  {
   "cell_type": "code",
   "execution_count": 143,
   "metadata": {},
   "outputs": [],
   "source": [
    "# base_url = f'https://api.xrpscan.com/api/v1/account/{RLUSD_XRP}/transactions'\n",
    "# rlusd_xrpl_tx_data = get_tx_pagination_results(base_url)"
   ]
  },
  {
   "cell_type": "code",
   "execution_count": 118,
   "metadata": {},
   "outputs": [],
   "source": [
    "def identify_mints_and_burns(transactions, issuer_address):\n",
    "    mints = []\n",
    "    burns = []\n",
    "\n",
    "    for tx in transactions:\n",
    "        # Check if the transaction is validated and has a successful result\n",
    "        if tx.get('validated', False) and tx.get('meta', {}).get('TransactionResult') == 'tesSUCCESS':\n",
    "            \n",
    "            # Check if it's an OfferCreate transaction\n",
    "            if tx['TransactionType'] == 'OfferCreate':\n",
    "                taker_gets = tx.get('TakerGets', {})\n",
    "                taker_pays = tx.get('TakerPays', {})\n",
    "\n",
    "                # Check if RLUSD is involved in the transaction\n",
    "                if isinstance(taker_gets, dict) and taker_gets.get('issuer') == issuer_address:\n",
    "                    # Burn: Offering RLUSD to receive another currency (e.g., XRP)\n",
    "                    burns.append({\n",
    "                        'tx_hash': tx['hash'],\n",
    "                        'amount': float(taker_gets['value']),\n",
    "                        'type': 'Burn',\n",
    "                        'date': tx['date']\n",
    "                    })\n",
    "\n",
    "                elif isinstance(taker_pays, dict) and taker_pays.get('issuer') == issuer_address:\n",
    "                    # Mint: Paying in another currency to receive RLUSD\n",
    "                    mints.append({\n",
    "                        'tx_hash': tx['hash'],\n",
    "                        'amount': float(taker_pays['value']),\n",
    "                        'type': 'Mint',\n",
    "                        'date': tx['date']\n",
    "                    })\n",
    "\n",
    "    return mints, burns"
   ]
  },
  {
   "cell_type": "code",
   "execution_count": 119,
   "metadata": {},
   "outputs": [],
   "source": [
    "# transactions = rlusd_xrpl_tx_data\n",
    "# mints, burns = identify_mints_and_burns(transactions, RLUSD_XRP)\n"
   ]
  },
  {
   "cell_type": "code",
   "execution_count": 120,
   "metadata": {},
   "outputs": [],
   "source": [
    "# print(\"Mints:\")\n",
    "# for mint in mints:\n",
    "#     print(f\"Hash: {mint['tx_hash']} | Amount: {mint['amount']} | Date: {mint['date']}\")\n",
    "\n",
    "# print(\"\\nBurns:\")\n",
    "# for burn in burns:\n",
    "#     print(f\"Hash: {burn['tx_hash']} | Amount: {burn['amount']} | Date: {burn['date']}\")"
   ]
  },
  {
   "cell_type": "code",
   "execution_count": 121,
   "metadata": {},
   "outputs": [],
   "source": [
    "external_stylesheets = [\n",
    "    'https://cdnjs.cloudflare.com/ajax/libs/normalize/8.0.1/normalize.min.css', \n",
    "    '/assets/styles.css'\n",
    "]\n",
    "\n",
    "app = Dash(__name__, external_stylesheets=external_stylesheets)"
   ]
  },
  {
   "cell_type": "code",
   "execution_count": 122,
   "metadata": {},
   "outputs": [
    {
     "data": {
      "text/html": [
       "\n",
       "        <iframe\n",
       "            width=\"100%\"\n",
       "            height=\"650\"\n",
       "            src=\"http://127.0.0.1:8050/\"\n",
       "            frameborder=\"0\"\n",
       "            allowfullscreen\n",
       "            \n",
       "        ></iframe>\n",
       "        "
      ],
      "text/plain": [
       "<IPython.lib.display.IFrame at 0x295f0dca090>"
      ]
     },
     "metadata": {},
     "output_type": "display_data"
    }
   ],
   "source": [
    "app.layout = html.Div(style={'backgroundColor': 'var(--color-background)'}, children=[\n",
    "    html.H1(\n",
    "        children='RLUSD Dashboard',\n",
    "        style={\n",
    "            'textAlign': 'center',\n",
    "            'color': 'var(--wcm-color-fg-1)',\n",
    "            'fontSize': '36px',\n",
    "            'fontWeight': 'bold',\n",
    "            'marginBottom': '20px'\n",
    "        }\n",
    "    ),\n",
    "    dcc.Graph(id='supply_by_chain', figure=fig1.return_fig()),\n",
    "    dcc.Graph(id='ETH_LP_TVL', figure=fig2.return_fig()),\n",
    "    dcc.Graph(id='supply_by_liquidity', figure=fig3.return_fig()),\n",
    "    dcc.Graph(id='supply_by_liquidity2', figure=fig4.return_fig())\n",
    "])\n",
    "\n",
    "if __name__ == '__main__':\n",
    "    app.run_server(debug=True)"
   ]
  },
  {
   "cell_type": "code",
   "execution_count": null,
   "metadata": {},
   "outputs": [],
   "source": []
  }
 ],
 "metadata": {
  "kernelspec": {
   "display_name": "rlusd_env",
   "language": "python",
   "name": "rlusd_env"
  },
  "language_info": {
   "codemirror_mode": {
    "name": "ipython",
    "version": 3
   },
   "file_extension": ".py",
   "mimetype": "text/x-python",
   "name": "python",
   "nbconvert_exporter": "python",
   "pygments_lexer": "ipython3",
   "version": "3.11.9"
  }
 },
 "nbformat": 4,
 "nbformat_minor": 2
}
